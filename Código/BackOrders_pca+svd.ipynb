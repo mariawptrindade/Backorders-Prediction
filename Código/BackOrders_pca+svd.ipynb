{
 "cells": [
  {
   "cell_type": "markdown",
   "id": "f8a6ca68",
   "metadata": {},
   "source": [
    "<a id='toc'></a>\n",
    "\n",
    "<div class=\"alert alert-block alert-info\">\n",
    "<center> <h1> Enterprise Data Science Bootcamp </h1> </center> <br>\n",
    "<center> <h2> Inventory Management- Back Orders </h2> </center>\n",
    "<center> <h3>   2021/2022 </h3> </center>"
   ]
  },
  {
   "cell_type": "markdown",
   "id": "09d3b374",
   "metadata": {},
   "source": [
    "**GROUP E:** <br>\n",
    "- Nuno Bolas          `20211052` <br>\n",
    "- João Magalhães      `20211044` <br>\n",
    "- Mariana Teixeira    `20211058` <br>\n",
    "- Maria Trindade      `20211049` <br>"
   ]
  },
  {
   "cell_type": "markdown",
   "id": "6468a1a1",
   "metadata": {},
   "source": [
    "https://medium.com/analytics-vidhya/predicting-material-backorders-in-inventory-management-90e4d0ece6ba"
   ]
  },
  {
   "cell_type": "markdown",
   "id": "b8f8033a",
   "metadata": {},
   "source": [
    "\n",
    "\n",
    "## Table of Contents\n",
    "\n",
    "* [Import](#chapter0)\n",
    "* [Data Understanding](#chapter1)\n",
    "* [Data preparation](#chapter2)\n",
    "* [Feature Engineering](#chapter3)\n",
    "* [Feature Selection](#chapter4)\n",
    "* [Train Test Split](#chapter7)\n",
    "* [Balancing the dataset](#chapter8)\n",
    "* [Modelling](#chapter5)\n",
    "    * [K-Folds and Repeated K-Folds](#chapter5.1)\n",
    "    * [Logistic Regression](#chapter5.2)\n",
    "    * [Neural Networks](#chapter5.3)\n",
    "    * [Random Forest](#chapter5.4)\n",
    "    * [Gradient Boosted Decision Tree](#chapter5.5)\n",
    "    * [Adaboost](#chapter5.6)\n",
    "    * [Extra Trees](#chapter5.7)\n",
    "    * [Model Comparison](#chapter5.8)\n",
    "* [Prediction](#chapter6)"
   ]
  },
  {
   "cell_type": "markdown",
   "id": "daff10e6",
   "metadata": {},
   "source": [
    "[Back to the start](#toc)\n",
    "\n",
    "## Import <a class=\"anchor\" id=\"chapter0\"></a>"
   ]
  },
  {
   "cell_type": "code",
   "execution_count": 2,
   "id": "c62ce6a4",
   "metadata": {},
   "outputs": [],
   "source": [
    "#Data Understanding\n",
    "import pandas as pd\n",
    "import numpy as np\n",
    "from numpy import mean\n",
    "from numpy import std\n",
    "import matplotlib.pyplot as plt\n",
    "from matplotlib import pyplot\n",
    "import seaborn as sns\n",
    "from pandas_profiling import ProfileReport\n",
    "from sklearn.impute import KNNImputer\n",
    "\n",
    "#Feature Engineering/Selection\n",
    "from sklearn.preprocessing import StandardScaler\n",
    "from sklearn.decomposition import PCA\n",
    "from scipy.stats import ks_2samp\n",
    "from scipy import stats\n",
    "\n",
    "# Modelling \n",
    "from sklearn.model_selection import train_test_split\n",
    "from sklearn.model_selection import KFold\n",
    "from sklearn.model_selection import RepeatedKFold\n",
    "from sklearn import tree\n",
    "from sklearn.model_selection import train_test_split\n",
    "from sklearn.neural_network import MLPClassifier\n",
    "import time\n",
    "from sklearn.metrics import accuracy_score\n",
    "from sklearn.metrics import confusion_matrix\n",
    "from sklearn.linear_model import LinearRegression\n",
    "from sklearn.linear_model import LogisticRegression\n",
    "from sklearn.ensemble import ExtraTreesClassifier\n",
    "from sklearn.ensemble import AdaBoostClassifier\n",
    "from sklearn.model_selection import GridSearchCV\n",
    "from sklearn.metrics import accuracy_score\n",
    "from sklearn.metrics import f1_score \n",
    "from sklearn.ensemble import RandomForestClassifier\n",
    "from sklearn.ensemble import GradientBoostingClassifier"
   ]
  },
  {
   "cell_type": "code",
   "execution_count": 3,
   "id": "0fefd7e6",
   "metadata": {},
   "outputs": [],
   "source": [
    "# Set the style for the Seaborn's plots\n",
    "sns.set_style('whitegrid',{\n",
    "    'xtick.bottom': False,\n",
    "    'xtick.color': '.1',\n",
    "    'xtick.direction': 'out',\n",
    "    'xtick.top': False,\n",
    "    'xtick.major.size': 1,\n",
    "    'xtick.minor.size': 0.5,\n",
    "    'ytick.left': True,\n",
    "    'ytick.color': '.1',\n",
    "    'ytick.direction': 'out',\n",
    "    'ytick.right': False,\n",
    "    'ytick.major.size': 1,\n",
    "    'ytick.minor.size': 0.5,    \n",
    "    'ytick.color': '.1',\n",
    "    'grid.linestyle': '--',\n",
    "    'axes.edgecolor': '.1',\n",
    "    'grid.color': '0.8'\n",
    " })\n",
    "\n",
    "palette = sns.color_palette(\"Set2\") \n",
    "sns.set_palette(palette)"
   ]
  },
  {
   "cell_type": "markdown",
   "id": "51c6ca27",
   "metadata": {},
   "source": [
    "[Back to the start](#toc)\n",
    "\n",
    "## Data Understanding <a class=\"anchor\" id=\"chapter1\"></a>"
   ]
  },
  {
   "cell_type": "code",
   "execution_count": null,
   "id": "a81f9f1a",
   "metadata": {},
   "outputs": [],
   "source": [
    "test = pd.read_csv(\"data/Test_Dataset_v2.csv\")\n",
    "train = pd.read_csv(\"data/Training_Dataset_v2.csv\")"
   ]
  },
  {
   "cell_type": "code",
   "execution_count": null,
   "id": "7d39b432",
   "metadata": {
    "scrolled": true
   },
   "outputs": [],
   "source": [
    "train['perf_6_month_avg'].mean()"
   ]
  },
  {
   "cell_type": "code",
   "execution_count": null,
   "id": "7809ee5c",
   "metadata": {},
   "outputs": [],
   "source": [
    "train['perf_12_month_avg'].mean()"
   ]
  },
  {
   "cell_type": "code",
   "execution_count": null,
   "id": "228a7bab",
   "metadata": {
    "scrolled": true
   },
   "outputs": [],
   "source": [
    "test.head(5)"
   ]
  },
  {
   "cell_type": "markdown",
   "id": "e9365978",
   "metadata": {},
   "source": [
    "### Initial Analysis"
   ]
  },
  {
   "cell_type": "code",
   "execution_count": null,
   "id": "266e5fbf",
   "metadata": {},
   "outputs": [],
   "source": [
    "#train = train.set_index(\"sku\")\n",
    "#test = test.set_index(\"sku\")"
   ]
  },
  {
   "cell_type": "code",
   "execution_count": null,
   "id": "20a53723",
   "metadata": {},
   "outputs": [],
   "source": [
    "# descriptive statistics for the variables\n",
    "train.describe()"
   ]
  },
  {
   "cell_type": "code",
   "execution_count": null,
   "id": "217797bf",
   "metadata": {},
   "outputs": [],
   "source": [
    "train.describe(include=['O'])"
   ]
  },
  {
   "cell_type": "code",
   "execution_count": null,
   "id": "ca94805c",
   "metadata": {},
   "outputs": [],
   "source": [
    "train.info()"
   ]
  },
  {
   "cell_type": "code",
   "execution_count": null,
   "id": "815445d4",
   "metadata": {},
   "outputs": [],
   "source": [
    "# Duplicated records\n",
    "print('Train: \\n',train.duplicated().value_counts(),'\\n') "
   ]
  },
  {
   "cell_type": "code",
   "execution_count": null,
   "id": "e49e44f2",
   "metadata": {},
   "outputs": [],
   "source": [
    "# Missing Values on train dataset\n",
    "train.isna().sum()"
   ]
  },
  {
   "cell_type": "markdown",
   "id": "b11ec9f3",
   "metadata": {},
   "source": [
    "lead_time - Transit time for product (if available)"
   ]
  },
  {
   "cell_type": "markdown",
   "id": "2439f2cd",
   "metadata": {},
   "source": [
    "    Sku is the identifier and therefore, the index; \n",
    "\n",
    "    Out of the other 21 features (excluding the class label went_on_backorder), 15 of them are numerical and 6 of them are categorical. \n",
    "    All the categorical features (potential_issue, deck_risk, oe_constraint, ppap_risk, stop_auto_buy and rev_stop) have either Yes or No, so we will transform them to binary; \n",
    "\n",
    "    The numerical features include national_inv, lead_time, in_transit_qty, forecast_3_month, forecast_6_month, forecast_9_month, sales_1_month, sales_3_month, sales_6_month, sales_9_month, min_bank, pieces_past_due, perf_6_month_avg, perf_12_month_avg, local_bo_qty. \n",
    "\n",
    "    lead_time is the only feature with missing values.In addition, the last row of every feature has null values so will removed. "
   ]
  },
  {
   "cell_type": "markdown",
   "id": "2edb96fd",
   "metadata": {},
   "source": [
    "### Pandas profiling"
   ]
  },
  {
   "cell_type": "code",
   "execution_count": null,
   "id": "825f0ba5",
   "metadata": {
    "scrolled": true
   },
   "outputs": [],
   "source": [
    "#pip install pandas-profiling"
   ]
  },
  {
   "cell_type": "code",
   "execution_count": null,
   "id": "e8808a4b",
   "metadata": {
    "scrolled": true
   },
   "outputs": [],
   "source": [
    "#profile = ProfileReport(train)\n",
    "#profile  "
   ]
  },
  {
   "cell_type": "code",
   "execution_count": null,
   "id": "3a2ae3fb",
   "metadata": {},
   "outputs": [],
   "source": [
    "#profile.to_file(\"report.html\")"
   ]
  },
  {
   "cell_type": "markdown",
   "id": "fe01effd",
   "metadata": {},
   "source": [
    "* The target variable went_on_backorder is a categorical feature with two values \"Yes\" and \"No\".\n",
    "* 99.33% belong to the class \"Yes\" and remaining 0.669% belong to the class \"No\"; dataset is highly imbalanced with majority and minority class ratio of approximately 148:1\n",
    "* in_transit_qty has 1344662 (79.7%) zeros"
   ]
  },
  {
   "cell_type": "markdown",
   "id": "ad018d08",
   "metadata": {},
   "source": [
    "Real numbers: \n",
    "* forecasts: ~65% is 0; very correlated within themselves and with sales; highly skewed; with outliers;\n",
    "* in transit: skewed; with ~80% of 0s; small IQR; many outliers; \n",
    "* lead_time: has 6% of missing values; \n",
    "* local_bo_qty: skewed; 98.9% of 0 values; \n",
    "* min_bank: 52% 0s; \n",
    "* performance features 6,12 months: high correlation with themselves, ~7-8% of -99\n",
    "* pieces_past_due: skewed, 98.5% 0s; \n",
    "* sales: skewed; lots of 0s ~40%; high correlation with each others; \n",
    "\n",
    "Booleans: \n",
    "* oe_constraint: 99% no (high relation with backorder); \n",
    "* potential_issue: 99.9% No(high relation with backorder);\n",
    "* ppap_risk: -\n",
    "* rev_stop: 99.9% no (no relation with backorder). "
   ]
  },
  {
   "cell_type": "markdown",
   "id": "63f2f6d5",
   "metadata": {},
   "source": [
    "[Back to the start](#toc)\n",
    "\n",
    "## Data Preparation <a class=\"anchor\" id=\"chapter2\"></a>"
   ]
  },
  {
   "cell_type": "markdown",
   "id": "d9794e0f",
   "metadata": {},
   "source": [
    "### Missing values"
   ]
  },
  {
   "cell_type": "code",
   "execution_count": null,
   "id": "04522712",
   "metadata": {},
   "outputs": [],
   "source": [
    "total = np.round(train['lead_time'].isna().sum()/ len(train), 4)\n",
    "print('Total percentage of Missing Values: ', total*100, '%')"
   ]
  },
  {
   "cell_type": "code",
   "execution_count": null,
   "id": "aa5872d3",
   "metadata": {},
   "outputs": [],
   "source": [
    "train.drop(train[train['national_inv'].isna()].index,inplace = True) \n",
    "#This line was NA in all values but sku, so it was deleted"
   ]
  },
  {
   "cell_type": "code",
   "execution_count": null,
   "id": "5e78fddf",
   "metadata": {},
   "outputs": [],
   "source": [
    "train_numerical = train.select_dtypes(include='number')"
   ]
  },
  {
   "cell_type": "code",
   "execution_count": null,
   "id": "5b5e831c",
   "metadata": {},
   "outputs": [],
   "source": [
    "#imputer = KNNImputer(n_neighbors=2, weights=\"uniform\").fit(train_numerical)\n",
    "#imputed_matrix = imputer.transform(train_numerical)"
   ]
  },
  {
   "cell_type": "code",
   "execution_count": null,
   "id": "15a5c4e3",
   "metadata": {},
   "outputs": [],
   "source": [
    "#data_cleaned = pd.DataFrame(data=imputed_matrix, columns=train_numerical.columns, index=train_numerical.index)"
   ]
  },
  {
   "cell_type": "code",
   "execution_count": null,
   "id": "78515ee6",
   "metadata": {},
   "outputs": [],
   "source": [
    "#train[data_cleaned.columns] = data_cleaned"
   ]
  },
  {
   "cell_type": "code",
   "execution_count": null,
   "id": "28de0596",
   "metadata": {},
   "outputs": [],
   "source": [
    "#train.isna().sum()"
   ]
  },
  {
   "cell_type": "code",
   "execution_count": null,
   "id": "3de55f80",
   "metadata": {},
   "outputs": [],
   "source": [
    "#IMPUTING WITH KNN TAKES WAY TOO MUCH TIME (1H+)? Don't know why"
   ]
  },
  {
   "cell_type": "code",
   "execution_count": null,
   "id": "cb58907a",
   "metadata": {},
   "outputs": [],
   "source": [
    "train_numerical.mean()"
   ]
  },
  {
   "cell_type": "code",
   "execution_count": null,
   "id": "87a52e86",
   "metadata": {},
   "outputs": [],
   "source": [
    "#train_numerical = train_numerical.fillna(train_numerical.mean())"
   ]
  },
  {
   "cell_type": "code",
   "execution_count": null,
   "id": "b265c228",
   "metadata": {},
   "outputs": [],
   "source": [
    "#imputer = KNNImputer(n_neighbors=2, weights=\"uniform\").fit(train_numerical)\n",
    "#imputed_matrix = imputer.transform(train_numerical)\n",
    "#data_cleaned = pd.DataFrame(data=imputed_matrix, columns=train_numerical.columns, index=train_numerical.index)"
   ]
  },
  {
   "cell_type": "code",
   "execution_count": null,
   "id": "97969ff5",
   "metadata": {},
   "outputs": [],
   "source": [
    "#train[data_cleaned.columns] = data_cleaned"
   ]
  },
  {
   "cell_type": "code",
   "execution_count": null,
   "id": "f85e76fa",
   "metadata": {},
   "outputs": [],
   "source": [
    "#train"
   ]
  },
  {
   "cell_type": "code",
   "execution_count": null,
   "id": "3ab80b51",
   "metadata": {},
   "outputs": [],
   "source": [
    "#train[train_numerical.columns] = train_numerical"
   ]
  },
  {
   "cell_type": "code",
   "execution_count": null,
   "id": "628be428",
   "metadata": {},
   "outputs": [],
   "source": [
    "#train.to_csv('train_cleaned.csv')"
   ]
  },
  {
   "cell_type": "code",
   "execution_count": null,
   "id": "2c065a33",
   "metadata": {},
   "outputs": [],
   "source": [
    "train = pd.read_csv('train_cleaned.csv')"
   ]
  },
  {
   "cell_type": "code",
   "execution_count": null,
   "id": "17f630c8",
   "metadata": {},
   "outputs": [],
   "source": [
    "train.isna().sum()"
   ]
  },
  {
   "cell_type": "markdown",
   "id": "30c6419b",
   "metadata": {},
   "source": [
    "### Duplicates"
   ]
  },
  {
   "cell_type": "code",
   "execution_count": null,
   "id": "c8a47da6",
   "metadata": {},
   "outputs": [],
   "source": [
    "#train.duplicated().sum() 0 duplicates without index as sku"
   ]
  },
  {
   "cell_type": "code",
   "execution_count": null,
   "id": "7b908e2f",
   "metadata": {},
   "outputs": [],
   "source": [
    "#train.duplicated().sum()/train.shape[0] "
   ]
  },
  {
   "cell_type": "markdown",
   "id": "7dfe9814",
   "metadata": {},
   "source": [
    "There are no duplicates in this dataset"
   ]
  },
  {
   "cell_type": "code",
   "execution_count": null,
   "id": "fd962423",
   "metadata": {},
   "outputs": [],
   "source": [
    "train = train.set_index(\"sku\")"
   ]
  },
  {
   "cell_type": "code",
   "execution_count": null,
   "id": "1d806280",
   "metadata": {},
   "outputs": [],
   "source": [
    "train.head()"
   ]
  },
  {
   "cell_type": "markdown",
   "id": "c41836f9",
   "metadata": {},
   "source": [
    "### Outliers"
   ]
  },
  {
   "cell_type": "code",
   "execution_count": null,
   "id": "04101e05",
   "metadata": {},
   "outputs": [],
   "source": [
    "for i in train_numerical:\n",
    "    sns.boxplot(data=train_numerical, x=i)\n",
    "    plt.show()"
   ]
  },
  {
   "cell_type": "code",
   "execution_count": null,
   "id": "d6611ef0",
   "metadata": {},
   "outputs": [],
   "source": [
    "outlier_metric_features = train_numerical.columns"
   ]
  },
  {
   "cell_type": "markdown",
   "id": "f1154dbd",
   "metadata": {},
   "source": [
    "#### Outliers"
   ]
  },
  {
   "cell_type": "code",
   "execution_count": null,
   "id": "507b2bcd",
   "metadata": {},
   "outputs": [],
   "source": [
    "q25 = train.quantile(.25)\n",
    "q75 = train.quantile(.75)\n",
    "iqr = (q75 - q25)\n",
    "\n",
    "\n",
    "\n",
    "upper_lim = q75 + 1.5 * iqr\n",
    "lower_lim = q25 - 1.5 * iqr\n",
    "\n",
    "\n",
    "\n",
    "filters2 = []\n",
    "for metric in outlier_metric_features:\n",
    "    llim = lower_lim[metric]\n",
    "    ulim = upper_lim[metric]\n",
    "    filters2.append(train[metric].between(llim, ulim, inclusive=True))\n",
    "\n",
    "\n",
    "filters2 = pd.Series(np.all(filters2, 0), index=train.index)\n",
    "df_2 = train[filters2]\n",
    "print('Percentage of data kept after removing outliers:', np.round(df_2.shape[0] / train.shape[0], 4))"
   ]
  },
  {
   "cell_type": "markdown",
   "id": "00178a54",
   "metadata": {},
   "source": [
    "#### Z-score"
   ]
  },
  {
   "cell_type": "code",
   "execution_count": null,
   "id": "2b005aa8",
   "metadata": {},
   "outputs": [],
   "source": [
    "total = 0\n",
    "for i in outlier_metric_features: \n",
    "    z = np.abs(stats.zscore(train[i])) \n",
    "    z[z > 3].count()\n",
    "    print('Percentage of outliers for',str(i),' : ', (np.round((z[z > 3].count())/ len(train), 4)*100))\n",
    "    total += (np.round((z[z > 3].count())/ len(train), 4))\n",
    "\n",
    "print('Total percentage of Outliers: ', total*100, '%')"
   ]
  },
  {
   "cell_type": "code",
   "execution_count": null,
   "id": "6d563146",
   "metadata": {},
   "outputs": [],
   "source": [
    "train = train[(z < 3)]"
   ]
  },
  {
   "cell_type": "code",
   "execution_count": null,
   "id": "e029c36b",
   "metadata": {},
   "outputs": [],
   "source": [
    "train.shape"
   ]
  },
  {
   "cell_type": "markdown",
   "id": "7d7cb061",
   "metadata": {},
   "source": [
    "### Transform Variables"
   ]
  },
  {
   "cell_type": "markdown",
   "id": "49970dac",
   "metadata": {},
   "source": [
    "**Dummies**"
   ]
  },
  {
   "cell_type": "code",
   "execution_count": null,
   "id": "21890683",
   "metadata": {},
   "outputs": [],
   "source": [
    "train = pd.get_dummies(train, drop_first = True)"
   ]
  },
  {
   "cell_type": "code",
   "execution_count": null,
   "id": "8c048cc1",
   "metadata": {},
   "outputs": [],
   "source": [
    "train.columns"
   ]
  },
  {
   "cell_type": "code",
   "execution_count": null,
   "id": "c9f48571",
   "metadata": {},
   "outputs": [],
   "source": [
    "train.rename(columns = {'went_on_backorder_Yes':'went_on_backorder'},inplace = True)\n",
    "\n",
    "train = train.reindex(columns= ['went_on_backorder','national_inv', 'lead_time', 'in_transit_qty', 'forecast_3_month',\n",
    "       'forecast_6_month', 'forecast_9_month', 'sales_1_month',\n",
    "       'sales_3_month', 'sales_6_month', 'sales_9_month', 'min_bank',\n",
    "       'pieces_past_due', 'perf_6_month_avg', 'perf_12_month_avg',\n",
    "       'local_bo_qty', 'potential_issue_Yes', 'deck_risk_Yes',\n",
    "       'oe_constraint_Yes', 'ppap_risk_Yes', 'stop_auto_buy_Yes',\n",
    "       'rev_stop_Yes'])"
   ]
  },
  {
   "cell_type": "code",
   "execution_count": null,
   "id": "f697c423",
   "metadata": {},
   "outputs": [],
   "source": [
    "#train.rename(columns = {'potential_issue_Yes':'potential_issue', 'deck_risk_Yes':'deck_risk','oe_constraint_Yes':'oe_constraint',\n",
    "#                       'ppap_risk_Yes':'ppap_risk','stop_auto_buy_Yes':'stop_auto_buy','rev_stop_Yes': 'rev_stop',\n",
    "#                       'went_on_backorder_Yes': 'went_on_backorder'}, inplace = True)\n",
    "\n",
    "#train = train.reindex(columns=['national_inv', 'lead_time', 'in_transit_qty', 'forecast_3_month',\n",
    "#       'forecast_6_month', 'forecast_9_month', 'sales_1_month',\n",
    "#       'sales_3_month', 'sales_6_month', 'sales_9_month', 'min_bank',\n",
    "#       'pieces_past_due', 'perf_6_month_avg', 'perf_12_month_avg',\n",
    "#       'local_bo_qty', 'potential_issue', 'deck_risk',\n",
    "#       'oe_constraint', 'ppap_risk', 'stop_auto_buy',\n",
    "#       'rev_stop', 'went_on_backorder'])\n",
    "#train.head()"
   ]
  },
  {
   "cell_type": "markdown",
   "id": "afbe93b6",
   "metadata": {},
   "source": [
    "**Datatypes**"
   ]
  },
  {
   "cell_type": "code",
   "execution_count": null,
   "id": "1d49444f",
   "metadata": {},
   "outputs": [],
   "source": [
    "#train = train.astype('float16')\n",
    "#train.head(5)"
   ]
  },
  {
   "cell_type": "markdown",
   "id": "9effece2",
   "metadata": {},
   "source": [
    "### Standardize the dataset"
   ]
  },
  {
   "cell_type": "code",
   "execution_count": null,
   "id": "f2717a27",
   "metadata": {},
   "outputs": [],
   "source": [
    "#feats = ['national_inv', 'lead_time','perf_6_month_avg', 'perf_12_month_avg']"
   ]
  },
  {
   "cell_type": "code",
   "execution_count": null,
   "id": "62f58b11",
   "metadata": {},
   "outputs": [],
   "source": [
    "#scaler = StandardScaler().fit(train[feats])"
   ]
  },
  {
   "cell_type": "code",
   "execution_count": null,
   "id": "41f78499",
   "metadata": {},
   "outputs": [],
   "source": [
    "#train[feats] = scaler.transform(train[feats])"
   ]
  },
  {
   "cell_type": "code",
   "execution_count": null,
   "id": "9b19a096",
   "metadata": {
    "scrolled": true
   },
   "outputs": [],
   "source": [
    "#train.head(5)"
   ]
  },
  {
   "cell_type": "markdown",
   "id": "25afdd11",
   "metadata": {},
   "source": [
    "[Back to the start](#toc)\n",
    "\n",
    "## Feature Engineering <a class=\"anchor\" id=\"chapter3\"></a>"
   ]
  },
  {
   "cell_type": "markdown",
   "id": "16c61a2d",
   "metadata": {},
   "source": [
    "### Correlations"
   ]
  },
  {
   "cell_type": "markdown",
   "id": "3994ee96",
   "metadata": {},
   "source": [
    "**Pearson**"
   ]
  },
  {
   "cell_type": "code",
   "execution_count": null,
   "id": "42fd9cd2",
   "metadata": {},
   "outputs": [],
   "source": [
    "# Compute the correlation matrix - Pearson\n",
    "corr = train.corr(method='pearson')\n",
    "\n",
    "# Generate a mask for the upper triangle\n",
    "mask = np.triu(np.ones_like(corr, dtype=bool))\n",
    "\n",
    "# Set up the matplotlib figure\n",
    "f, ax = plt.subplots(figsize=(11, 9))\n",
    "\n",
    "# Generate a custom diverging colormap\n",
    "#cmap = sns.diverging_palette(240, 10, as_cmap=True)\n",
    "\n",
    "# Draw the heatmap with the mask and correct aspect ratio\n",
    "sns.heatmap(corr, mask = mask,cmap = 'YlGnBu', vmax = 1, vmin=-1, center = 0,\n",
    "            square = True, annot = True, linewidths = .5, cbar_kws = {\"shrink\": .5})\n",
    "pyplot.title('Pearson Correlation')\n",
    "pyplot.show()"
   ]
  },
  {
   "cell_type": "markdown",
   "id": "70294ccf",
   "metadata": {},
   "source": [
    "**Spearman**"
   ]
  },
  {
   "cell_type": "code",
   "execution_count": null,
   "id": "35d7497f",
   "metadata": {},
   "outputs": [],
   "source": [
    "# Compute the correlation matrix - Spearman\n",
    "corr = train.corr(method='spearman')\n",
    "\n",
    "# Generate a mask for the upper triangle\n",
    "mask = np.triu(np.ones_like(corr, dtype=bool))\n",
    "\n",
    "# Set up the matplotlib figure\n",
    "f, ax = plt.subplots(figsize=(11, 9))\n",
    "\n",
    "# Generate a custom diverging colormap\n",
    "#cmap = sns.diverging_palette(240, 10, as_cmap=True)\n",
    "\n",
    "# Draw the heatmap with the mask and correct aspect ratio\n",
    "sns.heatmap(corr, mask = mask,cmap = 'YlGnBu', vmax = 1, vmin=-1, center = 0,\n",
    "            square = True, annot = True, linewidths = .5, cbar_kws = {\"shrink\": .5})\n",
    "pyplot.title('Spearman Correlation')\n",
    "pyplot.show()"
   ]
  },
  {
   "cell_type": "code",
   "execution_count": null,
   "id": "0fd47be5",
   "metadata": {},
   "outputs": [],
   "source": [
    "corr_pairs = corr.unstack().sort_values(kind=\"quicksort\")\n",
    "abs(corr_pairs)[abs(corr_pairs).between(.65,.9999)]"
   ]
  },
  {
   "cell_type": "markdown",
   "id": "c2905579",
   "metadata": {},
   "source": [
    "In_transit_qty, forecast_3_month, forecast_6_month, forecast_9_month, sales_1_month, sales_3_month, sales_6_month, sales_9_month and min_bank are highly correlated with each other. Among them, forecast_3_month, forecast_6_month and forecast_9_month are more correlated with each other compared to the rest. Similarly, sales_1_month, sales_3_month, sales_6_month and sales_9_month are more correlated with each other than any other feature. We also see that perf_6_month_avg and perf_12_month_avg are highly correlated with each other."
   ]
  },
  {
   "cell_type": "markdown",
   "id": "23b00c02",
   "metadata": {},
   "source": [
    "**Kolmogorov–Smirnov test for numerical features**"
   ]
  },
  {
   "cell_type": "code",
   "execution_count": null,
   "id": "66132590",
   "metadata": {},
   "outputs": [],
   "source": [
    "numerical_feats = ['national_inv', 'lead_time', 'in_transit_qty',\n",
    "       'forecast_3_month', 'forecast_6_month', 'forecast_9_month',\n",
    "       'sales_1_month', 'sales_3_month', 'sales_6_month', 'sales_9_month',\n",
    "       'min_bank', 'pieces_past_due', 'perf_6_month_avg', 'perf_12_month_avg',\n",
    "       'local_bo_qty']"
   ]
  },
  {
   "cell_type": "code",
   "execution_count": null,
   "id": "2b229b0b",
   "metadata": {},
   "outputs": [],
   "source": [
    "#ks_2samp(pd.DataFrame(train['went_on_backorder']),train[numerical_feats]) #not working, try to figure the issue"
   ]
  },
  {
   "cell_type": "markdown",
   "id": "a68c6a47",
   "metadata": {},
   "source": [
    "**Stochastic/Probability Matrix for categorical features**"
   ]
  },
  {
   "cell_type": "code",
   "execution_count": null,
   "id": "dd8e6ea1",
   "metadata": {},
   "outputs": [],
   "source": [
    "train.columns"
   ]
  },
  {
   "cell_type": "code",
   "execution_count": null,
   "id": "7cccacd2",
   "metadata": {},
   "outputs": [],
   "source": [
    "categorical_feats = ['potential_issue_Yes', 'deck_risk_Yes',\n",
    "       'oe_constraint_Yes', 'ppap_risk_Yes', 'stop_auto_buy_Yes',\n",
    "       'rev_stop_Yes']"
   ]
  },
  {
   "cell_type": "code",
   "execution_count": null,
   "id": "8f21d6dc",
   "metadata": {},
   "outputs": [],
   "source": [
    "for i in categorical_feats: \n",
    "    cat_vs_went_on_backorder = train.loc[:, [i, 'went_on_backorder']]\n",
    "    x = np.array(cat_vs_went_on_backorder)\n",
    "\n",
    "    cat_matrix = np.array([[x[np.where((x[:,0] == 0) * (x[:,1] == 0))].shape[0] / len(x), \n",
    "                                                    x[np.where((x[:,0] == 0) * (x[:,1] == 1))].shape[0] / len(x)],\n",
    "                                                   [x[np.where((x[:,0] == 1) * (x[:,1] == 0))].shape[0] / len(x), \n",
    "                                                    x[np.where((x[:,0] == 1) * (x[:,1] == 1))].shape[0] / len(x)]])\n",
    "\n",
    "    cat_matrix_df = pd.DataFrame(cat_matrix, columns=['No', 'Yes'], index=['No', 'Yes'])\n",
    "    print(cat_matrix_df)"
   ]
  },
  {
   "cell_type": "markdown",
   "id": "75b011cd",
   "metadata": {},
   "source": [
    "### PCA"
   ]
  },
  {
   "cell_type": "code",
   "execution_count": null,
   "id": "ca79eb07",
   "metadata": {
    "scrolled": false
   },
   "outputs": [],
   "source": [
    "x_train = train.drop('went_on_backorder', axis=1)\n",
    "y_train = train['went_on_backorder']\n",
    "\n",
    "standard_scalar = StandardScaler()\n",
    "std_x_train = standard_scalar.fit_transform(x_train)\n",
    "\n",
    "model = PCA(n_components=2, random_state=42)\n",
    "pca_data = model.fit_transform(std_x_train)\n",
    "pca_data = np.vstack((pca_data.T, y_train)).T\n",
    "pca_df = pd.DataFrame(data=pca_data, columns=(\"pc1\", \"pc2\", \"went_on_backorder\"))\n",
    "\n",
    "sns.FacetGrid(pca_df, hue='went_on_backorder', height=10).map(plt.scatter, 'pc1', 'pc2').add_legend()\n",
    "plt.title(\"PCA\")\n",
    "plt.show()"
   ]
  },
  {
   "cell_type": "markdown",
   "id": "293d9c30",
   "metadata": {},
   "source": [
    "[Back to the start](#toc)\n",
    "\n",
    "## Feature Selection <a class=\"anchor\" id=\"chapter4\"></a>"
   ]
  },
  {
   "cell_type": "code",
   "execution_count": null,
   "id": "0051dc2a",
   "metadata": {},
   "outputs": [],
   "source": [
    "train.columns"
   ]
  },
  {
   "cell_type": "code",
   "execution_count": null,
   "id": "ea0c34cd",
   "metadata": {},
   "outputs": [],
   "source": [
    "train['sales_agg'] = train[['sales_1_month', 'sales_3_month', 'sales_6_month', 'sales_9_month']].mean(axis =1)"
   ]
  },
  {
   "cell_type": "code",
   "execution_count": null,
   "id": "60db105f",
   "metadata": {},
   "outputs": [],
   "source": [
    "train['forecast_agg'] = train[['forecast_3_month', 'forecast_6_month', 'forecast_9_month']].mean(axis =1)"
   ]
  },
  {
   "cell_type": "code",
   "execution_count": null,
   "id": "acb0321c",
   "metadata": {},
   "outputs": [],
   "source": [
    "train['perf_agg'] = train[['perf_6_month_avg', 'perf_12_month_avg']].mean(axis =1)"
   ]
  },
  {
   "cell_type": "code",
   "execution_count": null,
   "id": "348315a5",
   "metadata": {},
   "outputs": [],
   "source": [
    "train['sales_month'] = train['sales_9_month']/9\n",
    "train['forecast_month'] = train['forecast_9_month']/9\n",
    "train['perf_month'] = train['perf_6_month_avg']"
   ]
  },
  {
   "cell_type": "code",
   "execution_count": null,
   "id": "d3e419b2",
   "metadata": {},
   "outputs": [],
   "source": [
    "train.drop(columns = ['sales_1_month', 'sales_3_month', 'sales_6_month', 'sales_9_month','forecast_3_month',\n",
    "                      'forecast_6_month', 'forecast_9_month','perf_6_month_avg', 'perf_12_month_avg'],inplace = True)"
   ]
  },
  {
   "cell_type": "code",
   "execution_count": null,
   "id": "11ee86e5",
   "metadata": {},
   "outputs": [],
   "source": [
    "train[train['perf_month']==-99.00]['perf_month'].count()"
   ]
  },
  {
   "cell_type": "code",
   "execution_count": null,
   "id": "d0738d3e",
   "metadata": {},
   "outputs": [],
   "source": [
    "train['perf_month'] = train['perf_month'].replace(-99.00, np.nan)"
   ]
  },
  {
   "cell_type": "code",
   "execution_count": null,
   "id": "c1f368b7",
   "metadata": {},
   "outputs": [],
   "source": [
    "train.isna().sum()"
   ]
  },
  {
   "cell_type": "markdown",
   "id": "a52b29f2",
   "metadata": {},
   "source": [
    "### Filling in the missing values"
   ]
  },
  {
   "cell_type": "code",
   "execution_count": null,
   "id": "fa147148",
   "metadata": {},
   "outputs": [],
   "source": [
    "#train_numerical = train.select_dtypes(include='number')\n",
    "#imputer = KNNImputer(n_neighbors=2, weights=\"uniform\").fit(train_numerical)\n",
    "#imputed_matrix = imputer.transform(train_numerical)"
   ]
  },
  {
   "cell_type": "code",
   "execution_count": null,
   "id": "9b68c2f5",
   "metadata": {},
   "outputs": [],
   "source": [
    "#data_cleaned = pd.DataFrame(data=imputed_matrix, columns=train_numerical.columns, index=train_numerical.index)\n",
    "#train[data_cleaned.columns] = data_cleaned"
   ]
  },
  {
   "cell_type": "code",
   "execution_count": null,
   "id": "5bc0e647",
   "metadata": {},
   "outputs": [],
   "source": [
    "#train.to_csv('train.csv')"
   ]
  },
  {
   "cell_type": "code",
   "execution_count": 4,
   "id": "0ffa04c2",
   "metadata": {},
   "outputs": [],
   "source": [
    "train = pd.read_csv('train.csv')"
   ]
  },
  {
   "cell_type": "markdown",
   "id": "7f1799cf",
   "metadata": {},
   "source": [
    "[Back to the start](#toc)\n",
    "\n",
    "## Train Test Split <a class=\"anchor\" id=\"chapter7\"></a>"
   ]
  },
  {
   "cell_type": "code",
   "execution_count": 5,
   "id": "0befee4f",
   "metadata": {},
   "outputs": [],
   "source": [
    "X = train.drop('went_on_backorder', axis=1)\n",
    "y = train['went_on_backorder']"
   ]
  },
  {
   "cell_type": "code",
   "execution_count": 6,
   "id": "c4bcc7f6",
   "metadata": {},
   "outputs": [],
   "source": [
    "# TRAIN (70%) & VALIDATION (30%) SPLIT\n",
    "X_train, X_val, y_train, y_val = train_test_split(X, y, test_size=0.3, random_state=15, stratify=y)"
   ]
  },
  {
   "cell_type": "code",
   "execution_count": 7,
   "id": "07194ec6",
   "metadata": {
    "scrolled": true
   },
   "outputs": [
    {
     "data": {
      "text/plain": [
       "0.0    1172528\n",
       "1.0       7848\n",
       "Name: went_on_backorder, dtype: int64"
      ]
     },
     "execution_count": 7,
     "metadata": {},
     "output_type": "execute_result"
    }
   ],
   "source": [
    "y_train.value_counts()"
   ]
  },
  {
   "cell_type": "code",
   "execution_count": 8,
   "id": "fc099157",
   "metadata": {},
   "outputs": [
    {
     "data": {
      "text/plain": [
       "Index(['sku', 'went_on_backorder', 'national_inv', 'lead_time',\n",
       "       'in_transit_qty', 'min_bank', 'pieces_past_due', 'local_bo_qty',\n",
       "       'potential_issue_Yes', 'deck_risk_Yes', 'oe_constraint_Yes',\n",
       "       'ppap_risk_Yes', 'stop_auto_buy_Yes', 'rev_stop_Yes', 'sales_month',\n",
       "       'forecast_month', 'perf_month'],\n",
       "      dtype='object')"
      ]
     },
     "execution_count": 8,
     "metadata": {},
     "output_type": "execute_result"
    }
   ],
   "source": [
    "train.columns"
   ]
  },
  {
   "cell_type": "code",
   "execution_count": 9,
   "id": "86255f5c",
   "metadata": {},
   "outputs": [],
   "source": [
    "feats = ['national_inv', 'lead_time','in_transit_qty', 'min_bank','pieces_past_due','local_bo_qty'\n",
    "         ,'sales_month','forecast_month','perf_month']\n",
    "\n",
    "scaler = StandardScaler()\n",
    "\n",
    "\n",
    "#scaler.fit(y_train).transform(y_val)\n",
    "\n",
    "\n",
    "X_train[feats] = scaler.fit(X_train[feats]).transform(X_train[feats])\n",
    "X_val[feats] = scaler.fit(X_val[feats]).transform(X_val[feats])\n",
    "\n",
    "\n",
    "#train.head(5)"
   ]
  },
  {
   "cell_type": "markdown",
   "id": "e75d0d19",
   "metadata": {},
   "source": [
    "# Clustering"
   ]
  },
  {
   "cell_type": "code",
   "execution_count": 10,
   "id": "5926e14e",
   "metadata": {},
   "outputs": [],
   "source": [
    "import pandas as pd\n",
    "import numpy as np\n",
    "import matplotlib.pyplot as plt\n",
    "import seaborn as sns\n",
    "from sklearn.impute import KNNImputer\n",
    "from sklearn.experimental import enable_iterative_imputer\n",
    "from sklearn.impute import IterativeImputer\n",
    "from sklearn.linear_model import LinearRegression\n",
    "import re\n",
    "import math\n",
    "from datetime import date\n",
    "from sklearn import decomposition\n",
    "from sklearn import datasets\n",
    "from sklearn.preprocessing import scale\n",
    "from sklearn.preprocessing import MinMaxScaler\n",
    "from sklearn.preprocessing import StandardScaler\n",
    "from sklearn.decomposition import PCA\n",
    "from scipy import stats\n",
    "from sklearn.cluster import KMeans\n",
    "from sklearn.metrics.pairwise import euclidean_distances\n",
    "from sklearn.metrics import silhouette_samples,silhouette_score"
   ]
  },
  {
   "cell_type": "code",
   "execution_count": 11,
   "id": "911788f4",
   "metadata": {},
   "outputs": [],
   "source": [
    "ks = range(1, 11) #creating a list from 1 till 10 \n",
    "inertias = []\n",
    "\n",
    "for k in ks: #(range from 1 til 10)\n",
    "    # Create a KMeans instance with k clusters: model\n",
    "    model = KMeans(n_clusters=k)\n",
    "\n",
    "    # Fit model to samples\n",
    "    model.fit(train)\n",
    "\n",
    "    # Append the inertia to the list of inertias\n",
    "    inertias.append(model.inertia_) #inertia is the SSE in the elbow plot"
   ]
  },
  {
   "cell_type": "code",
   "execution_count": 12,
   "id": "5b49ff09",
   "metadata": {},
   "outputs": [
    {
     "data": {
      "image/png": "[encoded data removed]",
      "text/plain": [
       "<Figure size 576x396 with 1 Axes>"
      ]
     },
     "metadata": {},
     "output_type": "display_data"
    },
    {
     "data": {
      "text/plain": [
       "<Figure size 576x396 with 0 Axes>"
      ]
     },
     "metadata": {},
     "output_type": "display_data"
    }
   ],
   "source": [
    "# Plot ks (x-axis) vs inertias (y-axis) using plt.plot(). \n",
    "plt.plot(ks, inertias)\n",
    "\n",
    "# define the label for x axis as 'number of clusters' using matplotlib.pyplot.xlabel\n",
    "plt.xlabel('Number of k')\n",
    "plt.ylabel('SSE')\n",
    "plt.xticks(ks)\n",
    "plt.title('Elbow analysis For Optimal k')\n",
    "plt.show()\n",
    "\n",
    "plt.savefig('elbow_1.jpeg')"
   ]
  },
  {
   "cell_type": "code",
   "execution_count": 13,
   "id": "04b71114",
   "metadata": {},
   "outputs": [],
   "source": [
    "### "
   ]
  },
  {
   "cell_type": "code",
   "execution_count": 14,
   "id": "18de8011",
   "metadata": {},
   "outputs": [],
   "source": [
    "pca=PCA(n_components=2)\n",
    "train_pca=pca.fit_transform(train)\n",
    "cv_pca=pca.transform(train)\n",
    "test_pca=pca.transform(train)\n",
    "for i in range(2): #for adding the feature to df\n",
    "    train['PCA'+str(i)]=train_pca[:,i]\n",
    "    train['PCA'+str(i)]=test_pca[:,i]\n",
    "    train['PCA'+str(i)]=cv_pca[:,i]"
   ]
  },
  {
   "cell_type": "code",
   "execution_count": 15,
   "id": "b5988579",
   "metadata": {},
   "outputs": [],
   "source": [
    "from sklearn.decomposition import TruncatedSVD\n",
    "\n",
    "svd = TruncatedSVD(n_components=2)\n",
    "train_svd=svd.fit_transform(train)\n",
    "cv_svd=svd.transform(train)\n",
    "test_svd=svd.transform(train)\n",
    "for i in range(2): #for adding the feature to df\n",
    "    train['SVD'+str(i)]=train_svd[:,i]\n",
    "    train['SVD'+str(i)]=test_svd[:,i]\n",
    "    train['SVD'+str(i)]=cv_svd[:,i]"
   ]
  },
  {
   "cell_type": "markdown",
   "id": "d1e9b2ff",
   "metadata": {},
   "source": [
    "### SMOTE"
   ]
  },
  {
   "cell_type": "code",
   "execution_count": 16,
   "id": "59572071",
   "metadata": {},
   "outputs": [
    {
     "name": "stdout",
     "output_type": "stream",
     "text": [
      "Counter({0.0: 1172528, 1.0: 1172528})\n"
     ]
    }
   ],
   "source": [
    "from imblearn.over_sampling import SMOTE\n",
    "from collections import Counter\n",
    "\n",
    "oversample = SMOTE(sampling_strategy='minority')\n",
    "\n",
    "X_smote, y_smote = oversample.fit_resample(X_train, y_train)\n",
    "\n",
    "counter = Counter(y_smote)\n",
    "print(counter)"
   ]
  },
  {
   "cell_type": "markdown",
   "id": "0c4413ca",
   "metadata": {},
   "source": [
    "[Back to the start](#toc)\n",
    "\n",
    "## Modelling <a class=\"anchor\" id=\"chapter5\"></a>"
   ]
  },
  {
   "cell_type": "markdown",
   "id": "fa6457e4",
   "metadata": {},
   "source": [
    "### K-Folds and Repeated K-folds  <a class=\"anchor\" id=\"chapter5.1\"></a>"
   ]
  },
  {
   "cell_type": "code",
   "execution_count": 17,
   "id": "8db2812b",
   "metadata": {},
   "outputs": [],
   "source": [
    "kf = KFold(n_splits=10)\n",
    "rkf = RepeatedKFold(n_splits=10, n_repeats=2) "
   ]
  },
  {
   "cell_type": "code",
   "execution_count": 18,
   "id": "21120e19",
   "metadata": {},
   "outputs": [
    {
     "name": "stdout",
     "output_type": "stream",
     "text": [
      "TRAIN: [ 168626  168627  168628 ... 1686249 1686250 1686251] TEST: [     0      1      2 ... 168623 168624 168625]\n",
      "TRAIN: [      0       1       2 ... 1686249 1686250 1686251] TEST: [168626 168627 168628 ... 337249 337250 337251]\n",
      "TRAIN: [      0       1       2 ... 1686249 1686250 1686251] TEST: [337252 337253 337254 ... 505874 505875 505876]\n",
      "TRAIN: [      0       1       2 ... 1686249 1686250 1686251] TEST: [505877 505878 505879 ... 674499 674500 674501]\n",
      "TRAIN: [      0       1       2 ... 1686249 1686250 1686251] TEST: [674502 674503 674504 ... 843124 843125 843126]\n",
      "TRAIN: [      0       1       2 ... 1686249 1686250 1686251] TEST: [ 843127  843128  843129 ... 1011749 1011750 1011751]\n",
      "TRAIN: [      0       1       2 ... 1686249 1686250 1686251] TEST: [1011752 1011753 1011754 ... 1180374 1180375 1180376]\n",
      "TRAIN: [      0       1       2 ... 1686249 1686250 1686251] TEST: [1180377 1180378 1180379 ... 1348999 1349000 1349001]\n",
      "TRAIN: [      0       1       2 ... 1686249 1686250 1686251] TEST: [1349002 1349003 1349004 ... 1517624 1517625 1517626]\n",
      "TRAIN: [      0       1       2 ... 1517624 1517625 1517626] TEST: [1517627 1517628 1517629 ... 1686249 1686250 1686251]\n"
     ]
    }
   ],
   "source": [
    "for train_index, test_index in kf.split(X):\n",
    "    print(\"TRAIN:\", train_index, \"TEST:\", test_index)"
   ]
  },
  {
   "cell_type": "code",
   "execution_count": 19,
   "id": "f788fc29",
   "metadata": {},
   "outputs": [
    {
     "name": "stdout",
     "output_type": "stream",
     "text": [
      "TRAIN: [      0       1       2 ... 1686249 1686250 1686251] TEST: [      4      11      15 ... 1686232 1686237 1686248]\n",
      "TRAIN: [      0       1       2 ... 1686249 1686250 1686251] TEST: [      6      10      19 ... 1686213 1686215 1686244]\n",
      "TRAIN: [      0       1       2 ... 1686249 1686250 1686251] TEST: [     22      29      40 ... 1686234 1686238 1686241]\n",
      "TRAIN: [      0       1       2 ... 1686249 1686250 1686251] TEST: [      5      16      28 ... 1686207 1686235 1686246]\n",
      "TRAIN: [      0       1       2 ... 1686248 1686249 1686251] TEST: [     21      25      43 ... 1686222 1686243 1686250]\n",
      "TRAIN: [      0       1       2 ... 1686249 1686250 1686251] TEST: [      3       9      13 ... 1686204 1686231 1686242]\n",
      "TRAIN: [      0       2       3 ... 1686249 1686250 1686251] TEST: [      1      26      34 ... 1686223 1686225 1686228]\n",
      "TRAIN: [      0       1       2 ... 1686248 1686249 1686250] TEST: [     12      14      24 ... 1686217 1686233 1686251]\n",
      "TRAIN: [      0       1       2 ... 1686248 1686250 1686251] TEST: [     18      31      65 ... 1686236 1686247 1686249]\n",
      "TRAIN: [      1       3       4 ... 1686249 1686250 1686251] TEST: [      0       2       7 ... 1686239 1686240 1686245]\n",
      "TRAIN: [      0       1       4 ... 1686248 1686249 1686250] TEST: [      2       3       5 ... 1686243 1686247 1686251]\n",
      "TRAIN: [      0       1       2 ... 1686249 1686250 1686251] TEST: [     16      19      26 ... 1686229 1686233 1686242]\n",
      "TRAIN: [      0       1       2 ... 1686247 1686250 1686251] TEST: [      6      14      30 ... 1686244 1686248 1686249]\n",
      "TRAIN: [      0       1       2 ... 1686249 1686250 1686251] TEST: [     11      31      59 ... 1686215 1686230 1686241]\n",
      "TRAIN: [      0       1       2 ... 1686249 1686250 1686251] TEST: [     10      12      25 ... 1686234 1686245 1686246]\n",
      "TRAIN: [      0       2       3 ... 1686249 1686250 1686251] TEST: [      1      18      27 ... 1686217 1686218 1686232]\n",
      "TRAIN: [      0       1       2 ... 1686248 1686249 1686251] TEST: [      7      13      23 ... 1686226 1686240 1686250]\n",
      "TRAIN: [      1       2       3 ... 1686249 1686250 1686251] TEST: [      0       4      17 ... 1686227 1686235 1686237]\n",
      "TRAIN: [      0       1       2 ... 1686249 1686250 1686251] TEST: [     21      62      69 ... 1686189 1686195 1686204]\n",
      "TRAIN: [      0       1       2 ... 1686249 1686250 1686251] TEST: [      9      28      32 ... 1686228 1686236 1686239]\n"
     ]
    }
   ],
   "source": [
    "for train_index, test_index in rkf.split(X):\n",
    "    print(\"TRAIN:\", train_index, \"TEST:\", test_index)"
   ]
  },
  {
   "cell_type": "code",
   "execution_count": 20,
   "id": "4c9308d2",
   "metadata": {},
   "outputs": [],
   "source": [
    "from sklearn.metrics import confusion_matrix\n",
    "from sklearn.metrics import classification_report\n",
    "from sklearn.metrics import plot_confusion_matrix"
   ]
  },
  {
   "cell_type": "code",
   "execution_count": 21,
   "id": "496e0fbc",
   "metadata": {},
   "outputs": [],
   "source": [
    "def report(y_train, y_pred):\n",
    "    print('                                        Classification Report                                            ')\n",
    "    print('-------------------------------------------------------------------------------------------------------\\n')\n",
    "    print(classification_report(y_train, y_pred))\n",
    "    \n",
    "    print('\\n                                        Confusion Matrix                                               ')\n",
    "    print('-------------------------------------------------------------------------------------------------------\\n')\n",
    "    print(confusion_matrix(y_train,y_pred))\n",
    "    \n",
    "    print('\\n                                         Specificity                                                   ')\n",
    "    print('-------------------------------------------------------------------------------------------------------\\n')\n",
    "    print(confusion_matrix(y_train,y_pred)[1][1]/(confusion_matrix(y_train,y_pred)[1][1]+confusion_matrix(y_train,y_pred)[0][1]))"
   ]
  },
  {
   "cell_type": "markdown",
   "id": "393a3531",
   "metadata": {},
   "source": [
    "### Gradient Boosted Decision Tree  <a class=\"anchor\" id=\"chapter5.5\"></a>"
   ]
  },
  {
   "cell_type": "code",
   "execution_count": 22,
   "id": "11f4c019",
   "metadata": {},
   "outputs": [],
   "source": [
    "param_grid = {\n",
    "        'n_estimators':[20,30],\n",
    "        'max_depth':[20,30,50]\n",
    "}"
   ]
  },
  {
   "cell_type": "code",
   "execution_count": 23,
   "id": "31683675",
   "metadata": {},
   "outputs": [],
   "source": [
    "#gb_search = GridSearchCV(estimator = GradientBoostingClassifier(), param_grid = param_grid, scoring = 'f1').fit(X_trainrf, y_trainrf)"
   ]
  },
  {
   "cell_type": "code",
   "execution_count": 24,
   "id": "338c572d",
   "metadata": {},
   "outputs": [],
   "source": [
    "#gb_search.best_estimator_"
   ]
  },
  {
   "cell_type": "code",
   "execution_count": 25,
   "id": "c6e2318f",
   "metadata": {},
   "outputs": [],
   "source": [
    "gb_model = GradientBoostingClassifier(max_depth=20, n_estimators=30).fit(X_smote, y_smote)"
   ]
  },
  {
   "cell_type": "code",
   "execution_count": 28,
   "id": "5d6ccae1",
   "metadata": {},
   "outputs": [],
   "source": [
    "y_pred = gb_model.predict(X_val)"
   ]
  },
  {
   "cell_type": "code",
   "execution_count": 29,
   "id": "86ed6bed",
   "metadata": {},
   "outputs": [
    {
     "name": "stdout",
     "output_type": "stream",
     "text": [
      "                                        Classification Report                                            \n",
      "-------------------------------------------------------------------------------------------------------\n",
      "\n",
      "              precision    recall  f1-score   support\n",
      "\n",
      "         0.0       1.00      0.33      0.49    502513\n",
      "         1.0       0.01      0.87      0.02      3363\n",
      "\n",
      "    accuracy                           0.33    505876\n",
      "   macro avg       0.50      0.60      0.25    505876\n",
      "weighted avg       0.99      0.33      0.49    505876\n",
      "\n",
      "\n",
      "                                        Confusion Matrix                                               \n",
      "-------------------------------------------------------------------------------------------------------\n",
      "\n",
      "[[163521 338992]\n",
      " [   439   2924]]\n",
      "\n",
      "                                         Specificity                                                   \n",
      "-------------------------------------------------------------------------------------------------------\n",
      "\n",
      "0.008551808046420759\n"
     ]
    }
   ],
   "source": [
    "report(y_val,y_pred)"
   ]
  },
  {
   "cell_type": "code",
   "execution_count": null,
   "id": "d3c213a8",
   "metadata": {},
   "outputs": [],
   "source": []
  },
  {
   "cell_type": "code",
   "execution_count": null,
   "id": "f90c3540",
   "metadata": {},
   "outputs": [],
   "source": []
  }
 ],
 "metadata": {
  "kernelspec": {
   "display_name": "Python 3 (ipykernel)",
   "language": "python",
   "name": "python3"
  },
  "language_info": {
   "codemirror_mode": {
    "name": "ipython",
    "version": 3
   },
   "file_extension": ".py",
   "mimetype": "text/x-python",
   "name": "python",
   "nbconvert_exporter": "python",
   "pygments_lexer": "ipython3",
   "version": "3.9.7"
  }
 },
 "nbformat": 4,
 "nbformat_minor": 5
}
