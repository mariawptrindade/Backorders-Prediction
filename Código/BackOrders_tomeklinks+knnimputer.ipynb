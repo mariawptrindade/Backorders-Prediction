{
 "cells": [
  {
   "cell_type": "markdown",
   "id": "f8a6ca68",
   "metadata": {},
   "source": [
    "<a id='toc'></a>\n",
    "\n",
    "<div class=\"alert alert-block alert-info\">\n",
    "<center> <h1> Enterprise Data Science Bootcamp </h1> </center> <br>\n",
    "<center> <h2> Inventory Management- Back Orders </h2> </center>\n",
    "<center> <h3>   2021/2022 </h3> </center>"
   ]
  },
  {
   "cell_type": "markdown",
   "id": "09d3b374",
   "metadata": {},
   "source": [
    "**GROUP E:** <br>\n",
    "- Nuno Bolas          `20211052` <br>\n",
    "- João Magalhães      `20211044` <br>\n",
    "- Mariana Teixeira    `20211058` <br>\n",
    "- Maria Trindade      `20211049` <br>"
   ]
  },
  {
   "cell_type": "markdown",
   "id": "6468a1a1",
   "metadata": {},
   "source": [
    "https://medium.com/analytics-vidhya/predicting-material-backorders-in-inventory-management-90e4d0ece6ba"
   ]
  },
  {
   "cell_type": "markdown",
   "id": "b8f8033a",
   "metadata": {},
   "source": [
    "\n",
    "\n",
    "## Table of Contents\n",
    "\n",
    "* [Import](#chapter0)\n",
    "* [Data Understanding](#chapter1)\n",
    "* [Data preparation](#chapter2)\n",
    "* [Feature Engineering](#chapter3)\n",
    "* [Feature Selection](#chapter4)\n",
    "* [Train Test Split](#chapter7)\n",
    "* [Balancing the dataset](#chapter8)\n",
    "* [Modelling](#chapter5)\n",
    "    * [K-Folds and Repeated K-Folds](#chapter5.1) -\n",
    "    * [Logistic Regression](#chapter5.2) -\n",
    "    * [Neural Networks](#chapter5.3) -\n",
    "    * [Random Forest](#chapter5.4)\n",
    "    * [Gradient Boosted Decision Tree](#chapter5.5)\n",
    "    * [Adaboost](#chapter5.6)\n",
    "    * [Extra Trees](#chapter5.7)\n",
    "    * [Balanced Bagging](#chapter5.8)"
   ]
  },
  {
   "cell_type": "markdown",
   "id": "daff10e6",
   "metadata": {},
   "source": [
    "[Back to the start](#toc)\n",
    "\n",
    "## Import <a class=\"anchor\" id=\"chapter0\"></a>"
   ]
  },
  {
   "cell_type": "code",
   "execution_count": 2,
   "id": "c62ce6a4",
   "metadata": {},
   "outputs": [],
   "source": [
    "#Data Understanding\n",
    "import pandas as pd\n",
    "import numpy as np\n",
    "from numpy import mean\n",
    "from numpy import std\n",
    "import matplotlib.pyplot as plt\n",
    "from matplotlib import pyplot\n",
    "import seaborn as sns\n",
    "from pandas_profiling import ProfileReport\n",
    "from sklearn.impute import KNNImputer\n",
    "\n",
    "#Feature Engineering/Selection\n",
    "from sklearn.preprocessing import StandardScaler\n",
    "from sklearn.decomposition import PCA\n",
    "from scipy.stats import ks_2samp\n",
    "from scipy import stats\n",
    "\n",
    "# Modelling \n",
    "from sklearn.model_selection import train_test_split\n",
    "from sklearn.model_selection import KFold\n",
    "from sklearn.model_selection import RepeatedKFold\n",
    "from sklearn import tree\n",
    "from sklearn.model_selection import train_test_split\n",
    "from sklearn.neural_network import MLPClassifier\n",
    "import time\n",
    "from sklearn.metrics import accuracy_score\n",
    "from sklearn.metrics import confusion_matrix\n",
    "from sklearn.linear_model import LinearRegression\n",
    "from sklearn.linear_model import LogisticRegression\n",
    "from sklearn.ensemble import ExtraTreesClassifier\n",
    "from sklearn.ensemble import AdaBoostClassifier\n",
    "from sklearn.model_selection import GridSearchCV\n",
    "from sklearn.metrics import accuracy_score\n",
    "from sklearn.metrics import f1_score \n",
    "from sklearn.ensemble import RandomForestClassifier\n",
    "from sklearn.ensemble import GradientBoostingClassifier"
   ]
  },
  {
   "cell_type": "code",
   "execution_count": 3,
   "id": "0fefd7e6",
   "metadata": {},
   "outputs": [],
   "source": [
    "# Set the style for the Seaborn's plots\n",
    "sns.set_style('whitegrid',{\n",
    "    'xtick.bottom': False,\n",
    "    'xtick.color': '.1',\n",
    "    'xtick.direction': 'out',\n",
    "    'xtick.top': False,\n",
    "    'xtick.major.size': 1,\n",
    "    'xtick.minor.size': 0.5,\n",
    "    'ytick.left': True,\n",
    "    'ytick.color': '.1',\n",
    "    'ytick.direction': 'out',\n",
    "    'ytick.right': False,\n",
    "    'ytick.major.size': 1,\n",
    "    'ytick.minor.size': 0.5,    \n",
    "    'ytick.color': '.1',\n",
    "    'grid.linestyle': '--',\n",
    "    'axes.edgecolor': '.1',\n",
    "    'grid.color': '0.8'\n",
    " })\n",
    "\n",
    "palette = sns.color_palette(\"Set2\") \n",
    "sns.set_palette(palette)"
   ]
  },
  {
   "cell_type": "markdown",
   "id": "51c6ca27",
   "metadata": {},
   "source": [
    "[Back to the start](#toc)\n",
    "\n",
    "## Data Understanding <a class=\"anchor\" id=\"chapter1\"></a>"
   ]
  },
  {
   "cell_type": "code",
   "execution_count": null,
   "id": "a81f9f1a",
   "metadata": {},
   "outputs": [],
   "source": [
    "test = pd.read_csv(\"data/Test_Dataset_v2.csv\")\n",
    "train = pd.read_csv(\"data/Training_Dataset_v2.csv\")"
   ]
  },
  {
   "cell_type": "code",
   "execution_count": null,
   "id": "7d39b432",
   "metadata": {
    "scrolled": true
   },
   "outputs": [],
   "source": [
    "train['perf_6_month_avg'].mean()"
   ]
  },
  {
   "cell_type": "code",
   "execution_count": null,
   "id": "7809ee5c",
   "metadata": {},
   "outputs": [],
   "source": [
    "train['perf_12_month_avg'].mean()"
   ]
  },
  {
   "cell_type": "code",
   "execution_count": null,
   "id": "228a7bab",
   "metadata": {
    "scrolled": true
   },
   "outputs": [],
   "source": [
    "test.head(5)"
   ]
  },
  {
   "cell_type": "markdown",
   "id": "e9365978",
   "metadata": {},
   "source": [
    "### Initial Analysis"
   ]
  },
  {
   "cell_type": "code",
   "execution_count": null,
   "id": "266e5fbf",
   "metadata": {},
   "outputs": [],
   "source": [
    "#train = train.set_index(\"sku\")\n",
    "#test = test.set_index(\"sku\")"
   ]
  },
  {
   "cell_type": "code",
   "execution_count": null,
   "id": "20a53723",
   "metadata": {},
   "outputs": [],
   "source": [
    "# descriptive statistics for the variables\n",
    "train.describe()"
   ]
  },
  {
   "cell_type": "code",
   "execution_count": null,
   "id": "217797bf",
   "metadata": {},
   "outputs": [],
   "source": [
    "train.describe(include=['O'])"
   ]
  },
  {
   "cell_type": "code",
   "execution_count": null,
   "id": "ca94805c",
   "metadata": {},
   "outputs": [],
   "source": [
    "train.info()"
   ]
  },
  {
   "cell_type": "code",
   "execution_count": null,
   "id": "815445d4",
   "metadata": {},
   "outputs": [],
   "source": [
    "# Duplicated records\n",
    "print('Train: \\n',train.duplicated().value_counts(),'\\n') "
   ]
  },
  {
   "cell_type": "code",
   "execution_count": null,
   "id": "e49e44f2",
   "metadata": {},
   "outputs": [],
   "source": [
    "# Missing Values on train dataset\n",
    "train.isna().sum()"
   ]
  },
  {
   "cell_type": "markdown",
   "id": "b11ec9f3",
   "metadata": {},
   "source": [
    "lead_time - Transit time for product (if available)"
   ]
  },
  {
   "cell_type": "markdown",
   "id": "2439f2cd",
   "metadata": {},
   "source": [
    "    Sku is the identifier and therefore, the index; \n",
    "\n",
    "    Out of the other 21 features (excluding the class label went_on_backorder), 15 of them are numerical and 6 of them are categorical. \n",
    "    All the categorical features (potential_issue, deck_risk, oe_constraint, ppap_risk, stop_auto_buy and rev_stop) have either Yes or No, so we will transform them to binary; \n",
    "\n",
    "    The numerical features include national_inv, lead_time, in_transit_qty, forecast_3_month, forecast_6_month, forecast_9_month, sales_1_month, sales_3_month, sales_6_month, sales_9_month, min_bank, pieces_past_due, perf_6_month_avg, perf_12_month_avg, local_bo_qty. \n",
    "\n",
    "    lead_time is the only feature with missing values.In addition, the last row of every feature has null values so will removed. "
   ]
  },
  {
   "cell_type": "markdown",
   "id": "2edb96fd",
   "metadata": {},
   "source": [
    "### Pandas profiling"
   ]
  },
  {
   "cell_type": "code",
   "execution_count": null,
   "id": "825f0ba5",
   "metadata": {
    "scrolled": true
   },
   "outputs": [],
   "source": [
    "#pip install pandas-profiling"
   ]
  },
  {
   "cell_type": "code",
   "execution_count": null,
   "id": "e8808a4b",
   "metadata": {
    "scrolled": true
   },
   "outputs": [],
   "source": [
    "#profile = ProfileReport(train)\n",
    "#profile  "
   ]
  },
  {
   "cell_type": "code",
   "execution_count": null,
   "id": "3a2ae3fb",
   "metadata": {},
   "outputs": [],
   "source": [
    "#profile.to_file(\"report.html\")"
   ]
  },
  {
   "cell_type": "markdown",
   "id": "fe01effd",
   "metadata": {},
   "source": [
    "* The target variable went_on_backorder is a categorical feature with two values \"Yes\" and \"No\".\n",
    "* 99.33% belong to the class \"Yes\" and remaining 0.669% belong to the class \"No\"; dataset is highly imbalanced with majority and minority class ratio of approximately 148:1\n",
    "* in_transit_qty has 1344662 (79.7%) zeros"
   ]
  },
  {
   "cell_type": "markdown",
   "id": "ad018d08",
   "metadata": {},
   "source": [
    "Real numbers: \n",
    "* forecasts: ~65% is 0; very correlated within themselves and with sales; highly skewed; with outliers;\n",
    "* in transit: skewed; with ~80% of 0s; small IQR; many outliers; \n",
    "* lead_time: has 6% of missing values; \n",
    "* local_bo_qty: skewed; 98.9% of 0 values; \n",
    "* min_bank: 52% 0s; \n",
    "* performance features 6,12 months: high correlation with themselves, ~7-8% of -99\n",
    "* pieces_past_due: skewed, 98.5% 0s; \n",
    "* sales: skewed; lots of 0s ~40%; high correlation with each others; \n",
    "\n",
    "Booleans: \n",
    "* oe_constraint: 99% no (high relation with backorder); \n",
    "* potential_issue: 99.9% No(high relation with backorder);\n",
    "* ppap_risk: -\n",
    "* rev_stop: 99.9% no (no relation with backorder). "
   ]
  },
  {
   "cell_type": "markdown",
   "id": "63f2f6d5",
   "metadata": {},
   "source": [
    "[Back to the start](#toc)\n",
    "\n",
    "## Data Preparation <a class=\"anchor\" id=\"chapter2\"></a>"
   ]
  },
  {
   "cell_type": "markdown",
   "id": "d9794e0f",
   "metadata": {},
   "source": [
    "### Missing values"
   ]
  },
  {
   "cell_type": "code",
   "execution_count": null,
   "id": "04522712",
   "metadata": {},
   "outputs": [],
   "source": [
    "#total = np.round(train['lead_time'].isna().sum()/ len(train), 4)\n",
    "#print('Total percentage of Missing Values: ', total*100, '%')"
   ]
  },
  {
   "cell_type": "code",
   "execution_count": null,
   "id": "aa5872d3",
   "metadata": {},
   "outputs": [],
   "source": [
    "#train.drop(train[train['national_inv'].isna()].index,inplace = True) \n",
    "#This line was NA in all values but sku, so it was deleted"
   ]
  },
  {
   "cell_type": "code",
   "execution_count": null,
   "id": "5e78fddf",
   "metadata": {},
   "outputs": [],
   "source": [
    "#train_numerical = train.select_dtypes(include='number')"
   ]
  },
  {
   "cell_type": "code",
   "execution_count": null,
   "id": "5b5e831c",
   "metadata": {},
   "outputs": [],
   "source": [
    "#imputer = KNNImputer(n_neighbors=2, weights=\"uniform\").fit(train_numerical)\n",
    "#imputed_matrix = imputer.transform(train_numerical)"
   ]
  },
  {
   "cell_type": "code",
   "execution_count": null,
   "id": "15a5c4e3",
   "metadata": {},
   "outputs": [],
   "source": [
    "#data_cleaned = pd.DataFrame(data=imputed_matrix, columns=train_numerical.columns, index=train_numerical.index)"
   ]
  },
  {
   "cell_type": "code",
   "execution_count": null,
   "id": "78515ee6",
   "metadata": {},
   "outputs": [],
   "source": [
    "#train[data_cleaned.columns] = data_cleaned"
   ]
  },
  {
   "cell_type": "code",
   "execution_count": null,
   "id": "28de0596",
   "metadata": {},
   "outputs": [],
   "source": [
    "#train.isna().sum()"
   ]
  },
  {
   "cell_type": "code",
   "execution_count": null,
   "id": "070e5b51",
   "metadata": {},
   "outputs": [],
   "source": [
    "#train.to_csv('train_knncleaned.csv')"
   ]
  },
  {
   "cell_type": "code",
   "execution_count": 200,
   "id": "63062892",
   "metadata": {
    "scrolled": true
   },
   "outputs": [],
   "source": [
    "train = pd.read_csv('train_knncleaned.csv')"
   ]
  },
  {
   "cell_type": "code",
   "execution_count": 209,
   "id": "13c3ee26",
   "metadata": {},
   "outputs": [],
   "source": [
    "train.set_index('sku',inplace = True)"
   ]
  },
  {
   "cell_type": "markdown",
   "id": "30c6419b",
   "metadata": {},
   "source": [
    "### Duplicates"
   ]
  },
  {
   "cell_type": "code",
   "execution_count": 5,
   "id": "c8a47da6",
   "metadata": {},
   "outputs": [],
   "source": [
    "#train.duplicated().sum() 0 duplicates without index as sku"
   ]
  },
  {
   "cell_type": "code",
   "execution_count": 6,
   "id": "7b908e2f",
   "metadata": {},
   "outputs": [],
   "source": [
    "#train.duplicated().sum()/train.shape[0] "
   ]
  },
  {
   "cell_type": "markdown",
   "id": "7dfe9814",
   "metadata": {},
   "source": [
    "There are no duplicates in this dataset"
   ]
  },
  {
   "cell_type": "code",
   "execution_count": 7,
   "id": "fd962423",
   "metadata": {},
   "outputs": [],
   "source": [
    "train = train.set_index(\"sku\")"
   ]
  },
  {
   "cell_type": "code",
   "execution_count": 8,
   "id": "366eda72",
   "metadata": {},
   "outputs": [],
   "source": [
    "train.drop(columns = ['Unnamed: 0'],inplace = True)"
   ]
  },
  {
   "cell_type": "code",
   "execution_count": 9,
   "id": "1d806280",
   "metadata": {},
   "outputs": [
    {
     "data": {
      "text/html": [
       "<div>\n",
       "<style scoped>\n",
       "    .dataframe tbody tr th:only-of-type {\n",
       "        vertical-align: middle;\n",
       "    }\n",
       "\n",
       "    .dataframe tbody tr th {\n",
       "        vertical-align: top;\n",
       "    }\n",
       "\n",
       "    .dataframe thead th {\n",
       "        text-align: right;\n",
       "    }\n",
       "</style>\n",
       "<table border=\"1\" class=\"dataframe\">\n",
       "  <thead>\n",
       "    <tr style=\"text-align: right;\">\n",
       "      <th></th>\n",
       "      <th>national_inv</th>\n",
       "      <th>lead_time</th>\n",
       "      <th>in_transit_qty</th>\n",
       "      <th>forecast_3_month</th>\n",
       "      <th>forecast_6_month</th>\n",
       "      <th>forecast_9_month</th>\n",
       "      <th>sales_1_month</th>\n",
       "      <th>sales_3_month</th>\n",
       "      <th>sales_6_month</th>\n",
       "      <th>sales_9_month</th>\n",
       "      <th>...</th>\n",
       "      <th>pieces_past_due</th>\n",
       "      <th>perf_6_month_avg</th>\n",
       "      <th>perf_12_month_avg</th>\n",
       "      <th>local_bo_qty</th>\n",
       "      <th>deck_risk</th>\n",
       "      <th>oe_constraint</th>\n",
       "      <th>ppap_risk</th>\n",
       "      <th>stop_auto_buy</th>\n",
       "      <th>rev_stop</th>\n",
       "      <th>went_on_backorder</th>\n",
       "    </tr>\n",
       "    <tr>\n",
       "      <th>sku</th>\n",
       "      <th></th>\n",
       "      <th></th>\n",
       "      <th></th>\n",
       "      <th></th>\n",
       "      <th></th>\n",
       "      <th></th>\n",
       "      <th></th>\n",
       "      <th></th>\n",
       "      <th></th>\n",
       "      <th></th>\n",
       "      <th></th>\n",
       "      <th></th>\n",
       "      <th></th>\n",
       "      <th></th>\n",
       "      <th></th>\n",
       "      <th></th>\n",
       "      <th></th>\n",
       "      <th></th>\n",
       "      <th></th>\n",
       "      <th></th>\n",
       "      <th></th>\n",
       "    </tr>\n",
       "  </thead>\n",
       "  <tbody>\n",
       "    <tr>\n",
       "      <th>1026827</th>\n",
       "      <td>0.0</td>\n",
       "      <td>5.0</td>\n",
       "      <td>0.0</td>\n",
       "      <td>0.0</td>\n",
       "      <td>0.0</td>\n",
       "      <td>0.0</td>\n",
       "      <td>0.0</td>\n",
       "      <td>0.0</td>\n",
       "      <td>0.0</td>\n",
       "      <td>0.0</td>\n",
       "      <td>...</td>\n",
       "      <td>0.0</td>\n",
       "      <td>-99.00</td>\n",
       "      <td>-99.00</td>\n",
       "      <td>0.0</td>\n",
       "      <td>No</td>\n",
       "      <td>No</td>\n",
       "      <td>No</td>\n",
       "      <td>Yes</td>\n",
       "      <td>No</td>\n",
       "      <td>No</td>\n",
       "    </tr>\n",
       "    <tr>\n",
       "      <th>1043384</th>\n",
       "      <td>2.0</td>\n",
       "      <td>9.0</td>\n",
       "      <td>0.0</td>\n",
       "      <td>0.0</td>\n",
       "      <td>0.0</td>\n",
       "      <td>0.0</td>\n",
       "      <td>0.0</td>\n",
       "      <td>0.0</td>\n",
       "      <td>0.0</td>\n",
       "      <td>0.0</td>\n",
       "      <td>...</td>\n",
       "      <td>0.0</td>\n",
       "      <td>0.99</td>\n",
       "      <td>0.99</td>\n",
       "      <td>0.0</td>\n",
       "      <td>No</td>\n",
       "      <td>No</td>\n",
       "      <td>No</td>\n",
       "      <td>Yes</td>\n",
       "      <td>No</td>\n",
       "      <td>No</td>\n",
       "    </tr>\n",
       "    <tr>\n",
       "      <th>1043696</th>\n",
       "      <td>2.0</td>\n",
       "      <td>30.0</td>\n",
       "      <td>0.0</td>\n",
       "      <td>0.0</td>\n",
       "      <td>0.0</td>\n",
       "      <td>0.0</td>\n",
       "      <td>0.0</td>\n",
       "      <td>0.0</td>\n",
       "      <td>0.0</td>\n",
       "      <td>0.0</td>\n",
       "      <td>...</td>\n",
       "      <td>0.0</td>\n",
       "      <td>-99.00</td>\n",
       "      <td>-99.00</td>\n",
       "      <td>0.0</td>\n",
       "      <td>Yes</td>\n",
       "      <td>No</td>\n",
       "      <td>No</td>\n",
       "      <td>Yes</td>\n",
       "      <td>No</td>\n",
       "      <td>No</td>\n",
       "    </tr>\n",
       "    <tr>\n",
       "      <th>1043852</th>\n",
       "      <td>7.0</td>\n",
       "      <td>8.0</td>\n",
       "      <td>0.0</td>\n",
       "      <td>0.0</td>\n",
       "      <td>0.0</td>\n",
       "      <td>0.0</td>\n",
       "      <td>0.0</td>\n",
       "      <td>0.0</td>\n",
       "      <td>0.0</td>\n",
       "      <td>0.0</td>\n",
       "      <td>...</td>\n",
       "      <td>0.0</td>\n",
       "      <td>0.10</td>\n",
       "      <td>0.13</td>\n",
       "      <td>0.0</td>\n",
       "      <td>No</td>\n",
       "      <td>No</td>\n",
       "      <td>No</td>\n",
       "      <td>Yes</td>\n",
       "      <td>No</td>\n",
       "      <td>No</td>\n",
       "    </tr>\n",
       "    <tr>\n",
       "      <th>1044048</th>\n",
       "      <td>8.0</td>\n",
       "      <td>8.0</td>\n",
       "      <td>0.0</td>\n",
       "      <td>0.0</td>\n",
       "      <td>0.0</td>\n",
       "      <td>0.0</td>\n",
       "      <td>0.0</td>\n",
       "      <td>0.0</td>\n",
       "      <td>0.0</td>\n",
       "      <td>4.0</td>\n",
       "      <td>...</td>\n",
       "      <td>0.0</td>\n",
       "      <td>-99.00</td>\n",
       "      <td>-99.00</td>\n",
       "      <td>0.0</td>\n",
       "      <td>Yes</td>\n",
       "      <td>No</td>\n",
       "      <td>No</td>\n",
       "      <td>Yes</td>\n",
       "      <td>No</td>\n",
       "      <td>No</td>\n",
       "    </tr>\n",
       "  </tbody>\n",
       "</table>\n",
       "<p>5 rows × 22 columns</p>\n",
       "</div>"
      ],
      "text/plain": [
       "         national_inv  lead_time  in_transit_qty  forecast_3_month  \\\n",
       "sku                                                                  \n",
       "1026827           0.0        5.0             0.0               0.0   \n",
       "1043384           2.0        9.0             0.0               0.0   \n",
       "1043696           2.0       30.0             0.0               0.0   \n",
       "1043852           7.0        8.0             0.0               0.0   \n",
       "1044048           8.0        8.0             0.0               0.0   \n",
       "\n",
       "         forecast_6_month  forecast_9_month  sales_1_month  sales_3_month  \\\n",
       "sku                                                                         \n",
       "1026827               0.0               0.0            0.0            0.0   \n",
       "1043384               0.0               0.0            0.0            0.0   \n",
       "1043696               0.0               0.0            0.0            0.0   \n",
       "1043852               0.0               0.0            0.0            0.0   \n",
       "1044048               0.0               0.0            0.0            0.0   \n",
       "\n",
       "         sales_6_month  sales_9_month  ...  pieces_past_due perf_6_month_avg  \\\n",
       "sku                                    ...                                     \n",
       "1026827            0.0            0.0  ...              0.0           -99.00   \n",
       "1043384            0.0            0.0  ...              0.0             0.99   \n",
       "1043696            0.0            0.0  ...              0.0           -99.00   \n",
       "1043852            0.0            0.0  ...              0.0             0.10   \n",
       "1044048            0.0            4.0  ...              0.0           -99.00   \n",
       "\n",
       "         perf_12_month_avg  local_bo_qty  deck_risk  oe_constraint ppap_risk  \\\n",
       "sku                                                                            \n",
       "1026827             -99.00           0.0         No             No        No   \n",
       "1043384               0.99           0.0         No             No        No   \n",
       "1043696             -99.00           0.0        Yes             No        No   \n",
       "1043852               0.13           0.0         No             No        No   \n",
       "1044048             -99.00           0.0        Yes             No        No   \n",
       "\n",
       "        stop_auto_buy rev_stop went_on_backorder  \n",
       "sku                                               \n",
       "1026827           Yes       No                No  \n",
       "1043384           Yes       No                No  \n",
       "1043696           Yes       No                No  \n",
       "1043852           Yes       No                No  \n",
       "1044048           Yes       No                No  \n",
       "\n",
       "[5 rows x 22 columns]"
      ]
     },
     "execution_count": 9,
     "metadata": {},
     "output_type": "execute_result"
    }
   ],
   "source": [
    "train.head()"
   ]
  },
  {
   "cell_type": "markdown",
   "id": "c41836f9",
   "metadata": {},
   "source": [
    "### Outliers"
   ]
  },
  {
   "cell_type": "code",
   "execution_count": 10,
   "id": "04101e05",
   "metadata": {},
   "outputs": [
    {
     "data": {
      "image/png": "[encoded data removed]",
      "text/plain": [
       "<Figure size 576x396 with 1 Axes>"
      ]
     },
     "metadata": {},
     "output_type": "display_data"
    },
    {
     "data": {
      "image/png": "[encoded data removed]",
      "text/plain": [
       "<Figure size 576x396 with 1 Axes>"
      ]
     },
     "metadata": {},
     "output_type": "display_data"
    },
    {
     "data": {
      "image/png": "[encoded data removed]",
      "text/plain": [
       "<Figure size 576x396 with 1 Axes>"
      ]
     },
     "metadata": {},
     "output_type": "display_data"
    },
    {
     "data": {
      "image/png": "[encoded data removed]",
      "text/plain": [
       "<Figure size 576x396 with 1 Axes>"
      ]
     },
     "metadata": {},
     "output_type": "display_data"
    },
    {
     "data": {
      "image/png": "[encoded data removed]",
      "text/plain": [
       "<Figure size 576x396 with 1 Axes>"
      ]
     },
     "metadata": {},
     "output_type": "display_data"
    },
    {
     "data": {
      "image/png": "[encoded data removed]",
      "text/plain": [
       "<Figure size 576x396 with 1 Axes>"
      ]
     },
     "metadata": {},
     "output_type": "display_data"
    },
    {
     "data": {
      "image/png": "[encoded data removed]",
      "text/plain": [
       "<Figure size 576x396 with 1 Axes>"
      ]
     },
     "metadata": {},
     "output_type": "display_data"
    },
    {
     "data": {
      "image/png": "[encoded data removed]",
      "text/plain": [
       "<Figure size 576x396 with 1 Axes>"
      ]
     },
     "metadata": {},
     "output_type": "display_data"
    },
    {
     "data": {
      "image/png": "[encoded data removed]",
      "text/plain": [
       "<Figure size 576x396 with 1 Axes>"
      ]
     },
     "metadata": {},
     "output_type": "display_data"
    },
    {
     "data": {
      "image/png": "[encoded data removed]",
      "text/plain": [
       "<Figure size 576x396 with 1 Axes>"
      ]
     },
     "metadata": {},
     "output_type": "display_data"
    },
    {
     "data": {
      "image/png": "[encoded data removed]",
      "text/plain": [
       "<Figure size 576x396 with 1 Axes>"
      ]
     },
     "metadata": {},
     "output_type": "display_data"
    },
    {
     "data": {
      "image/png": "[encoded data removed]",
      "text/plain": [
       "<Figure size 576x396 with 1 Axes>"
      ]
     },
     "metadata": {},
     "output_type": "display_data"
    },
    {
     "data": {
      "image/png": "[encoded data removed]",
      "text/plain": [
       "<Figure size 576x396 with 1 Axes>"
      ]
     },
     "metadata": {},
     "output_type": "display_data"
    },
    {
     "data": {
      "image/png": "[encoded data removed]",
      "text/plain": [
       "<Figure size 576x396 with 1 Axes>"
      ]
     },
     "metadata": {},
     "output_type": "display_data"
    },
    {
     "data": {
      "image/png": "[encoded data removed]",
      "text/plain": [
       "<Figure size 576x396 with 1 Axes>"
      ]
     },
     "metadata": {},
     "output_type": "display_data"
    }
   ],
   "source": [
    "train_numerical = train.select_dtypes(include='number')\n",
    "\n",
    "for i in train_numerical:\n",
    "    sns.boxplot(data=train_numerical, x=i)\n",
    "    plt.show()"
   ]
  },
  {
   "cell_type": "code",
   "execution_count": 11,
   "id": "d6611ef0",
   "metadata": {},
   "outputs": [],
   "source": [
    "outlier_metric_features = train_numerical.columns"
   ]
  },
  {
   "cell_type": "markdown",
   "id": "f1154dbd",
   "metadata": {},
   "source": [
    "#### Outliers"
   ]
  },
  {
   "cell_type": "code",
   "execution_count": 12,
   "id": "507b2bcd",
   "metadata": {},
   "outputs": [
    {
     "name": "stdout",
     "output_type": "stream",
     "text": [
      "Percentage of data kept after removing outliers: 0.5295\n"
     ]
    },
    {
     "name": "stderr",
     "output_type": "stream",
     "text": [
      "/var/folders/89/gv90tkm505qglgm9s_mrxwxw0000gn/T/ipykernel_4680/3564339984.py:16: FutureWarning: Boolean inputs to the `inclusive` argument are deprecated infavour of `both` or `neither`.\n",
      "  filters2.append(train[metric].between(llim, ulim, inclusive=True))\n"
     ]
    }
   ],
   "source": [
    "q25 = train.quantile(.25)\n",
    "q75 = train.quantile(.75)\n",
    "iqr = (q75 - q25)\n",
    "\n",
    "\n",
    "\n",
    "upper_lim = q75 + 1.5 * iqr\n",
    "lower_lim = q25 - 1.5 * iqr\n",
    "\n",
    "\n",
    "\n",
    "filters2 = []\n",
    "for metric in outlier_metric_features:\n",
    "    llim = lower_lim[metric]\n",
    "    ulim = upper_lim[metric]\n",
    "    filters2.append(train[metric].between(llim, ulim, inclusive=True))\n",
    "\n",
    "\n",
    "filters2 = pd.Series(np.all(filters2, 0), index=train.index)\n",
    "df_2 = train[filters2]\n",
    "print('Percentage of data kept after removing outliers:', np.round(df_2.shape[0] / train.shape[0], 4))"
   ]
  },
  {
   "cell_type": "markdown",
   "id": "00178a54",
   "metadata": {},
   "source": [
    "#### Z-score"
   ]
  },
  {
   "cell_type": "code",
   "execution_count": 13,
   "id": "2b005aa8",
   "metadata": {},
   "outputs": [
    {
     "name": "stdout",
     "output_type": "stream",
     "text": [
      "Percentage of outliers for national_inv  :  0.04\n",
      "Percentage of outliers for lead_time  :  2.6\n",
      "Percentage of outliers for in_transit_qty  :  0.13999999999999999\n",
      "Percentage of outliers for forecast_3_month  :  0.15\n",
      "Percentage of outliers for forecast_6_month  :  0.15\n",
      "Percentage of outliers for forecast_9_month  :  0.13999999999999999\n",
      "Percentage of outliers for sales_1_month  :  0.1\n",
      "Percentage of outliers for sales_3_month  :  0.12\n",
      "Percentage of outliers for sales_6_month  :  0.13\n",
      "Percentage of outliers for sales_9_month  :  0.12\n",
      "Percentage of outliers for min_bank  :  0.15\n",
      "Percentage of outliers for pieces_past_due  :  0.04\n",
      "Percentage of outliers for perf_6_month_avg  :  7.670000000000001\n",
      "Percentage of outliers for perf_12_month_avg  :  7.23\n",
      "Percentage of outliers for local_bo_qty  :  0.1\n",
      "Total percentage of Outliers:  18.880000000000003 %\n"
     ]
    }
   ],
   "source": [
    "total = 0\n",
    "for i in outlier_metric_features: \n",
    "    z = np.abs(stats.zscore(train[i])) \n",
    "    z[z > 3].count()\n",
    "    print('Percentage of outliers for',str(i),' : ', (np.round((z[z > 3].count())/ len(train), 4)*100))\n",
    "    total += (np.round((z[z > 3].count())/ len(train), 4))\n",
    "\n",
    "print('Total percentage of Outliers: ', total*100, '%')"
   ]
  },
  {
   "cell_type": "code",
   "execution_count": 14,
   "id": "6d563146",
   "metadata": {},
   "outputs": [],
   "source": [
    "train = train[(z < 3)]"
   ]
  },
  {
   "cell_type": "code",
   "execution_count": 15,
   "id": "e029c36b",
   "metadata": {},
   "outputs": [
    {
     "data": {
      "text/plain": [
       "(1686252, 22)"
      ]
     },
     "execution_count": 15,
     "metadata": {},
     "output_type": "execute_result"
    }
   ],
   "source": [
    "train.shape"
   ]
  },
  {
   "cell_type": "markdown",
   "id": "7d7cb061",
   "metadata": {},
   "source": [
    "### Transform Variables"
   ]
  },
  {
   "cell_type": "markdown",
   "id": "49970dac",
   "metadata": {},
   "source": [
    "**Dummies**"
   ]
  },
  {
   "cell_type": "code",
   "execution_count": 16,
   "id": "21890683",
   "metadata": {},
   "outputs": [],
   "source": [
    "train = pd.get_dummies(train, drop_first = True)"
   ]
  },
  {
   "cell_type": "code",
   "execution_count": 17,
   "id": "8c048cc1",
   "metadata": {},
   "outputs": [
    {
     "data": {
      "text/plain": [
       "Index(['national_inv', 'lead_time', 'in_transit_qty', 'forecast_3_month',\n",
       "       'forecast_6_month', 'forecast_9_month', 'sales_1_month',\n",
       "       'sales_3_month', 'sales_6_month', 'sales_9_month', 'min_bank',\n",
       "       'pieces_past_due', 'perf_6_month_avg', 'perf_12_month_avg',\n",
       "       'local_bo_qty', 'potential_issue_Yes', 'deck_risk_Yes',\n",
       "       'oe_constraint_Yes', 'ppap_risk_Yes', 'stop_auto_buy_Yes',\n",
       "       'rev_stop_Yes', 'went_on_backorder_Yes'],\n",
       "      dtype='object')"
      ]
     },
     "execution_count": 17,
     "metadata": {},
     "output_type": "execute_result"
    }
   ],
   "source": [
    "train.columns"
   ]
  },
  {
   "cell_type": "code",
   "execution_count": 18,
   "id": "c9f48571",
   "metadata": {},
   "outputs": [],
   "source": [
    "train.rename(columns = {'went_on_backorder_Yes':'went_on_backorder'},inplace = True)\n",
    "\n",
    "train = train.reindex(columns= ['went_on_backorder','national_inv', 'lead_time', 'in_transit_qty', 'forecast_3_month',\n",
    "       'forecast_6_month', 'forecast_9_month', 'sales_1_month',\n",
    "       'sales_3_month', 'sales_6_month', 'sales_9_month', 'min_bank',\n",
    "       'pieces_past_due', 'perf_6_month_avg', 'perf_12_month_avg',\n",
    "       'local_bo_qty', 'potential_issue_Yes', 'deck_risk_Yes',\n",
    "       'oe_constraint_Yes', 'ppap_risk_Yes', 'stop_auto_buy_Yes',\n",
    "       'rev_stop_Yes'])"
   ]
  },
  {
   "cell_type": "markdown",
   "id": "afbe93b6",
   "metadata": {},
   "source": [
    "**Datatypes**"
   ]
  },
  {
   "cell_type": "code",
   "execution_count": 19,
   "id": "1d49444f",
   "metadata": {},
   "outputs": [],
   "source": [
    "#train = train.astype('float16')\n",
    "#train.head(5)"
   ]
  },
  {
   "cell_type": "code",
   "execution_count": 20,
   "id": "899f9af8",
   "metadata": {},
   "outputs": [
    {
     "data": {
      "text/html": [
       "<div>\n",
       "<style scoped>\n",
       "    .dataframe tbody tr th:only-of-type {\n",
       "        vertical-align: middle;\n",
       "    }\n",
       "\n",
       "    .dataframe tbody tr th {\n",
       "        vertical-align: top;\n",
       "    }\n",
       "\n",
       "    .dataframe thead th {\n",
       "        text-align: right;\n",
       "    }\n",
       "</style>\n",
       "<table border=\"1\" class=\"dataframe\">\n",
       "  <thead>\n",
       "    <tr style=\"text-align: right;\">\n",
       "      <th></th>\n",
       "      <th>went_on_backorder</th>\n",
       "      <th>national_inv</th>\n",
       "      <th>lead_time</th>\n",
       "      <th>in_transit_qty</th>\n",
       "      <th>forecast_3_month</th>\n",
       "      <th>forecast_6_month</th>\n",
       "      <th>forecast_9_month</th>\n",
       "      <th>sales_1_month</th>\n",
       "      <th>sales_3_month</th>\n",
       "      <th>sales_6_month</th>\n",
       "      <th>...</th>\n",
       "      <th>pieces_past_due</th>\n",
       "      <th>perf_6_month_avg</th>\n",
       "      <th>perf_12_month_avg</th>\n",
       "      <th>local_bo_qty</th>\n",
       "      <th>potential_issue_Yes</th>\n",
       "      <th>deck_risk_Yes</th>\n",
       "      <th>oe_constraint_Yes</th>\n",
       "      <th>ppap_risk_Yes</th>\n",
       "      <th>stop_auto_buy_Yes</th>\n",
       "      <th>rev_stop_Yes</th>\n",
       "    </tr>\n",
       "    <tr>\n",
       "      <th>sku</th>\n",
       "      <th></th>\n",
       "      <th></th>\n",
       "      <th></th>\n",
       "      <th></th>\n",
       "      <th></th>\n",
       "      <th></th>\n",
       "      <th></th>\n",
       "      <th></th>\n",
       "      <th></th>\n",
       "      <th></th>\n",
       "      <th></th>\n",
       "      <th></th>\n",
       "      <th></th>\n",
       "      <th></th>\n",
       "      <th></th>\n",
       "      <th></th>\n",
       "      <th></th>\n",
       "      <th></th>\n",
       "      <th></th>\n",
       "      <th></th>\n",
       "      <th></th>\n",
       "    </tr>\n",
       "  </thead>\n",
       "  <tbody>\n",
       "    <tr>\n",
       "      <th>1026827</th>\n",
       "      <td>0</td>\n",
       "      <td>0.0</td>\n",
       "      <td>5.0</td>\n",
       "      <td>0.0</td>\n",
       "      <td>0.0</td>\n",
       "      <td>0.0</td>\n",
       "      <td>0.0</td>\n",
       "      <td>0.0</td>\n",
       "      <td>0.0</td>\n",
       "      <td>0.0</td>\n",
       "      <td>...</td>\n",
       "      <td>0.0</td>\n",
       "      <td>-99.00</td>\n",
       "      <td>-99.00</td>\n",
       "      <td>0.0</td>\n",
       "      <td>0</td>\n",
       "      <td>0</td>\n",
       "      <td>0</td>\n",
       "      <td>0</td>\n",
       "      <td>1</td>\n",
       "      <td>0</td>\n",
       "    </tr>\n",
       "    <tr>\n",
       "      <th>1043384</th>\n",
       "      <td>0</td>\n",
       "      <td>2.0</td>\n",
       "      <td>9.0</td>\n",
       "      <td>0.0</td>\n",
       "      <td>0.0</td>\n",
       "      <td>0.0</td>\n",
       "      <td>0.0</td>\n",
       "      <td>0.0</td>\n",
       "      <td>0.0</td>\n",
       "      <td>0.0</td>\n",
       "      <td>...</td>\n",
       "      <td>0.0</td>\n",
       "      <td>0.99</td>\n",
       "      <td>0.99</td>\n",
       "      <td>0.0</td>\n",
       "      <td>0</td>\n",
       "      <td>0</td>\n",
       "      <td>0</td>\n",
       "      <td>0</td>\n",
       "      <td>1</td>\n",
       "      <td>0</td>\n",
       "    </tr>\n",
       "    <tr>\n",
       "      <th>1043696</th>\n",
       "      <td>0</td>\n",
       "      <td>2.0</td>\n",
       "      <td>30.0</td>\n",
       "      <td>0.0</td>\n",
       "      <td>0.0</td>\n",
       "      <td>0.0</td>\n",
       "      <td>0.0</td>\n",
       "      <td>0.0</td>\n",
       "      <td>0.0</td>\n",
       "      <td>0.0</td>\n",
       "      <td>...</td>\n",
       "      <td>0.0</td>\n",
       "      <td>-99.00</td>\n",
       "      <td>-99.00</td>\n",
       "      <td>0.0</td>\n",
       "      <td>0</td>\n",
       "      <td>1</td>\n",
       "      <td>0</td>\n",
       "      <td>0</td>\n",
       "      <td>1</td>\n",
       "      <td>0</td>\n",
       "    </tr>\n",
       "    <tr>\n",
       "      <th>1043852</th>\n",
       "      <td>0</td>\n",
       "      <td>7.0</td>\n",
       "      <td>8.0</td>\n",
       "      <td>0.0</td>\n",
       "      <td>0.0</td>\n",
       "      <td>0.0</td>\n",
       "      <td>0.0</td>\n",
       "      <td>0.0</td>\n",
       "      <td>0.0</td>\n",
       "      <td>0.0</td>\n",
       "      <td>...</td>\n",
       "      <td>0.0</td>\n",
       "      <td>0.10</td>\n",
       "      <td>0.13</td>\n",
       "      <td>0.0</td>\n",
       "      <td>0</td>\n",
       "      <td>0</td>\n",
       "      <td>0</td>\n",
       "      <td>0</td>\n",
       "      <td>1</td>\n",
       "      <td>0</td>\n",
       "    </tr>\n",
       "    <tr>\n",
       "      <th>1044048</th>\n",
       "      <td>0</td>\n",
       "      <td>8.0</td>\n",
       "      <td>8.0</td>\n",
       "      <td>0.0</td>\n",
       "      <td>0.0</td>\n",
       "      <td>0.0</td>\n",
       "      <td>0.0</td>\n",
       "      <td>0.0</td>\n",
       "      <td>0.0</td>\n",
       "      <td>0.0</td>\n",
       "      <td>...</td>\n",
       "      <td>0.0</td>\n",
       "      <td>-99.00</td>\n",
       "      <td>-99.00</td>\n",
       "      <td>0.0</td>\n",
       "      <td>0</td>\n",
       "      <td>1</td>\n",
       "      <td>0</td>\n",
       "      <td>0</td>\n",
       "      <td>1</td>\n",
       "      <td>0</td>\n",
       "    </tr>\n",
       "    <tr>\n",
       "      <th>...</th>\n",
       "      <td>...</td>\n",
       "      <td>...</td>\n",
       "      <td>...</td>\n",
       "      <td>...</td>\n",
       "      <td>...</td>\n",
       "      <td>...</td>\n",
       "      <td>...</td>\n",
       "      <td>...</td>\n",
       "      <td>...</td>\n",
       "      <td>...</td>\n",
       "      <td>...</td>\n",
       "      <td>...</td>\n",
       "      <td>...</td>\n",
       "      <td>...</td>\n",
       "      <td>...</td>\n",
       "      <td>...</td>\n",
       "      <td>...</td>\n",
       "      <td>...</td>\n",
       "      <td>...</td>\n",
       "      <td>...</td>\n",
       "      <td>...</td>\n",
       "    </tr>\n",
       "    <tr>\n",
       "      <th>1407754</th>\n",
       "      <td>0</td>\n",
       "      <td>0.0</td>\n",
       "      <td>2.0</td>\n",
       "      <td>0.0</td>\n",
       "      <td>10.0</td>\n",
       "      <td>10.0</td>\n",
       "      <td>10.0</td>\n",
       "      <td>0.0</td>\n",
       "      <td>5.0</td>\n",
       "      <td>7.0</td>\n",
       "      <td>...</td>\n",
       "      <td>0.0</td>\n",
       "      <td>0.69</td>\n",
       "      <td>0.69</td>\n",
       "      <td>5.0</td>\n",
       "      <td>0</td>\n",
       "      <td>1</td>\n",
       "      <td>0</td>\n",
       "      <td>0</td>\n",
       "      <td>1</td>\n",
       "      <td>0</td>\n",
       "    </tr>\n",
       "    <tr>\n",
       "      <th>1373987</th>\n",
       "      <td>0</td>\n",
       "      <td>-1.0</td>\n",
       "      <td>8.0</td>\n",
       "      <td>0.0</td>\n",
       "      <td>5.0</td>\n",
       "      <td>7.0</td>\n",
       "      <td>9.0</td>\n",
       "      <td>1.0</td>\n",
       "      <td>3.0</td>\n",
       "      <td>3.0</td>\n",
       "      <td>...</td>\n",
       "      <td>0.0</td>\n",
       "      <td>-99.00</td>\n",
       "      <td>-99.00</td>\n",
       "      <td>1.0</td>\n",
       "      <td>0</td>\n",
       "      <td>0</td>\n",
       "      <td>0</td>\n",
       "      <td>0</td>\n",
       "      <td>1</td>\n",
       "      <td>0</td>\n",
       "    </tr>\n",
       "    <tr>\n",
       "      <th>1524346</th>\n",
       "      <td>1</td>\n",
       "      <td>-1.0</td>\n",
       "      <td>9.0</td>\n",
       "      <td>0.0</td>\n",
       "      <td>7.0</td>\n",
       "      <td>9.0</td>\n",
       "      <td>11.0</td>\n",
       "      <td>0.0</td>\n",
       "      <td>8.0</td>\n",
       "      <td>11.0</td>\n",
       "      <td>...</td>\n",
       "      <td>0.0</td>\n",
       "      <td>0.86</td>\n",
       "      <td>0.84</td>\n",
       "      <td>1.0</td>\n",
       "      <td>0</td>\n",
       "      <td>1</td>\n",
       "      <td>0</td>\n",
       "      <td>0</td>\n",
       "      <td>0</td>\n",
       "      <td>0</td>\n",
       "    </tr>\n",
       "    <tr>\n",
       "      <th>1439563</th>\n",
       "      <td>0</td>\n",
       "      <td>62.0</td>\n",
       "      <td>9.0</td>\n",
       "      <td>16.0</td>\n",
       "      <td>39.0</td>\n",
       "      <td>87.0</td>\n",
       "      <td>126.0</td>\n",
       "      <td>35.0</td>\n",
       "      <td>63.0</td>\n",
       "      <td>153.0</td>\n",
       "      <td>...</td>\n",
       "      <td>0.0</td>\n",
       "      <td>0.86</td>\n",
       "      <td>0.84</td>\n",
       "      <td>6.0</td>\n",
       "      <td>0</td>\n",
       "      <td>0</td>\n",
       "      <td>0</td>\n",
       "      <td>0</td>\n",
       "      <td>1</td>\n",
       "      <td>0</td>\n",
       "    </tr>\n",
       "    <tr>\n",
       "      <th>1502009</th>\n",
       "      <td>0</td>\n",
       "      <td>19.0</td>\n",
       "      <td>4.0</td>\n",
       "      <td>0.0</td>\n",
       "      <td>0.0</td>\n",
       "      <td>0.0</td>\n",
       "      <td>0.0</td>\n",
       "      <td>2.0</td>\n",
       "      <td>7.0</td>\n",
       "      <td>12.0</td>\n",
       "      <td>...</td>\n",
       "      <td>0.0</td>\n",
       "      <td>0.73</td>\n",
       "      <td>0.78</td>\n",
       "      <td>1.0</td>\n",
       "      <td>0</td>\n",
       "      <td>0</td>\n",
       "      <td>0</td>\n",
       "      <td>0</td>\n",
       "      <td>1</td>\n",
       "      <td>0</td>\n",
       "    </tr>\n",
       "  </tbody>\n",
       "</table>\n",
       "<p>1686252 rows × 22 columns</p>\n",
       "</div>"
      ],
      "text/plain": [
       "         went_on_backorder  national_inv  lead_time  in_transit_qty  \\\n",
       "sku                                                                   \n",
       "1026827                  0           0.0        5.0             0.0   \n",
       "1043384                  0           2.0        9.0             0.0   \n",
       "1043696                  0           2.0       30.0             0.0   \n",
       "1043852                  0           7.0        8.0             0.0   \n",
       "1044048                  0           8.0        8.0             0.0   \n",
       "...                    ...           ...        ...             ...   \n",
       "1407754                  0           0.0        2.0             0.0   \n",
       "1373987                  0          -1.0        8.0             0.0   \n",
       "1524346                  1          -1.0        9.0             0.0   \n",
       "1439563                  0          62.0        9.0            16.0   \n",
       "1502009                  0          19.0        4.0             0.0   \n",
       "\n",
       "         forecast_3_month  forecast_6_month  forecast_9_month  sales_1_month  \\\n",
       "sku                                                                            \n",
       "1026827               0.0               0.0               0.0            0.0   \n",
       "1043384               0.0               0.0               0.0            0.0   \n",
       "1043696               0.0               0.0               0.0            0.0   \n",
       "1043852               0.0               0.0               0.0            0.0   \n",
       "1044048               0.0               0.0               0.0            0.0   \n",
       "...                   ...               ...               ...            ...   \n",
       "1407754              10.0              10.0              10.0            0.0   \n",
       "1373987               5.0               7.0               9.0            1.0   \n",
       "1524346               7.0               9.0              11.0            0.0   \n",
       "1439563              39.0              87.0             126.0           35.0   \n",
       "1502009               0.0               0.0               0.0            2.0   \n",
       "\n",
       "         sales_3_month  sales_6_month  ...  pieces_past_due  perf_6_month_avg  \\\n",
       "sku                                    ...                                      \n",
       "1026827            0.0            0.0  ...              0.0            -99.00   \n",
       "1043384            0.0            0.0  ...              0.0              0.99   \n",
       "1043696            0.0            0.0  ...              0.0            -99.00   \n",
       "1043852            0.0            0.0  ...              0.0              0.10   \n",
       "1044048            0.0            0.0  ...              0.0            -99.00   \n",
       "...                ...            ...  ...              ...               ...   \n",
       "1407754            5.0            7.0  ...              0.0              0.69   \n",
       "1373987            3.0            3.0  ...              0.0            -99.00   \n",
       "1524346            8.0           11.0  ...              0.0              0.86   \n",
       "1439563           63.0          153.0  ...              0.0              0.86   \n",
       "1502009            7.0           12.0  ...              0.0              0.73   \n",
       "\n",
       "         perf_12_month_avg  local_bo_qty  potential_issue_Yes  deck_risk_Yes  \\\n",
       "sku                                                                            \n",
       "1026827             -99.00           0.0                    0              0   \n",
       "1043384               0.99           0.0                    0              0   \n",
       "1043696             -99.00           0.0                    0              1   \n",
       "1043852               0.13           0.0                    0              0   \n",
       "1044048             -99.00           0.0                    0              1   \n",
       "...                    ...           ...                  ...            ...   \n",
       "1407754               0.69           5.0                    0              1   \n",
       "1373987             -99.00           1.0                    0              0   \n",
       "1524346               0.84           1.0                    0              1   \n",
       "1439563               0.84           6.0                    0              0   \n",
       "1502009               0.78           1.0                    0              0   \n",
       "\n",
       "         oe_constraint_Yes  ppap_risk_Yes  stop_auto_buy_Yes  rev_stop_Yes  \n",
       "sku                                                                         \n",
       "1026827                  0              0                  1             0  \n",
       "1043384                  0              0                  1             0  \n",
       "1043696                  0              0                  1             0  \n",
       "1043852                  0              0                  1             0  \n",
       "1044048                  0              0                  1             0  \n",
       "...                    ...            ...                ...           ...  \n",
       "1407754                  0              0                  1             0  \n",
       "1373987                  0              0                  1             0  \n",
       "1524346                  0              0                  0             0  \n",
       "1439563                  0              0                  1             0  \n",
       "1502009                  0              0                  1             0  \n",
       "\n",
       "[1686252 rows x 22 columns]"
      ]
     },
     "execution_count": 20,
     "metadata": {},
     "output_type": "execute_result"
    }
   ],
   "source": [
    "train"
   ]
  },
  {
   "cell_type": "markdown",
   "id": "1871fce3",
   "metadata": {},
   "source": [
    "### Filling in the missing values"
   ]
  },
  {
   "cell_type": "code",
   "execution_count": 36,
   "id": "3f536197",
   "metadata": {},
   "outputs": [],
   "source": [
    "#train[['perf_6_month_avg','perf_12_month_avg']] = train[['perf_6_month_avg','perf_12_month_avg']].replace(-99,np.nan)"
   ]
  },
  {
   "cell_type": "code",
   "execution_count": null,
   "id": "e1e8f545",
   "metadata": {
    "scrolled": true
   },
   "outputs": [],
   "source": [
    "#nulls = train.select_dtypes(include='number')\n",
    "\n",
    "#imputer = KNNImputer(n_neighbors=2, weights=\"uniform\").fit(nulls)\n",
    "#imputed_matrix = imputer.transform(nulls)\n",
    "\n",
    "#data_cleaned = pd.DataFrame(data=imputed_matrix, columns=nulls.columns, index=nulls.index)"
   ]
  },
  {
   "cell_type": "code",
   "execution_count": 39,
   "id": "9cf3a81a",
   "metadata": {},
   "outputs": [
    {
     "data": {
      "text/plain": [
       "went_on_backorder      0\n",
       "national_inv           0\n",
       "lead_time              0\n",
       "in_transit_qty         0\n",
       "forecast_3_month       0\n",
       "forecast_6_month       0\n",
       "forecast_9_month       0\n",
       "sales_1_month          0\n",
       "sales_3_month          0\n",
       "sales_6_month          0\n",
       "sales_9_month          0\n",
       "min_bank               0\n",
       "pieces_past_due        0\n",
       "perf_6_month_avg       0\n",
       "perf_12_month_avg      0\n",
       "local_bo_qty           0\n",
       "potential_issue_Yes    0\n",
       "deck_risk_Yes          0\n",
       "oe_constraint_Yes      0\n",
       "ppap_risk_Yes          0\n",
       "stop_auto_buy_Yes      0\n",
       "rev_stop_Yes           0\n",
       "dtype: int64"
      ]
     },
     "execution_count": 39,
     "metadata": {},
     "output_type": "execute_result"
    }
   ],
   "source": [
    "#train[nulls.columns] = data_cleaned\n",
    "\n",
    "#train.isna().sum()"
   ]
  },
  {
   "cell_type": "code",
   "execution_count": 40,
   "id": "f9420e43",
   "metadata": {},
   "outputs": [],
   "source": [
    "#train.to_csv('train_cleaned_final.csv')"
   ]
  },
  {
   "cell_type": "code",
   "execution_count": 257,
   "id": "b096594d",
   "metadata": {},
   "outputs": [],
   "source": [
    "train = pd.read_csv('train_cleaned_final.csv')"
   ]
  },
  {
   "cell_type": "markdown",
   "id": "9effece2",
   "metadata": {},
   "source": [
    "### Standardize the dataset"
   ]
  },
  {
   "cell_type": "code",
   "execution_count": 258,
   "id": "f2717a27",
   "metadata": {},
   "outputs": [],
   "source": [
    "feats = ['national_inv', 'lead_time','perf_6_month_avg', 'perf_12_month_avg']"
   ]
  },
  {
   "cell_type": "code",
   "execution_count": 259,
   "id": "62f58b11",
   "metadata": {},
   "outputs": [],
   "source": [
    "scaler = StandardScaler().fit(train[feats])"
   ]
  },
  {
   "cell_type": "code",
   "execution_count": 260,
   "id": "41f78499",
   "metadata": {},
   "outputs": [],
   "source": [
    "train[feats] = scaler.transform(train[feats])"
   ]
  },
  {
   "cell_type": "code",
   "execution_count": 261,
   "id": "9b19a096",
   "metadata": {},
   "outputs": [
    {
     "data": {
      "text/html": [
       "<div>\n",
       "<style scoped>\n",
       "    .dataframe tbody tr th:only-of-type {\n",
       "        vertical-align: middle;\n",
       "    }\n",
       "\n",
       "    .dataframe tbody tr th {\n",
       "        vertical-align: top;\n",
       "    }\n",
       "\n",
       "    .dataframe thead th {\n",
       "        text-align: right;\n",
       "    }\n",
       "</style>\n",
       "<table border=\"1\" class=\"dataframe\">\n",
       "  <thead>\n",
       "    <tr style=\"text-align: right;\">\n",
       "      <th></th>\n",
       "      <th>sku</th>\n",
       "      <th>went_on_backorder</th>\n",
       "      <th>national_inv</th>\n",
       "      <th>lead_time</th>\n",
       "      <th>in_transit_qty</th>\n",
       "      <th>forecast_3_month</th>\n",
       "      <th>forecast_6_month</th>\n",
       "      <th>forecast_9_month</th>\n",
       "      <th>sales_1_month</th>\n",
       "      <th>sales_3_month</th>\n",
       "      <th>...</th>\n",
       "      <th>pieces_past_due</th>\n",
       "      <th>perf_6_month_avg</th>\n",
       "      <th>perf_12_month_avg</th>\n",
       "      <th>local_bo_qty</th>\n",
       "      <th>potential_issue_Yes</th>\n",
       "      <th>deck_risk_Yes</th>\n",
       "      <th>oe_constraint_Yes</th>\n",
       "      <th>ppap_risk_Yes</th>\n",
       "      <th>stop_auto_buy_Yes</th>\n",
       "      <th>rev_stop_Yes</th>\n",
       "    </tr>\n",
       "  </thead>\n",
       "  <tbody>\n",
       "    <tr>\n",
       "      <th>0</th>\n",
       "      <td>1026827</td>\n",
       "      <td>0.0</td>\n",
       "      <td>-0.017284</td>\n",
       "      <td>-0.409011</td>\n",
       "      <td>0.0</td>\n",
       "      <td>0.0</td>\n",
       "      <td>0.0</td>\n",
       "      <td>0.0</td>\n",
       "      <td>0.0</td>\n",
       "      <td>0.0</td>\n",
       "      <td>...</td>\n",
       "      <td>0.0</td>\n",
       "      <td>0.267589</td>\n",
       "      <td>0.274656</td>\n",
       "      <td>0.0</td>\n",
       "      <td>0.0</td>\n",
       "      <td>0.0</td>\n",
       "      <td>0.0</td>\n",
       "      <td>0.0</td>\n",
       "      <td>1.0</td>\n",
       "      <td>0.0</td>\n",
       "    </tr>\n",
       "    <tr>\n",
       "      <th>1</th>\n",
       "      <td>1043384</td>\n",
       "      <td>0.0</td>\n",
       "      <td>-0.017213</td>\n",
       "      <td>0.083770</td>\n",
       "      <td>0.0</td>\n",
       "      <td>0.0</td>\n",
       "      <td>0.0</td>\n",
       "      <td>0.0</td>\n",
       "      <td>0.0</td>\n",
       "      <td>0.0</td>\n",
       "      <td>...</td>\n",
       "      <td>0.0</td>\n",
       "      <td>0.878655</td>\n",
       "      <td>0.926535</td>\n",
       "      <td>0.0</td>\n",
       "      <td>0.0</td>\n",
       "      <td>0.0</td>\n",
       "      <td>0.0</td>\n",
       "      <td>0.0</td>\n",
       "      <td>1.0</td>\n",
       "      <td>0.0</td>\n",
       "    </tr>\n",
       "    <tr>\n",
       "      <th>2</th>\n",
       "      <td>1043696</td>\n",
       "      <td>0.0</td>\n",
       "      <td>-0.017213</td>\n",
       "      <td>2.670873</td>\n",
       "      <td>0.0</td>\n",
       "      <td>0.0</td>\n",
       "      <td>0.0</td>\n",
       "      <td>0.0</td>\n",
       "      <td>0.0</td>\n",
       "      <td>0.0</td>\n",
       "      <td>...</td>\n",
       "      <td>0.0</td>\n",
       "      <td>0.204375</td>\n",
       "      <td>0.535408</td>\n",
       "      <td>0.0</td>\n",
       "      <td>0.0</td>\n",
       "      <td>1.0</td>\n",
       "      <td>0.0</td>\n",
       "      <td>0.0</td>\n",
       "      <td>1.0</td>\n",
       "      <td>0.0</td>\n",
       "    </tr>\n",
       "    <tr>\n",
       "      <th>3</th>\n",
       "      <td>1043852</td>\n",
       "      <td>0.0</td>\n",
       "      <td>-0.017035</td>\n",
       "      <td>-0.039425</td>\n",
       "      <td>0.0</td>\n",
       "      <td>0.0</td>\n",
       "      <td>0.0</td>\n",
       "      <td>0.0</td>\n",
       "      <td>0.0</td>\n",
       "      <td>0.0</td>\n",
       "      <td>...</td>\n",
       "      <td>0.0</td>\n",
       "      <td>-2.872023</td>\n",
       "      <td>-2.810902</td>\n",
       "      <td>0.0</td>\n",
       "      <td>0.0</td>\n",
       "      <td>0.0</td>\n",
       "      <td>0.0</td>\n",
       "      <td>0.0</td>\n",
       "      <td>1.0</td>\n",
       "      <td>0.0</td>\n",
       "    </tr>\n",
       "    <tr>\n",
       "      <th>4</th>\n",
       "      <td>1044048</td>\n",
       "      <td>0.0</td>\n",
       "      <td>-0.016999</td>\n",
       "      <td>-0.039425</td>\n",
       "      <td>0.0</td>\n",
       "      <td>0.0</td>\n",
       "      <td>0.0</td>\n",
       "      <td>0.0</td>\n",
       "      <td>0.0</td>\n",
       "      <td>0.0</td>\n",
       "      <td>...</td>\n",
       "      <td>0.0</td>\n",
       "      <td>0.857583</td>\n",
       "      <td>0.904806</td>\n",
       "      <td>0.0</td>\n",
       "      <td>0.0</td>\n",
       "      <td>1.0</td>\n",
       "      <td>0.0</td>\n",
       "      <td>0.0</td>\n",
       "      <td>1.0</td>\n",
       "      <td>0.0</td>\n",
       "    </tr>\n",
       "  </tbody>\n",
       "</table>\n",
       "<p>5 rows × 23 columns</p>\n",
       "</div>"
      ],
      "text/plain": [
       "       sku  went_on_backorder  national_inv  lead_time  in_transit_qty  \\\n",
       "0  1026827                0.0     -0.017284  -0.409011             0.0   \n",
       "1  1043384                0.0     -0.017213   0.083770             0.0   \n",
       "2  1043696                0.0     -0.017213   2.670873             0.0   \n",
       "3  1043852                0.0     -0.017035  -0.039425             0.0   \n",
       "4  1044048                0.0     -0.016999  -0.039425             0.0   \n",
       "\n",
       "   forecast_3_month  forecast_6_month  forecast_9_month  sales_1_month  \\\n",
       "0               0.0               0.0               0.0            0.0   \n",
       "1               0.0               0.0               0.0            0.0   \n",
       "2               0.0               0.0               0.0            0.0   \n",
       "3               0.0               0.0               0.0            0.0   \n",
       "4               0.0               0.0               0.0            0.0   \n",
       "\n",
       "   sales_3_month  ...  pieces_past_due  perf_6_month_avg  perf_12_month_avg  \\\n",
       "0            0.0  ...              0.0          0.267589           0.274656   \n",
       "1            0.0  ...              0.0          0.878655           0.926535   \n",
       "2            0.0  ...              0.0          0.204375           0.535408   \n",
       "3            0.0  ...              0.0         -2.872023          -2.810902   \n",
       "4            0.0  ...              0.0          0.857583           0.904806   \n",
       "\n",
       "   local_bo_qty  potential_issue_Yes  deck_risk_Yes  oe_constraint_Yes  \\\n",
       "0           0.0                  0.0            0.0                0.0   \n",
       "1           0.0                  0.0            0.0                0.0   \n",
       "2           0.0                  0.0            1.0                0.0   \n",
       "3           0.0                  0.0            0.0                0.0   \n",
       "4           0.0                  0.0            1.0                0.0   \n",
       "\n",
       "   ppap_risk_Yes  stop_auto_buy_Yes  rev_stop_Yes  \n",
       "0            0.0                1.0           0.0  \n",
       "1            0.0                1.0           0.0  \n",
       "2            0.0                1.0           0.0  \n",
       "3            0.0                1.0           0.0  \n",
       "4            0.0                1.0           0.0  \n",
       "\n",
       "[5 rows x 23 columns]"
      ]
     },
     "execution_count": 261,
     "metadata": {},
     "output_type": "execute_result"
    }
   ],
   "source": [
    "train.head(5)"
   ]
  },
  {
   "cell_type": "markdown",
   "id": "25afdd11",
   "metadata": {},
   "source": [
    "[Back to the start](#toc)\n",
    "\n",
    "## Feature Engineering <a class=\"anchor\" id=\"chapter3\"></a>"
   ]
  },
  {
   "cell_type": "markdown",
   "id": "16c61a2d",
   "metadata": {},
   "source": [
    "### Correlations"
   ]
  },
  {
   "cell_type": "markdown",
   "id": "3994ee96",
   "metadata": {},
   "source": [
    "**Pearson**"
   ]
  },
  {
   "cell_type": "code",
   "execution_count": null,
   "id": "42fd9cd2",
   "metadata": {},
   "outputs": [],
   "source": [
    "# Compute the correlation matrix - Pearson\n",
    "corr = train.corr(method='pearson')\n",
    "\n",
    "# Generate a mask for the upper triangle\n",
    "mask = np.triu(np.ones_like(corr, dtype=bool))\n",
    "\n",
    "# Set up the matplotlib figure\n",
    "f, ax = plt.subplots(figsize=(11, 9))\n",
    "\n",
    "# Generate a custom diverging colormap\n",
    "#cmap = sns.diverging_palette(240, 10, as_cmap=True)\n",
    "\n",
    "# Draw the heatmap with the mask and correct aspect ratio\n",
    "sns.heatmap(corr, mask = mask,cmap = 'YlGnBu', vmax = 1, vmin=-1, center = 0,\n",
    "            square = True, annot = True, linewidths = .5, cbar_kws = {\"shrink\": .5})\n",
    "pyplot.title('Pearson Correlation')\n",
    "pyplot.show()"
   ]
  },
  {
   "cell_type": "markdown",
   "id": "70294ccf",
   "metadata": {},
   "source": [
    "**Spearman**"
   ]
  },
  {
   "cell_type": "code",
   "execution_count": null,
   "id": "35d7497f",
   "metadata": {},
   "outputs": [],
   "source": [
    "# Compute the correlation matrix - Spearman\n",
    "corr = train.corr(method='spearman')\n",
    "\n",
    "# Generate a mask for the upper triangle\n",
    "mask = np.triu(np.ones_like(corr, dtype=bool))\n",
    "\n",
    "# Set up the matplotlib figure\n",
    "f, ax = plt.subplots(figsize=(11, 9))\n",
    "\n",
    "# Generate a custom diverging colormap\n",
    "#cmap = sns.diverging_palette(240, 10, as_cmap=True)\n",
    "\n",
    "# Draw the heatmap with the mask and correct aspect ratio\n",
    "sns.heatmap(corr, mask = mask,cmap = 'YlGnBu', vmax = 1, vmin=-1, center = 0,\n",
    "            square = True, annot = True, linewidths = .5, cbar_kws = {\"shrink\": .5})\n",
    "pyplot.title('Spearman Correlation')\n",
    "pyplot.show()"
   ]
  },
  {
   "cell_type": "code",
   "execution_count": null,
   "id": "0fd47be5",
   "metadata": {},
   "outputs": [],
   "source": [
    "corr_pairs = corr.unstack().sort_values(kind=\"quicksort\")\n",
    "abs(corr_pairs)[abs(corr_pairs).between(.65,.9999)]"
   ]
  },
  {
   "cell_type": "markdown",
   "id": "c2905579",
   "metadata": {},
   "source": [
    "In_transit_qty, forecast_3_month, forecast_6_month, forecast_9_month, sales_1_month, sales_3_month, sales_6_month, sales_9_month and min_bank are highly correlated with each other. Among them, forecast_3_month, forecast_6_month and forecast_9_month are more correlated with each other compared to the rest. Similarly, sales_1_month, sales_3_month, sales_6_month and sales_9_month are more correlated with each other than any other feature. We also see that perf_6_month_avg and perf_12_month_avg are highly correlated with each other."
   ]
  },
  {
   "cell_type": "markdown",
   "id": "23b00c02",
   "metadata": {},
   "source": [
    "**Kolmogorov–Smirnov test for numerical features**"
   ]
  },
  {
   "cell_type": "code",
   "execution_count": null,
   "id": "66132590",
   "metadata": {},
   "outputs": [],
   "source": [
    "numerical_feats = ['national_inv', 'lead_time', 'in_transit_qty',\n",
    "       'forecast_3_month', 'forecast_6_month', 'forecast_9_month',\n",
    "       'sales_1_month', 'sales_3_month', 'sales_6_month', 'sales_9_month',\n",
    "       'min_bank', 'pieces_past_due', 'perf_6_month_avg', 'perf_12_month_avg',\n",
    "       'local_bo_qty']"
   ]
  },
  {
   "cell_type": "code",
   "execution_count": null,
   "id": "2b229b0b",
   "metadata": {},
   "outputs": [],
   "source": [
    "#ks_2samp(pd.DataFrame(train['went_on_backorder']),train[numerical_feats]) #not working, try to figure the issue"
   ]
  },
  {
   "cell_type": "markdown",
   "id": "a68c6a47",
   "metadata": {},
   "source": [
    "**Stochastic/Probability Matrix for categorical features**"
   ]
  },
  {
   "cell_type": "code",
   "execution_count": null,
   "id": "dd8e6ea1",
   "metadata": {},
   "outputs": [],
   "source": [
    "train.columns"
   ]
  },
  {
   "cell_type": "code",
   "execution_count": null,
   "id": "7cccacd2",
   "metadata": {},
   "outputs": [],
   "source": [
    "categorical_feats = ['potential_issue_Yes', 'deck_risk_Yes',\n",
    "       'oe_constraint_Yes', 'ppap_risk_Yes', 'stop_auto_buy_Yes',\n",
    "       'rev_stop_Yes']"
   ]
  },
  {
   "cell_type": "code",
   "execution_count": null,
   "id": "8f21d6dc",
   "metadata": {},
   "outputs": [],
   "source": [
    "for i in categorical_feats: \n",
    "    cat_vs_went_on_backorder = train.loc[:, [i, 'went_on_backorder']]\n",
    "    x = np.array(cat_vs_went_on_backorder)\n",
    "\n",
    "    cat_matrix = np.array([[x[np.where((x[:,0] == 0) * (x[:,1] == 0))].shape[0] / len(x), \n",
    "                                                    x[np.where((x[:,0] == 0) * (x[:,1] == 1))].shape[0] / len(x)],\n",
    "                                                   [x[np.where((x[:,0] == 1) * (x[:,1] == 0))].shape[0] / len(x), \n",
    "                                                    x[np.where((x[:,0] == 1) * (x[:,1] == 1))].shape[0] / len(x)]])\n",
    "\n",
    "    cat_matrix_df = pd.DataFrame(cat_matrix, columns=['No', 'Yes'], index=['No', 'Yes'])\n",
    "    print(cat_matrix_df)"
   ]
  },
  {
   "cell_type": "markdown",
   "id": "75b011cd",
   "metadata": {},
   "source": [
    "### PCA"
   ]
  },
  {
   "cell_type": "code",
   "execution_count": null,
   "id": "ca79eb07",
   "metadata": {},
   "outputs": [],
   "source": [
    "x_train = train.drop('went_on_backorder', axis=1)\n",
    "y_train = train['went_on_backorder']\n",
    "\n",
    "standard_scalar = StandardScaler()\n",
    "std_x_train = standard_scalar.fit_transform(x_train)\n",
    "\n",
    "model = PCA(n_components=2, random_state=42)\n",
    "pca_data = model.fit_transform(std_x_train)\n",
    "pca_data = np.vstack((pca_data.T, y_train)).T\n",
    "pca_df = pd.DataFrame(data=pca_data, columns=(\"pc1\", \"pc2\", \"went_on_backorder\"))\n",
    "\n",
    "sns.FacetGrid(pca_df, hue='went_on_backorder', height=10).map(plt.scatter, 'pc1', 'pc2').add_legend()\n",
    "plt.title(\"PCA\")\n",
    "plt.show()"
   ]
  },
  {
   "cell_type": "markdown",
   "id": "293d9c30",
   "metadata": {},
   "source": [
    "[Back to the start](#toc)\n",
    "\n",
    "## Feature Selection <a class=\"anchor\" id=\"chapter4\"></a>"
   ]
  },
  {
   "cell_type": "markdown",
   "id": "7644bad3",
   "metadata": {},
   "source": [
    "### PCA + SVD"
   ]
  },
  {
   "cell_type": "code",
   "execution_count": 262,
   "id": "18de8011",
   "metadata": {},
   "outputs": [],
   "source": [
    "pca=PCA(n_components=2)\n",
    "train_pca=pca.fit_transform(train)\n",
    "train_pca = \n",
    "cv_pca=pca.transform(train)\n",
    "test_pca=pca.transform(train)\n",
    "for i in range(2): #for adding the feature to df\n",
    "    train['PCA'+str(i)]=train_pca[:,i]\n",
    "    train['PCA'+str(i)]=test_pca[:,i]\n",
    "    train['PCA'+str(i)]=cv_pca[:,i]"
   ]
  },
  {
   "cell_type": "code",
   "execution_count": 263,
   "id": "b5988579",
   "metadata": {},
   "outputs": [],
   "source": [
    "from sklearn.decomposition import TruncatedSVD\n",
    "\n",
    "svd = TruncatedSVD(n_components=2)\n",
    "train_svd=svd.fit_transform(train)\n",
    "cv_svd=svd.transform(train)\n",
    "test_svd=svd.transform(train)\n",
    "for i in range(2): #for adding the feature to df\n",
    "    train['SVD'+str(i)]=train_svd[:,i]\n",
    "    train['SVD'+str(i)]=test_svd[:,i]\n",
    "    train['SVD'+str(i)]=cv_svd[:,i]"
   ]
  },
  {
   "cell_type": "markdown",
   "id": "f07c41df",
   "metadata": {},
   "source": [
    "[Back to the start](#toc)\n",
    "\n",
    "## Train Test Split <a class=\"anchor\" id=\"chapter7\"></a>"
   ]
  },
  {
   "cell_type": "code",
   "execution_count": 264,
   "id": "47e76a42",
   "metadata": {},
   "outputs": [],
   "source": [
    "X = train.drop('went_on_backorder', axis=1)\n",
    "y = train['went_on_backorder']"
   ]
  },
  {
   "cell_type": "code",
   "execution_count": 265,
   "id": "2b4bdcab",
   "metadata": {},
   "outputs": [],
   "source": [
    "# TRAIN (70%) & VALIDATION (30%) SPLIT\n",
    "X_train, X_val, y_train, y_val = train_test_split(X, y, test_size=0.3, random_state=15, stratify=y)"
   ]
  },
  {
   "cell_type": "code",
   "execution_count": 266,
   "id": "72687153",
   "metadata": {
    "scrolled": false
   },
   "outputs": [
    {
     "data": {
      "text/plain": [
       "0.0    1172528\n",
       "1.0       7848\n",
       "Name: went_on_backorder, dtype: int64"
      ]
     },
     "execution_count": 266,
     "metadata": {},
     "output_type": "execute_result"
    }
   ],
   "source": [
    "y_train.value_counts()"
   ]
  },
  {
   "cell_type": "code",
   "execution_count": 267,
   "id": "a36ec964",
   "metadata": {
    "scrolled": true
   },
   "outputs": [
    {
     "name": "stdout",
     "output_type": "stream",
     "text": [
      "(1180376, 26)\n",
      "(1180376,)\n"
     ]
    }
   ],
   "source": [
    "print(X_train.shape)\n",
    "print(y_train.shape)"
   ]
  },
  {
   "cell_type": "markdown",
   "id": "5599fa15",
   "metadata": {},
   "source": [
    "[Back to the start](#toc)\n",
    "\n",
    "## Balancing the dataset <a class=\"anchor\" id=\"chapter8\"></a>"
   ]
  },
  {
   "cell_type": "markdown",
   "id": "a4c6a991",
   "metadata": {},
   "source": [
    "https://machinelearningmastery.com/smote-oversampling-for-imbalanced-classification/ \n",
    "https://heartbeat.comet.ml/resampling-to-properly-handle-imbalanced-datasets-in-machine-learning-64d82c16ceaa"
   ]
  },
  {
   "cell_type": "markdown",
   "id": "d1e9b2ff",
   "metadata": {},
   "source": [
    "### SMOTE"
   ]
  },
  {
   "cell_type": "code",
   "execution_count": 268,
   "id": "9976ef0f",
   "metadata": {},
   "outputs": [],
   "source": [
    "from imblearn.over_sampling import SMOTE\n",
    "from collections import Counter"
   ]
  },
  {
   "cell_type": "code",
   "execution_count": 269,
   "id": "86a9085d",
   "metadata": {},
   "outputs": [],
   "source": [
    "oversample = SMOTE(sampling_strategy='minority')"
   ]
  },
  {
   "cell_type": "code",
   "execution_count": 270,
   "id": "aa58ffa4",
   "metadata": {},
   "outputs": [],
   "source": [
    "X_smote, y_smote = oversample.fit_resample(X_train, y_train)"
   ]
  },
  {
   "cell_type": "code",
   "execution_count": 272,
   "id": "110aea43",
   "metadata": {},
   "outputs": [
    {
     "name": "stdout",
     "output_type": "stream",
     "text": [
      "Counter({0.0: 1172528, 1.0: 1172528})\n"
     ]
    }
   ],
   "source": [
    "counter = Counter(y_smote)\n",
    "print(counter)"
   ]
  },
  {
   "cell_type": "markdown",
   "id": "109ca594",
   "metadata": {},
   "source": [
    "### ADASYN"
   ]
  },
  {
   "cell_type": "code",
   "execution_count": 274,
   "id": "38f1969d",
   "metadata": {},
   "outputs": [],
   "source": [
    "from imblearn.over_sampling import ADASYN\n",
    "\n",
    "# create the object to resample the majority class.\n",
    "adasyn = ADASYN(sampling_strategy=\"minority\")\n",
    "\n",
    "# fit the object to the training data.\n",
    "x_train_adasyn, y_train_adasyn = adasyn.fit_resample(X_train, y_train)"
   ]
  },
  {
   "cell_type": "code",
   "execution_count": 275,
   "id": "3142341f",
   "metadata": {
    "scrolled": false
   },
   "outputs": [
    {
     "name": "stdout",
     "output_type": "stream",
     "text": [
      "Counter({0.0: 1172528, 1.0: 1171262})\n"
     ]
    }
   ],
   "source": [
    "counter = Counter(y_train_adasyn)\n",
    "print(counter)"
   ]
  },
  {
   "cell_type": "markdown",
   "id": "de6341d4",
   "metadata": {},
   "source": [
    "### SMOTE + TomekLinks"
   ]
  },
  {
   "cell_type": "code",
   "execution_count": null,
   "id": "f1ced2d8",
   "metadata": {},
   "outputs": [],
   "source": [
    "from imblearn.combine import SMOTETomek\n",
    "#from imblearn.under_sampling import ClusterCentroids"
   ]
  },
  {
   "cell_type": "code",
   "execution_count": null,
   "id": "7709daaa",
   "metadata": {},
   "outputs": [],
   "source": [
    "smt = SMOTETomek(sampling_strategy='auto')\n",
    "X_train_tomek, y_train_tomek = smt.fit_resample(X_train, y_train)"
   ]
  },
  {
   "cell_type": "code",
   "execution_count": null,
   "id": "6c46b609",
   "metadata": {},
   "outputs": [],
   "source": [
    "#X_train_tomek, y_train_tomek = x_smote, y_smote"
   ]
  },
  {
   "cell_type": "code",
   "execution_count": null,
   "id": "56945ea6",
   "metadata": {},
   "outputs": [],
   "source": [
    "print(Counter(y_train_tomek))"
   ]
  },
  {
   "cell_type": "code",
   "execution_count": 283,
   "id": "5652db97",
   "metadata": {},
   "outputs": [],
   "source": [
    "X_tomek = pd.read_csv('train_tomek/x_train_tomek.csv')"
   ]
  },
  {
   "cell_type": "code",
   "execution_count": 284,
   "id": "6ae45606",
   "metadata": {},
   "outputs": [],
   "source": [
    "X_tomek.drop(columns = ['Unnamed: 0'],inplace = True)"
   ]
  },
  {
   "cell_type": "code",
   "execution_count": 285,
   "id": "4d9da376",
   "metadata": {},
   "outputs": [],
   "source": [
    "y_tomek = pd.read_csv('train_tomek/y_train_tomek.csv')"
   ]
  },
  {
   "cell_type": "code",
   "execution_count": 286,
   "id": "8541350f",
   "metadata": {},
   "outputs": [],
   "source": [
    "y_tomek.drop(columns = ['Unnamed: 0'],inplace = True)"
   ]
  },
  {
   "cell_type": "markdown",
   "id": "0c4413ca",
   "metadata": {},
   "source": [
    "[Back to the start](#toc)\n",
    "\n",
    "## Modelling <a class=\"anchor\" id=\"chapter5\"></a>"
   ]
  },
  {
   "cell_type": "markdown",
   "id": "fa6457e4",
   "metadata": {},
   "source": [
    "### K-Folds and Repeated K-folds  <a class=\"anchor\" id=\"chapter5.1\"></a>"
   ]
  },
  {
   "cell_type": "code",
   "execution_count": 287,
   "id": "8db2812b",
   "metadata": {},
   "outputs": [],
   "source": [
    "kf = KFold(n_splits=10)\n",
    "rkf = RepeatedKFold(n_splits=10, n_repeats=2) "
   ]
  },
  {
   "cell_type": "code",
   "execution_count": 288,
   "id": "21120e19",
   "metadata": {},
   "outputs": [
    {
     "name": "stdout",
     "output_type": "stream",
     "text": [
      "TRAIN: [ 168626  168627  168628 ... 1686249 1686250 1686251] TEST: [     0      1      2 ... 168623 168624 168625]\n",
      "TRAIN: [      0       1       2 ... 1686249 1686250 1686251] TEST: [168626 168627 168628 ... 337249 337250 337251]\n",
      "TRAIN: [      0       1       2 ... 1686249 1686250 1686251] TEST: [337252 337253 337254 ... 505874 505875 505876]\n",
      "TRAIN: [      0       1       2 ... 1686249 1686250 1686251] TEST: [505877 505878 505879 ... 674499 674500 674501]\n",
      "TRAIN: [      0       1       2 ... 1686249 1686250 1686251] TEST: [674502 674503 674504 ... 843124 843125 843126]\n",
      "TRAIN: [      0       1       2 ... 1686249 1686250 1686251] TEST: [ 843127  843128  843129 ... 1011749 1011750 1011751]\n",
      "TRAIN: [      0       1       2 ... 1686249 1686250 1686251] TEST: [1011752 1011753 1011754 ... 1180374 1180375 1180376]\n",
      "TRAIN: [      0       1       2 ... 1686249 1686250 1686251] TEST: [1180377 1180378 1180379 ... 1348999 1349000 1349001]\n",
      "TRAIN: [      0       1       2 ... 1686249 1686250 1686251] TEST: [1349002 1349003 1349004 ... 1517624 1517625 1517626]\n",
      "TRAIN: [      0       1       2 ... 1517624 1517625 1517626] TEST: [1517627 1517628 1517629 ... 1686249 1686250 1686251]\n"
     ]
    }
   ],
   "source": [
    "for train_index, test_index in kf.split(X):\n",
    "    print(\"TRAIN:\", train_index, \"TEST:\", test_index)"
   ]
  },
  {
   "cell_type": "code",
   "execution_count": 289,
   "id": "f788fc29",
   "metadata": {},
   "outputs": [
    {
     "name": "stdout",
     "output_type": "stream",
     "text": [
      "TRAIN: [      1       3       4 ... 1686249 1686250 1686251] TEST: [      0       2      16 ... 1686237 1686239 1686244]\n",
      "TRAIN: [      0       1       2 ... 1686248 1686249 1686250] TEST: [      4      13      32 ... 1686242 1686246 1686251]\n",
      "TRAIN: [      0       1       2 ... 1686249 1686250 1686251] TEST: [      6      12      23 ... 1686227 1686241 1686248]\n",
      "TRAIN: [      0       1       2 ... 1686249 1686250 1686251] TEST: [     17      33      55 ... 1686199 1686230 1686245]\n",
      "TRAIN: [      0       1       2 ... 1686249 1686250 1686251] TEST: [      5      14      21 ... 1686215 1686229 1686238]\n",
      "TRAIN: [      0       2       4 ... 1686249 1686250 1686251] TEST: [      1       3       7 ... 1686231 1686234 1686235]\n",
      "TRAIN: [      0       1       2 ... 1686249 1686250 1686251] TEST: [      8      15      29 ... 1686200 1686236 1686247]\n",
      "TRAIN: [      0       1       2 ... 1686248 1686249 1686251] TEST: [     19      20      25 ... 1686224 1686228 1686250]\n",
      "TRAIN: [      0       1       2 ... 1686249 1686250 1686251] TEST: [     10      24      38 ... 1686232 1686233 1686240]\n",
      "TRAIN: [      0       1       2 ... 1686248 1686250 1686251] TEST: [      9      18      27 ... 1686223 1686243 1686249]\n",
      "TRAIN: [      1       2       3 ... 1686249 1686250 1686251] TEST: [      0       6      10 ... 1686224 1686226 1686242]\n",
      "TRAIN: [      0       1       2 ... 1686249 1686250 1686251] TEST: [     24      86      87 ... 1686222 1686225 1686247]\n",
      "TRAIN: [      0       1       2 ... 1686249 1686250 1686251] TEST: [      5       8      20 ... 1686206 1686239 1686246]\n",
      "TRAIN: [      0       1       2 ... 1686249 1686250 1686251] TEST: [     12      16      47 ... 1686235 1686241 1686248]\n",
      "TRAIN: [      0       1       2 ... 1686248 1686249 1686251] TEST: [      3       7      23 ... 1686220 1686236 1686250]\n",
      "TRAIN: [      0       1       2 ... 1686248 1686249 1686250] TEST: [      4      30      35 ... 1686189 1686240 1686251]\n",
      "TRAIN: [      0       1       2 ... 1686249 1686250 1686251] TEST: [      9      19      26 ... 1686234 1686237 1686245]\n",
      "TRAIN: [      0       2       3 ... 1686249 1686250 1686251] TEST: [      1      13      29 ... 1686221 1686230 1686244]\n",
      "TRAIN: [      0       1       2 ... 1686248 1686250 1686251] TEST: [     14      21      22 ... 1686229 1686238 1686249]\n",
      "TRAIN: [      0       1       3 ... 1686249 1686250 1686251] TEST: [      2      11      17 ... 1686209 1686223 1686243]\n"
     ]
    }
   ],
   "source": [
    "for train_index, test_index in rkf.split(X):\n",
    "    print(\"TRAIN:\", train_index, \"TEST:\", test_index)"
   ]
  },
  {
   "cell_type": "markdown",
   "id": "96666a5a",
   "metadata": {},
   "source": [
    "### Important functions"
   ]
  },
  {
   "cell_type": "code",
   "execution_count": 290,
   "id": "4c9308d2",
   "metadata": {},
   "outputs": [],
   "source": [
    "from sklearn.metrics import confusion_matrix\n",
    "from sklearn.metrics import classification_report\n",
    "from sklearn.metrics import plot_confusion_matrix"
   ]
  },
  {
   "cell_type": "code",
   "execution_count": 291,
   "id": "496e0fbc",
   "metadata": {},
   "outputs": [],
   "source": [
    "def report(y_train, y_pred):\n",
    "    print('                                        Classification Report                                            ')\n",
    "    print('-------------------------------------------------------------------------------------------------------\\n')\n",
    "    print(classification_report(y_train, y_pred))\n",
    "    \n",
    "    print('\\n                                        Confusion Matrix                                               ')\n",
    "    print('-------------------------------------------------------------------------------------------------------\\n')\n",
    "    print(confusion_matrix(y_train,y_pred))\n",
    "    \n",
    "    print('\\n                                         Specificity                                                   ')\n",
    "    print('-------------------------------------------------------------------------------------------------------\\n')\n",
    "    print(confusion_matrix(y_train,y_pred)[1][1]/(confusion_matrix(y_train,y_pred)[1][1]+confusion_matrix(y_train,y_pred)[0][1]))"
   ]
  },
  {
   "cell_type": "markdown",
   "id": "b97474c2",
   "metadata": {},
   "source": [
    "### Logistic Regression  <a class=\"anchor\" id=\"chapter5.2\"></a>"
   ]
  },
  {
   "cell_type": "code",
   "execution_count": 292,
   "id": "defa854d",
   "metadata": {
    "scrolled": true
   },
   "outputs": [],
   "source": [
    "lr_model = LogisticRegression().fit(X_smote, y_smote)"
   ]
  },
  {
   "cell_type": "code",
   "execution_count": 293,
   "id": "b2722938",
   "metadata": {},
   "outputs": [],
   "source": [
    "y_pred = lr_model.predict(X_val)"
   ]
  },
  {
   "cell_type": "code",
   "execution_count": 294,
   "id": "47f6f6f1",
   "metadata": {
    "scrolled": true
   },
   "outputs": [],
   "source": [
    "#avg_score(kf,lr_model)"
   ]
  },
  {
   "cell_type": "code",
   "execution_count": 295,
   "id": "ef0c9db0",
   "metadata": {},
   "outputs": [],
   "source": [
    "lr = ('17.43+/-1.78', '0.993+/-0.0', '0.993+/-0.0')"
   ]
  },
  {
   "cell_type": "code",
   "execution_count": 296,
   "id": "d9e0daf3",
   "metadata": {
    "scrolled": true
   },
   "outputs": [
    {
     "name": "stdout",
     "output_type": "stream",
     "text": [
      "                                        Classification Report                                            \n",
      "-------------------------------------------------------------------------------------------------------\n",
      "\n",
      "              precision    recall  f1-score   support\n",
      "\n",
      "         0.0       1.00      0.52      0.69    502513\n",
      "         1.0       0.01      0.69      0.02      3363\n",
      "\n",
      "    accuracy                           0.53    505876\n",
      "   macro avg       0.50      0.61      0.35    505876\n",
      "weighted avg       0.99      0.53      0.68    505876\n",
      "\n",
      "\n",
      "                                        Confusion Matrix                                               \n",
      "-------------------------------------------------------------------------------------------------------\n",
      "\n",
      "[[263569 238944]\n",
      " [  1043   2320]]\n",
      "\n",
      "                                         Specificity                                                   \n",
      "-------------------------------------------------------------------------------------------------------\n",
      "\n",
      "0.009616022282644738\n"
     ]
    }
   ],
   "source": [
    "report(y_val,y_pred)"
   ]
  },
  {
   "cell_type": "code",
   "execution_count": 297,
   "id": "1675f1be",
   "metadata": {},
   "outputs": [],
   "source": [
    "lr_model = LogisticRegression().fit(x_train_adasyn, y_train_adasyn)"
   ]
  },
  {
   "cell_type": "code",
   "execution_count": 298,
   "id": "e3f25ea0",
   "metadata": {},
   "outputs": [],
   "source": [
    "y_pred = lr_model.predict(X_val)"
   ]
  },
  {
   "cell_type": "code",
   "execution_count": 299,
   "id": "f25b0d61",
   "metadata": {},
   "outputs": [
    {
     "name": "stdout",
     "output_type": "stream",
     "text": [
      "                                        Classification Report                                            \n",
      "-------------------------------------------------------------------------------------------------------\n",
      "\n",
      "              precision    recall  f1-score   support\n",
      "\n",
      "         0.0       1.00      0.53      0.70    502513\n",
      "         1.0       0.01      0.71      0.02      3363\n",
      "\n",
      "    accuracy                           0.54    505876\n",
      "   macro avg       0.50      0.62      0.36    505876\n",
      "weighted avg       0.99      0.54      0.69    505876\n",
      "\n",
      "\n",
      "                                        Confusion Matrix                                               \n",
      "-------------------------------------------------------------------------------------------------------\n",
      "\n",
      "[[268477 234036]\n",
      " [   988   2375]]\n",
      "\n",
      "                                         Specificity                                                   \n",
      "-------------------------------------------------------------------------------------------------------\n",
      "\n",
      "0.010046063846436925\n"
     ]
    }
   ],
   "source": [
    "report(y_val,y_pred)"
   ]
  },
  {
   "cell_type": "code",
   "execution_count": 300,
   "id": "23252254",
   "metadata": {
    "scrolled": true
   },
   "outputs": [
    {
     "name": "stderr",
     "output_type": "stream",
     "text": [
      "/opt/anaconda3/lib/python3.9/site-packages/sklearn/utils/validation.py:1111: DataConversionWarning: A column-vector y was passed when a 1d array was expected. Please change the shape of y to (n_samples, ), for example using ravel().\n",
      "  y = column_or_1d(y, warn=True)\n"
     ]
    },
    {
     "name": "stdout",
     "output_type": "stream",
     "text": [
      "                                        Classification Report                                            \n",
      "-------------------------------------------------------------------------------------------------------\n",
      "\n",
      "              precision    recall  f1-score   support\n",
      "\n",
      "         0.0       1.00      0.53      0.70    502513\n",
      "         1.0       0.01      0.71      0.02      3363\n",
      "\n",
      "    accuracy                           0.54    505876\n",
      "   macro avg       0.50      0.62      0.36    505876\n",
      "weighted avg       0.99      0.54      0.69    505876\n",
      "\n",
      "\n",
      "                                        Confusion Matrix                                               \n",
      "-------------------------------------------------------------------------------------------------------\n",
      "\n",
      "[[268477 234036]\n",
      " [   988   2375]]\n",
      "\n",
      "                                         Specificity                                                   \n",
      "-------------------------------------------------------------------------------------------------------\n",
      "\n",
      "0.010046063846436925\n"
     ]
    }
   ],
   "source": [
    "lr_model = LogisticRegression().fit(X_tomek, y_tomek)\n",
    "\n",
    "y_pred = lr_model.predict(X_val)\n",
    "report(y_val,y_pred)"
   ]
  },
  {
   "cell_type": "markdown",
   "id": "d2839628",
   "metadata": {},
   "source": [
    "### Neural Networks  <a class=\"anchor\" id=\"chapter5.3\"></a>"
   ]
  },
  {
   "cell_type": "code",
   "execution_count": 122,
   "id": "31752618",
   "metadata": {},
   "outputs": [],
   "source": [
    "#param_grid = {\n",
    "#    'hidden_layer_sizes': [(10,10), (10,10,10)],\n",
    "#     'alpha': [0.0001, 0.001],\n",
    "#     'learning_rate': ['adaptive', 'invscaling']\n",
    "#}"
   ]
  },
  {
   "cell_type": "code",
   "execution_count": 123,
   "id": "e2e93eae",
   "metadata": {},
   "outputs": [],
   "source": [
    "#alpha = 0.0001\n",
    "param_grid = {\n",
    "    'hidden_layer_sizes': [(10,10), (12,12), (10,12,10)],\n",
    "     'activation': ['relu', 'logistic'],\n",
    "     'solver': ['adam', 'sgd'],\n",
    "     'learning_rate': ['adaptive', 'invscaling'],\n",
    "}"
   ]
  },
  {
   "cell_type": "code",
   "execution_count": 125,
   "id": "898e51d8",
   "metadata": {},
   "outputs": [],
   "source": [
    "#nn_search = GridSearchCV(MLPClassifier(), param_grid, cv=3,scoring='f1_micro').fit(X_smote, y_smote)\n",
    "#nn_search.best_params_"
   ]
  },
  {
   "cell_type": "code",
   "execution_count": 301,
   "id": "5cd66341",
   "metadata": {
    "scrolled": true
   },
   "outputs": [],
   "source": [
    "nn_model = MLPClassifier(alpha= 0.0001,hidden_layer_sizes= (10, 10),activation= 'relu',solver = 'adam', \n",
    "                         learning_rate= 'invscaling').fit(X_smote, y_smote)"
   ]
  },
  {
   "cell_type": "code",
   "execution_count": 302,
   "id": "ef4b4c55",
   "metadata": {},
   "outputs": [],
   "source": [
    "y_pred = nn_model.predict(X_val)"
   ]
  },
  {
   "cell_type": "code",
   "execution_count": 303,
   "id": "85b35317",
   "metadata": {},
   "outputs": [
    {
     "name": "stdout",
     "output_type": "stream",
     "text": [
      "                                        Classification Report                                            \n",
      "-------------------------------------------------------------------------------------------------------\n",
      "\n"
     ]
    },
    {
     "name": "stderr",
     "output_type": "stream",
     "text": [
      "/opt/anaconda3/lib/python3.9/site-packages/sklearn/metrics/_classification.py:1334: UndefinedMetricWarning: Precision and F-score are ill-defined and being set to 0.0 in labels with no predicted samples. Use `zero_division` parameter to control this behavior.\n",
      "  _warn_prf(average, modifier, msg_start, len(result))\n",
      "/opt/anaconda3/lib/python3.9/site-packages/sklearn/metrics/_classification.py:1334: UndefinedMetricWarning: Precision and F-score are ill-defined and being set to 0.0 in labels with no predicted samples. Use `zero_division` parameter to control this behavior.\n",
      "  _warn_prf(average, modifier, msg_start, len(result))\n",
      "/opt/anaconda3/lib/python3.9/site-packages/sklearn/metrics/_classification.py:1334: UndefinedMetricWarning: Precision and F-score are ill-defined and being set to 0.0 in labels with no predicted samples. Use `zero_division` parameter to control this behavior.\n",
      "  _warn_prf(average, modifier, msg_start, len(result))\n"
     ]
    },
    {
     "name": "stdout",
     "output_type": "stream",
     "text": [
      "              precision    recall  f1-score   support\n",
      "\n",
      "         0.0       0.00      0.00      0.00    502513\n",
      "         1.0       0.01      1.00      0.01      3363\n",
      "\n",
      "    accuracy                           0.01    505876\n",
      "   macro avg       0.00      0.50      0.01    505876\n",
      "weighted avg       0.00      0.01      0.00    505876\n",
      "\n",
      "\n",
      "                                        Confusion Matrix                                               \n",
      "-------------------------------------------------------------------------------------------------------\n",
      "\n",
      "[[     0 502513]\n",
      " [     0   3363]]\n",
      "\n",
      "                                         Specificity                                                   \n",
      "-------------------------------------------------------------------------------------------------------\n",
      "\n",
      "0.006647874182606014\n"
     ]
    }
   ],
   "source": [
    "report(y_val,y_pred)"
   ]
  },
  {
   "cell_type": "code",
   "execution_count": 304,
   "id": "c90203a7",
   "metadata": {},
   "outputs": [],
   "source": [
    "nn_model = MLPClassifier(alpha= 0.0001,hidden_layer_sizes= (10, 10),activation= 'relu',solver = 'adam', \n",
    "                         learning_rate= 'invscaling').fit(x_train_adasyn, y_train_adasyn)"
   ]
  },
  {
   "cell_type": "code",
   "execution_count": 305,
   "id": "ed9c7f07",
   "metadata": {},
   "outputs": [],
   "source": [
    "y_pred = nn_model.predict(X_val)"
   ]
  },
  {
   "cell_type": "code",
   "execution_count": 306,
   "id": "696f9925",
   "metadata": {},
   "outputs": [
    {
     "name": "stdout",
     "output_type": "stream",
     "text": [
      "                                        Classification Report                                            \n",
      "-------------------------------------------------------------------------------------------------------\n",
      "\n"
     ]
    },
    {
     "name": "stderr",
     "output_type": "stream",
     "text": [
      "/opt/anaconda3/lib/python3.9/site-packages/sklearn/metrics/_classification.py:1334: UndefinedMetricWarning: Precision and F-score are ill-defined and being set to 0.0 in labels with no predicted samples. Use `zero_division` parameter to control this behavior.\n",
      "  _warn_prf(average, modifier, msg_start, len(result))\n",
      "/opt/anaconda3/lib/python3.9/site-packages/sklearn/metrics/_classification.py:1334: UndefinedMetricWarning: Precision and F-score are ill-defined and being set to 0.0 in labels with no predicted samples. Use `zero_division` parameter to control this behavior.\n",
      "  _warn_prf(average, modifier, msg_start, len(result))\n",
      "/opt/anaconda3/lib/python3.9/site-packages/sklearn/metrics/_classification.py:1334: UndefinedMetricWarning: Precision and F-score are ill-defined and being set to 0.0 in labels with no predicted samples. Use `zero_division` parameter to control this behavior.\n",
      "  _warn_prf(average, modifier, msg_start, len(result))\n"
     ]
    },
    {
     "name": "stdout",
     "output_type": "stream",
     "text": [
      "              precision    recall  f1-score   support\n",
      "\n",
      "         0.0       0.00      0.00      0.00    502513\n",
      "         1.0       0.01      1.00      0.01      3363\n",
      "\n",
      "    accuracy                           0.01    505876\n",
      "   macro avg       0.00      0.50      0.01    505876\n",
      "weighted avg       0.00      0.01      0.00    505876\n",
      "\n",
      "\n",
      "                                        Confusion Matrix                                               \n",
      "-------------------------------------------------------------------------------------------------------\n",
      "\n",
      "[[     0 502513]\n",
      " [     0   3363]]\n",
      "\n",
      "                                         Specificity                                                   \n",
      "-------------------------------------------------------------------------------------------------------\n",
      "\n",
      "0.006647874182606014\n"
     ]
    }
   ],
   "source": [
    "report(y_val,y_pred)"
   ]
  },
  {
   "cell_type": "code",
   "execution_count": 307,
   "id": "0c99c138",
   "metadata": {
    "scrolled": true
   },
   "outputs": [
    {
     "name": "stderr",
     "output_type": "stream",
     "text": [
      "/opt/anaconda3/lib/python3.9/site-packages/sklearn/neural_network/_multilayer_perceptron.py:1118: DataConversionWarning: A column-vector y was passed when a 1d array was expected. Please change the shape of y to (n_samples, ), for example using ravel().\n",
      "  y = column_or_1d(y, warn=True)\n"
     ]
    },
    {
     "name": "stdout",
     "output_type": "stream",
     "text": [
      "                                        Classification Report                                            \n",
      "-------------------------------------------------------------------------------------------------------\n",
      "\n",
      "              precision    recall  f1-score   support\n",
      "\n",
      "         0.0       0.99      0.27      0.42    502513\n",
      "         1.0       0.01      0.59      0.01      3363\n",
      "\n",
      "    accuracy                           0.27    505876\n",
      "   macro avg       0.50      0.43      0.22    505876\n",
      "weighted avg       0.98      0.27      0.42    505876\n",
      "\n",
      "\n",
      "                                        Confusion Matrix                                               \n",
      "-------------------------------------------------------------------------------------------------------\n",
      "\n",
      "[[135623 366890]\n",
      " [  1391   1972]]\n",
      "\n",
      "                                         Specificity                                                   \n",
      "-------------------------------------------------------------------------------------------------------\n",
      "\n",
      "0.005346172823440745\n"
     ]
    }
   ],
   "source": [
    "nn_model = MLPClassifier(alpha= 0.0001,hidden_layer_sizes= (10, 10),learning_rate= 'invscaling').fit(X_tomek, y_tomek)\n",
    "\n",
    "y_pred = nn_model.predict(X_val)\n",
    "report(y_val,y_pred)"
   ]
  },
  {
   "cell_type": "markdown",
   "id": "f4e430c0",
   "metadata": {},
   "source": [
    "### Random Forest <a class=\"anchor\" id=\"chapter5.4\"></a>"
   ]
  },
  {
   "cell_type": "code",
   "execution_count": null,
   "id": "4dc0f663",
   "metadata": {},
   "outputs": [],
   "source": [
    "#param_grid = { \n",
    "#     'n_estimators': [50, 100, 200],\n",
    "#    'max_depth' : [None, 20,30], \n",
    "#}\n",
    "\n",
    "param_grid = {\n",
    "      'n_estimators': [20, 50, 100],\n",
    "      'criterion': ['entropy'],\n",
    "      'max_depth': ['None', 10, 15],\n",
    "      'min_samples_split': [5, 10, 50],\n",
    "      'min_samples_leaf': [5, 10, 50],\n",
    "      'min_weight_fraction_leaf': [0.15, 0],\n",
    "      'max_leaf_nodes': ['None', 30,60],\n",
    "      'ccp_alpha': [0, 0.0009]\n",
    " }"
   ]
  },
  {
   "cell_type": "code",
   "execution_count": null,
   "id": "eecbf1a4",
   "metadata": {},
   "outputs": [],
   "source": [
    "rfc = RandomForestClassifier(random_state=5)"
   ]
  },
  {
   "cell_type": "code",
   "execution_count": null,
   "id": "b34397b5",
   "metadata": {},
   "outputs": [],
   "source": [
    "#cv_rfc = GridSearchCV(estimator=rfc, param_grid=param_grid , cv= 3, scoring='f1_micro').fit(x_train_adasyn, y_train_adasyn)\n",
    "#cv_rfc.best_params_"
   ]
  },
  {
   "cell_type": "markdown",
   "id": "7a709e15",
   "metadata": {
    "scrolled": true
   },
   "source": [
    "    rf_model = RandomForestClassifier(max_depth= 15, n_estimators= 50).fit(X_smote, y_smote)\n",
    "\n",
    "    y_pred = rf_model.predict(X_val)\n",
    "    report(y_val,y_pred)"
   ]
  },
  {
   "cell_type": "markdown",
   "id": "cc15f15e",
   "metadata": {},
   "source": [
    "\n",
    "                                            Classification Report                                            \n",
    "    -------------------------------------------------------------------------------------------------------\n",
    "\n",
    "                  precision    recall  f1-score   support\n",
    "\n",
    "             0.0       1.00      0.96      0.98    502513\n",
    "             1.0       0.09      0.60      0.16      3363\n",
    "\n",
    "        accuracy                           0.96    505876\n",
    "       macro avg       0.54      0.78      0.57    505876\n",
    "    weighted avg       0.99      0.96      0.97    505876\n",
    "\n",
    "\n",
    "                                            Confusion Matrix                                               \n",
    "    -------------------------------------------------------------------------------------------------------\n",
    "\n",
    "    [[482328  20185]\n",
    "     [  1361   2002]]\n",
    "\n",
    "                                             Specificity                                                   \n",
    "    -------------------------------------------------------------------------------------------------------\n",
    "\n",
    "    0.090233019335647"
   ]
  },
  {
   "cell_type": "markdown",
   "id": "4680a8a7",
   "metadata": {
    "scrolled": true
   },
   "source": [
    "    rf_model = RandomForestClassifier(max_depth= 15, n_estimators= 50).fit(x_train_adasyn, y_train_adasyn)\n",
    "    y_pred = rf_model.predict(X_val)\n",
    "    report(y_val,y_pred)"
   ]
  },
  {
   "cell_type": "markdown",
   "id": "189fe3a3",
   "metadata": {},
   "source": [
    "                                            Classification Report                                            \n",
    "    -------------------------------------------------------------------------------------------------------\n",
    "\n",
    "                  precision    recall  f1-score   support\n",
    "\n",
    "             0.0       1.00      0.96      0.98    502513\n",
    "             1.0       0.09      0.59      0.15      3363\n",
    "\n",
    "        accuracy                           0.96    505876\n",
    "       macro avg       0.54      0.78      0.57    505876\n",
    "    weighted avg       0.99      0.96      0.97    505876\n",
    "\n",
    "\n",
    "                                            Confusion Matrix                                               \n",
    "    -------------------------------------------------------------------------------------------------------\n",
    "\n",
    "    [[481973  20540]\n",
    "     [  1364   1999]]\n",
    "\n",
    "                                             Specificity                                                   \n",
    "    -------------------------------------------------------------------------------------------------------\n",
    "\n",
    "    0.08869071387372998"
   ]
  },
  {
   "cell_type": "markdown",
   "id": "01745daf",
   "metadata": {
    "scrolled": true
   },
   "source": [
    "    rf_model = RandomForestClassifier(max_depth= 15, n_estimators= 50).fit(x_train_adasyn, y_train_adasyn)\n",
    "    y_pred = rf_model.predict(X_val)\n",
    "    report(y_val,y_pred)"
   ]
  },
  {
   "cell_type": "markdown",
   "id": "e3af9d02",
   "metadata": {},
   "source": [
    "                                            Classification Report                                            \n",
    "    -------------------------------------------------------------------------------------------------------\n",
    "\n",
    "                  precision    recall  f1-score   support\n",
    "\n",
    "             0.0       1.00      0.96      0.98    502513\n",
    "             1.0       0.09      0.59      0.15      3363\n",
    "\n",
    "        accuracy                           0.96    505876\n",
    "       macro avg       0.54      0.78      0.57    505876\n",
    "    weighted avg       0.99      0.96      0.97    505876\n",
    "\n",
    "\n",
    "                                            Confusion Matrix                                               \n",
    "    -------------------------------------------------------------------------------------------------------\n",
    "\n",
    "    [[481973  20540]\n",
    "     [  1364   1999]]\n",
    "\n",
    "                                             Specificity                                                   \n",
    "    -------------------------------------------------------------------------------------------------------\n",
    "\n",
    "    0.08869071387372998\n"
   ]
  },
  {
   "cell_type": "markdown",
   "id": "393a3531",
   "metadata": {},
   "source": [
    "### Gradient Boosted Decision Tree  <a class=\"anchor\" id=\"chapter5.5\"></a>"
   ]
  },
  {
   "cell_type": "code",
   "execution_count": null,
   "id": "11f4c019",
   "metadata": {},
   "outputs": [],
   "source": [
    "#param_grid = {\n",
    "#        'n_estimators':[20,30],\n",
    "#        'max_depth':[20,30,50]\n",
    "#}"
   ]
  },
  {
   "cell_type": "code",
   "execution_count": null,
   "id": "fe088698",
   "metadata": {},
   "outputs": [],
   "source": [
    "param_grid = {\n",
    "        'loss':['log_loss','deviance'],\n",
    "        'n_estimators':[30,50,100,500],\n",
    "        'subsample':[0.5,0.75,1],\n",
    "        'min_samples_leaf':[5,10,50],\n",
    "        'max_depth':[10,20,30],\n",
    "        'max_features':['auto','sqrt','log2']\n",
    "}"
   ]
  },
  {
   "cell_type": "code",
   "execution_count": null,
   "id": "31683675",
   "metadata": {},
   "outputs": [],
   "source": [
    "#gb_search = GridSearchCV(estimator = GradientBoostingClassifier(),\n",
    "#                         param_grid = param_grid, scoring = 'f1_micro').fit(x_train_adasyn, y_train_adasyn)\n",
    "#gb_search.best_estimator_"
   ]
  },
  {
   "cell_type": "code",
   "execution_count": null,
   "id": "ee7eddc9",
   "metadata": {},
   "outputs": [],
   "source": [
    "#gb_search = GridSearchCV(estimator = GradientBoostingClassifier(), \n",
    "#                         param_grid = param_grid, scoring = 'f1_micro').fit(x_tomek, y_tomek)\n",
    "#gb_search.best_estimator_"
   ]
  },
  {
   "cell_type": "code",
   "execution_count": 308,
   "id": "c6e2318f",
   "metadata": {},
   "outputs": [
    {
     "name": "stdout",
     "output_type": "stream",
     "text": [
      "                                        Classification Report                                            \n",
      "-------------------------------------------------------------------------------------------------------\n",
      "\n",
      "              precision    recall  f1-score   support\n",
      "\n",
      "         0.0       1.00      0.99      0.99    502513\n",
      "         1.0       0.29      0.40      0.34      3363\n",
      "\n",
      "    accuracy                           0.99    505876\n",
      "   macro avg       0.64      0.70      0.67    505876\n",
      "weighted avg       0.99      0.99      0.99    505876\n",
      "\n",
      "\n",
      "                                        Confusion Matrix                                               \n",
      "-------------------------------------------------------------------------------------------------------\n",
      "\n",
      "[[499213   3300]\n",
      " [  2018   1345]]\n",
      "\n",
      "                                         Specificity                                                   \n",
      "-------------------------------------------------------------------------------------------------------\n",
      "\n",
      "0.28955866523143164\n"
     ]
    }
   ],
   "source": [
    "gb_model = GradientBoostingClassifier(max_depth=20, n_estimators=30).fit(X_smote, y_smote)\n",
    "\n",
    "y_pred = gb_model.predict(X_val)\n",
    "report(y_val,y_pred)"
   ]
  },
  {
   "cell_type": "code",
   "execution_count": 309,
   "id": "b658d654",
   "metadata": {},
   "outputs": [
    {
     "name": "stdout",
     "output_type": "stream",
     "text": [
      "                                        Classification Report                                            \n",
      "-------------------------------------------------------------------------------------------------------\n",
      "\n",
      "              precision    recall  f1-score   support\n",
      "\n",
      "         0.0       1.00      0.99      0.99    502513\n",
      "         1.0       0.30      0.41      0.35      3363\n",
      "\n",
      "    accuracy                           0.99    505876\n",
      "   macro avg       0.65      0.70      0.67    505876\n",
      "weighted avg       0.99      0.99      0.99    505876\n",
      "\n",
      "\n",
      "                                        Confusion Matrix                                               \n",
      "-------------------------------------------------------------------------------------------------------\n",
      "\n",
      "[[499276   3237]\n",
      " [  1982   1381]]\n",
      "\n",
      "                                         Specificity                                                   \n",
      "-------------------------------------------------------------------------------------------------------\n",
      "\n",
      "0.2990472065829363\n"
     ]
    }
   ],
   "source": [
    "gb_model = GradientBoostingClassifier(max_depth=20, n_estimators=30).fit(x_train_adasyn, y_train_adasyn)\n",
    "\n",
    "y_pred = gb_model.predict(X_val)\n",
    "report(y_val,y_pred)"
   ]
  },
  {
   "cell_type": "code",
   "execution_count": 311,
   "id": "21ca2513",
   "metadata": {},
   "outputs": [
    {
     "name": "stderr",
     "output_type": "stream",
     "text": [
      "/opt/anaconda3/lib/python3.9/site-packages/sklearn/ensemble/_gb.py:570: DataConversionWarning: A column-vector y was passed when a 1d array was expected. Please change the shape of y to (n_samples, ), for example using ravel().\n",
      "  y = column_or_1d(y, warn=True)\n"
     ]
    },
    {
     "name": "stdout",
     "output_type": "stream",
     "text": [
      "                                        Classification Report                                            \n",
      "-------------------------------------------------------------------------------------------------------\n",
      "\n",
      "              precision    recall  f1-score   support\n",
      "\n",
      "         0.0       1.00      0.99      0.99    502513\n",
      "         1.0       0.28      0.42      0.34      3363\n",
      "\n",
      "    accuracy                           0.99    505876\n",
      "   macro avg       0.64      0.71      0.67    505876\n",
      "weighted avg       0.99      0.99      0.99    505876\n",
      "\n",
      "\n",
      "                                        Confusion Matrix                                               \n",
      "-------------------------------------------------------------------------------------------------------\n",
      "\n",
      "[[498896   3617]\n",
      " [  1938   1425]]\n",
      "\n",
      "                                         Specificity                                                   \n",
      "-------------------------------------------------------------------------------------------------------\n",
      "\n",
      "0.2826259420864736\n"
     ]
    }
   ],
   "source": [
    "gb_model = GradientBoostingClassifier(max_depth=20, n_estimators=30).fit(X_tomek, y_tomek)\n",
    "\n",
    "y_pred = gb_model.predict(X_val)\n",
    "report(y_val,y_pred)"
   ]
  },
  {
   "cell_type": "markdown",
   "id": "a0d5807b",
   "metadata": {},
   "source": [
    "### Adaboost <a class=\"anchor\" id=\"chapter5.6\"></a>"
   ]
  },
  {
   "cell_type": "code",
   "execution_count": null,
   "id": "35be7709",
   "metadata": {},
   "outputs": [],
   "source": [
    "param_grid = {'n_estimators': [20, 30, 50],\n",
    "              'learning_rate':[0.0001, 0.001, 0.01, 0.1, 1.0]}"
   ]
  },
  {
   "cell_type": "code",
   "execution_count": null,
   "id": "31c6bd67",
   "metadata": {
    "scrolled": true
   },
   "outputs": [],
   "source": [
    "#adb_search = GridSearchCV(estimator=AdaBoostClassifier(), param_grid=param_grid, n_jobs=-1,\n",
    "#                          cv=3, scoring='f1_micro').fit(X_smote, y_smote)\n",
    "\n",
    "#adb_search.best_estimator_"
   ]
  },
  {
   "cell_type": "code",
   "execution_count": 136,
   "id": "e1d2361b",
   "metadata": {},
   "outputs": [],
   "source": [
    "adb_model = AdaBoostClassifier(n_estimators=30).fit(X_smote, y_smote)"
   ]
  },
  {
   "cell_type": "code",
   "execution_count": 137,
   "id": "74ad5bb9",
   "metadata": {},
   "outputs": [],
   "source": [
    "y_pred = adb_model.predict(X_val)"
   ]
  },
  {
   "cell_type": "code",
   "execution_count": 138,
   "id": "07081058",
   "metadata": {},
   "outputs": [
    {
     "name": "stdout",
     "output_type": "stream",
     "text": [
      "                                        Classification Report                                            \n",
      "-------------------------------------------------------------------------------------------------------\n",
      "\n",
      "              precision    recall  f1-score   support\n",
      "\n",
      "         0.0       1.00      0.87      0.93    502513\n",
      "         1.0       0.04      0.77      0.07      3363\n",
      "\n",
      "    accuracy                           0.87    505876\n",
      "   macro avg       0.52      0.82      0.50    505876\n",
      "weighted avg       0.99      0.87      0.93    505876\n",
      "\n",
      "\n",
      "                                        Confusion Matrix                                               \n",
      "-------------------------------------------------------------------------------------------------------\n",
      "\n",
      "[[438953  63560]\n",
      " [   777   2586]]\n",
      "\n",
      "                                         Specificity                                                   \n",
      "-------------------------------------------------------------------------------------------------------\n",
      "\n",
      "0.03909533456293653\n"
     ]
    }
   ],
   "source": [
    "report(y_val,y_pred)"
   ]
  },
  {
   "cell_type": "code",
   "execution_count": 139,
   "id": "7f4f8a95",
   "metadata": {},
   "outputs": [],
   "source": [
    "adb_model = AdaBoostClassifier(n_estimators=30).fit(x_train_adasyn, y_train_adasyn)"
   ]
  },
  {
   "cell_type": "code",
   "execution_count": 140,
   "id": "8cfc3aa9",
   "metadata": {},
   "outputs": [
    {
     "name": "stdout",
     "output_type": "stream",
     "text": [
      "                                        Classification Report                                            \n",
      "-------------------------------------------------------------------------------------------------------\n",
      "\n",
      "              precision    recall  f1-score   support\n",
      "\n",
      "         0.0       1.00      0.87      0.93    502513\n",
      "         1.0       0.04      0.78      0.07      3363\n",
      "\n",
      "    accuracy                           0.87    505876\n",
      "   macro avg       0.52      0.82      0.50    505876\n",
      "weighted avg       0.99      0.87      0.92    505876\n",
      "\n",
      "\n",
      "                                        Confusion Matrix                                               \n",
      "-------------------------------------------------------------------------------------------------------\n",
      "\n",
      "[[437083  65430]\n",
      " [   740   2623]]\n",
      "\n",
      "                                         Specificity                                                   \n",
      "-------------------------------------------------------------------------------------------------------\n",
      "\n",
      "0.03854348816363717\n"
     ]
    }
   ],
   "source": [
    "y_pred = adb_model.predict(X_val)\n",
    "report(y_val,y_pred)"
   ]
  },
  {
   "cell_type": "code",
   "execution_count": 65,
   "id": "e51b9829",
   "metadata": {},
   "outputs": [
    {
     "name": "stdout",
     "output_type": "stream",
     "text": [
      "                                        Classification Report                                            \n",
      "-------------------------------------------------------------------------------------------------------\n",
      "\n",
      "              precision    recall  f1-score   support\n",
      "\n",
      "         0.0       1.00      0.93      0.96    502513\n",
      "         1.0       0.06      0.58      0.10      3363\n",
      "\n",
      "    accuracy                           0.93    505876\n",
      "   macro avg       0.53      0.76      0.53    505876\n",
      "weighted avg       0.99      0.93      0.96    505876\n",
      "\n",
      "\n",
      "                                        Confusion Matrix                                               \n",
      "-------------------------------------------------------------------------------------------------------\n",
      "\n",
      "[[469297  33216]\n",
      " [  1420   1943]]\n",
      "\n",
      "                                         Specificity                                                   \n",
      "-------------------------------------------------------------------------------------------------------\n",
      "\n",
      "0.05526323274268324\n"
     ]
    }
   ],
   "source": [
    "ab_model = AdaBoostClassifier(n_estimators=30).fit(x_train_tomek, y_train_tomek)\n",
    "\n",
    "y_pred = ab_model.predict(X_val)\n",
    "report(y_val,y_pred)"
   ]
  },
  {
   "cell_type": "markdown",
   "id": "a2832833",
   "metadata": {},
   "source": [
    "### Extra Trees <a class=\"anchor\" id=\"chapter5.7\"></a>"
   ]
  },
  {
   "cell_type": "code",
   "execution_count": null,
   "id": "5a175104",
   "metadata": {},
   "outputs": [],
   "source": [
    "#param_grid = {'n_estimators': [20, 30, 50],\n",
    "#    'max_depth' : [20,30],             \n",
    "#}\n",
    "\n",
    "param_grid = {\n",
    "    'criterion': ['gini', 'entropy', 'log_loss'], \n",
    "    'max_depth' : [50,150,200], \n",
    "    'max_features': [0.5,0.8,1], \n",
    "    'class_weight': ['balanced','balanced_subsample',None], \n",
    "    'warm_start':[True,False], \n",
    "    'n_jobs': [None,2,5], \n",
    "    'max_samples': [None,0.9,1.1],\n",
    "    \n",
    "}"
   ]
  },
  {
   "cell_type": "code",
   "execution_count": null,
   "id": "597e6bb4",
   "metadata": {},
   "outputs": [],
   "source": [
    "#et_search = GridSearchCV(estimator=ExtraTreesClassifier(),param_grid = param_grid,\n",
    "#                         scoring='f1_micro',cv=3).fit(x_train_adasyn, y_train_adasyn)\n",
    "\n",
    "#et_search.best_estimator_"
   ]
  },
  {
   "cell_type": "code",
   "execution_count": null,
   "id": "c5d1ea4d",
   "metadata": {},
   "outputs": [],
   "source": [
    "et_search = GridSearchCV(estimator=ExtraTreesClassifier(),param_grid = param_grid,\n",
    "                         scoring='f1_micro',cv=3).fit(x_tomek, y_tomek)\n",
    "\n",
    "et_search.best_estimator_"
   ]
  },
  {
   "cell_type": "code",
   "execution_count": 143,
   "id": "b0373ca8",
   "metadata": {},
   "outputs": [
    {
     "name": "stdout",
     "output_type": "stream",
     "text": [
      "                                        Classification Report                                            \n",
      "-------------------------------------------------------------------------------------------------------\n",
      "\n",
      "              precision    recall  f1-score   support\n",
      "\n",
      "         0.0       1.00      0.94      0.97    502513\n",
      "         1.0       0.05      0.47      0.09      3363\n",
      "\n",
      "    accuracy                           0.93    505876\n",
      "   macro avg       0.52      0.70      0.53    505876\n",
      "weighted avg       0.99      0.93      0.96    505876\n",
      "\n",
      "\n",
      "                                        Confusion Matrix                                               \n",
      "-------------------------------------------------------------------------------------------------------\n",
      "\n",
      "[[471116  31397]\n",
      " [  1783   1580]]\n",
      "\n",
      "                                         Specificity                                                   \n",
      "-------------------------------------------------------------------------------------------------------\n",
      "\n",
      "0.047912181217211997\n"
     ]
    }
   ],
   "source": [
    "et_model = ExtraTreesClassifier(max_depth=30, n_estimators=20).fit(X_smote, y_smote)\n",
    "y_pred = et_model.predict(X_val)\n",
    "report(y_val,y_pred)"
   ]
  },
  {
   "cell_type": "code",
   "execution_count": 144,
   "id": "2e31a0cd",
   "metadata": {},
   "outputs": [
    {
     "name": "stdout",
     "output_type": "stream",
     "text": [
      "                                        Classification Report                                            \n",
      "-------------------------------------------------------------------------------------------------------\n",
      "\n",
      "              precision    recall  f1-score   support\n",
      "\n",
      "         0.0       1.00      0.94      0.97    502513\n",
      "         1.0       0.05      0.46      0.09      3363\n",
      "\n",
      "    accuracy                           0.94    505876\n",
      "   macro avg       0.52      0.70      0.53    505876\n",
      "weighted avg       0.99      0.94      0.96    505876\n",
      "\n",
      "\n",
      "                                        Confusion Matrix                                               \n",
      "-------------------------------------------------------------------------------------------------------\n",
      "\n",
      "[[474375  28138]\n",
      " [  1810   1553]]\n",
      "\n",
      "                                         Specificity                                                   \n",
      "-------------------------------------------------------------------------------------------------------\n",
      "\n",
      "0.052305412414536394\n"
     ]
    }
   ],
   "source": [
    "et_model = ExtraTreesClassifier(max_depth=30, n_estimators=20).fit(x_train_adasyn, y_train_adasyn)\n",
    "\n",
    "y_pred = et_model.predict(X_val)\n",
    "report(y_val,y_pred)"
   ]
  },
  {
   "cell_type": "code",
   "execution_count": null,
   "id": "2927fb86",
   "metadata": {},
   "outputs": [],
   "source": [
    "et_model = ExtraTreesClassifier(max_depth=30, n_estimators=20).fit(x_tomek, y_tomek)\n",
    "\n",
    "y_pred = et_model.predict(X_val)\n",
    "report(y_val,y_pred)"
   ]
  },
  {
   "cell_type": "markdown",
   "id": "89b49410",
   "metadata": {},
   "source": [
    "                                            Classification Report                                            \n",
    "    -------------------------------------------------------------------------------------------------------\n",
    "\n",
    "                  precision    recall  f1-score   support\n",
    "\n",
    "             0.0       1.00      0.94      0.97    502513\n",
    "             1.0       0.03      0.30      0.06      3363\n",
    "\n",
    "        accuracy                           0.94    505876\n",
    "       macro avg       0.51      0.62      0.51    505876\n",
    "    weighted avg       0.99      0.94      0.96    505876\n",
    "\n",
    "\n",
    "                                            Confusion Matrix                                               \n",
    "    -------------------------------------------------------------------------------------------------------\n",
    "\n",
    "    [[474274  28239]\n",
    "     [  2368    995]]\n",
    "\n",
    "                                             Specificity                                                   \n",
    "    -------------------------------------------------------------------------------------------------------\n",
    "\n",
    "    0.03403571184237532"
   ]
  },
  {
   "cell_type": "markdown",
   "id": "48c02878",
   "metadata": {},
   "source": [
    "### Balanced Bagging <a class=\"anchor\" id=\"chapter5.8\"></a>"
   ]
  },
  {
   "cell_type": "code",
   "execution_count": 148,
   "id": "4061647d",
   "metadata": {},
   "outputs": [],
   "source": [
    "from imblearn.ensemble import BalancedBaggingClassifier "
   ]
  },
  {
   "cell_type": "code",
   "execution_count": null,
   "id": "af4864e8",
   "metadata": {},
   "outputs": [],
   "source": [
    "parameters = {'n_estimators' : [10,50,100,300,500,1000], \n",
    "             'max_features': [0.7,1,1.1],\n",
    "             'max_samples': [0.7,1,1.1],\n",
    "             'warm_start': [True,False],\n",
    "             }"
   ]
  },
  {
   "cell_type": "code",
   "execution_count": null,
   "id": "0037fc74",
   "metadata": {},
   "outputs": [],
   "source": [
    "#gs_bbc = GridSearchCV(BalancedBaggingClassifier(), parameters,scoring = 'f1-micro' ).fit(x_train_adasyn, y_train_adasyn)\n",
    "#gs_bbc.best_estimator_"
   ]
  },
  {
   "cell_type": "code",
   "execution_count": null,
   "id": "f3a4b228",
   "metadata": {},
   "outputs": [],
   "source": [
    "#gs_bbc = GridSearchCV(BalancedBaggingClassifier()()el, parameters,scoring = 'f1-micro' ).fit(x_tomek, y_tomek)\n",
    "#gs_bbc.best_estimator_"
   ]
  },
  {
   "cell_type": "code",
   "execution_count": 312,
   "id": "9ffe0f40",
   "metadata": {},
   "outputs": [],
   "source": [
    "bbc_model = BalancedBaggingClassifier(base_estimator=None, bootstrap=True,\n",
    "                          bootstrap_features=False, max_features=1.0,\n",
    "                          max_samples=1.0, n_estimators=500, n_jobs=-1,\n",
    "                          oob_score=False, random_state=None,\n",
    "                          replacement=False, sampling_strategy='auto',\n",
    "                          verbose=0, warm_start=False).fit(X_smote, y_smote)"
   ]
  },
  {
   "cell_type": "code",
   "execution_count": 313,
   "id": "ccfc7d2c",
   "metadata": {},
   "outputs": [
    {
     "name": "stdout",
     "output_type": "stream",
     "text": [
      "                                        Classification Report                                            \n",
      "-------------------------------------------------------------------------------------------------------\n",
      "\n",
      "              precision    recall  f1-score   support\n",
      "\n",
      "         0.0       1.00      1.00      1.00    502513\n",
      "         1.0       0.40      0.32      0.35      3363\n",
      "\n",
      "    accuracy                           0.99    505876\n",
      "   macro avg       0.70      0.66      0.68    505876\n",
      "weighted avg       0.99      0.99      0.99    505876\n",
      "\n",
      "\n",
      "                                        Confusion Matrix                                               \n",
      "-------------------------------------------------------------------------------------------------------\n",
      "\n",
      "[[500860   1653]\n",
      " [  2281   1082]]\n",
      "\n",
      "                                         Specificity                                                   \n",
      "-------------------------------------------------------------------------------------------------------\n",
      "\n",
      "0.3956124314442413\n"
     ]
    }
   ],
   "source": [
    "y_pred = bbc_model.predict(X_val)\n",
    "report(y_val,y_pred)"
   ]
  },
  {
   "cell_type": "code",
   "execution_count": null,
   "id": "6b7f1cd6",
   "metadata": {},
   "outputs": [],
   "source": [
    "y_pred = bbc_model.predict(X_val)\n",
    "report(y_val,y_pred)"
   ]
  },
  {
   "cell_type": "code",
   "execution_count": null,
   "id": "db770d6f",
   "metadata": {},
   "outputs": [],
   "source": [
    "report_bbc_adasyn = classification_report(y_val, y_pred, output_dict=True)\n",
    "bbc_adasyn = pd.DataFrame(report_bbc_adasyn).transpose()"
   ]
  },
  {
   "cell_type": "code",
   "execution_count": null,
   "id": "f49304ab",
   "metadata": {},
   "outputs": [],
   "source": [
    "report_bbc_smote = classification_report(y_val, y_pred, output_dict=True)\n",
    "bbc_smote = pd.DataFrame(report_bbc_smote).transpose()"
   ]
  },
  {
   "cell_type": "code",
   "execution_count": null,
   "id": "643f4866",
   "metadata": {},
   "outputs": [],
   "source": [
    "report_bbc_tomek = classification_report(y_val, y_pred, output_dict=True)\n",
    "bbc_tomek = pd.DataFrame(report_bbc_tomek).transpose()"
   ]
  },
  {
   "cell_type": "code",
   "execution_count": 328,
   "id": "458cf4ff",
   "metadata": {
    "scrolled": true
   },
   "outputs": [
    {
     "data": {
      "text/html": [
       "<div>\n",
       "<style scoped>\n",
       "    .dataframe tbody tr th:only-of-type {\n",
       "        vertical-align: middle;\n",
       "    }\n",
       "\n",
       "    .dataframe tbody tr th {\n",
       "        vertical-align: top;\n",
       "    }\n",
       "\n",
       "    .dataframe thead th {\n",
       "        text-align: right;\n",
       "    }\n",
       "</style>\n",
       "<table border=\"1\" class=\"dataframe\">\n",
       "  <thead>\n",
       "    <tr style=\"text-align: right;\">\n",
       "      <th></th>\n",
       "      <th>sku</th>\n",
       "      <th>Backorder</th>\n",
       "    </tr>\n",
       "  </thead>\n",
       "  <tbody>\n",
       "    <tr>\n",
       "      <th>0</th>\n",
       "      <td>949954</td>\n",
       "      <td>0</td>\n",
       "    </tr>\n",
       "    <tr>\n",
       "      <th>1</th>\n",
       "      <td>1529670</td>\n",
       "      <td>0</td>\n",
       "    </tr>\n",
       "    <tr>\n",
       "      <th>2</th>\n",
       "      <td>1658220</td>\n",
       "      <td>0</td>\n",
       "    </tr>\n",
       "    <tr>\n",
       "      <th>3</th>\n",
       "      <td>759532</td>\n",
       "      <td>0</td>\n",
       "    </tr>\n",
       "    <tr>\n",
       "      <th>4</th>\n",
       "      <td>1523227</td>\n",
       "      <td>0</td>\n",
       "    </tr>\n",
       "    <tr>\n",
       "      <th>...</th>\n",
       "      <td>...</td>\n",
       "      <td>...</td>\n",
       "    </tr>\n",
       "    <tr>\n",
       "      <th>505871</th>\n",
       "      <td>907207</td>\n",
       "      <td>0</td>\n",
       "    </tr>\n",
       "    <tr>\n",
       "      <th>505872</th>\n",
       "      <td>933917</td>\n",
       "      <td>0</td>\n",
       "    </tr>\n",
       "    <tr>\n",
       "      <th>505873</th>\n",
       "      <td>1243877</td>\n",
       "      <td>0</td>\n",
       "    </tr>\n",
       "    <tr>\n",
       "      <th>505874</th>\n",
       "      <td>442027</td>\n",
       "      <td>0</td>\n",
       "    </tr>\n",
       "    <tr>\n",
       "      <th>505875</th>\n",
       "      <td>472208</td>\n",
       "      <td>0</td>\n",
       "    </tr>\n",
       "  </tbody>\n",
       "</table>\n",
       "<p>505876 rows × 2 columns</p>\n",
       "</div>"
      ],
      "text/plain": [
       "            sku  Backorder\n",
       "0        949954          0\n",
       "1       1529670          0\n",
       "2       1658220          0\n",
       "3        759532          0\n",
       "4       1523227          0\n",
       "...         ...        ...\n",
       "505871   907207          0\n",
       "505872   933917          0\n",
       "505873  1243877          0\n",
       "505874   442027          0\n",
       "505875   472208          0\n",
       "\n",
       "[505876 rows x 2 columns]"
      ]
     },
     "execution_count": 328,
     "metadata": {},
     "output_type": "execute_result"
    }
   ],
   "source": [
    "predictions = bbc_model.predict(X_val)\n",
    "\n",
    "# Save the final predictions\n",
    "sku = X_val.index.T\n",
    "answer = pd.DataFrame([sku, predictions]).T\n",
    "answer.columns = ['sku','Backorder']\n",
    "answer = answer.astype('int32')\n",
    "answer"
   ]
  },
  {
   "cell_type": "code",
   "execution_count": 334,
   "id": "0d2bc0bf",
   "metadata": {
    "scrolled": false
   },
   "outputs": [
    {
     "data": {
      "text/plain": [
       "0    503141\n",
       "1      2735\n",
       "Name: Backorder, dtype: int64"
      ]
     },
     "execution_count": 334,
     "metadata": {},
     "output_type": "execute_result"
    }
   ],
   "source": [
    "answer['Backorder'].value_counts()"
   ]
  },
  {
   "cell_type": "code",
   "execution_count": 336,
   "id": "404c2971",
   "metadata": {},
   "outputs": [
    {
     "data": {
      "text/plain": [
       "0.5435851977874989"
      ]
     },
     "execution_count": 336,
     "metadata": {},
     "output_type": "execute_result"
    }
   ],
   "source": [
    "(2735/503141)*100"
   ]
  },
  {
   "cell_type": "code",
   "execution_count": null,
   "id": "91c50d54",
   "metadata": {},
   "outputs": [],
   "source": []
  }
 ],
 "metadata": {
  "kernelspec": {
   "display_name": "Python 3 (ipykernel)",
   "language": "python",
   "name": "python3"
  },
  "language_info": {
   "codemirror_mode": {
    "name": "ipython",
    "version": 3
   },
   "file_extension": ".py",
   "mimetype": "text/x-python",
   "name": "python",
   "nbconvert_exporter": "python",
   "pygments_lexer": "ipython3",
   "version": "3.9.7"
  }
 },
 "nbformat": 4,
 "nbformat_minor": 5
}
