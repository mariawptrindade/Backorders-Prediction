{
 "cells": [
  {
   "cell_type": "markdown",
   "id": "f8a6ca68",
   "metadata": {},
   "source": [
    "<a id='toc'></a>\n",
    "\n",
    "<div class=\"alert alert-block alert-info\">\n",
    "<center> <h1> Enterprise Data Science Bootcamp </h1> </center> <br>\n",
    "<center> <h2> Inventory Management- Back Orders </h2> </center>\n",
    "<center> <h3>   2021/2022 </h3> </center>"
   ]
  },
  {
   "cell_type": "markdown",
   "id": "09d3b374",
   "metadata": {},
   "source": [
    "**GROUP E:** <br>\n",
    "- Nuno Bolas          `20211052` <br>\n",
    "- João Magalhães      `20211044` <br>\n",
    "- Mariana Teixeira    `20211058` <br>\n",
    "- Maria Trindade      `20211049` <br>"
   ]
  },
  {
   "cell_type": "markdown",
   "id": "6468a1a1",
   "metadata": {},
   "source": [
    "https://medium.com/analytics-vidhya/predicting-material-backorders-in-inventory-management-90e4d0ece6ba"
   ]
  },
  {
   "cell_type": "markdown",
   "id": "b8f8033a",
   "metadata": {},
   "source": [
    "\n",
    "\n",
    "## Table of Contents\n",
    "\n",
    "* [Import](#chapter0)\n",
    "* [Data Understanding](#chapter1)\n",
    "* [Data preparation](#chapter2)\n",
    "* [Feature Engineering](#chapter3)\n",
    "* [Feature Selection](#chapter4)\n",
    "* [Train Test Split](#chapter7)\n",
    "* [Balancing the dataset](#chapter8)\n",
    "* [Modelling](#chapter5)\n",
    "    * [K-Folds and Repeated K-Folds](#chapter5.1)\n",
    "    * [Logistic Regression](#chapter5.2)\n",
    "    * [Neural Networks](#chapter5.3)\n",
    "    * [Random Forest](#chapter5.4)\n",
    "    * [Gradient Boosted Decision Tree](#chapter5.5)\n",
    "    * [Adaboost](#chapter5.6)\n",
    "    * [Extra Trees](#chapter5.7)\n",
    "    * [Model Comparison](#chapter5.8)\n",
    "* [Prediction](#chapter6)"
   ]
  },
  {
   "cell_type": "markdown",
   "id": "daff10e6",
   "metadata": {},
   "source": [
    "[Back to the start](#toc)\n",
    "\n",
    "## Import <a class=\"anchor\" id=\"chapter0\"></a>"
   ]
  },
  {
   "cell_type": "code",
   "execution_count": 1,
   "id": "c62ce6a4",
   "metadata": {},
   "outputs": [],
   "source": [
    "#Data Understanding\n",
    "import pandas as pd\n",
    "import numpy as np\n",
    "from numpy import mean\n",
    "from numpy import std\n",
    "import matplotlib.pyplot as plt\n",
    "from matplotlib import pyplot\n",
    "import seaborn as sns\n",
    "from pandas_profiling import ProfileReport\n",
    "#from sklearn.impute import KNNImputer\n",
    "\n",
    "#Feature Engineering/Selection\n",
    "from sklearn.preprocessing import StandardScaler\n",
    "from sklearn.decomposition import PCA\n",
    "from scipy.stats import ks_2samp\n",
    "from scipy import stats\n",
    "\n",
    "# Modelling \n",
    "from sklearn.model_selection import train_test_split\n",
    "from sklearn.model_selection import KFold\n",
    "from sklearn.model_selection import RepeatedKFold\n",
    "from sklearn import tree\n",
    "from sklearn.model_selection import train_test_split\n",
    "from sklearn.neural_network import MLPClassifier\n",
    "import time\n",
    "from sklearn.metrics import accuracy_score\n",
    "from sklearn.metrics import confusion_matrix\n",
    "from sklearn.linear_model import LinearRegression\n",
    "from sklearn.linear_model import LogisticRegression\n",
    "from sklearn.ensemble import ExtraTreesClassifier\n",
    "from sklearn.ensemble import AdaBoostClassifier\n",
    "from sklearn.model_selection import GridSearchCV\n",
    "from sklearn.metrics import accuracy_score\n",
    "from sklearn.metrics import f1_score \n",
    "from sklearn.ensemble import RandomForestClassifier\n",
    "from sklearn.ensemble import GradientBoostingClassifier"
   ]
  },
  {
   "cell_type": "code",
   "execution_count": 2,
   "id": "0fefd7e6",
   "metadata": {},
   "outputs": [],
   "source": [
    "# Set the style for the Seaborn's plots\n",
    "sns.set_style('whitegrid',{\n",
    "    'xtick.bottom': False,\n",
    "    'xtick.color': '.1',\n",
    "    'xtick.direction': 'out',\n",
    "    'xtick.top': False,\n",
    "    'xtick.major.size': 1,\n",
    "    'xtick.minor.size': 0.5,\n",
    "    'ytick.left': True,\n",
    "    'ytick.color': '.1',\n",
    "    'ytick.direction': 'out',\n",
    "    'ytick.right': False,\n",
    "    'ytick.major.size': 1,\n",
    "    'ytick.minor.size': 0.5,    \n",
    "    'ytick.color': '.1',\n",
    "    'grid.linestyle': '--',\n",
    "    'axes.edgecolor': '.1',\n",
    "    'grid.color': '0.8'\n",
    " })\n",
    "\n",
    "palette = sns.color_palette(\"Set2\") \n",
    "sns.set_palette(palette)"
   ]
  },
  {
   "cell_type": "markdown",
   "id": "51c6ca27",
   "metadata": {},
   "source": [
    "[Back to the start](#toc)\n",
    "\n",
    "## Data Understanding <a class=\"anchor\" id=\"chapter1\"></a>"
   ]
  },
  {
   "cell_type": "code",
   "execution_count": 3,
   "id": "a81f9f1a",
   "metadata": {},
   "outputs": [
    {
     "name": "stderr",
     "output_type": "stream",
     "text": [
      "C:\\Users\\João\\AppData\\Local\\Temp\\ipykernel_19296\\2774465298.py:1: DtypeWarning: Columns (0) have mixed types. Specify dtype option on import or set low_memory=False.\n",
      "  test = pd.read_csv(\"data/Test_Dataset_v2.csv\")\n",
      "C:\\Users\\João\\AppData\\Local\\Temp\\ipykernel_19296\\2774465298.py:2: DtypeWarning: Columns (0) have mixed types. Specify dtype option on import or set low_memory=False.\n",
      "  train = pd.read_csv(\"data/Training_Dataset_v2.csv\")\n"
     ]
    }
   ],
   "source": [
    "test = pd.read_csv(\"data/Test_Dataset_v2.csv\")\n",
    "train = pd.read_csv(\"data/Training_Dataset_v2.csv\")"
   ]
  },
  {
   "cell_type": "code",
   "execution_count": 4,
   "id": "7d39b432",
   "metadata": {
    "scrolled": true
   },
   "outputs": [
    {
     "data": {
      "text/plain": [
       "-6.872058837773267"
      ]
     },
     "execution_count": 4,
     "metadata": {},
     "output_type": "execute_result"
    }
   ],
   "source": [
    "train['perf_6_month_avg'].mean()"
   ]
  },
  {
   "cell_type": "code",
   "execution_count": 5,
   "id": "7809ee5c",
   "metadata": {},
   "outputs": [
    {
     "data": {
      "text/plain": [
       "-6.4379467431763455"
      ]
     },
     "execution_count": 5,
     "metadata": {},
     "output_type": "execute_result"
    }
   ],
   "source": [
    "train['perf_12_month_avg'].mean()"
   ]
  },
  {
   "cell_type": "code",
   "execution_count": 6,
   "id": "228a7bab",
   "metadata": {
    "scrolled": true
   },
   "outputs": [
    {
     "data": {
      "text/html": [
       "<div>\n",
       "<style scoped>\n",
       "    .dataframe tbody tr th:only-of-type {\n",
       "        vertical-align: middle;\n",
       "    }\n",
       "\n",
       "    .dataframe tbody tr th {\n",
       "        vertical-align: top;\n",
       "    }\n",
       "\n",
       "    .dataframe thead th {\n",
       "        text-align: right;\n",
       "    }\n",
       "</style>\n",
       "<table border=\"1\" class=\"dataframe\">\n",
       "  <thead>\n",
       "    <tr style=\"text-align: right;\">\n",
       "      <th></th>\n",
       "      <th>sku</th>\n",
       "      <th>national_inv</th>\n",
       "      <th>lead_time</th>\n",
       "      <th>in_transit_qty</th>\n",
       "      <th>forecast_3_month</th>\n",
       "      <th>forecast_6_month</th>\n",
       "      <th>forecast_9_month</th>\n",
       "      <th>sales_1_month</th>\n",
       "      <th>sales_3_month</th>\n",
       "      <th>sales_6_month</th>\n",
       "      <th>...</th>\n",
       "      <th>pieces_past_due</th>\n",
       "      <th>perf_6_month_avg</th>\n",
       "      <th>perf_12_month_avg</th>\n",
       "      <th>local_bo_qty</th>\n",
       "      <th>deck_risk</th>\n",
       "      <th>oe_constraint</th>\n",
       "      <th>ppap_risk</th>\n",
       "      <th>stop_auto_buy</th>\n",
       "      <th>rev_stop</th>\n",
       "      <th>went_on_backorder</th>\n",
       "    </tr>\n",
       "  </thead>\n",
       "  <tbody>\n",
       "    <tr>\n",
       "      <th>0</th>\n",
       "      <td>3285085</td>\n",
       "      <td>62.0</td>\n",
       "      <td>NaN</td>\n",
       "      <td>0.0</td>\n",
       "      <td>0.0</td>\n",
       "      <td>0.0</td>\n",
       "      <td>0.0</td>\n",
       "      <td>0.0</td>\n",
       "      <td>0.0</td>\n",
       "      <td>0.0</td>\n",
       "      <td>...</td>\n",
       "      <td>0.0</td>\n",
       "      <td>-99.00</td>\n",
       "      <td>-99.00</td>\n",
       "      <td>0.0</td>\n",
       "      <td>Yes</td>\n",
       "      <td>No</td>\n",
       "      <td>No</td>\n",
       "      <td>Yes</td>\n",
       "      <td>No</td>\n",
       "      <td>No</td>\n",
       "    </tr>\n",
       "    <tr>\n",
       "      <th>1</th>\n",
       "      <td>3285131</td>\n",
       "      <td>9.0</td>\n",
       "      <td>NaN</td>\n",
       "      <td>0.0</td>\n",
       "      <td>0.0</td>\n",
       "      <td>0.0</td>\n",
       "      <td>0.0</td>\n",
       "      <td>0.0</td>\n",
       "      <td>0.0</td>\n",
       "      <td>0.0</td>\n",
       "      <td>...</td>\n",
       "      <td>0.0</td>\n",
       "      <td>-99.00</td>\n",
       "      <td>-99.00</td>\n",
       "      <td>0.0</td>\n",
       "      <td>No</td>\n",
       "      <td>No</td>\n",
       "      <td>Yes</td>\n",
       "      <td>No</td>\n",
       "      <td>No</td>\n",
       "      <td>No</td>\n",
       "    </tr>\n",
       "    <tr>\n",
       "      <th>2</th>\n",
       "      <td>3285358</td>\n",
       "      <td>17.0</td>\n",
       "      <td>8.0</td>\n",
       "      <td>0.0</td>\n",
       "      <td>0.0</td>\n",
       "      <td>0.0</td>\n",
       "      <td>0.0</td>\n",
       "      <td>0.0</td>\n",
       "      <td>0.0</td>\n",
       "      <td>0.0</td>\n",
       "      <td>...</td>\n",
       "      <td>0.0</td>\n",
       "      <td>0.92</td>\n",
       "      <td>0.95</td>\n",
       "      <td>0.0</td>\n",
       "      <td>No</td>\n",
       "      <td>No</td>\n",
       "      <td>No</td>\n",
       "      <td>Yes</td>\n",
       "      <td>No</td>\n",
       "      <td>No</td>\n",
       "    </tr>\n",
       "    <tr>\n",
       "      <th>3</th>\n",
       "      <td>3285517</td>\n",
       "      <td>9.0</td>\n",
       "      <td>2.0</td>\n",
       "      <td>0.0</td>\n",
       "      <td>0.0</td>\n",
       "      <td>0.0</td>\n",
       "      <td>0.0</td>\n",
       "      <td>0.0</td>\n",
       "      <td>0.0</td>\n",
       "      <td>0.0</td>\n",
       "      <td>...</td>\n",
       "      <td>0.0</td>\n",
       "      <td>0.78</td>\n",
       "      <td>0.75</td>\n",
       "      <td>0.0</td>\n",
       "      <td>No</td>\n",
       "      <td>No</td>\n",
       "      <td>Yes</td>\n",
       "      <td>Yes</td>\n",
       "      <td>No</td>\n",
       "      <td>No</td>\n",
       "    </tr>\n",
       "    <tr>\n",
       "      <th>4</th>\n",
       "      <td>3285608</td>\n",
       "      <td>2.0</td>\n",
       "      <td>8.0</td>\n",
       "      <td>0.0</td>\n",
       "      <td>0.0</td>\n",
       "      <td>0.0</td>\n",
       "      <td>0.0</td>\n",
       "      <td>0.0</td>\n",
       "      <td>0.0</td>\n",
       "      <td>0.0</td>\n",
       "      <td>...</td>\n",
       "      <td>0.0</td>\n",
       "      <td>0.54</td>\n",
       "      <td>0.71</td>\n",
       "      <td>0.0</td>\n",
       "      <td>No</td>\n",
       "      <td>No</td>\n",
       "      <td>No</td>\n",
       "      <td>Yes</td>\n",
       "      <td>No</td>\n",
       "      <td>No</td>\n",
       "    </tr>\n",
       "  </tbody>\n",
       "</table>\n",
       "<p>5 rows × 23 columns</p>\n",
       "</div>"
      ],
      "text/plain": [
       "       sku  national_inv  lead_time  in_transit_qty  forecast_3_month  \\\n",
       "0  3285085          62.0        NaN             0.0               0.0   \n",
       "1  3285131           9.0        NaN             0.0               0.0   \n",
       "2  3285358          17.0        8.0             0.0               0.0   \n",
       "3  3285517           9.0        2.0             0.0               0.0   \n",
       "4  3285608           2.0        8.0             0.0               0.0   \n",
       "\n",
       "   forecast_6_month  forecast_9_month  sales_1_month  sales_3_month  \\\n",
       "0               0.0               0.0            0.0            0.0   \n",
       "1               0.0               0.0            0.0            0.0   \n",
       "2               0.0               0.0            0.0            0.0   \n",
       "3               0.0               0.0            0.0            0.0   \n",
       "4               0.0               0.0            0.0            0.0   \n",
       "\n",
       "   sales_6_month  ...  pieces_past_due  perf_6_month_avg perf_12_month_avg  \\\n",
       "0            0.0  ...              0.0            -99.00            -99.00   \n",
       "1            0.0  ...              0.0            -99.00            -99.00   \n",
       "2            0.0  ...              0.0              0.92              0.95   \n",
       "3            0.0  ...              0.0              0.78              0.75   \n",
       "4            0.0  ...              0.0              0.54              0.71   \n",
       "\n",
       "   local_bo_qty  deck_risk  oe_constraint  ppap_risk stop_auto_buy rev_stop  \\\n",
       "0           0.0        Yes             No         No           Yes       No   \n",
       "1           0.0         No             No        Yes            No       No   \n",
       "2           0.0         No             No         No           Yes       No   \n",
       "3           0.0         No             No        Yes           Yes       No   \n",
       "4           0.0         No             No         No           Yes       No   \n",
       "\n",
       "  went_on_backorder  \n",
       "0                No  \n",
       "1                No  \n",
       "2                No  \n",
       "3                No  \n",
       "4                No  \n",
       "\n",
       "[5 rows x 23 columns]"
      ]
     },
     "execution_count": 6,
     "metadata": {},
     "output_type": "execute_result"
    }
   ],
   "source": [
    "test.head(5)"
   ]
  },
  {
   "cell_type": "markdown",
   "id": "e9365978",
   "metadata": {},
   "source": [
    "### Initial Analysis"
   ]
  },
  {
   "cell_type": "code",
   "execution_count": 7,
   "id": "266e5fbf",
   "metadata": {},
   "outputs": [],
   "source": [
    "#train = train.set_index(\"sku\")\n",
    "#test = test.set_index(\"sku\")"
   ]
  },
  {
   "cell_type": "code",
   "execution_count": 8,
   "id": "20a53723",
   "metadata": {},
   "outputs": [
    {
     "data": {
      "text/html": [
       "<div>\n",
       "<style scoped>\n",
       "    .dataframe tbody tr th:only-of-type {\n",
       "        vertical-align: middle;\n",
       "    }\n",
       "\n",
       "    .dataframe tbody tr th {\n",
       "        vertical-align: top;\n",
       "    }\n",
       "\n",
       "    .dataframe thead th {\n",
       "        text-align: right;\n",
       "    }\n",
       "</style>\n",
       "<table border=\"1\" class=\"dataframe\">\n",
       "  <thead>\n",
       "    <tr style=\"text-align: right;\">\n",
       "      <th></th>\n",
       "      <th>national_inv</th>\n",
       "      <th>lead_time</th>\n",
       "      <th>in_transit_qty</th>\n",
       "      <th>forecast_3_month</th>\n",
       "      <th>forecast_6_month</th>\n",
       "      <th>forecast_9_month</th>\n",
       "      <th>sales_1_month</th>\n",
       "      <th>sales_3_month</th>\n",
       "      <th>sales_6_month</th>\n",
       "      <th>sales_9_month</th>\n",
       "      <th>min_bank</th>\n",
       "      <th>pieces_past_due</th>\n",
       "      <th>perf_6_month_avg</th>\n",
       "      <th>perf_12_month_avg</th>\n",
       "      <th>local_bo_qty</th>\n",
       "    </tr>\n",
       "  </thead>\n",
       "  <tbody>\n",
       "    <tr>\n",
       "      <th>count</th>\n",
       "      <td>1.687860e+06</td>\n",
       "      <td>1.586967e+06</td>\n",
       "      <td>1.687860e+06</td>\n",
       "      <td>1.687860e+06</td>\n",
       "      <td>1.687860e+06</td>\n",
       "      <td>1.687860e+06</td>\n",
       "      <td>1.687860e+06</td>\n",
       "      <td>1.687860e+06</td>\n",
       "      <td>1.687860e+06</td>\n",
       "      <td>1.687860e+06</td>\n",
       "      <td>1.687860e+06</td>\n",
       "      <td>1.687860e+06</td>\n",
       "      <td>1.687860e+06</td>\n",
       "      <td>1.687860e+06</td>\n",
       "      <td>1.687860e+06</td>\n",
       "    </tr>\n",
       "    <tr>\n",
       "      <th>mean</th>\n",
       "      <td>4.961118e+02</td>\n",
       "      <td>7.872267e+00</td>\n",
       "      <td>4.405202e+01</td>\n",
       "      <td>1.781193e+02</td>\n",
       "      <td>3.449867e+02</td>\n",
       "      <td>5.063644e+02</td>\n",
       "      <td>5.592607e+01</td>\n",
       "      <td>1.750259e+02</td>\n",
       "      <td>3.417288e+02</td>\n",
       "      <td>5.252697e+02</td>\n",
       "      <td>5.277230e+01</td>\n",
       "      <td>2.043724e+00</td>\n",
       "      <td>-6.872059e+00</td>\n",
       "      <td>-6.437947e+00</td>\n",
       "      <td>6.264507e-01</td>\n",
       "    </tr>\n",
       "    <tr>\n",
       "      <th>std</th>\n",
       "      <td>2.961523e+04</td>\n",
       "      <td>7.056024e+00</td>\n",
       "      <td>1.342742e+03</td>\n",
       "      <td>5.026553e+03</td>\n",
       "      <td>9.795152e+03</td>\n",
       "      <td>1.437892e+04</td>\n",
       "      <td>1.928196e+03</td>\n",
       "      <td>5.192378e+03</td>\n",
       "      <td>9.613167e+03</td>\n",
       "      <td>1.483861e+04</td>\n",
       "      <td>1.254983e+03</td>\n",
       "      <td>2.360165e+02</td>\n",
       "      <td>2.655636e+01</td>\n",
       "      <td>2.584333e+01</td>\n",
       "      <td>3.372224e+01</td>\n",
       "    </tr>\n",
       "    <tr>\n",
       "      <th>min</th>\n",
       "      <td>-2.725600e+04</td>\n",
       "      <td>0.000000e+00</td>\n",
       "      <td>0.000000e+00</td>\n",
       "      <td>0.000000e+00</td>\n",
       "      <td>0.000000e+00</td>\n",
       "      <td>0.000000e+00</td>\n",
       "      <td>0.000000e+00</td>\n",
       "      <td>0.000000e+00</td>\n",
       "      <td>0.000000e+00</td>\n",
       "      <td>0.000000e+00</td>\n",
       "      <td>0.000000e+00</td>\n",
       "      <td>0.000000e+00</td>\n",
       "      <td>-9.900000e+01</td>\n",
       "      <td>-9.900000e+01</td>\n",
       "      <td>0.000000e+00</td>\n",
       "    </tr>\n",
       "    <tr>\n",
       "      <th>25%</th>\n",
       "      <td>4.000000e+00</td>\n",
       "      <td>4.000000e+00</td>\n",
       "      <td>0.000000e+00</td>\n",
       "      <td>0.000000e+00</td>\n",
       "      <td>0.000000e+00</td>\n",
       "      <td>0.000000e+00</td>\n",
       "      <td>0.000000e+00</td>\n",
       "      <td>0.000000e+00</td>\n",
       "      <td>0.000000e+00</td>\n",
       "      <td>0.000000e+00</td>\n",
       "      <td>0.000000e+00</td>\n",
       "      <td>0.000000e+00</td>\n",
       "      <td>6.300000e-01</td>\n",
       "      <td>6.600000e-01</td>\n",
       "      <td>0.000000e+00</td>\n",
       "    </tr>\n",
       "    <tr>\n",
       "      <th>50%</th>\n",
       "      <td>1.500000e+01</td>\n",
       "      <td>8.000000e+00</td>\n",
       "      <td>0.000000e+00</td>\n",
       "      <td>0.000000e+00</td>\n",
       "      <td>0.000000e+00</td>\n",
       "      <td>0.000000e+00</td>\n",
       "      <td>0.000000e+00</td>\n",
       "      <td>1.000000e+00</td>\n",
       "      <td>2.000000e+00</td>\n",
       "      <td>4.000000e+00</td>\n",
       "      <td>0.000000e+00</td>\n",
       "      <td>0.000000e+00</td>\n",
       "      <td>8.200000e-01</td>\n",
       "      <td>8.100000e-01</td>\n",
       "      <td>0.000000e+00</td>\n",
       "    </tr>\n",
       "    <tr>\n",
       "      <th>75%</th>\n",
       "      <td>8.000000e+01</td>\n",
       "      <td>9.000000e+00</td>\n",
       "      <td>0.000000e+00</td>\n",
       "      <td>4.000000e+00</td>\n",
       "      <td>1.200000e+01</td>\n",
       "      <td>2.000000e+01</td>\n",
       "      <td>4.000000e+00</td>\n",
       "      <td>1.500000e+01</td>\n",
       "      <td>3.100000e+01</td>\n",
       "      <td>4.700000e+01</td>\n",
       "      <td>3.000000e+00</td>\n",
       "      <td>0.000000e+00</td>\n",
       "      <td>9.700000e-01</td>\n",
       "      <td>9.500000e-01</td>\n",
       "      <td>0.000000e+00</td>\n",
       "    </tr>\n",
       "    <tr>\n",
       "      <th>max</th>\n",
       "      <td>1.233440e+07</td>\n",
       "      <td>5.200000e+01</td>\n",
       "      <td>4.894080e+05</td>\n",
       "      <td>1.427612e+06</td>\n",
       "      <td>2.461360e+06</td>\n",
       "      <td>3.777304e+06</td>\n",
       "      <td>7.417740e+05</td>\n",
       "      <td>1.105478e+06</td>\n",
       "      <td>2.146625e+06</td>\n",
       "      <td>3.205172e+06</td>\n",
       "      <td>3.133190e+05</td>\n",
       "      <td>1.464960e+05</td>\n",
       "      <td>1.000000e+00</td>\n",
       "      <td>1.000000e+00</td>\n",
       "      <td>1.253000e+04</td>\n",
       "    </tr>\n",
       "  </tbody>\n",
       "</table>\n",
       "</div>"
      ],
      "text/plain": [
       "       national_inv     lead_time  in_transit_qty  forecast_3_month  \\\n",
       "count  1.687860e+06  1.586967e+06    1.687860e+06      1.687860e+06   \n",
       "mean   4.961118e+02  7.872267e+00    4.405202e+01      1.781193e+02   \n",
       "std    2.961523e+04  7.056024e+00    1.342742e+03      5.026553e+03   \n",
       "min   -2.725600e+04  0.000000e+00    0.000000e+00      0.000000e+00   \n",
       "25%    4.000000e+00  4.000000e+00    0.000000e+00      0.000000e+00   \n",
       "50%    1.500000e+01  8.000000e+00    0.000000e+00      0.000000e+00   \n",
       "75%    8.000000e+01  9.000000e+00    0.000000e+00      4.000000e+00   \n",
       "max    1.233440e+07  5.200000e+01    4.894080e+05      1.427612e+06   \n",
       "\n",
       "       forecast_6_month  forecast_9_month  sales_1_month  sales_3_month  \\\n",
       "count      1.687860e+06      1.687860e+06   1.687860e+06   1.687860e+06   \n",
       "mean       3.449867e+02      5.063644e+02   5.592607e+01   1.750259e+02   \n",
       "std        9.795152e+03      1.437892e+04   1.928196e+03   5.192378e+03   \n",
       "min        0.000000e+00      0.000000e+00   0.000000e+00   0.000000e+00   \n",
       "25%        0.000000e+00      0.000000e+00   0.000000e+00   0.000000e+00   \n",
       "50%        0.000000e+00      0.000000e+00   0.000000e+00   1.000000e+00   \n",
       "75%        1.200000e+01      2.000000e+01   4.000000e+00   1.500000e+01   \n",
       "max        2.461360e+06      3.777304e+06   7.417740e+05   1.105478e+06   \n",
       "\n",
       "       sales_6_month  sales_9_month      min_bank  pieces_past_due  \\\n",
       "count   1.687860e+06   1.687860e+06  1.687860e+06     1.687860e+06   \n",
       "mean    3.417288e+02   5.252697e+02  5.277230e+01     2.043724e+00   \n",
       "std     9.613167e+03   1.483861e+04  1.254983e+03     2.360165e+02   \n",
       "min     0.000000e+00   0.000000e+00  0.000000e+00     0.000000e+00   \n",
       "25%     0.000000e+00   0.000000e+00  0.000000e+00     0.000000e+00   \n",
       "50%     2.000000e+00   4.000000e+00  0.000000e+00     0.000000e+00   \n",
       "75%     3.100000e+01   4.700000e+01  3.000000e+00     0.000000e+00   \n",
       "max     2.146625e+06   3.205172e+06  3.133190e+05     1.464960e+05   \n",
       "\n",
       "       perf_6_month_avg  perf_12_month_avg  local_bo_qty  \n",
       "count      1.687860e+06       1.687860e+06  1.687860e+06  \n",
       "mean      -6.872059e+00      -6.437947e+00  6.264507e-01  \n",
       "std        2.655636e+01       2.584333e+01  3.372224e+01  \n",
       "min       -9.900000e+01      -9.900000e+01  0.000000e+00  \n",
       "25%        6.300000e-01       6.600000e-01  0.000000e+00  \n",
       "50%        8.200000e-01       8.100000e-01  0.000000e+00  \n",
       "75%        9.700000e-01       9.500000e-01  0.000000e+00  \n",
       "max        1.000000e+00       1.000000e+00  1.253000e+04  "
      ]
     },
     "execution_count": 8,
     "metadata": {},
     "output_type": "execute_result"
    }
   ],
   "source": [
    "# descriptive statistics for the variables\n",
    "train.describe()"
   ]
  },
  {
   "cell_type": "code",
   "execution_count": 9,
   "id": "217797bf",
   "metadata": {},
   "outputs": [
    {
     "data": {
      "text/html": [
       "<div>\n",
       "<style scoped>\n",
       "    .dataframe tbody tr th:only-of-type {\n",
       "        vertical-align: middle;\n",
       "    }\n",
       "\n",
       "    .dataframe tbody tr th {\n",
       "        vertical-align: top;\n",
       "    }\n",
       "\n",
       "    .dataframe thead th {\n",
       "        text-align: right;\n",
       "    }\n",
       "</style>\n",
       "<table border=\"1\" class=\"dataframe\">\n",
       "  <thead>\n",
       "    <tr style=\"text-align: right;\">\n",
       "      <th></th>\n",
       "      <th>sku</th>\n",
       "      <th>potential_issue</th>\n",
       "      <th>deck_risk</th>\n",
       "      <th>oe_constraint</th>\n",
       "      <th>ppap_risk</th>\n",
       "      <th>stop_auto_buy</th>\n",
       "      <th>rev_stop</th>\n",
       "      <th>went_on_backorder</th>\n",
       "    </tr>\n",
       "  </thead>\n",
       "  <tbody>\n",
       "    <tr>\n",
       "      <th>count</th>\n",
       "      <td>1687861</td>\n",
       "      <td>1687860</td>\n",
       "      <td>1687860</td>\n",
       "      <td>1687860</td>\n",
       "      <td>1687860</td>\n",
       "      <td>1687860</td>\n",
       "      <td>1687860</td>\n",
       "      <td>1687860</td>\n",
       "    </tr>\n",
       "    <tr>\n",
       "      <th>unique</th>\n",
       "      <td>1687861</td>\n",
       "      <td>2</td>\n",
       "      <td>2</td>\n",
       "      <td>2</td>\n",
       "      <td>2</td>\n",
       "      <td>2</td>\n",
       "      <td>2</td>\n",
       "      <td>2</td>\n",
       "    </tr>\n",
       "    <tr>\n",
       "      <th>top</th>\n",
       "      <td>1026827</td>\n",
       "      <td>No</td>\n",
       "      <td>No</td>\n",
       "      <td>No</td>\n",
       "      <td>No</td>\n",
       "      <td>Yes</td>\n",
       "      <td>No</td>\n",
       "      <td>No</td>\n",
       "    </tr>\n",
       "    <tr>\n",
       "      <th>freq</th>\n",
       "      <td>1</td>\n",
       "      <td>1686953</td>\n",
       "      <td>1300377</td>\n",
       "      <td>1687615</td>\n",
       "      <td>1484026</td>\n",
       "      <td>1626774</td>\n",
       "      <td>1687129</td>\n",
       "      <td>1676567</td>\n",
       "    </tr>\n",
       "  </tbody>\n",
       "</table>\n",
       "</div>"
      ],
      "text/plain": [
       "            sku potential_issue deck_risk oe_constraint ppap_risk  \\\n",
       "count   1687861         1687860   1687860       1687860   1687860   \n",
       "unique  1687861               2         2             2         2   \n",
       "top     1026827              No        No            No        No   \n",
       "freq          1         1686953   1300377       1687615   1484026   \n",
       "\n",
       "       stop_auto_buy rev_stop went_on_backorder  \n",
       "count        1687860  1687860           1687860  \n",
       "unique             2        2                 2  \n",
       "top              Yes       No                No  \n",
       "freq         1626774  1687129           1676567  "
      ]
     },
     "execution_count": 9,
     "metadata": {},
     "output_type": "execute_result"
    }
   ],
   "source": [
    "train.describe(include=['O'])"
   ]
  },
  {
   "cell_type": "code",
   "execution_count": 10,
   "id": "ca94805c",
   "metadata": {},
   "outputs": [
    {
     "name": "stdout",
     "output_type": "stream",
     "text": [
      "<class 'pandas.core.frame.DataFrame'>\n",
      "RangeIndex: 1687861 entries, 0 to 1687860\n",
      "Data columns (total 23 columns):\n",
      " #   Column             Non-Null Count    Dtype  \n",
      "---  ------             --------------    -----  \n",
      " 0   sku                1687861 non-null  object \n",
      " 1   national_inv       1687860 non-null  float64\n",
      " 2   lead_time          1586967 non-null  float64\n",
      " 3   in_transit_qty     1687860 non-null  float64\n",
      " 4   forecast_3_month   1687860 non-null  float64\n",
      " 5   forecast_6_month   1687860 non-null  float64\n",
      " 6   forecast_9_month   1687860 non-null  float64\n",
      " 7   sales_1_month      1687860 non-null  float64\n",
      " 8   sales_3_month      1687860 non-null  float64\n",
      " 9   sales_6_month      1687860 non-null  float64\n",
      " 10  sales_9_month      1687860 non-null  float64\n",
      " 11  min_bank           1687860 non-null  float64\n",
      " 12  potential_issue    1687860 non-null  object \n",
      " 13  pieces_past_due    1687860 non-null  float64\n",
      " 14  perf_6_month_avg   1687860 non-null  float64\n",
      " 15  perf_12_month_avg  1687860 non-null  float64\n",
      " 16  local_bo_qty       1687860 non-null  float64\n",
      " 17  deck_risk          1687860 non-null  object \n",
      " 18  oe_constraint      1687860 non-null  object \n",
      " 19  ppap_risk          1687860 non-null  object \n",
      " 20  stop_auto_buy      1687860 non-null  object \n",
      " 21  rev_stop           1687860 non-null  object \n",
      " 22  went_on_backorder  1687860 non-null  object \n",
      "dtypes: float64(15), object(8)\n",
      "memory usage: 296.2+ MB\n"
     ]
    }
   ],
   "source": [
    "train.info()"
   ]
  },
  {
   "cell_type": "code",
   "execution_count": 11,
   "id": "815445d4",
   "metadata": {},
   "outputs": [
    {
     "name": "stdout",
     "output_type": "stream",
     "text": [
      "Train: \n",
      " False    1687861\n",
      "dtype: int64 \n",
      "\n"
     ]
    }
   ],
   "source": [
    "# Duplicated records\n",
    "print('Train: \\n',train.duplicated().value_counts(),'\\n') "
   ]
  },
  {
   "cell_type": "code",
   "execution_count": 12,
   "id": "e49e44f2",
   "metadata": {},
   "outputs": [
    {
     "data": {
      "text/plain": [
       "sku                       0\n",
       "national_inv              1\n",
       "lead_time            100894\n",
       "in_transit_qty            1\n",
       "forecast_3_month          1\n",
       "forecast_6_month          1\n",
       "forecast_9_month          1\n",
       "sales_1_month             1\n",
       "sales_3_month             1\n",
       "sales_6_month             1\n",
       "sales_9_month             1\n",
       "min_bank                  1\n",
       "potential_issue           1\n",
       "pieces_past_due           1\n",
       "perf_6_month_avg          1\n",
       "perf_12_month_avg         1\n",
       "local_bo_qty              1\n",
       "deck_risk                 1\n",
       "oe_constraint             1\n",
       "ppap_risk                 1\n",
       "stop_auto_buy             1\n",
       "rev_stop                  1\n",
       "went_on_backorder         1\n",
       "dtype: int64"
      ]
     },
     "execution_count": 12,
     "metadata": {},
     "output_type": "execute_result"
    }
   ],
   "source": [
    "# Missing Values on train dataset\n",
    "train.isna().sum()"
   ]
  },
  {
   "cell_type": "markdown",
   "id": "b11ec9f3",
   "metadata": {},
   "source": [
    "lead_time - Transit time for product (if available)"
   ]
  },
  {
   "cell_type": "markdown",
   "id": "2439f2cd",
   "metadata": {},
   "source": [
    "    Sku is the identifier and therefore, the index; \n",
    "\n",
    "    Out of the other 21 features (excluding the class label went_on_backorder), 15 of them are numerical and 6 of them are categorical. \n",
    "    All the categorical features (potential_issue, deck_risk, oe_constraint, ppap_risk, stop_auto_buy and rev_stop) have either Yes or No, so we will transform them to binary; \n",
    "\n",
    "    The numerical features include national_inv, lead_time, in_transit_qty, forecast_3_month, forecast_6_month, forecast_9_month, sales_1_month, sales_3_month, sales_6_month, sales_9_month, min_bank, pieces_past_due, perf_6_month_avg, perf_12_month_avg, local_bo_qty. \n",
    "\n",
    "    lead_time is the only feature with missing values.In addition, the last row of every feature has null values so will removed. "
   ]
  },
  {
   "cell_type": "markdown",
   "id": "2edb96fd",
   "metadata": {},
   "source": [
    "### Pandas profiling"
   ]
  },
  {
   "cell_type": "code",
   "execution_count": 13,
   "id": "825f0ba5",
   "metadata": {
    "scrolled": true
   },
   "outputs": [],
   "source": [
    "#pip install pandas-profiling"
   ]
  },
  {
   "cell_type": "code",
   "execution_count": 14,
   "id": "e8808a4b",
   "metadata": {
    "scrolled": true
   },
   "outputs": [],
   "source": [
    "#profile = ProfileReport(train)\n",
    "#profile  "
   ]
  },
  {
   "cell_type": "code",
   "execution_count": 15,
   "id": "3a2ae3fb",
   "metadata": {},
   "outputs": [],
   "source": [
    "#profile.to_file(\"report.html\")"
   ]
  },
  {
   "cell_type": "markdown",
   "id": "fe01effd",
   "metadata": {},
   "source": [
    "* The target variable went_on_backorder is a categorical feature with two values \"Yes\" and \"No\".\n",
    "* 99.33% belong to the class \"Yes\" and remaining 0.669% belong to the class \"No\"; dataset is highly imbalanced with majority and minority class ratio of approximately 148:1\n",
    "* in_transit_qty has 1344662 (79.7%) zeros"
   ]
  },
  {
   "cell_type": "markdown",
   "id": "ad018d08",
   "metadata": {},
   "source": [
    "Real numbers: \n",
    "* forecasts: ~65% is 0; very correlated within themselves and with sales; highly skewed; with outliers;\n",
    "* in transit: skewed; with ~80% of 0s; small IQR; many outliers; \n",
    "* lead_time: has 6% of missing values; \n",
    "* local_bo_qty: skewed; 98.9% of 0 values; \n",
    "* min_bank: 52% 0s; \n",
    "* performance features 6,12 months: high correlation with themselves, ~7-8% of -99\n",
    "* pieces_past_due: skewed, 98.5% 0s; \n",
    "* sales: skewed; lots of 0s ~40%; high correlation with each others; \n",
    "\n",
    "Booleans: \n",
    "* oe_constraint: 99% no (high relation with backorder); \n",
    "* potential_issue: 99.9% No(high relation with backorder);\n",
    "* ppap_risk: -\n",
    "* rev_stop: 99.9% no (no relation with backorder). "
   ]
  },
  {
   "cell_type": "markdown",
   "id": "63f2f6d5",
   "metadata": {},
   "source": [
    "[Back to the start](#toc)\n",
    "\n",
    "## Data Preparation <a class=\"anchor\" id=\"chapter2\"></a>"
   ]
  },
  {
   "cell_type": "markdown",
   "id": "d9794e0f",
   "metadata": {},
   "source": [
    "### Missing values"
   ]
  },
  {
   "cell_type": "code",
   "execution_count": 16,
   "id": "04522712",
   "metadata": {},
   "outputs": [
    {
     "name": "stdout",
     "output_type": "stream",
     "text": [
      "Total percentage of Missing Values:  5.9799999999999995 %\n"
     ]
    }
   ],
   "source": [
    "total = np.round(train['lead_time'].isna().sum()/ len(train), 4)\n",
    "print('Total percentage of Missing Values: ', total*100, '%')"
   ]
  },
  {
   "cell_type": "code",
   "execution_count": 17,
   "id": "aa5872d3",
   "metadata": {},
   "outputs": [],
   "source": [
    "train.drop(train[train['national_inv'].isna()].index,inplace = True) \n",
    "#This line was NA in all values but sku, so it was deleted"
   ]
  },
  {
   "cell_type": "code",
   "execution_count": 18,
   "id": "5e78fddf",
   "metadata": {},
   "outputs": [],
   "source": [
    "train_numerical = train.select_dtypes(include='number')"
   ]
  },
  {
   "cell_type": "code",
   "execution_count": 19,
   "id": "5b5e831c",
   "metadata": {},
   "outputs": [],
   "source": [
    "#imputer = KNNImputer(n_neighbors=2, weights=\"uniform\").fit(train_numerical)\n",
    "#imputed_matrix = imputer.transform(train_numerical)"
   ]
  },
  {
   "cell_type": "code",
   "execution_count": 20,
   "id": "15a5c4e3",
   "metadata": {},
   "outputs": [],
   "source": [
    "#data_cleaned = pd.DataFrame(data=imputed_matrix, columns=train_numerical.columns, index=train_numerical.index)"
   ]
  },
  {
   "cell_type": "code",
   "execution_count": 21,
   "id": "78515ee6",
   "metadata": {},
   "outputs": [],
   "source": [
    "#train[data_cleaned.columns] = data_cleaned"
   ]
  },
  {
   "cell_type": "code",
   "execution_count": 22,
   "id": "28de0596",
   "metadata": {},
   "outputs": [],
   "source": [
    "#train.isna().sum()"
   ]
  },
  {
   "cell_type": "code",
   "execution_count": 23,
   "id": "3de55f80",
   "metadata": {},
   "outputs": [],
   "source": [
    "#IMPUTING WITH KNN TAKES WAY TOO MUCH TIME (1H+)? Don't know why"
   ]
  },
  {
   "cell_type": "code",
   "execution_count": 24,
   "id": "cb58907a",
   "metadata": {},
   "outputs": [
    {
     "data": {
      "text/plain": [
       "national_inv         496.111782\n",
       "lead_time              7.872267\n",
       "in_transit_qty        44.052022\n",
       "forecast_3_month     178.119284\n",
       "forecast_6_month     344.986664\n",
       "forecast_9_month     506.364431\n",
       "sales_1_month         55.926069\n",
       "sales_3_month        175.025930\n",
       "sales_6_month        341.728839\n",
       "sales_9_month        525.269701\n",
       "min_bank              52.772303\n",
       "pieces_past_due        2.043724\n",
       "perf_6_month_avg      -6.872059\n",
       "perf_12_month_avg     -6.437947\n",
       "local_bo_qty           0.626451\n",
       "dtype: float64"
      ]
     },
     "execution_count": 24,
     "metadata": {},
     "output_type": "execute_result"
    }
   ],
   "source": [
    "train_numerical.mean()"
   ]
  },
  {
   "cell_type": "code",
   "execution_count": 25,
   "id": "87a52e86",
   "metadata": {},
   "outputs": [],
   "source": [
    "train_numerical = train_numerical.fillna(train_numerical.mean())"
   ]
  },
  {
   "cell_type": "code",
   "execution_count": 26,
   "id": "f85e76fa",
   "metadata": {},
   "outputs": [
    {
     "data": {
      "text/html": [
       "<div>\n",
       "<style scoped>\n",
       "    .dataframe tbody tr th:only-of-type {\n",
       "        vertical-align: middle;\n",
       "    }\n",
       "\n",
       "    .dataframe tbody tr th {\n",
       "        vertical-align: top;\n",
       "    }\n",
       "\n",
       "    .dataframe thead th {\n",
       "        text-align: right;\n",
       "    }\n",
       "</style>\n",
       "<table border=\"1\" class=\"dataframe\">\n",
       "  <thead>\n",
       "    <tr style=\"text-align: right;\">\n",
       "      <th></th>\n",
       "      <th>national_inv</th>\n",
       "      <th>lead_time</th>\n",
       "      <th>in_transit_qty</th>\n",
       "      <th>forecast_3_month</th>\n",
       "      <th>forecast_6_month</th>\n",
       "      <th>forecast_9_month</th>\n",
       "      <th>sales_1_month</th>\n",
       "      <th>sales_3_month</th>\n",
       "      <th>sales_6_month</th>\n",
       "      <th>sales_9_month</th>\n",
       "      <th>min_bank</th>\n",
       "      <th>pieces_past_due</th>\n",
       "      <th>perf_6_month_avg</th>\n",
       "      <th>perf_12_month_avg</th>\n",
       "      <th>local_bo_qty</th>\n",
       "    </tr>\n",
       "  </thead>\n",
       "  <tbody>\n",
       "    <tr>\n",
       "      <th>0</th>\n",
       "      <td>0.0</td>\n",
       "      <td>7.872267</td>\n",
       "      <td>0.0</td>\n",
       "      <td>0.0</td>\n",
       "      <td>0.0</td>\n",
       "      <td>0.0</td>\n",
       "      <td>0.0</td>\n",
       "      <td>0.0</td>\n",
       "      <td>0.0</td>\n",
       "      <td>0.0</td>\n",
       "      <td>0.0</td>\n",
       "      <td>0.0</td>\n",
       "      <td>-99.00</td>\n",
       "      <td>-99.00</td>\n",
       "      <td>0.0</td>\n",
       "    </tr>\n",
       "    <tr>\n",
       "      <th>1</th>\n",
       "      <td>2.0</td>\n",
       "      <td>9.000000</td>\n",
       "      <td>0.0</td>\n",
       "      <td>0.0</td>\n",
       "      <td>0.0</td>\n",
       "      <td>0.0</td>\n",
       "      <td>0.0</td>\n",
       "      <td>0.0</td>\n",
       "      <td>0.0</td>\n",
       "      <td>0.0</td>\n",
       "      <td>0.0</td>\n",
       "      <td>0.0</td>\n",
       "      <td>0.99</td>\n",
       "      <td>0.99</td>\n",
       "      <td>0.0</td>\n",
       "    </tr>\n",
       "    <tr>\n",
       "      <th>2</th>\n",
       "      <td>2.0</td>\n",
       "      <td>7.872267</td>\n",
       "      <td>0.0</td>\n",
       "      <td>0.0</td>\n",
       "      <td>0.0</td>\n",
       "      <td>0.0</td>\n",
       "      <td>0.0</td>\n",
       "      <td>0.0</td>\n",
       "      <td>0.0</td>\n",
       "      <td>0.0</td>\n",
       "      <td>0.0</td>\n",
       "      <td>0.0</td>\n",
       "      <td>-99.00</td>\n",
       "      <td>-99.00</td>\n",
       "      <td>0.0</td>\n",
       "    </tr>\n",
       "    <tr>\n",
       "      <th>3</th>\n",
       "      <td>7.0</td>\n",
       "      <td>8.000000</td>\n",
       "      <td>0.0</td>\n",
       "      <td>0.0</td>\n",
       "      <td>0.0</td>\n",
       "      <td>0.0</td>\n",
       "      <td>0.0</td>\n",
       "      <td>0.0</td>\n",
       "      <td>0.0</td>\n",
       "      <td>0.0</td>\n",
       "      <td>1.0</td>\n",
       "      <td>0.0</td>\n",
       "      <td>0.10</td>\n",
       "      <td>0.13</td>\n",
       "      <td>0.0</td>\n",
       "    </tr>\n",
       "    <tr>\n",
       "      <th>4</th>\n",
       "      <td>8.0</td>\n",
       "      <td>7.872267</td>\n",
       "      <td>0.0</td>\n",
       "      <td>0.0</td>\n",
       "      <td>0.0</td>\n",
       "      <td>0.0</td>\n",
       "      <td>0.0</td>\n",
       "      <td>0.0</td>\n",
       "      <td>0.0</td>\n",
       "      <td>4.0</td>\n",
       "      <td>2.0</td>\n",
       "      <td>0.0</td>\n",
       "      <td>-99.00</td>\n",
       "      <td>-99.00</td>\n",
       "      <td>0.0</td>\n",
       "    </tr>\n",
       "    <tr>\n",
       "      <th>...</th>\n",
       "      <td>...</td>\n",
       "      <td>...</td>\n",
       "      <td>...</td>\n",
       "      <td>...</td>\n",
       "      <td>...</td>\n",
       "      <td>...</td>\n",
       "      <td>...</td>\n",
       "      <td>...</td>\n",
       "      <td>...</td>\n",
       "      <td>...</td>\n",
       "      <td>...</td>\n",
       "      <td>...</td>\n",
       "      <td>...</td>\n",
       "      <td>...</td>\n",
       "      <td>...</td>\n",
       "    </tr>\n",
       "    <tr>\n",
       "      <th>1687855</th>\n",
       "      <td>0.0</td>\n",
       "      <td>2.000000</td>\n",
       "      <td>0.0</td>\n",
       "      <td>10.0</td>\n",
       "      <td>10.0</td>\n",
       "      <td>10.0</td>\n",
       "      <td>0.0</td>\n",
       "      <td>5.0</td>\n",
       "      <td>7.0</td>\n",
       "      <td>7.0</td>\n",
       "      <td>0.0</td>\n",
       "      <td>0.0</td>\n",
       "      <td>0.69</td>\n",
       "      <td>0.69</td>\n",
       "      <td>5.0</td>\n",
       "    </tr>\n",
       "    <tr>\n",
       "      <th>1687856</th>\n",
       "      <td>-1.0</td>\n",
       "      <td>7.872267</td>\n",
       "      <td>0.0</td>\n",
       "      <td>5.0</td>\n",
       "      <td>7.0</td>\n",
       "      <td>9.0</td>\n",
       "      <td>1.0</td>\n",
       "      <td>3.0</td>\n",
       "      <td>3.0</td>\n",
       "      <td>8.0</td>\n",
       "      <td>0.0</td>\n",
       "      <td>0.0</td>\n",
       "      <td>-99.00</td>\n",
       "      <td>-99.00</td>\n",
       "      <td>1.0</td>\n",
       "    </tr>\n",
       "    <tr>\n",
       "      <th>1687857</th>\n",
       "      <td>-1.0</td>\n",
       "      <td>9.000000</td>\n",
       "      <td>0.0</td>\n",
       "      <td>7.0</td>\n",
       "      <td>9.0</td>\n",
       "      <td>11.0</td>\n",
       "      <td>0.0</td>\n",
       "      <td>8.0</td>\n",
       "      <td>11.0</td>\n",
       "      <td>12.0</td>\n",
       "      <td>0.0</td>\n",
       "      <td>0.0</td>\n",
       "      <td>0.86</td>\n",
       "      <td>0.84</td>\n",
       "      <td>1.0</td>\n",
       "    </tr>\n",
       "    <tr>\n",
       "      <th>1687858</th>\n",
       "      <td>62.0</td>\n",
       "      <td>9.000000</td>\n",
       "      <td>16.0</td>\n",
       "      <td>39.0</td>\n",
       "      <td>87.0</td>\n",
       "      <td>126.0</td>\n",
       "      <td>35.0</td>\n",
       "      <td>63.0</td>\n",
       "      <td>153.0</td>\n",
       "      <td>205.0</td>\n",
       "      <td>12.0</td>\n",
       "      <td>0.0</td>\n",
       "      <td>0.86</td>\n",
       "      <td>0.84</td>\n",
       "      <td>6.0</td>\n",
       "    </tr>\n",
       "    <tr>\n",
       "      <th>1687859</th>\n",
       "      <td>19.0</td>\n",
       "      <td>4.000000</td>\n",
       "      <td>0.0</td>\n",
       "      <td>0.0</td>\n",
       "      <td>0.0</td>\n",
       "      <td>0.0</td>\n",
       "      <td>2.0</td>\n",
       "      <td>7.0</td>\n",
       "      <td>12.0</td>\n",
       "      <td>20.0</td>\n",
       "      <td>1.0</td>\n",
       "      <td>0.0</td>\n",
       "      <td>0.73</td>\n",
       "      <td>0.78</td>\n",
       "      <td>1.0</td>\n",
       "    </tr>\n",
       "  </tbody>\n",
       "</table>\n",
       "<p>1687860 rows × 15 columns</p>\n",
       "</div>"
      ],
      "text/plain": [
       "         national_inv  lead_time  in_transit_qty  forecast_3_month  \\\n",
       "0                 0.0   7.872267             0.0               0.0   \n",
       "1                 2.0   9.000000             0.0               0.0   \n",
       "2                 2.0   7.872267             0.0               0.0   \n",
       "3                 7.0   8.000000             0.0               0.0   \n",
       "4                 8.0   7.872267             0.0               0.0   \n",
       "...               ...        ...             ...               ...   \n",
       "1687855           0.0   2.000000             0.0              10.0   \n",
       "1687856          -1.0   7.872267             0.0               5.0   \n",
       "1687857          -1.0   9.000000             0.0               7.0   \n",
       "1687858          62.0   9.000000            16.0              39.0   \n",
       "1687859          19.0   4.000000             0.0               0.0   \n",
       "\n",
       "         forecast_6_month  forecast_9_month  sales_1_month  sales_3_month  \\\n",
       "0                     0.0               0.0            0.0            0.0   \n",
       "1                     0.0               0.0            0.0            0.0   \n",
       "2                     0.0               0.0            0.0            0.0   \n",
       "3                     0.0               0.0            0.0            0.0   \n",
       "4                     0.0               0.0            0.0            0.0   \n",
       "...                   ...               ...            ...            ...   \n",
       "1687855              10.0              10.0            0.0            5.0   \n",
       "1687856               7.0               9.0            1.0            3.0   \n",
       "1687857               9.0              11.0            0.0            8.0   \n",
       "1687858              87.0             126.0           35.0           63.0   \n",
       "1687859               0.0               0.0            2.0            7.0   \n",
       "\n",
       "         sales_6_month  sales_9_month  min_bank  pieces_past_due  \\\n",
       "0                  0.0            0.0       0.0              0.0   \n",
       "1                  0.0            0.0       0.0              0.0   \n",
       "2                  0.0            0.0       0.0              0.0   \n",
       "3                  0.0            0.0       1.0              0.0   \n",
       "4                  0.0            4.0       2.0              0.0   \n",
       "...                ...            ...       ...              ...   \n",
       "1687855            7.0            7.0       0.0              0.0   \n",
       "1687856            3.0            8.0       0.0              0.0   \n",
       "1687857           11.0           12.0       0.0              0.0   \n",
       "1687858          153.0          205.0      12.0              0.0   \n",
       "1687859           12.0           20.0       1.0              0.0   \n",
       "\n",
       "         perf_6_month_avg  perf_12_month_avg  local_bo_qty  \n",
       "0                  -99.00             -99.00           0.0  \n",
       "1                    0.99               0.99           0.0  \n",
       "2                  -99.00             -99.00           0.0  \n",
       "3                    0.10               0.13           0.0  \n",
       "4                  -99.00             -99.00           0.0  \n",
       "...                   ...                ...           ...  \n",
       "1687855              0.69               0.69           5.0  \n",
       "1687856            -99.00             -99.00           1.0  \n",
       "1687857              0.86               0.84           1.0  \n",
       "1687858              0.86               0.84           6.0  \n",
       "1687859              0.73               0.78           1.0  \n",
       "\n",
       "[1687860 rows x 15 columns]"
      ]
     },
     "execution_count": 26,
     "metadata": {},
     "output_type": "execute_result"
    }
   ],
   "source": [
    "train_numerical"
   ]
  },
  {
   "cell_type": "code",
   "execution_count": 27,
   "id": "3ab80b51",
   "metadata": {},
   "outputs": [],
   "source": [
    "train[train_numerical.columns] = train_numerical"
   ]
  },
  {
   "cell_type": "code",
   "execution_count": 28,
   "id": "17f630c8",
   "metadata": {},
   "outputs": [
    {
     "data": {
      "text/plain": [
       "sku                  0\n",
       "national_inv         0\n",
       "lead_time            0\n",
       "in_transit_qty       0\n",
       "forecast_3_month     0\n",
       "forecast_6_month     0\n",
       "forecast_9_month     0\n",
       "sales_1_month        0\n",
       "sales_3_month        0\n",
       "sales_6_month        0\n",
       "sales_9_month        0\n",
       "min_bank             0\n",
       "potential_issue      0\n",
       "pieces_past_due      0\n",
       "perf_6_month_avg     0\n",
       "perf_12_month_avg    0\n",
       "local_bo_qty         0\n",
       "deck_risk            0\n",
       "oe_constraint        0\n",
       "ppap_risk            0\n",
       "stop_auto_buy        0\n",
       "rev_stop             0\n",
       "went_on_backorder    0\n",
       "dtype: int64"
      ]
     },
     "execution_count": 28,
     "metadata": {},
     "output_type": "execute_result"
    }
   ],
   "source": [
    "train.isna().sum()"
   ]
  },
  {
   "cell_type": "markdown",
   "id": "30c6419b",
   "metadata": {},
   "source": [
    "### Duplicates"
   ]
  },
  {
   "cell_type": "code",
   "execution_count": 29,
   "id": "c8a47da6",
   "metadata": {},
   "outputs": [],
   "source": [
    "#train.duplicated().sum() 0 duplicates without index as sku"
   ]
  },
  {
   "cell_type": "code",
   "execution_count": 30,
   "id": "7b908e2f",
   "metadata": {},
   "outputs": [],
   "source": [
    "#train.duplicated().sum()/train.shape[0] "
   ]
  },
  {
   "cell_type": "markdown",
   "id": "7dfe9814",
   "metadata": {},
   "source": [
    "There are no duplicates in this dataset"
   ]
  },
  {
   "cell_type": "code",
   "execution_count": 31,
   "id": "fd962423",
   "metadata": {},
   "outputs": [],
   "source": [
    "train = train.set_index(\"sku\")"
   ]
  },
  {
   "cell_type": "code",
   "execution_count": 32,
   "id": "1d806280",
   "metadata": {},
   "outputs": [
    {
     "data": {
      "text/html": [
       "<div>\n",
       "<style scoped>\n",
       "    .dataframe tbody tr th:only-of-type {\n",
       "        vertical-align: middle;\n",
       "    }\n",
       "\n",
       "    .dataframe tbody tr th {\n",
       "        vertical-align: top;\n",
       "    }\n",
       "\n",
       "    .dataframe thead th {\n",
       "        text-align: right;\n",
       "    }\n",
       "</style>\n",
       "<table border=\"1\" class=\"dataframe\">\n",
       "  <thead>\n",
       "    <tr style=\"text-align: right;\">\n",
       "      <th></th>\n",
       "      <th>national_inv</th>\n",
       "      <th>lead_time</th>\n",
       "      <th>in_transit_qty</th>\n",
       "      <th>forecast_3_month</th>\n",
       "      <th>forecast_6_month</th>\n",
       "      <th>forecast_9_month</th>\n",
       "      <th>sales_1_month</th>\n",
       "      <th>sales_3_month</th>\n",
       "      <th>sales_6_month</th>\n",
       "      <th>sales_9_month</th>\n",
       "      <th>...</th>\n",
       "      <th>pieces_past_due</th>\n",
       "      <th>perf_6_month_avg</th>\n",
       "      <th>perf_12_month_avg</th>\n",
       "      <th>local_bo_qty</th>\n",
       "      <th>deck_risk</th>\n",
       "      <th>oe_constraint</th>\n",
       "      <th>ppap_risk</th>\n",
       "      <th>stop_auto_buy</th>\n",
       "      <th>rev_stop</th>\n",
       "      <th>went_on_backorder</th>\n",
       "    </tr>\n",
       "    <tr>\n",
       "      <th>sku</th>\n",
       "      <th></th>\n",
       "      <th></th>\n",
       "      <th></th>\n",
       "      <th></th>\n",
       "      <th></th>\n",
       "      <th></th>\n",
       "      <th></th>\n",
       "      <th></th>\n",
       "      <th></th>\n",
       "      <th></th>\n",
       "      <th></th>\n",
       "      <th></th>\n",
       "      <th></th>\n",
       "      <th></th>\n",
       "      <th></th>\n",
       "      <th></th>\n",
       "      <th></th>\n",
       "      <th></th>\n",
       "      <th></th>\n",
       "      <th></th>\n",
       "      <th></th>\n",
       "    </tr>\n",
       "  </thead>\n",
       "  <tbody>\n",
       "    <tr>\n",
       "      <th>1026827</th>\n",
       "      <td>0.0</td>\n",
       "      <td>7.872267</td>\n",
       "      <td>0.0</td>\n",
       "      <td>0.0</td>\n",
       "      <td>0.0</td>\n",
       "      <td>0.0</td>\n",
       "      <td>0.0</td>\n",
       "      <td>0.0</td>\n",
       "      <td>0.0</td>\n",
       "      <td>0.0</td>\n",
       "      <td>...</td>\n",
       "      <td>0.0</td>\n",
       "      <td>-99.00</td>\n",
       "      <td>-99.00</td>\n",
       "      <td>0.0</td>\n",
       "      <td>No</td>\n",
       "      <td>No</td>\n",
       "      <td>No</td>\n",
       "      <td>Yes</td>\n",
       "      <td>No</td>\n",
       "      <td>No</td>\n",
       "    </tr>\n",
       "    <tr>\n",
       "      <th>1043384</th>\n",
       "      <td>2.0</td>\n",
       "      <td>9.000000</td>\n",
       "      <td>0.0</td>\n",
       "      <td>0.0</td>\n",
       "      <td>0.0</td>\n",
       "      <td>0.0</td>\n",
       "      <td>0.0</td>\n",
       "      <td>0.0</td>\n",
       "      <td>0.0</td>\n",
       "      <td>0.0</td>\n",
       "      <td>...</td>\n",
       "      <td>0.0</td>\n",
       "      <td>0.99</td>\n",
       "      <td>0.99</td>\n",
       "      <td>0.0</td>\n",
       "      <td>No</td>\n",
       "      <td>No</td>\n",
       "      <td>No</td>\n",
       "      <td>Yes</td>\n",
       "      <td>No</td>\n",
       "      <td>No</td>\n",
       "    </tr>\n",
       "    <tr>\n",
       "      <th>1043696</th>\n",
       "      <td>2.0</td>\n",
       "      <td>7.872267</td>\n",
       "      <td>0.0</td>\n",
       "      <td>0.0</td>\n",
       "      <td>0.0</td>\n",
       "      <td>0.0</td>\n",
       "      <td>0.0</td>\n",
       "      <td>0.0</td>\n",
       "      <td>0.0</td>\n",
       "      <td>0.0</td>\n",
       "      <td>...</td>\n",
       "      <td>0.0</td>\n",
       "      <td>-99.00</td>\n",
       "      <td>-99.00</td>\n",
       "      <td>0.0</td>\n",
       "      <td>Yes</td>\n",
       "      <td>No</td>\n",
       "      <td>No</td>\n",
       "      <td>Yes</td>\n",
       "      <td>No</td>\n",
       "      <td>No</td>\n",
       "    </tr>\n",
       "    <tr>\n",
       "      <th>1043852</th>\n",
       "      <td>7.0</td>\n",
       "      <td>8.000000</td>\n",
       "      <td>0.0</td>\n",
       "      <td>0.0</td>\n",
       "      <td>0.0</td>\n",
       "      <td>0.0</td>\n",
       "      <td>0.0</td>\n",
       "      <td>0.0</td>\n",
       "      <td>0.0</td>\n",
       "      <td>0.0</td>\n",
       "      <td>...</td>\n",
       "      <td>0.0</td>\n",
       "      <td>0.10</td>\n",
       "      <td>0.13</td>\n",
       "      <td>0.0</td>\n",
       "      <td>No</td>\n",
       "      <td>No</td>\n",
       "      <td>No</td>\n",
       "      <td>Yes</td>\n",
       "      <td>No</td>\n",
       "      <td>No</td>\n",
       "    </tr>\n",
       "    <tr>\n",
       "      <th>1044048</th>\n",
       "      <td>8.0</td>\n",
       "      <td>7.872267</td>\n",
       "      <td>0.0</td>\n",
       "      <td>0.0</td>\n",
       "      <td>0.0</td>\n",
       "      <td>0.0</td>\n",
       "      <td>0.0</td>\n",
       "      <td>0.0</td>\n",
       "      <td>0.0</td>\n",
       "      <td>4.0</td>\n",
       "      <td>...</td>\n",
       "      <td>0.0</td>\n",
       "      <td>-99.00</td>\n",
       "      <td>-99.00</td>\n",
       "      <td>0.0</td>\n",
       "      <td>Yes</td>\n",
       "      <td>No</td>\n",
       "      <td>No</td>\n",
       "      <td>Yes</td>\n",
       "      <td>No</td>\n",
       "      <td>No</td>\n",
       "    </tr>\n",
       "  </tbody>\n",
       "</table>\n",
       "<p>5 rows × 22 columns</p>\n",
       "</div>"
      ],
      "text/plain": [
       "         national_inv  lead_time  in_transit_qty  forecast_3_month  \\\n",
       "sku                                                                  \n",
       "1026827           0.0   7.872267             0.0               0.0   \n",
       "1043384           2.0   9.000000             0.0               0.0   \n",
       "1043696           2.0   7.872267             0.0               0.0   \n",
       "1043852           7.0   8.000000             0.0               0.0   \n",
       "1044048           8.0   7.872267             0.0               0.0   \n",
       "\n",
       "         forecast_6_month  forecast_9_month  sales_1_month  sales_3_month  \\\n",
       "sku                                                                         \n",
       "1026827               0.0               0.0            0.0            0.0   \n",
       "1043384               0.0               0.0            0.0            0.0   \n",
       "1043696               0.0               0.0            0.0            0.0   \n",
       "1043852               0.0               0.0            0.0            0.0   \n",
       "1044048               0.0               0.0            0.0            0.0   \n",
       "\n",
       "         sales_6_month  sales_9_month  ...  pieces_past_due perf_6_month_avg  \\\n",
       "sku                                    ...                                     \n",
       "1026827            0.0            0.0  ...              0.0           -99.00   \n",
       "1043384            0.0            0.0  ...              0.0             0.99   \n",
       "1043696            0.0            0.0  ...              0.0           -99.00   \n",
       "1043852            0.0            0.0  ...              0.0             0.10   \n",
       "1044048            0.0            4.0  ...              0.0           -99.00   \n",
       "\n",
       "         perf_12_month_avg  local_bo_qty  deck_risk  oe_constraint ppap_risk  \\\n",
       "sku                                                                            \n",
       "1026827             -99.00           0.0         No             No        No   \n",
       "1043384               0.99           0.0         No             No        No   \n",
       "1043696             -99.00           0.0        Yes             No        No   \n",
       "1043852               0.13           0.0         No             No        No   \n",
       "1044048             -99.00           0.0        Yes             No        No   \n",
       "\n",
       "        stop_auto_buy rev_stop went_on_backorder  \n",
       "sku                                               \n",
       "1026827           Yes       No                No  \n",
       "1043384           Yes       No                No  \n",
       "1043696           Yes       No                No  \n",
       "1043852           Yes       No                No  \n",
       "1044048           Yes       No                No  \n",
       "\n",
       "[5 rows x 22 columns]"
      ]
     },
     "execution_count": 32,
     "metadata": {},
     "output_type": "execute_result"
    }
   ],
   "source": [
    "train.head()"
   ]
  },
  {
   "cell_type": "markdown",
   "id": "c41836f9",
   "metadata": {},
   "source": [
    "### Outliers"
   ]
  },
  {
   "cell_type": "code",
   "execution_count": 33,
   "id": "04101e05",
   "metadata": {},
   "outputs": [
    {
     "name": "stderr",
     "output_type": "stream",
     "text": [
      "C:\\Users\\João\\AppData\\Local\\Temp\\ipykernel_19296\\1932332732.py:3: UserWarning: Matplotlib is currently using agg, which is a non-GUI backend, so cannot show the figure.\n",
      "  plt.show()\n",
      "C:\\Users\\João\\AppData\\Local\\Temp\\ipykernel_19296\\1932332732.py:3: UserWarning: Matplotlib is currently using agg, which is a non-GUI backend, so cannot show the figure.\n",
      "  plt.show()\n",
      "C:\\Users\\João\\AppData\\Local\\Temp\\ipykernel_19296\\1932332732.py:3: UserWarning: Matplotlib is currently using agg, which is a non-GUI backend, so cannot show the figure.\n",
      "  plt.show()\n",
      "C:\\Users\\João\\AppData\\Local\\Temp\\ipykernel_19296\\1932332732.py:3: UserWarning: Matplotlib is currently using agg, which is a non-GUI backend, so cannot show the figure.\n",
      "  plt.show()\n",
      "C:\\Users\\João\\AppData\\Local\\Temp\\ipykernel_19296\\1932332732.py:3: UserWarning: Matplotlib is currently using agg, which is a non-GUI backend, so cannot show the figure.\n",
      "  plt.show()\n",
      "C:\\Users\\João\\AppData\\Local\\Temp\\ipykernel_19296\\1932332732.py:3: UserWarning: Matplotlib is currently using agg, which is a non-GUI backend, so cannot show the figure.\n",
      "  plt.show()\n",
      "C:\\Users\\João\\AppData\\Local\\Temp\\ipykernel_19296\\1932332732.py:3: UserWarning: Matplotlib is currently using agg, which is a non-GUI backend, so cannot show the figure.\n",
      "  plt.show()\n",
      "C:\\Users\\João\\AppData\\Local\\Temp\\ipykernel_19296\\1932332732.py:3: UserWarning: Matplotlib is currently using agg, which is a non-GUI backend, so cannot show the figure.\n",
      "  plt.show()\n",
      "C:\\Users\\João\\AppData\\Local\\Temp\\ipykernel_19296\\1932332732.py:3: UserWarning: Matplotlib is currently using agg, which is a non-GUI backend, so cannot show the figure.\n",
      "  plt.show()\n",
      "C:\\Users\\João\\AppData\\Local\\Temp\\ipykernel_19296\\1932332732.py:3: UserWarning: Matplotlib is currently using agg, which is a non-GUI backend, so cannot show the figure.\n",
      "  plt.show()\n",
      "C:\\Users\\João\\AppData\\Local\\Temp\\ipykernel_19296\\1932332732.py:3: UserWarning: Matplotlib is currently using agg, which is a non-GUI backend, so cannot show the figure.\n",
      "  plt.show()\n",
      "C:\\Users\\João\\AppData\\Local\\Temp\\ipykernel_19296\\1932332732.py:3: UserWarning: Matplotlib is currently using agg, which is a non-GUI backend, so cannot show the figure.\n",
      "  plt.show()\n",
      "C:\\Users\\João\\AppData\\Local\\Temp\\ipykernel_19296\\1932332732.py:3: UserWarning: Matplotlib is currently using agg, which is a non-GUI backend, so cannot show the figure.\n",
      "  plt.show()\n",
      "C:\\Users\\João\\AppData\\Local\\Temp\\ipykernel_19296\\1932332732.py:3: UserWarning: Matplotlib is currently using agg, which is a non-GUI backend, so cannot show the figure.\n",
      "  plt.show()\n",
      "C:\\Users\\João\\AppData\\Local\\Temp\\ipykernel_19296\\1932332732.py:3: UserWarning: Matplotlib is currently using agg, which is a non-GUI backend, so cannot show the figure.\n",
      "  plt.show()\n"
     ]
    }
   ],
   "source": [
    "for i in train_numerical:\n",
    "    sns.boxplot(data=train_numerical, x=i)\n",
    "    plt.show()"
   ]
  },
  {
   "cell_type": "code",
   "execution_count": 34,
   "id": "d6611ef0",
   "metadata": {},
   "outputs": [],
   "source": [
    "outlier_metric_features = train_numerical.columns"
   ]
  },
  {
   "cell_type": "markdown",
   "id": "f1154dbd",
   "metadata": {},
   "source": [
    "#### Outliers"
   ]
  },
  {
   "cell_type": "code",
   "execution_count": 35,
   "id": "507b2bcd",
   "metadata": {},
   "outputs": [
    {
     "name": "stderr",
     "output_type": "stream",
     "text": [
      "C:\\Users\\João\\AppData\\Local\\Temp\\ipykernel_19296\\3564339984.py:16: FutureWarning: Boolean inputs to the `inclusive` argument are deprecated in favour of `both` or `neither`.\n",
      "  filters2.append(train[metric].between(llim, ulim, inclusive=True))\n"
     ]
    },
    {
     "name": "stdout",
     "output_type": "stream",
     "text": [
      "Percentage of data kept after removing outliers: 0.5255\n"
     ]
    }
   ],
   "source": [
    "q25 = train.quantile(.25)\n",
    "q75 = train.quantile(.75)\n",
    "iqr = (q75 - q25)\n",
    "\n",
    "\n",
    "\n",
    "upper_lim = q75 + 1.5 * iqr\n",
    "lower_lim = q25 - 1.5 * iqr\n",
    "\n",
    "\n",
    "\n",
    "filters2 = []\n",
    "for metric in outlier_metric_features:\n",
    "    llim = lower_lim[metric]\n",
    "    ulim = upper_lim[metric]\n",
    "    filters2.append(train[metric].between(llim, ulim, inclusive=True))\n",
    "\n",
    "\n",
    "filters2 = pd.Series(np.all(filters2, 0), index=train.index)\n",
    "df_2 = train[filters2]\n",
    "print('Percentage of data kept after removing outliers:', np.round(df_2.shape[0] / train.shape[0], 4))"
   ]
  },
  {
   "cell_type": "markdown",
   "id": "00178a54",
   "metadata": {},
   "source": [
    "#### Z-score"
   ]
  },
  {
   "cell_type": "code",
   "execution_count": 36,
   "id": "2b005aa8",
   "metadata": {},
   "outputs": [
    {
     "name": "stdout",
     "output_type": "stream",
     "text": [
      "Percentage of outliers for national_inv  :  0.04\n",
      "Percentage of outliers for lead_time  :  1.81\n",
      "Percentage of outliers for in_transit_qty  :  0.13999999999999999\n",
      "Percentage of outliers for forecast_3_month  :  0.15\n",
      "Percentage of outliers for forecast_6_month  :  0.15\n",
      "Percentage of outliers for forecast_9_month  :  0.13999999999999999\n",
      "Percentage of outliers for sales_1_month  :  0.1\n",
      "Percentage of outliers for sales_3_month  :  0.12\n",
      "Percentage of outliers for sales_6_month  :  0.13\n",
      "Percentage of outliers for sales_9_month  :  0.12\n",
      "Percentage of outliers for min_bank  :  0.15\n",
      "Percentage of outliers for pieces_past_due  :  0.04\n",
      "Percentage of outliers for perf_6_month_avg  :  7.670000000000001\n",
      "Percentage of outliers for perf_12_month_avg  :  7.23\n",
      "Percentage of outliers for local_bo_qty  :  0.1\n",
      "Total percentage of Outliers:  18.09 %\n"
     ]
    }
   ],
   "source": [
    "total = 0\n",
    "for i in outlier_metric_features: \n",
    "    z = np.abs(stats.zscore(train[i])) \n",
    "    z[z > 3].count()\n",
    "    print('Percentage of outliers for',str(i),' : ', (np.round((z[z > 3].count())/ len(train), 4)*100))\n",
    "    total += (np.round((z[z > 3].count())/ len(train), 4))\n",
    "\n",
    "print('Total percentage of Outliers: ', total*100, '%')"
   ]
  },
  {
   "cell_type": "code",
   "execution_count": 37,
   "id": "6d563146",
   "metadata": {},
   "outputs": [],
   "source": [
    "train = train[(z < 3)]"
   ]
  },
  {
   "cell_type": "code",
   "execution_count": 38,
   "id": "e029c36b",
   "metadata": {},
   "outputs": [
    {
     "data": {
      "text/plain": [
       "(1686252, 22)"
      ]
     },
     "execution_count": 38,
     "metadata": {},
     "output_type": "execute_result"
    }
   ],
   "source": [
    "train.shape"
   ]
  },
  {
   "cell_type": "markdown",
   "id": "7d7cb061",
   "metadata": {},
   "source": [
    "### Transform Variables"
   ]
  },
  {
   "cell_type": "markdown",
   "id": "49970dac",
   "metadata": {},
   "source": [
    "**Dummies**"
   ]
  },
  {
   "cell_type": "code",
   "execution_count": 39,
   "id": "21890683",
   "metadata": {},
   "outputs": [],
   "source": [
    "train = pd.get_dummies(train, drop_first = True)"
   ]
  },
  {
   "cell_type": "code",
   "execution_count": 40,
   "id": "8c048cc1",
   "metadata": {},
   "outputs": [
    {
     "data": {
      "text/plain": [
       "Index(['national_inv', 'lead_time', 'in_transit_qty', 'forecast_3_month',\n",
       "       'forecast_6_month', 'forecast_9_month', 'sales_1_month',\n",
       "       'sales_3_month', 'sales_6_month', 'sales_9_month', 'min_bank',\n",
       "       'pieces_past_due', 'perf_6_month_avg', 'perf_12_month_avg',\n",
       "       'local_bo_qty', 'potential_issue_Yes', 'deck_risk_Yes',\n",
       "       'oe_constraint_Yes', 'ppap_risk_Yes', 'stop_auto_buy_Yes',\n",
       "       'rev_stop_Yes', 'went_on_backorder_Yes'],\n",
       "      dtype='object')"
      ]
     },
     "execution_count": 40,
     "metadata": {},
     "output_type": "execute_result"
    }
   ],
   "source": [
    "train.columns"
   ]
  },
  {
   "cell_type": "code",
   "execution_count": 41,
   "id": "c9f48571",
   "metadata": {},
   "outputs": [],
   "source": [
    "train.rename(columns = {'went_on_backorder_Yes':'went_on_backorder'},inplace = True)\n",
    "\n",
    "train = train.reindex(columns= ['went_on_backorder','national_inv', 'lead_time', 'in_transit_qty', 'forecast_3_month',\n",
    "       'forecast_6_month', 'forecast_9_month', 'sales_1_month',\n",
    "       'sales_3_month', 'sales_6_month', 'sales_9_month', 'min_bank',\n",
    "       'pieces_past_due', 'perf_6_month_avg', 'perf_12_month_avg',\n",
    "       'local_bo_qty', 'potential_issue_Yes', 'deck_risk_Yes',\n",
    "       'oe_constraint_Yes', 'ppap_risk_Yes', 'stop_auto_buy_Yes',\n",
    "       'rev_stop_Yes'])"
   ]
  },
  {
   "cell_type": "code",
   "execution_count": 42,
   "id": "f697c423",
   "metadata": {},
   "outputs": [],
   "source": [
    "#train.rename(columns = {'potential_issue_Yes':'potential_issue', 'deck_risk_Yes':'deck_risk','oe_constraint_Yes':'oe_constraint',\n",
    "#                       'ppap_risk_Yes':'ppap_risk','stop_auto_buy_Yes':'stop_auto_buy','rev_stop_Yes': 'rev_stop',\n",
    "#                       'went_on_backorder_Yes': 'went_on_backorder'}, inplace = True)\n",
    "\n",
    "#train = train.reindex(columns=['national_inv', 'lead_time', 'in_transit_qty', 'forecast_3_month',\n",
    "#       'forecast_6_month', 'forecast_9_month', 'sales_1_month',\n",
    "#       'sales_3_month', 'sales_6_month', 'sales_9_month', 'min_bank',\n",
    "#       'pieces_past_due', 'perf_6_month_avg', 'perf_12_month_avg',\n",
    "#       'local_bo_qty', 'potential_issue', 'deck_risk',\n",
    "#       'oe_constraint', 'ppap_risk', 'stop_auto_buy',\n",
    "#       'rev_stop', 'went_on_backorder'])\n",
    "#train.head()"
   ]
  },
  {
   "cell_type": "markdown",
   "id": "afbe93b6",
   "metadata": {},
   "source": [
    "**Datatypes**"
   ]
  },
  {
   "cell_type": "code",
   "execution_count": 43,
   "id": "1d49444f",
   "metadata": {},
   "outputs": [],
   "source": [
    "#train = train.astype('float16')\n",
    "#train.head(5)"
   ]
  },
  {
   "cell_type": "code",
   "execution_count": 44,
   "id": "899f9af8",
   "metadata": {},
   "outputs": [
    {
     "data": {
      "text/html": [
       "<div>\n",
       "<style scoped>\n",
       "    .dataframe tbody tr th:only-of-type {\n",
       "        vertical-align: middle;\n",
       "    }\n",
       "\n",
       "    .dataframe tbody tr th {\n",
       "        vertical-align: top;\n",
       "    }\n",
       "\n",
       "    .dataframe thead th {\n",
       "        text-align: right;\n",
       "    }\n",
       "</style>\n",
       "<table border=\"1\" class=\"dataframe\">\n",
       "  <thead>\n",
       "    <tr style=\"text-align: right;\">\n",
       "      <th></th>\n",
       "      <th>went_on_backorder</th>\n",
       "      <th>national_inv</th>\n",
       "      <th>lead_time</th>\n",
       "      <th>in_transit_qty</th>\n",
       "      <th>forecast_3_month</th>\n",
       "      <th>forecast_6_month</th>\n",
       "      <th>forecast_9_month</th>\n",
       "      <th>sales_1_month</th>\n",
       "      <th>sales_3_month</th>\n",
       "      <th>sales_6_month</th>\n",
       "      <th>...</th>\n",
       "      <th>pieces_past_due</th>\n",
       "      <th>perf_6_month_avg</th>\n",
       "      <th>perf_12_month_avg</th>\n",
       "      <th>local_bo_qty</th>\n",
       "      <th>potential_issue_Yes</th>\n",
       "      <th>deck_risk_Yes</th>\n",
       "      <th>oe_constraint_Yes</th>\n",
       "      <th>ppap_risk_Yes</th>\n",
       "      <th>stop_auto_buy_Yes</th>\n",
       "      <th>rev_stop_Yes</th>\n",
       "    </tr>\n",
       "    <tr>\n",
       "      <th>sku</th>\n",
       "      <th></th>\n",
       "      <th></th>\n",
       "      <th></th>\n",
       "      <th></th>\n",
       "      <th></th>\n",
       "      <th></th>\n",
       "      <th></th>\n",
       "      <th></th>\n",
       "      <th></th>\n",
       "      <th></th>\n",
       "      <th></th>\n",
       "      <th></th>\n",
       "      <th></th>\n",
       "      <th></th>\n",
       "      <th></th>\n",
       "      <th></th>\n",
       "      <th></th>\n",
       "      <th></th>\n",
       "      <th></th>\n",
       "      <th></th>\n",
       "      <th></th>\n",
       "    </tr>\n",
       "  </thead>\n",
       "  <tbody>\n",
       "    <tr>\n",
       "      <th>1026827</th>\n",
       "      <td>0</td>\n",
       "      <td>0.0</td>\n",
       "      <td>7.872267</td>\n",
       "      <td>0.0</td>\n",
       "      <td>0.0</td>\n",
       "      <td>0.0</td>\n",
       "      <td>0.0</td>\n",
       "      <td>0.0</td>\n",
       "      <td>0.0</td>\n",
       "      <td>0.0</td>\n",
       "      <td>...</td>\n",
       "      <td>0.0</td>\n",
       "      <td>-99.00</td>\n",
       "      <td>-99.00</td>\n",
       "      <td>0.0</td>\n",
       "      <td>0</td>\n",
       "      <td>0</td>\n",
       "      <td>0</td>\n",
       "      <td>0</td>\n",
       "      <td>1</td>\n",
       "      <td>0</td>\n",
       "    </tr>\n",
       "    <tr>\n",
       "      <th>1043384</th>\n",
       "      <td>0</td>\n",
       "      <td>2.0</td>\n",
       "      <td>9.000000</td>\n",
       "      <td>0.0</td>\n",
       "      <td>0.0</td>\n",
       "      <td>0.0</td>\n",
       "      <td>0.0</td>\n",
       "      <td>0.0</td>\n",
       "      <td>0.0</td>\n",
       "      <td>0.0</td>\n",
       "      <td>...</td>\n",
       "      <td>0.0</td>\n",
       "      <td>0.99</td>\n",
       "      <td>0.99</td>\n",
       "      <td>0.0</td>\n",
       "      <td>0</td>\n",
       "      <td>0</td>\n",
       "      <td>0</td>\n",
       "      <td>0</td>\n",
       "      <td>1</td>\n",
       "      <td>0</td>\n",
       "    </tr>\n",
       "    <tr>\n",
       "      <th>1043696</th>\n",
       "      <td>0</td>\n",
       "      <td>2.0</td>\n",
       "      <td>7.872267</td>\n",
       "      <td>0.0</td>\n",
       "      <td>0.0</td>\n",
       "      <td>0.0</td>\n",
       "      <td>0.0</td>\n",
       "      <td>0.0</td>\n",
       "      <td>0.0</td>\n",
       "      <td>0.0</td>\n",
       "      <td>...</td>\n",
       "      <td>0.0</td>\n",
       "      <td>-99.00</td>\n",
       "      <td>-99.00</td>\n",
       "      <td>0.0</td>\n",
       "      <td>0</td>\n",
       "      <td>1</td>\n",
       "      <td>0</td>\n",
       "      <td>0</td>\n",
       "      <td>1</td>\n",
       "      <td>0</td>\n",
       "    </tr>\n",
       "    <tr>\n",
       "      <th>1043852</th>\n",
       "      <td>0</td>\n",
       "      <td>7.0</td>\n",
       "      <td>8.000000</td>\n",
       "      <td>0.0</td>\n",
       "      <td>0.0</td>\n",
       "      <td>0.0</td>\n",
       "      <td>0.0</td>\n",
       "      <td>0.0</td>\n",
       "      <td>0.0</td>\n",
       "      <td>0.0</td>\n",
       "      <td>...</td>\n",
       "      <td>0.0</td>\n",
       "      <td>0.10</td>\n",
       "      <td>0.13</td>\n",
       "      <td>0.0</td>\n",
       "      <td>0</td>\n",
       "      <td>0</td>\n",
       "      <td>0</td>\n",
       "      <td>0</td>\n",
       "      <td>1</td>\n",
       "      <td>0</td>\n",
       "    </tr>\n",
       "    <tr>\n",
       "      <th>1044048</th>\n",
       "      <td>0</td>\n",
       "      <td>8.0</td>\n",
       "      <td>7.872267</td>\n",
       "      <td>0.0</td>\n",
       "      <td>0.0</td>\n",
       "      <td>0.0</td>\n",
       "      <td>0.0</td>\n",
       "      <td>0.0</td>\n",
       "      <td>0.0</td>\n",
       "      <td>0.0</td>\n",
       "      <td>...</td>\n",
       "      <td>0.0</td>\n",
       "      <td>-99.00</td>\n",
       "      <td>-99.00</td>\n",
       "      <td>0.0</td>\n",
       "      <td>0</td>\n",
       "      <td>1</td>\n",
       "      <td>0</td>\n",
       "      <td>0</td>\n",
       "      <td>1</td>\n",
       "      <td>0</td>\n",
       "    </tr>\n",
       "    <tr>\n",
       "      <th>...</th>\n",
       "      <td>...</td>\n",
       "      <td>...</td>\n",
       "      <td>...</td>\n",
       "      <td>...</td>\n",
       "      <td>...</td>\n",
       "      <td>...</td>\n",
       "      <td>...</td>\n",
       "      <td>...</td>\n",
       "      <td>...</td>\n",
       "      <td>...</td>\n",
       "      <td>...</td>\n",
       "      <td>...</td>\n",
       "      <td>...</td>\n",
       "      <td>...</td>\n",
       "      <td>...</td>\n",
       "      <td>...</td>\n",
       "      <td>...</td>\n",
       "      <td>...</td>\n",
       "      <td>...</td>\n",
       "      <td>...</td>\n",
       "      <td>...</td>\n",
       "    </tr>\n",
       "    <tr>\n",
       "      <th>1407754</th>\n",
       "      <td>0</td>\n",
       "      <td>0.0</td>\n",
       "      <td>2.000000</td>\n",
       "      <td>0.0</td>\n",
       "      <td>10.0</td>\n",
       "      <td>10.0</td>\n",
       "      <td>10.0</td>\n",
       "      <td>0.0</td>\n",
       "      <td>5.0</td>\n",
       "      <td>7.0</td>\n",
       "      <td>...</td>\n",
       "      <td>0.0</td>\n",
       "      <td>0.69</td>\n",
       "      <td>0.69</td>\n",
       "      <td>5.0</td>\n",
       "      <td>0</td>\n",
       "      <td>1</td>\n",
       "      <td>0</td>\n",
       "      <td>0</td>\n",
       "      <td>1</td>\n",
       "      <td>0</td>\n",
       "    </tr>\n",
       "    <tr>\n",
       "      <th>1373987</th>\n",
       "      <td>0</td>\n",
       "      <td>-1.0</td>\n",
       "      <td>7.872267</td>\n",
       "      <td>0.0</td>\n",
       "      <td>5.0</td>\n",
       "      <td>7.0</td>\n",
       "      <td>9.0</td>\n",
       "      <td>1.0</td>\n",
       "      <td>3.0</td>\n",
       "      <td>3.0</td>\n",
       "      <td>...</td>\n",
       "      <td>0.0</td>\n",
       "      <td>-99.00</td>\n",
       "      <td>-99.00</td>\n",
       "      <td>1.0</td>\n",
       "      <td>0</td>\n",
       "      <td>0</td>\n",
       "      <td>0</td>\n",
       "      <td>0</td>\n",
       "      <td>1</td>\n",
       "      <td>0</td>\n",
       "    </tr>\n",
       "    <tr>\n",
       "      <th>1524346</th>\n",
       "      <td>1</td>\n",
       "      <td>-1.0</td>\n",
       "      <td>9.000000</td>\n",
       "      <td>0.0</td>\n",
       "      <td>7.0</td>\n",
       "      <td>9.0</td>\n",
       "      <td>11.0</td>\n",
       "      <td>0.0</td>\n",
       "      <td>8.0</td>\n",
       "      <td>11.0</td>\n",
       "      <td>...</td>\n",
       "      <td>0.0</td>\n",
       "      <td>0.86</td>\n",
       "      <td>0.84</td>\n",
       "      <td>1.0</td>\n",
       "      <td>0</td>\n",
       "      <td>1</td>\n",
       "      <td>0</td>\n",
       "      <td>0</td>\n",
       "      <td>0</td>\n",
       "      <td>0</td>\n",
       "    </tr>\n",
       "    <tr>\n",
       "      <th>1439563</th>\n",
       "      <td>0</td>\n",
       "      <td>62.0</td>\n",
       "      <td>9.000000</td>\n",
       "      <td>16.0</td>\n",
       "      <td>39.0</td>\n",
       "      <td>87.0</td>\n",
       "      <td>126.0</td>\n",
       "      <td>35.0</td>\n",
       "      <td>63.0</td>\n",
       "      <td>153.0</td>\n",
       "      <td>...</td>\n",
       "      <td>0.0</td>\n",
       "      <td>0.86</td>\n",
       "      <td>0.84</td>\n",
       "      <td>6.0</td>\n",
       "      <td>0</td>\n",
       "      <td>0</td>\n",
       "      <td>0</td>\n",
       "      <td>0</td>\n",
       "      <td>1</td>\n",
       "      <td>0</td>\n",
       "    </tr>\n",
       "    <tr>\n",
       "      <th>1502009</th>\n",
       "      <td>0</td>\n",
       "      <td>19.0</td>\n",
       "      <td>4.000000</td>\n",
       "      <td>0.0</td>\n",
       "      <td>0.0</td>\n",
       "      <td>0.0</td>\n",
       "      <td>0.0</td>\n",
       "      <td>2.0</td>\n",
       "      <td>7.0</td>\n",
       "      <td>12.0</td>\n",
       "      <td>...</td>\n",
       "      <td>0.0</td>\n",
       "      <td>0.73</td>\n",
       "      <td>0.78</td>\n",
       "      <td>1.0</td>\n",
       "      <td>0</td>\n",
       "      <td>0</td>\n",
       "      <td>0</td>\n",
       "      <td>0</td>\n",
       "      <td>1</td>\n",
       "      <td>0</td>\n",
       "    </tr>\n",
       "  </tbody>\n",
       "</table>\n",
       "<p>1686252 rows × 22 columns</p>\n",
       "</div>"
      ],
      "text/plain": [
       "         went_on_backorder  national_inv  lead_time  in_transit_qty  \\\n",
       "sku                                                                   \n",
       "1026827                  0           0.0   7.872267             0.0   \n",
       "1043384                  0           2.0   9.000000             0.0   \n",
       "1043696                  0           2.0   7.872267             0.0   \n",
       "1043852                  0           7.0   8.000000             0.0   \n",
       "1044048                  0           8.0   7.872267             0.0   \n",
       "...                    ...           ...        ...             ...   \n",
       "1407754                  0           0.0   2.000000             0.0   \n",
       "1373987                  0          -1.0   7.872267             0.0   \n",
       "1524346                  1          -1.0   9.000000             0.0   \n",
       "1439563                  0          62.0   9.000000            16.0   \n",
       "1502009                  0          19.0   4.000000             0.0   \n",
       "\n",
       "         forecast_3_month  forecast_6_month  forecast_9_month  sales_1_month  \\\n",
       "sku                                                                            \n",
       "1026827               0.0               0.0               0.0            0.0   \n",
       "1043384               0.0               0.0               0.0            0.0   \n",
       "1043696               0.0               0.0               0.0            0.0   \n",
       "1043852               0.0               0.0               0.0            0.0   \n",
       "1044048               0.0               0.0               0.0            0.0   \n",
       "...                   ...               ...               ...            ...   \n",
       "1407754              10.0              10.0              10.0            0.0   \n",
       "1373987               5.0               7.0               9.0            1.0   \n",
       "1524346               7.0               9.0              11.0            0.0   \n",
       "1439563              39.0              87.0             126.0           35.0   \n",
       "1502009               0.0               0.0               0.0            2.0   \n",
       "\n",
       "         sales_3_month  sales_6_month  ...  pieces_past_due  perf_6_month_avg  \\\n",
       "sku                                    ...                                      \n",
       "1026827            0.0            0.0  ...              0.0            -99.00   \n",
       "1043384            0.0            0.0  ...              0.0              0.99   \n",
       "1043696            0.0            0.0  ...              0.0            -99.00   \n",
       "1043852            0.0            0.0  ...              0.0              0.10   \n",
       "1044048            0.0            0.0  ...              0.0            -99.00   \n",
       "...                ...            ...  ...              ...               ...   \n",
       "1407754            5.0            7.0  ...              0.0              0.69   \n",
       "1373987            3.0            3.0  ...              0.0            -99.00   \n",
       "1524346            8.0           11.0  ...              0.0              0.86   \n",
       "1439563           63.0          153.0  ...              0.0              0.86   \n",
       "1502009            7.0           12.0  ...              0.0              0.73   \n",
       "\n",
       "         perf_12_month_avg  local_bo_qty  potential_issue_Yes  deck_risk_Yes  \\\n",
       "sku                                                                            \n",
       "1026827             -99.00           0.0                    0              0   \n",
       "1043384               0.99           0.0                    0              0   \n",
       "1043696             -99.00           0.0                    0              1   \n",
       "1043852               0.13           0.0                    0              0   \n",
       "1044048             -99.00           0.0                    0              1   \n",
       "...                    ...           ...                  ...            ...   \n",
       "1407754               0.69           5.0                    0              1   \n",
       "1373987             -99.00           1.0                    0              0   \n",
       "1524346               0.84           1.0                    0              1   \n",
       "1439563               0.84           6.0                    0              0   \n",
       "1502009               0.78           1.0                    0              0   \n",
       "\n",
       "         oe_constraint_Yes  ppap_risk_Yes  stop_auto_buy_Yes  rev_stop_Yes  \n",
       "sku                                                                         \n",
       "1026827                  0              0                  1             0  \n",
       "1043384                  0              0                  1             0  \n",
       "1043696                  0              0                  1             0  \n",
       "1043852                  0              0                  1             0  \n",
       "1044048                  0              0                  1             0  \n",
       "...                    ...            ...                ...           ...  \n",
       "1407754                  0              0                  1             0  \n",
       "1373987                  0              0                  1             0  \n",
       "1524346                  0              0                  0             0  \n",
       "1439563                  0              0                  1             0  \n",
       "1502009                  0              0                  1             0  \n",
       "\n",
       "[1686252 rows x 22 columns]"
      ]
     },
     "execution_count": 44,
     "metadata": {},
     "output_type": "execute_result"
    }
   ],
   "source": [
    "train"
   ]
  },
  {
   "cell_type": "markdown",
   "id": "9effece2",
   "metadata": {},
   "source": [
    "### Standardize the dataset"
   ]
  },
  {
   "cell_type": "code",
   "execution_count": 45,
   "id": "f2717a27",
   "metadata": {},
   "outputs": [],
   "source": [
    "feats = ['national_inv', 'lead_time','perf_6_month_avg', 'perf_12_month_avg']"
   ]
  },
  {
   "cell_type": "code",
   "execution_count": 46,
   "id": "62f58b11",
   "metadata": {},
   "outputs": [],
   "source": [
    "scaler = StandardScaler().fit(train[feats])"
   ]
  },
  {
   "cell_type": "code",
   "execution_count": 47,
   "id": "41f78499",
   "metadata": {},
   "outputs": [],
   "source": [
    "train[feats] = scaler.transform(train[feats])"
   ]
  },
  {
   "cell_type": "code",
   "execution_count": 48,
   "id": "9b19a096",
   "metadata": {},
   "outputs": [
    {
     "data": {
      "text/html": [
       "<div>\n",
       "<style scoped>\n",
       "    .dataframe tbody tr th:only-of-type {\n",
       "        vertical-align: middle;\n",
       "    }\n",
       "\n",
       "    .dataframe tbody tr th {\n",
       "        vertical-align: top;\n",
       "    }\n",
       "\n",
       "    .dataframe thead th {\n",
       "        text-align: right;\n",
       "    }\n",
       "</style>\n",
       "<table border=\"1\" class=\"dataframe\">\n",
       "  <thead>\n",
       "    <tr style=\"text-align: right;\">\n",
       "      <th></th>\n",
       "      <th>went_on_backorder</th>\n",
       "      <th>national_inv</th>\n",
       "      <th>lead_time</th>\n",
       "      <th>in_transit_qty</th>\n",
       "      <th>forecast_3_month</th>\n",
       "      <th>forecast_6_month</th>\n",
       "      <th>forecast_9_month</th>\n",
       "      <th>sales_1_month</th>\n",
       "      <th>sales_3_month</th>\n",
       "      <th>sales_6_month</th>\n",
       "      <th>...</th>\n",
       "      <th>pieces_past_due</th>\n",
       "      <th>perf_6_month_avg</th>\n",
       "      <th>perf_12_month_avg</th>\n",
       "      <th>local_bo_qty</th>\n",
       "      <th>potential_issue_Yes</th>\n",
       "      <th>deck_risk_Yes</th>\n",
       "      <th>oe_constraint_Yes</th>\n",
       "      <th>ppap_risk_Yes</th>\n",
       "      <th>stop_auto_buy_Yes</th>\n",
       "      <th>rev_stop_Yes</th>\n",
       "    </tr>\n",
       "    <tr>\n",
       "      <th>sku</th>\n",
       "      <th></th>\n",
       "      <th></th>\n",
       "      <th></th>\n",
       "      <th></th>\n",
       "      <th></th>\n",
       "      <th></th>\n",
       "      <th></th>\n",
       "      <th></th>\n",
       "      <th></th>\n",
       "      <th></th>\n",
       "      <th></th>\n",
       "      <th></th>\n",
       "      <th></th>\n",
       "      <th></th>\n",
       "      <th></th>\n",
       "      <th></th>\n",
       "      <th></th>\n",
       "      <th></th>\n",
       "      <th></th>\n",
       "      <th></th>\n",
       "      <th></th>\n",
       "    </tr>\n",
       "  </thead>\n",
       "  <tbody>\n",
       "    <tr>\n",
       "      <th>1026827</th>\n",
       "      <td>0</td>\n",
       "      <td>-0.017284</td>\n",
       "      <td>-0.000059</td>\n",
       "      <td>0.0</td>\n",
       "      <td>0.0</td>\n",
       "      <td>0.0</td>\n",
       "      <td>0.0</td>\n",
       "      <td>0.0</td>\n",
       "      <td>0.0</td>\n",
       "      <td>0.0</td>\n",
       "      <td>...</td>\n",
       "      <td>0.0</td>\n",
       "      <td>-3.468854</td>\n",
       "      <td>-3.581167</td>\n",
       "      <td>0.0</td>\n",
       "      <td>0</td>\n",
       "      <td>0</td>\n",
       "      <td>0</td>\n",
       "      <td>0</td>\n",
       "      <td>1</td>\n",
       "      <td>0</td>\n",
       "    </tr>\n",
       "    <tr>\n",
       "      <th>1043384</th>\n",
       "      <td>0</td>\n",
       "      <td>-0.017213</td>\n",
       "      <td>0.164723</td>\n",
       "      <td>0.0</td>\n",
       "      <td>0.0</td>\n",
       "      <td>0.0</td>\n",
       "      <td>0.0</td>\n",
       "      <td>0.0</td>\n",
       "      <td>0.0</td>\n",
       "      <td>0.0</td>\n",
       "      <td>...</td>\n",
       "      <td>0.0</td>\n",
       "      <td>0.296075</td>\n",
       "      <td>0.287459</td>\n",
       "      <td>0.0</td>\n",
       "      <td>0</td>\n",
       "      <td>0</td>\n",
       "      <td>0</td>\n",
       "      <td>0</td>\n",
       "      <td>1</td>\n",
       "      <td>0</td>\n",
       "    </tr>\n",
       "    <tr>\n",
       "      <th>1043696</th>\n",
       "      <td>0</td>\n",
       "      <td>-0.017213</td>\n",
       "      <td>-0.000059</td>\n",
       "      <td>0.0</td>\n",
       "      <td>0.0</td>\n",
       "      <td>0.0</td>\n",
       "      <td>0.0</td>\n",
       "      <td>0.0</td>\n",
       "      <td>0.0</td>\n",
       "      <td>0.0</td>\n",
       "      <td>...</td>\n",
       "      <td>0.0</td>\n",
       "      <td>-3.468854</td>\n",
       "      <td>-3.581167</td>\n",
       "      <td>0.0</td>\n",
       "      <td>0</td>\n",
       "      <td>1</td>\n",
       "      <td>0</td>\n",
       "      <td>0</td>\n",
       "      <td>1</td>\n",
       "      <td>0</td>\n",
       "    </tr>\n",
       "    <tr>\n",
       "      <th>1043852</th>\n",
       "      <td>0</td>\n",
       "      <td>-0.017035</td>\n",
       "      <td>0.018605</td>\n",
       "      <td>0.0</td>\n",
       "      <td>0.0</td>\n",
       "      <td>0.0</td>\n",
       "      <td>0.0</td>\n",
       "      <td>0.0</td>\n",
       "      <td>0.0</td>\n",
       "      <td>0.0</td>\n",
       "      <td>...</td>\n",
       "      <td>0.0</td>\n",
       "      <td>0.262564</td>\n",
       "      <td>0.254186</td>\n",
       "      <td>0.0</td>\n",
       "      <td>0</td>\n",
       "      <td>0</td>\n",
       "      <td>0</td>\n",
       "      <td>0</td>\n",
       "      <td>1</td>\n",
       "      <td>0</td>\n",
       "    </tr>\n",
       "    <tr>\n",
       "      <th>1044048</th>\n",
       "      <td>0</td>\n",
       "      <td>-0.016999</td>\n",
       "      <td>-0.000059</td>\n",
       "      <td>0.0</td>\n",
       "      <td>0.0</td>\n",
       "      <td>0.0</td>\n",
       "      <td>0.0</td>\n",
       "      <td>0.0</td>\n",
       "      <td>0.0</td>\n",
       "      <td>0.0</td>\n",
       "      <td>...</td>\n",
       "      <td>0.0</td>\n",
       "      <td>-3.468854</td>\n",
       "      <td>-3.581167</td>\n",
       "      <td>0.0</td>\n",
       "      <td>0</td>\n",
       "      <td>1</td>\n",
       "      <td>0</td>\n",
       "      <td>0</td>\n",
       "      <td>1</td>\n",
       "      <td>0</td>\n",
       "    </tr>\n",
       "  </tbody>\n",
       "</table>\n",
       "<p>5 rows × 22 columns</p>\n",
       "</div>"
      ],
      "text/plain": [
       "         went_on_backorder  national_inv  lead_time  in_transit_qty  \\\n",
       "sku                                                                   \n",
       "1026827                  0     -0.017284  -0.000059             0.0   \n",
       "1043384                  0     -0.017213   0.164723             0.0   \n",
       "1043696                  0     -0.017213  -0.000059             0.0   \n",
       "1043852                  0     -0.017035   0.018605             0.0   \n",
       "1044048                  0     -0.016999  -0.000059             0.0   \n",
       "\n",
       "         forecast_3_month  forecast_6_month  forecast_9_month  sales_1_month  \\\n",
       "sku                                                                            \n",
       "1026827               0.0               0.0               0.0            0.0   \n",
       "1043384               0.0               0.0               0.0            0.0   \n",
       "1043696               0.0               0.0               0.0            0.0   \n",
       "1043852               0.0               0.0               0.0            0.0   \n",
       "1044048               0.0               0.0               0.0            0.0   \n",
       "\n",
       "         sales_3_month  sales_6_month  ...  pieces_past_due  perf_6_month_avg  \\\n",
       "sku                                    ...                                      \n",
       "1026827            0.0            0.0  ...              0.0         -3.468854   \n",
       "1043384            0.0            0.0  ...              0.0          0.296075   \n",
       "1043696            0.0            0.0  ...              0.0         -3.468854   \n",
       "1043852            0.0            0.0  ...              0.0          0.262564   \n",
       "1044048            0.0            0.0  ...              0.0         -3.468854   \n",
       "\n",
       "         perf_12_month_avg  local_bo_qty  potential_issue_Yes  deck_risk_Yes  \\\n",
       "sku                                                                            \n",
       "1026827          -3.581167           0.0                    0              0   \n",
       "1043384           0.287459           0.0                    0              0   \n",
       "1043696          -3.581167           0.0                    0              1   \n",
       "1043852           0.254186           0.0                    0              0   \n",
       "1044048          -3.581167           0.0                    0              1   \n",
       "\n",
       "         oe_constraint_Yes  ppap_risk_Yes  stop_auto_buy_Yes  rev_stop_Yes  \n",
       "sku                                                                         \n",
       "1026827                  0              0                  1             0  \n",
       "1043384                  0              0                  1             0  \n",
       "1043696                  0              0                  1             0  \n",
       "1043852                  0              0                  1             0  \n",
       "1044048                  0              0                  1             0  \n",
       "\n",
       "[5 rows x 22 columns]"
      ]
     },
     "execution_count": 48,
     "metadata": {},
     "output_type": "execute_result"
    }
   ],
   "source": [
    "train.head(5)"
   ]
  },
  {
   "cell_type": "markdown",
   "id": "25afdd11",
   "metadata": {},
   "source": [
    "[Back to the start](#toc)\n",
    "\n",
    "## Feature Engineering <a class=\"anchor\" id=\"chapter3\"></a>"
   ]
  },
  {
   "cell_type": "markdown",
   "id": "16c61a2d",
   "metadata": {},
   "source": [
    "### Correlations"
   ]
  },
  {
   "cell_type": "markdown",
   "id": "3994ee96",
   "metadata": {},
   "source": [
    "**Pearson**"
   ]
  },
  {
   "cell_type": "code",
   "execution_count": 49,
   "id": "42fd9cd2",
   "metadata": {},
   "outputs": [
    {
     "name": "stderr",
     "output_type": "stream",
     "text": [
      "C:\\Users\\João\\AppData\\Local\\Temp\\ipykernel_19296\\1962159030.py:17: UserWarning: Matplotlib is currently using agg, which is a non-GUI backend, so cannot show the figure.\n",
      "  pyplot.show()\n"
     ]
    }
   ],
   "source": [
    "# Compute the correlation matrix - Pearson\n",
    "corr = train.corr(method='pearson')\n",
    "\n",
    "# Generate a mask for the upper triangle\n",
    "mask = np.triu(np.ones_like(corr, dtype=bool))\n",
    "\n",
    "# Set up the matplotlib figure\n",
    "f, ax = plt.subplots(figsize=(11, 9))\n",
    "\n",
    "# Generate a custom diverging colormap\n",
    "#cmap = sns.diverging_palette(240, 10, as_cmap=True)\n",
    "\n",
    "# Draw the heatmap with the mask and correct aspect ratio\n",
    "sns.heatmap(corr, mask = mask,cmap = 'YlGnBu', vmax = 1, vmin=-1, center = 0,\n",
    "            square = True, annot = True, linewidths = .5, cbar_kws = {\"shrink\": .5})\n",
    "pyplot.title('Pearson Correlation')\n",
    "pyplot.show()"
   ]
  },
  {
   "cell_type": "markdown",
   "id": "70294ccf",
   "metadata": {},
   "source": [
    "**Spearman**"
   ]
  },
  {
   "cell_type": "code",
   "execution_count": 50,
   "id": "35d7497f",
   "metadata": {},
   "outputs": [
    {
     "name": "stderr",
     "output_type": "stream",
     "text": [
      "C:\\Users\\João\\AppData\\Local\\Temp\\ipykernel_19296\\818419768.py:17: UserWarning: Matplotlib is currently using agg, which is a non-GUI backend, so cannot show the figure.\n",
      "  pyplot.show()\n"
     ]
    }
   ],
   "source": [
    "# Compute the correlation matrix - Spearman\n",
    "corr = train.corr(method='spearman')\n",
    "\n",
    "# Generate a mask for the upper triangle\n",
    "mask = np.triu(np.ones_like(corr, dtype=bool))\n",
    "\n",
    "# Set up the matplotlib figure\n",
    "f, ax = plt.subplots(figsize=(11, 9))\n",
    "\n",
    "# Generate a custom diverging colormap\n",
    "#cmap = sns.diverging_palette(240, 10, as_cmap=True)\n",
    "\n",
    "# Draw the heatmap with the mask and correct aspect ratio\n",
    "sns.heatmap(corr, mask = mask,cmap = 'YlGnBu', vmax = 1, vmin=-1, center = 0,\n",
    "            square = True, annot = True, linewidths = .5, cbar_kws = {\"shrink\": .5})\n",
    "pyplot.title('Spearman Correlation')\n",
    "pyplot.show()"
   ]
  },
  {
   "cell_type": "code",
   "execution_count": 51,
   "id": "0fd47be5",
   "metadata": {},
   "outputs": [
    {
     "data": {
      "text/plain": [
       "forecast_3_month   forecast_9_month     0.869276\n",
       "forecast_9_month   forecast_3_month     0.869276\n",
       "sales_9_month      sales_1_month        0.872436\n",
       "sales_1_month      sales_9_month        0.872436\n",
       "                   sales_6_month        0.885035\n",
       "sales_6_month      sales_1_month        0.885035\n",
       "forecast_3_month   forecast_6_month     0.909828\n",
       "forecast_6_month   forecast_3_month     0.909828\n",
       "sales_1_month      sales_3_month        0.914904\n",
       "sales_3_month      sales_1_month        0.914904\n",
       "perf_6_month_avg   perf_12_month_avg    0.928710\n",
       "perf_12_month_avg  perf_6_month_avg     0.928710\n",
       "sales_3_month      sales_9_month        0.947129\n",
       "sales_9_month      sales_3_month        0.947129\n",
       "forecast_9_month   forecast_6_month     0.957998\n",
       "forecast_6_month   forecast_9_month     0.957998\n",
       "sales_6_month      sales_3_month        0.962966\n",
       "sales_3_month      sales_6_month        0.962966\n",
       "sales_6_month      sales_9_month        0.982570\n",
       "sales_9_month      sales_6_month        0.982570\n",
       "dtype: float64"
      ]
     },
     "execution_count": 51,
     "metadata": {},
     "output_type": "execute_result"
    }
   ],
   "source": [
    "corr_pairs = corr.unstack().sort_values(kind=\"quicksort\")\n",
    "abs(corr_pairs)[abs(corr_pairs).between(.65,.9999)]"
   ]
  },
  {
   "cell_type": "markdown",
   "id": "c2905579",
   "metadata": {},
   "source": [
    "In_transit_qty, forecast_3_month, forecast_6_month, forecast_9_month, sales_1_month, sales_3_month, sales_6_month, sales_9_month and min_bank are highly correlated with each other. Among them, forecast_3_month, forecast_6_month and forecast_9_month are more correlated with each other compared to the rest. Similarly, sales_1_month, sales_3_month, sales_6_month and sales_9_month are more correlated with each other than any other feature. We also see that perf_6_month_avg and perf_12_month_avg are highly correlated with each other."
   ]
  },
  {
   "cell_type": "markdown",
   "id": "23b00c02",
   "metadata": {},
   "source": [
    "**Kolmogorov–Smirnov test for numerical features**"
   ]
  },
  {
   "cell_type": "code",
   "execution_count": 52,
   "id": "66132590",
   "metadata": {},
   "outputs": [],
   "source": [
    "numerical_feats = ['national_inv', 'lead_time', 'in_transit_qty',\n",
    "       'forecast_3_month', 'forecast_6_month', 'forecast_9_month',\n",
    "       'sales_1_month', 'sales_3_month', 'sales_6_month', 'sales_9_month',\n",
    "       'min_bank', 'pieces_past_due', 'perf_6_month_avg', 'perf_12_month_avg',\n",
    "       'local_bo_qty']"
   ]
  },
  {
   "cell_type": "code",
   "execution_count": 53,
   "id": "2b229b0b",
   "metadata": {},
   "outputs": [],
   "source": [
    "#ks_2samp(pd.DataFrame(train['went_on_backorder']),train[numerical_feats]) #not working, try to figure the issue"
   ]
  },
  {
   "cell_type": "markdown",
   "id": "a68c6a47",
   "metadata": {},
   "source": [
    "**Stochastic/Probability Matrix for categorical features**"
   ]
  },
  {
   "cell_type": "code",
   "execution_count": 54,
   "id": "dd8e6ea1",
   "metadata": {},
   "outputs": [
    {
     "data": {
      "text/plain": [
       "Index(['went_on_backorder', 'national_inv', 'lead_time', 'in_transit_qty',\n",
       "       'forecast_3_month', 'forecast_6_month', 'forecast_9_month',\n",
       "       'sales_1_month', 'sales_3_month', 'sales_6_month', 'sales_9_month',\n",
       "       'min_bank', 'pieces_past_due', 'perf_6_month_avg', 'perf_12_month_avg',\n",
       "       'local_bo_qty', 'potential_issue_Yes', 'deck_risk_Yes',\n",
       "       'oe_constraint_Yes', 'ppap_risk_Yes', 'stop_auto_buy_Yes',\n",
       "       'rev_stop_Yes'],\n",
       "      dtype='object')"
      ]
     },
     "execution_count": 54,
     "metadata": {},
     "output_type": "execute_result"
    }
   ],
   "source": [
    "train.columns"
   ]
  },
  {
   "cell_type": "code",
   "execution_count": 55,
   "id": "7cccacd2",
   "metadata": {},
   "outputs": [],
   "source": [
    "categorical_feats = ['potential_issue_Yes', 'deck_risk_Yes',\n",
    "       'oe_constraint_Yes', 'ppap_risk_Yes', 'stop_auto_buy_Yes',\n",
    "       'rev_stop_Yes']"
   ]
  },
  {
   "cell_type": "code",
   "execution_count": 56,
   "id": "8f21d6dc",
   "metadata": {},
   "outputs": [
    {
     "name": "stdout",
     "output_type": "stream",
     "text": [
      "           No       Yes\n",
      "No   0.992850  0.006619\n",
      "Yes  0.000501  0.000029\n",
      "           No       Yes\n",
      "No   0.764758  0.005519\n",
      "Yes  0.228593  0.001130\n",
      "           No       Yes\n",
      "No   0.993220  0.006644\n",
      "Yes  0.000131  0.000005\n",
      "           No       Yes\n",
      "No   0.873587  0.005613\n",
      "Yes  0.119765  0.001035\n",
      "           No       Yes\n",
      "No   0.035883  0.000277\n",
      "Yes  0.957469  0.006372\n",
      "           No       Yes\n",
      "No   0.992918  0.006648\n",
      "Yes  0.000434  0.000000\n"
     ]
    }
   ],
   "source": [
    "for i in categorical_feats: \n",
    "    cat_vs_went_on_backorder = train.loc[:, [i, 'went_on_backorder']]\n",
    "    x = np.array(cat_vs_went_on_backorder)\n",
    "\n",
    "    cat_matrix = np.array([[x[np.where((x[:,0] == 0) * (x[:,1] == 0))].shape[0] / len(x), \n",
    "                                                    x[np.where((x[:,0] == 0) * (x[:,1] == 1))].shape[0] / len(x)],\n",
    "                                                   [x[np.where((x[:,0] == 1) * (x[:,1] == 0))].shape[0] / len(x), \n",
    "                                                    x[np.where((x[:,0] == 1) * (x[:,1] == 1))].shape[0] / len(x)]])\n",
    "\n",
    "    cat_matrix_df = pd.DataFrame(cat_matrix, columns=['No', 'Yes'], index=['No', 'Yes'])\n",
    "    print(cat_matrix_df)"
   ]
  },
  {
   "cell_type": "markdown",
   "id": "75b011cd",
   "metadata": {},
   "source": [
    "### PCA"
   ]
  },
  {
   "cell_type": "code",
   "execution_count": 57,
   "id": "ca79eb07",
   "metadata": {},
   "outputs": [
    {
     "name": "stderr",
     "output_type": "stream",
     "text": [
      "C:\\Users\\João\\AppData\\Local\\Temp\\ipykernel_19296\\3213533353.py:14: UserWarning: Matplotlib is currently using agg, which is a non-GUI backend, so cannot show the figure.\n",
      "  plt.show()\n"
     ]
    }
   ],
   "source": [
    "x_train = train.drop('went_on_backorder', axis=1)\n",
    "y_train = train['went_on_backorder']\n",
    "\n",
    "standard_scalar = StandardScaler()\n",
    "std_x_train = standard_scalar.fit_transform(x_train)\n",
    "\n",
    "model = PCA(n_components=2, random_state=42)\n",
    "pca_data = model.fit_transform(std_x_train)\n",
    "pca_data = np.vstack((pca_data.T, y_train)).T\n",
    "pca_df = pd.DataFrame(data=pca_data, columns=(\"pc1\", \"pc2\", \"went_on_backorder\"))\n",
    "\n",
    "sns.FacetGrid(pca_df, hue='went_on_backorder', height=10).map(plt.scatter, 'pc1', 'pc2').add_legend()\n",
    "plt.title(\"PCA\")\n",
    "plt.show()"
   ]
  },
  {
   "cell_type": "markdown",
   "id": "293d9c30",
   "metadata": {},
   "source": [
    "[Back to the start](#toc)\n",
    "\n",
    "## Feature Selection <a class=\"anchor\" id=\"chapter4\"></a>"
   ]
  },
  {
   "cell_type": "markdown",
   "id": "f07c41df",
   "metadata": {},
   "source": [
    "[Back to the start](#toc)\n",
    "\n",
    "## Train Test Split <a class=\"anchor\" id=\"chapter7\"></a>"
   ]
  },
  {
   "cell_type": "code",
   "execution_count": 58,
   "id": "47e76a42",
   "metadata": {},
   "outputs": [],
   "source": [
    "X = train.drop('went_on_backorder', axis=1)\n",
    "y = train['went_on_backorder']"
   ]
  },
  {
   "cell_type": "code",
   "execution_count": 59,
   "id": "2b4bdcab",
   "metadata": {},
   "outputs": [],
   "source": [
    "# TRAIN (70%) & VALIDATION (30%) SPLIT\n",
    "X_train, X_val, y_train, y_val = train_test_split(X, y, test_size=0.3, random_state=15, stratify=y)"
   ]
  },
  {
   "cell_type": "code",
   "execution_count": 60,
   "id": "72687153",
   "metadata": {
    "scrolled": false
   },
   "outputs": [
    {
     "data": {
      "text/plain": [
       "0    1172528\n",
       "1       7848\n",
       "Name: went_on_backorder, dtype: int64"
      ]
     },
     "execution_count": 60,
     "metadata": {},
     "output_type": "execute_result"
    }
   ],
   "source": [
    "y_train.value_counts()"
   ]
  },
  {
   "cell_type": "markdown",
   "id": "5599fa15",
   "metadata": {},
   "source": [
    "[Back to the start](#toc)\n",
    "\n",
    "## Balancing the dataset <a class=\"anchor\" id=\"chapter8\"></a>"
   ]
  },
  {
   "cell_type": "markdown",
   "id": "a4c6a991",
   "metadata": {},
   "source": [
    "https://machinelearningmastery.com/smote-oversampling-for-imbalanced-classification/ \n",
    "https://heartbeat.comet.ml/resampling-to-properly-handle-imbalanced-datasets-in-machine-learning-64d82c16ceaa"
   ]
  },
  {
   "cell_type": "markdown",
   "id": "d1d579b5",
   "metadata": {},
   "source": [
    "### Undersampling"
   ]
  },
  {
   "cell_type": "code",
   "execution_count": 61,
   "id": "7e660a53",
   "metadata": {},
   "outputs": [],
   "source": [
    "#pip install imblearn"
   ]
  },
  {
   "cell_type": "code",
   "execution_count": 62,
   "id": "a7a6eaee",
   "metadata": {},
   "outputs": [],
   "source": [
    "from imblearn.under_sampling import RandomUnderSampler\n",
    "from collections import Counter"
   ]
  },
  {
   "cell_type": "code",
   "execution_count": 63,
   "id": "6551e07f",
   "metadata": {},
   "outputs": [],
   "source": [
    "undersample = RandomUnderSampler(sampling_strategy='majority')"
   ]
  },
  {
   "cell_type": "code",
   "execution_count": 64,
   "id": "f76b9c3c",
   "metadata": {},
   "outputs": [],
   "source": [
    "X_under, y_under = undersample.fit_resample(X_train, y_train)"
   ]
  },
  {
   "cell_type": "code",
   "execution_count": 65,
   "id": "f65a986c",
   "metadata": {},
   "outputs": [
    {
     "name": "stdout",
     "output_type": "stream",
     "text": [
      "Counter({0: 7848, 1: 7848})\n"
     ]
    }
   ],
   "source": [
    "print(Counter(y_under))"
   ]
  },
  {
   "cell_type": "code",
   "execution_count": 66,
   "id": "a33ccafa",
   "metadata": {},
   "outputs": [
    {
     "name": "stderr",
     "output_type": "stream",
     "text": [
      "C:\\Users\\João\\AppData\\Local\\Temp\\ipykernel_19296\\3258202054.py:8: UserWarning: Matplotlib is currently using agg, which is a non-GUI backend, so cannot show the figure.\n",
      "  plt.show()\n"
     ]
    }
   ],
   "source": [
    "model = PCA(n_components=2, random_state=42)\n",
    "pca_data = model.fit_transform(X_under)\n",
    "pca_data = np.vstack((pca_data.T, y_under)).T\n",
    "pca_df = pd.DataFrame(data=pca_data, columns=(\"pc1\", \"pc2\", \"went_on_backorder\"))\n",
    "\n",
    "sns.FacetGrid(pca_df, hue='went_on_backorder', height=10).map(plt.scatter, 'pc1', 'pc2').add_legend()\n",
    "plt.title(\"PCA\")\n",
    "plt.show()"
   ]
  },
  {
   "cell_type": "markdown",
   "id": "305867fe",
   "metadata": {},
   "source": [
    "### Oversampling"
   ]
  },
  {
   "cell_type": "code",
   "execution_count": 67,
   "id": "83fa5940",
   "metadata": {},
   "outputs": [],
   "source": [
    "from imblearn.over_sampling import RandomOverSampler"
   ]
  },
  {
   "cell_type": "code",
   "execution_count": 68,
   "id": "002bf0e6",
   "metadata": {},
   "outputs": [],
   "source": [
    "oversample = RandomOverSampler(sampling_strategy='minority')"
   ]
  },
  {
   "cell_type": "code",
   "execution_count": 69,
   "id": "0f806765",
   "metadata": {},
   "outputs": [],
   "source": [
    "X_over, y_over = oversample.fit_resample(X_train, y_train)"
   ]
  },
  {
   "cell_type": "code",
   "execution_count": 70,
   "id": "376da8cf",
   "metadata": {
    "scrolled": true
   },
   "outputs": [
    {
     "name": "stdout",
     "output_type": "stream",
     "text": [
      "Counter({0: 1172528, 1: 1172528})\n"
     ]
    }
   ],
   "source": [
    "print(Counter(y_over))"
   ]
  },
  {
   "cell_type": "code",
   "execution_count": 71,
   "id": "f8497de5",
   "metadata": {},
   "outputs": [
    {
     "name": "stderr",
     "output_type": "stream",
     "text": [
      "C:\\Users\\João\\AppData\\Local\\Temp\\ipykernel_19296\\2327861670.py:8: UserWarning: Matplotlib is currently using agg, which is a non-GUI backend, so cannot show the figure.\n",
      "  plt.show()\n"
     ]
    }
   ],
   "source": [
    "model = PCA(n_components=2, random_state=42)\n",
    "pca_data = model.fit_transform(X_over)\n",
    "pca_data = np.vstack((pca_data.T, y_over)).T\n",
    "pca_df = pd.DataFrame(data=pca_data, columns=(\"pc1\", \"pc2\", \"went_on_backorder\"))\n",
    "\n",
    "sns.FacetGrid(pca_df, hue='went_on_backorder', height=10).map(plt.scatter, 'pc1', 'pc2').add_legend()\n",
    "plt.title(\"PCA\")\n",
    "plt.show()"
   ]
  },
  {
   "cell_type": "markdown",
   "id": "d1e9b2ff",
   "metadata": {},
   "source": [
    "### SMOTE"
   ]
  },
  {
   "cell_type": "code",
   "execution_count": 72,
   "id": "9976ef0f",
   "metadata": {},
   "outputs": [],
   "source": [
    "from imblearn.over_sampling import SMOTE"
   ]
  },
  {
   "cell_type": "code",
   "execution_count": 73,
   "id": "86a9085d",
   "metadata": {},
   "outputs": [],
   "source": [
    "oversample = SMOTE(sampling_strategy='minority')"
   ]
  },
  {
   "cell_type": "code",
   "execution_count": 74,
   "id": "aa58ffa4",
   "metadata": {},
   "outputs": [],
   "source": [
    "X_smote, y_smote = oversample.fit_resample(X_train, y_train)"
   ]
  },
  {
   "cell_type": "code",
   "execution_count": 75,
   "id": "110aea43",
   "metadata": {},
   "outputs": [
    {
     "name": "stdout",
     "output_type": "stream",
     "text": [
      "Counter({0: 1172528, 1: 1172528})\n"
     ]
    }
   ],
   "source": [
    "counter = Counter(y_smote)\n",
    "print(counter)"
   ]
  },
  {
   "cell_type": "code",
   "execution_count": 76,
   "id": "d70355a0",
   "metadata": {},
   "outputs": [
    {
     "name": "stderr",
     "output_type": "stream",
     "text": [
      "C:\\Users\\João\\AppData\\Local\\Temp\\ipykernel_19296\\4232502944.py:8: UserWarning: Matplotlib is currently using agg, which is a non-GUI backend, so cannot show the figure.\n",
      "  plt.show()\n"
     ]
    }
   ],
   "source": [
    "model = PCA(n_components=2, random_state=42)\n",
    "pca_data = model.fit_transform(X_smote)\n",
    "pca_data = np.vstack((pca_data.T, y_smote)).T\n",
    "pca_df = pd.DataFrame(data=pca_data, columns=(\"pc1\", \"pc2\", \"went_on_backorder\"))\n",
    "\n",
    "sns.FacetGrid(pca_df, hue='went_on_backorder', height=10).map(plt.scatter, 'pc1', 'pc2').add_legend()\n",
    "plt.title(\"PCA\")\n",
    "plt.show()"
   ]
  },
  {
   "cell_type": "markdown",
   "id": "871106b4",
   "metadata": {},
   "source": [
    "### SMOTE with undersampling"
   ]
  },
  {
   "cell_type": "code",
   "execution_count": 77,
   "id": "2bb3a3f3",
   "metadata": {},
   "outputs": [],
   "source": [
    "from imblearn.pipeline import Pipeline"
   ]
  },
  {
   "cell_type": "code",
   "execution_count": 78,
   "id": "bb800460",
   "metadata": {},
   "outputs": [],
   "source": [
    "over = SMOTE(sampling_strategy=0.1)\n",
    "under = RandomUnderSampler(sampling_strategy=0.5)"
   ]
  },
  {
   "cell_type": "code",
   "execution_count": 79,
   "id": "d26a9e2d",
   "metadata": {},
   "outputs": [],
   "source": [
    "steps = [('o', over), ('u', under)]\n",
    "pipeline = Pipeline(steps=steps)"
   ]
  },
  {
   "cell_type": "code",
   "execution_count": 80,
   "id": "396477fd",
   "metadata": {},
   "outputs": [],
   "source": [
    "X_comb, y_comb = pipeline.fit_resample(X_train, y_train)"
   ]
  },
  {
   "cell_type": "code",
   "execution_count": 81,
   "id": "b44a6e88",
   "metadata": {},
   "outputs": [
    {
     "name": "stderr",
     "output_type": "stream",
     "text": [
      "C:\\Users\\João\\AppData\\Local\\Temp\\ipykernel_19296\\3377251400.py:8: UserWarning: Matplotlib is currently using agg, which is a non-GUI backend, so cannot show the figure.\n",
      "  plt.show()\n"
     ]
    }
   ],
   "source": [
    "model = PCA(n_components=2, random_state=42)\n",
    "pca_data = model.fit_transform(X_comb)\n",
    "pca_data = np.vstack((pca_data.T, y_comb)).T\n",
    "pca_df = pd.DataFrame(data=pca_data, columns=(\"pc1\", \"pc2\", \"went_on_backorder\"))\n",
    "\n",
    "sns.FacetGrid(pca_df, hue='went_on_backorder', height=10).map(plt.scatter, 'pc1', 'pc2').add_legend()\n",
    "plt.title(\"PCA\")\n",
    "plt.show()"
   ]
  },
  {
   "cell_type": "markdown",
   "id": "109ca594",
   "metadata": {},
   "source": [
    "### ADASYN"
   ]
  },
  {
   "cell_type": "code",
   "execution_count": 82,
   "id": "38f1969d",
   "metadata": {},
   "outputs": [],
   "source": [
    "from imblearn.over_sampling import ADASYN\n",
    "\n",
    "# create the object to resample the majority class.\n",
    "adasyn = ADASYN(sampling_strategy=\"minority\")\n",
    "\n",
    "# fit the object to the training data.\n",
    "x_train_adasyn, y_train_adasyn = adasyn.fit_resample(X_train, y_train)"
   ]
  },
  {
   "cell_type": "code",
   "execution_count": 83,
   "id": "4a7b933f",
   "metadata": {},
   "outputs": [
    {
     "name": "stderr",
     "output_type": "stream",
     "text": [
      "C:\\Users\\João\\AppData\\Local\\Temp\\ipykernel_19296\\3115315160.py:8: UserWarning: Matplotlib is currently using agg, which is a non-GUI backend, so cannot show the figure.\n",
      "  plt.show()\n"
     ]
    }
   ],
   "source": [
    "model = PCA(n_components=2, random_state=42)\n",
    "pca_data = model.fit_transform(X_train)\n",
    "pca_data = np.vstack((pca_data.T, y_train)).T\n",
    "pca_df = pd.DataFrame(data=pca_data, columns=(\"pc1\", \"pc2\", \"went_on_backorder\"))\n",
    "\n",
    "sns.FacetGrid(pca_df, hue='went_on_backorder', height=10).map(plt.scatter, 'pc1', 'pc2').add_legend()\n",
    "plt.title(\"PCA\")\n",
    "plt.show()"
   ]
  },
  {
   "cell_type": "markdown",
   "id": "0c4413ca",
   "metadata": {},
   "source": [
    "[Back to the start](#toc)\n",
    "\n",
    "## Modelling <a class=\"anchor\" id=\"chapter5\"></a>"
   ]
  },
  {
   "cell_type": "markdown",
   "id": "fa6457e4",
   "metadata": {},
   "source": [
    "### K-Folds and Repeated K-folds  <a class=\"anchor\" id=\"chapter5.1\"></a>"
   ]
  },
  {
   "cell_type": "code",
   "execution_count": 84,
   "id": "8db2812b",
   "metadata": {},
   "outputs": [],
   "source": [
    "kf = KFold(n_splits=10)\n",
    "rkf = RepeatedKFold(n_splits=10, n_repeats=2) "
   ]
  },
  {
   "cell_type": "code",
   "execution_count": 85,
   "id": "21120e19",
   "metadata": {},
   "outputs": [
    {
     "name": "stdout",
     "output_type": "stream",
     "text": [
      "TRAIN: [ 168626  168627  168628 ... 1686249 1686250 1686251] TEST: [     0      1      2 ... 168623 168624 168625]\n",
      "TRAIN: [      0       1       2 ... 1686249 1686250 1686251] TEST: [168626 168627 168628 ... 337249 337250 337251]\n",
      "TRAIN: [      0       1       2 ... 1686249 1686250 1686251] TEST: [337252 337253 337254 ... 505874 505875 505876]\n",
      "TRAIN: [      0       1       2 ... 1686249 1686250 1686251] TEST: [505877 505878 505879 ... 674499 674500 674501]\n",
      "TRAIN: [      0       1       2 ... 1686249 1686250 1686251] TEST: [674502 674503 674504 ... 843124 843125 843126]\n",
      "TRAIN: [      0       1       2 ... 1686249 1686250 1686251] TEST: [ 843127  843128  843129 ... 1011749 1011750 1011751]\n",
      "TRAIN: [      0       1       2 ... 1686249 1686250 1686251] TEST: [1011752 1011753 1011754 ... 1180374 1180375 1180376]\n",
      "TRAIN: [      0       1       2 ... 1686249 1686250 1686251] TEST: [1180377 1180378 1180379 ... 1348999 1349000 1349001]\n",
      "TRAIN: [      0       1       2 ... 1686249 1686250 1686251] TEST: [1349002 1349003 1349004 ... 1517624 1517625 1517626]\n",
      "TRAIN: [      0       1       2 ... 1517624 1517625 1517626] TEST: [1517627 1517628 1517629 ... 1686249 1686250 1686251]\n"
     ]
    }
   ],
   "source": [
    "for train_index, test_index in kf.split(X):\n",
    "    print(\"TRAIN:\", train_index, \"TEST:\", test_index)"
   ]
  },
  {
   "cell_type": "code",
   "execution_count": 86,
   "id": "f788fc29",
   "metadata": {},
   "outputs": [
    {
     "name": "stdout",
     "output_type": "stream",
     "text": [
      "TRAIN: [      0       2       3 ... 1686248 1686249 1686250] TEST: [      1       9      10 ... 1686187 1686213 1686251]\n",
      "TRAIN: [      0       1       2 ... 1686249 1686250 1686251] TEST: [      4      23      25 ... 1686221 1686232 1686236]\n",
      "TRAIN: [      0       1       2 ... 1686249 1686250 1686251] TEST: [     16      17      28 ... 1686224 1686228 1686244]\n",
      "TRAIN: [      0       1       3 ... 1686248 1686250 1686251] TEST: [      2       6      36 ... 1686231 1686246 1686249]\n",
      "TRAIN: [      0       1       2 ... 1686249 1686250 1686251] TEST: [      5      15      26 ... 1686245 1686247 1686248]\n",
      "TRAIN: [      0       1       2 ... 1686249 1686250 1686251] TEST: [      3      24      27 ... 1686162 1686170 1686210]\n",
      "TRAIN: [      0       1       2 ... 1686248 1686249 1686251] TEST: [     20      35      53 ... 1686237 1686239 1686250]\n",
      "TRAIN: [      1       2       3 ... 1686249 1686250 1686251] TEST: [      0       8      38 ... 1686230 1686234 1686243]\n",
      "TRAIN: [      0       1       2 ... 1686249 1686250 1686251] TEST: [     14      32      40 ... 1686195 1686238 1686241]\n",
      "TRAIN: [      0       1       2 ... 1686249 1686250 1686251] TEST: [      7      11      12 ... 1686214 1686216 1686235]\n",
      "TRAIN: [      0       1       2 ... 1686249 1686250 1686251] TEST: [      6       9      48 ... 1686240 1686244 1686247]\n",
      "TRAIN: [      0       2       3 ... 1686249 1686250 1686251] TEST: [      1      10      22 ... 1686235 1686238 1686246]\n",
      "TRAIN: [      0       1       2 ... 1686248 1686249 1686250] TEST: [     17      20      37 ... 1686212 1686221 1686251]\n",
      "TRAIN: [      0       1       2 ... 1686248 1686249 1686251] TEST: [      5      13      15 ... 1686222 1686226 1686250]\n",
      "TRAIN: [      1       2       3 ... 1686249 1686250 1686251] TEST: [      0      16      50 ... 1686232 1686236 1686242]\n",
      "TRAIN: [      0       1       2 ... 1686249 1686250 1686251] TEST: [     11      23      31 ... 1686227 1686234 1686243]\n",
      "TRAIN: [      0       1       2 ... 1686249 1686250 1686251] TEST: [      8      18      28 ... 1686216 1686228 1686237]\n",
      "TRAIN: [      0       1       3 ... 1686247 1686250 1686251] TEST: [      2      19      24 ... 1686217 1686248 1686249]\n",
      "TRAIN: [      0       1       2 ... 1686249 1686250 1686251] TEST: [     12      14      25 ... 1686209 1686214 1686245]\n",
      "TRAIN: [      0       1       2 ... 1686249 1686250 1686251] TEST: [      3       4       7 ... 1686230 1686239 1686241]\n"
     ]
    }
   ],
   "source": [
    "for train_index, test_index in rkf.split(X):\n",
    "    print(\"TRAIN:\", train_index, \"TEST:\", test_index)"
   ]
  },
  {
   "cell_type": "markdown",
   "id": "96666a5a",
   "metadata": {},
   "source": [
    "### Important functions"
   ]
  },
  {
   "cell_type": "code",
   "execution_count": 87,
   "id": "a3ad0c70",
   "metadata": {},
   "outputs": [],
   "source": [
    "def avg_score(method,model):\n",
    "    # apply kfold\n",
    "    kf = method\n",
    "    # create lists to store the results from the different models \n",
    "    score_train = []\n",
    "    score_test = []\n",
    "    timer = []\n",
    "    for train_index, test_index in kf.split(X):\n",
    "        # get the indexes of the observations assigned for each partition\n",
    "        X_train, X_test = X.iloc[train_index], X.iloc[test_index]\n",
    "        y_train, y_test = y.iloc[train_index], y.iloc[test_index]\n",
    "        # start counting time\n",
    "        begin = time.perf_counter()\n",
    "        # fit the model to the data\n",
    "        model.fit(X_train, y_train)\n",
    "        # finish counting time\n",
    "        end = time.perf_counter()\n",
    "        # check the mean accuracy for the train\n",
    "        value_train = model.score(X_train, y_train)\n",
    "        # check the mean accuracy for the test\n",
    "        value_test = model.score(X_test,y_test)\n",
    "        # append the accuracies, the time and the number of iterations in the corresponding list\n",
    "        score_train.append(value_train)\n",
    "        score_test.append(value_test)\n",
    "        timer.append(end-begin)\n",
    "    # calculate the average and the std for each measure (accuracy, time and number of iterations)\n",
    "    avg_time = round(np.mean(timer),3)\n",
    "    avg_train = round(np.mean(score_train),3)\n",
    "    avg_test = round(np.mean(score_test),3)\n",
    "    std_time = round(np.std(timer),2)\n",
    "    std_train = round(np.std(score_train),2)\n",
    "    std_test = round(np.std(score_test),2)\n",
    "    \n",
    "    return str(avg_time) + '+/-' + str(std_time), str(avg_train) + '+/-' + str(std_train),\\\n",
    "str(avg_test) + '+/-' + str(std_test)"
   ]
  },
  {
   "cell_type": "code",
   "execution_count": 88,
   "id": "0a5adc25",
   "metadata": {},
   "outputs": [],
   "source": [
    "def mlp_avg_score(method, model):\n",
    "    # apply kfold\n",
    "    kf = method #K-folds: takes our entire dataset and divides it 10 times\n",
    "    # create lists to store the results from the different models \n",
    "    score_train = []\n",
    "    score_val = []\n",
    "    timer = []\n",
    "    n_iter = []\n",
    "    for train_index, val_index in kf.split(X):\n",
    "        # get the indexes of the observations assigned for each partition\n",
    "        X_train, X_val = X.iloc[train_index], X.iloc[val_index]\n",
    "        y_train, y_val = y.iloc[train_index], y.iloc[val_index]\n",
    "        # start counting time\n",
    "        begin = time.perf_counter()\n",
    "        # fit the model to the data\n",
    "        model.fit(X_train, y_train)\n",
    "        # finish counting time\n",
    "        end = time.perf_counter()\n",
    "        # check the mean accuracy for the train\n",
    "        value_train = model.score(X_train, y_train) #we are checking both scores, value_train and value_val to make sure that it doesn't overfit \n",
    "        # check the mean accuracy for the validation #we don't want our model to be very good in the train data, but not in test\n",
    "        value_val = model.score(X_val, y_val)\n",
    "        # append the accuracies, the time and the number of iterations in the corresponding list\n",
    "        score_train.append(value_train)\n",
    "        score_val.append(value_val)\n",
    "        timer.append(end-begin)\n",
    "        n_iter.append(model.n_iter_)\n",
    "    # calculate the average and the std for each measure (accuracy, time and number of iterations)\n",
    "    avg_time = round(np.mean(timer),3)\n",
    "    avg_train = round(np.mean(score_train),3)\n",
    "    avg_val = round(np.mean(score_val),3)\n",
    "    std_time = round(np.std(timer),2)\n",
    "    std_train = round(np.std(score_train),2)\n",
    "    std_val = round(np.std(score_val),2)\n",
    "    avg_iter = round(np.mean(n_iter),1)\n",
    "    std_iter = round(np.std(n_iter),1)\n",
    "    \n",
    "    return str(avg_time) + '+/-' + str(std_time), str(avg_train) + '+/-' + str(std_train),\\\n",
    "str(avg_val) + '+/-' + str(std_val), str(avg_iter) + '+/-' + str(std_iter)"
   ]
  },
  {
   "cell_type": "code",
   "execution_count": 89,
   "id": "5cb3a478",
   "metadata": {},
   "outputs": [],
   "source": [
    "def show_results(df, *args):\n",
    "    \"\"\"\n",
    "    Receive an empty dataframe and the different models and call the function avg_score\n",
    "    \"\"\"\n",
    "    count = 0\n",
    "    # for each model passed as argument\n",
    "    for arg in args:\n",
    "        # obtain the results provided by avg_score\n",
    "        time, avg_train, avg_test = avg_score(arg)\n",
    "        # store the results in the right row\n",
    "        df.iloc[count] = time, avg_train, avg_test\n",
    "        count+=1\n",
    "    return df"
   ]
  },
  {
   "cell_type": "code",
   "execution_count": 90,
   "id": "4c9308d2",
   "metadata": {},
   "outputs": [],
   "source": [
    "from sklearn.metrics import confusion_matrix\n",
    "from sklearn.metrics import classification_report\n",
    "from sklearn.metrics import plot_confusion_matrix"
   ]
  },
  {
   "cell_type": "code",
   "execution_count": 91,
   "id": "496e0fbc",
   "metadata": {},
   "outputs": [],
   "source": [
    "def report(y_train, y_pred):\n",
    "    print('                                        Classification Report                                            ')\n",
    "    print('-------------------------------------------------------------------------------------------------------\\n')\n",
    "    print(classification_report(y_train, y_pred))\n",
    "    \n",
    "    print('\\n                                        Confusion Matrix                                               ')\n",
    "    print('-------------------------------------------------------------------------------------------------------\\n')\n",
    "    print(confusion_matrix(y_train,y_pred))\n",
    "    \n",
    "    print('\\n                                         Specificity                                                   ')\n",
    "    print('-------------------------------------------------------------------------------------------------------\\n')\n",
    "    print(confusion_matrix(y_train,y_pred)[1][1]/(confusion_matrix(y_train,y_pred)[1][1]+confusion_matrix(y_train,y_pred)[0][1]))"
   ]
  },
  {
   "cell_type": "markdown",
   "id": "b97474c2",
   "metadata": {},
   "source": [
    "### Logistic Regression  <a class=\"anchor\" id=\"chapter5.2\"></a>"
   ]
  },
  {
   "cell_type": "code",
   "execution_count": 92,
   "id": "defa854d",
   "metadata": {
    "scrolled": true
   },
   "outputs": [
    {
     "name": "stderr",
     "output_type": "stream",
     "text": [
      "C:\\Anaconda\\lib\\site-packages\\sklearn\\linear_model\\_logistic.py:444: ConvergenceWarning: lbfgs failed to converge (status=1):\n",
      "STOP: TOTAL NO. of ITERATIONS REACHED LIMIT.\n",
      "\n",
      "Increase the number of iterations (max_iter) or scale the data as shown in:\n",
      "    https://scikit-learn.org/stable/modules/preprocessing.html\n",
      "Please also refer to the documentation for alternative solver options:\n",
      "    https://scikit-learn.org/stable/modules/linear_model.html#logistic-regression\n",
      "  n_iter_i = _check_optimize_result(\n"
     ]
    }
   ],
   "source": [
    "lr_model = LogisticRegression().fit(X_smote, y_smote)"
   ]
  },
  {
   "cell_type": "code",
   "execution_count": 93,
   "id": "b2722938",
   "metadata": {},
   "outputs": [],
   "source": [
    "y_pred = lr_model.predict(X_smote)"
   ]
  },
  {
   "cell_type": "code",
   "execution_count": 94,
   "id": "47f6f6f1",
   "metadata": {
    "scrolled": true
   },
   "outputs": [],
   "source": [
    "#avg_score(kf,lr_model)"
   ]
  },
  {
   "cell_type": "code",
   "execution_count": 95,
   "id": "ef0c9db0",
   "metadata": {},
   "outputs": [],
   "source": [
    "lr = ('17.43+/-1.78', '0.993+/-0.0', '0.993+/-0.0')"
   ]
  },
  {
   "cell_type": "code",
   "execution_count": 96,
   "id": "d9e0daf3",
   "metadata": {
    "scrolled": true
   },
   "outputs": [
    {
     "name": "stdout",
     "output_type": "stream",
     "text": [
      "                                        Classification Report                                            \n",
      "-------------------------------------------------------------------------------------------------------\n",
      "\n",
      "              precision    recall  f1-score   support\n",
      "\n",
      "           0       0.78      0.46      0.58   1172528\n",
      "           1       0.62      0.87      0.72   1172528\n",
      "\n",
      "    accuracy                           0.67   2345056\n",
      "   macro avg       0.70      0.67      0.65   2345056\n",
      "weighted avg       0.70      0.67      0.65   2345056\n",
      "\n",
      "\n",
      "                                        Confusion Matrix                                               \n",
      "-------------------------------------------------------------------------------------------------------\n",
      "\n",
      "[[ 542614  629914]\n",
      " [ 153414 1019114]]\n",
      "\n",
      "                                         Specificity                                                   \n",
      "-------------------------------------------------------------------------------------------------------\n",
      "\n",
      "0.6180089119165957\n"
     ]
    }
   ],
   "source": [
    "report(y_smote,y_pred)"
   ]
  },
  {
   "cell_type": "code",
   "execution_count": 97,
   "id": "1675f1be",
   "metadata": {},
   "outputs": [
    {
     "name": "stderr",
     "output_type": "stream",
     "text": [
      "C:\\Anaconda\\lib\\site-packages\\sklearn\\linear_model\\_logistic.py:444: ConvergenceWarning: lbfgs failed to converge (status=1):\n",
      "STOP: TOTAL NO. of ITERATIONS REACHED LIMIT.\n",
      "\n",
      "Increase the number of iterations (max_iter) or scale the data as shown in:\n",
      "    https://scikit-learn.org/stable/modules/preprocessing.html\n",
      "Please also refer to the documentation for alternative solver options:\n",
      "    https://scikit-learn.org/stable/modules/linear_model.html#logistic-regression\n",
      "  n_iter_i = _check_optimize_result(\n"
     ]
    }
   ],
   "source": [
    "lr_model = LogisticRegression().fit(x_train_adasyn, y_train_adasyn)"
   ]
  },
  {
   "cell_type": "code",
   "execution_count": 98,
   "id": "e3f25ea0",
   "metadata": {},
   "outputs": [],
   "source": [
    "y_pred = lr_model.predict(x_train_adasyn)"
   ]
  },
  {
   "cell_type": "code",
   "execution_count": 99,
   "id": "f25b0d61",
   "metadata": {},
   "outputs": [
    {
     "name": "stdout",
     "output_type": "stream",
     "text": [
      "                                        Classification Report                                            \n",
      "-------------------------------------------------------------------------------------------------------\n",
      "\n",
      "              precision    recall  f1-score   support\n",
      "\n",
      "           0       0.76      0.48      0.59   1172528\n",
      "           1       0.62      0.85      0.71   1175457\n",
      "\n",
      "    accuracy                           0.66   2347985\n",
      "   macro avg       0.69      0.66      0.65   2347985\n",
      "weighted avg       0.69      0.66      0.65   2347985\n",
      "\n",
      "\n",
      "                                        Confusion Matrix                                               \n",
      "-------------------------------------------------------------------------------------------------------\n",
      "\n",
      "[[559428 613100]\n",
      " [180526 994931]]\n",
      "\n",
      "                                         Specificity                                                   \n",
      "-------------------------------------------------------------------------------------------------------\n",
      "\n",
      "0.6187262558992954\n"
     ]
    }
   ],
   "source": [
    "report(y_train_adasyn,y_pred)"
   ]
  },
  {
   "cell_type": "code",
   "execution_count": 100,
   "id": "d8b82a7f",
   "metadata": {},
   "outputs": [
    {
     "name": "stdout",
     "output_type": "stream",
     "text": [
      "                                        Classification Report                                            \n",
      "-------------------------------------------------------------------------------------------------------\n",
      "\n",
      "              precision    recall  f1-score   support\n",
      "\n",
      "           0       1.00      0.48      0.65    502513\n",
      "           1       0.01      0.82      0.02      3363\n",
      "\n",
      "    accuracy                           0.48    505876\n",
      "   macro avg       0.50      0.65      0.33    505876\n",
      "weighted avg       0.99      0.48      0.64    505876\n",
      "\n",
      "\n",
      "                                        Confusion Matrix                                               \n",
      "-------------------------------------------------------------------------------------------------------\n",
      "\n",
      "[[239843 262670]\n",
      " [   614   2749]]\n",
      "\n",
      "                                         Specificity                                                   \n",
      "-------------------------------------------------------------------------------------------------------\n",
      "\n",
      "0.010357208790629156\n"
     ]
    }
   ],
   "source": [
    "y_pred = lr_model.predict(X_val)\n",
    "report(y_val,y_pred)"
   ]
  },
  {
   "cell_type": "code",
   "execution_count": 103,
   "id": "b46e23fd",
   "metadata": {},
   "outputs": [],
   "source": [
    "#Test to see if it works\n",
    "\n",
    "report_lr = classification_report(y_val, y_pred, output_dict=True)\n",
    "lr = pd.DataFrame(report_lr).transpose()"
   ]
  },
  {
   "cell_type": "markdown",
   "id": "d2839628",
   "metadata": {},
   "source": [
    "### Neural Networks  <a class=\"anchor\" id=\"chapter5.3\"></a>"
   ]
  },
  {
   "cell_type": "code",
   "execution_count": 104,
   "id": "e2e93eae",
   "metadata": {},
   "outputs": [],
   "source": [
    "param_grid = {\n",
    "    'hidden_layer_sizes': [(10,10), (10,10,10)],\n",
    "     'alpha': [0.0001, 0.001],\n",
    "     'learning_rate': ['adaptive', 'invscaling']\n",
    "}"
   ]
  },
  {
   "cell_type": "code",
   "execution_count": 105,
   "id": "d8c960bc",
   "metadata": {
    "scrolled": true
   },
   "outputs": [],
   "source": [
    "test = GridSearchCV(MLPClassifier(), param_grid,scoring= 'f1_micro').fit(X_smote, y_smote) #cv = cross validation"
   ]
  },
  {
   "cell_type": "code",
   "execution_count": 106,
   "id": "67a89c5a",
   "metadata": {},
   "outputs": [],
   "source": [
    "nn_search = GridSearchCV(MLPClassifier(), param_grid, cv=3,scoring='f1').fit(X_train, y_train) #cv = cross validation"
   ]
  },
  {
   "cell_type": "code",
   "execution_count": 107,
   "id": "a09aa04f",
   "metadata": {},
   "outputs": [
    {
     "data": {
      "text/plain": [
       "{'alpha': 0.0001,\n",
       " 'hidden_layer_sizes': (10, 10, 10),\n",
       " 'learning_rate': 'invscaling'}"
      ]
     },
     "execution_count": 107,
     "metadata": {},
     "output_type": "execute_result"
    }
   ],
   "source": [
    "nn_search.best_params_"
   ]
  },
  {
   "cell_type": "code",
   "execution_count": 108,
   "id": "5cd66341",
   "metadata": {},
   "outputs": [],
   "source": [
    "nn_model = MLPClassifier(alpha= 0.0001,hidden_layer_sizes= (10, 10),learning_rate= 'invscaling').fit(X_smote, y_smote)"
   ]
  },
  {
   "cell_type": "code",
   "execution_count": 109,
   "id": "ef4b4c55",
   "metadata": {},
   "outputs": [],
   "source": [
    "y_pred = nn_model.predict(X_smote)"
   ]
  },
  {
   "cell_type": "code",
   "execution_count": 110,
   "id": "f09f5ea2",
   "metadata": {},
   "outputs": [],
   "source": [
    "#nn = avg_score(kf,nn_model)"
   ]
  },
  {
   "cell_type": "code",
   "execution_count": 111,
   "id": "85b35317",
   "metadata": {},
   "outputs": [
    {
     "name": "stdout",
     "output_type": "stream",
     "text": [
      "                                        Classification Report                                            \n",
      "-------------------------------------------------------------------------------------------------------\n",
      "\n",
      "              precision    recall  f1-score   support\n",
      "\n",
      "           0       0.89      0.82      0.85   1172528\n",
      "           1       0.83      0.89      0.86   1172528\n",
      "\n",
      "    accuracy                           0.86   2345056\n",
      "   macro avg       0.86      0.86      0.86   2345056\n",
      "weighted avg       0.86      0.86      0.86   2345056\n",
      "\n",
      "\n",
      "                                        Confusion Matrix                                               \n",
      "-------------------------------------------------------------------------------------------------------\n",
      "\n",
      "[[ 964907  207621]\n",
      " [ 125051 1047477]]\n",
      "\n",
      "                                         Specificity                                                   \n",
      "-------------------------------------------------------------------------------------------------------\n",
      "\n",
      "0.8345778576652978\n"
     ]
    }
   ],
   "source": [
    "report(y_smote,y_pred)"
   ]
  },
  {
   "cell_type": "code",
   "execution_count": 112,
   "id": "c90203a7",
   "metadata": {},
   "outputs": [],
   "source": [
    "nn_model = MLPClassifier(alpha= 0.0001,hidden_layer_sizes= (10, 10),learning_rate= 'invscaling').fit(x_train_adasyn, y_train_adasyn)"
   ]
  },
  {
   "cell_type": "code",
   "execution_count": 113,
   "id": "ed9c7f07",
   "metadata": {},
   "outputs": [],
   "source": [
    "y_pred = nn_model.predict(x_train_adasyn)"
   ]
  },
  {
   "cell_type": "code",
   "execution_count": 114,
   "id": "696f9925",
   "metadata": {},
   "outputs": [
    {
     "name": "stdout",
     "output_type": "stream",
     "text": [
      "                                        Classification Report                                            \n",
      "-------------------------------------------------------------------------------------------------------\n",
      "\n",
      "              precision    recall  f1-score   support\n",
      "\n",
      "           0       0.86      0.85      0.86   1172528\n",
      "           1       0.85      0.87      0.86   1175457\n",
      "\n",
      "    accuracy                           0.86   2347985\n",
      "   macro avg       0.86      0.86      0.86   2347985\n",
      "weighted avg       0.86      0.86      0.86   2347985\n",
      "\n",
      "\n",
      "                                        Confusion Matrix                                               \n",
      "-------------------------------------------------------------------------------------------------------\n",
      "\n",
      "[[ 996769  175759]\n",
      " [ 155920 1019537]]\n",
      "\n",
      "                                         Specificity                                                   \n",
      "-------------------------------------------------------------------------------------------------------\n",
      "\n",
      "0.85295776109014\n"
     ]
    }
   ],
   "source": [
    "report(y_train_adasyn,y_pred)"
   ]
  },
  {
   "cell_type": "code",
   "execution_count": 116,
   "id": "e6721edc",
   "metadata": {},
   "outputs": [
    {
     "name": "stdout",
     "output_type": "stream",
     "text": [
      "                                        Classification Report                                            \n",
      "-------------------------------------------------------------------------------------------------------\n",
      "\n",
      "              precision    recall  f1-score   support\n",
      "\n",
      "           0       1.00      0.85      0.92    502513\n",
      "           1       0.03      0.80      0.07      3363\n",
      "\n",
      "    accuracy                           0.85    505876\n",
      "   macro avg       0.52      0.83      0.49    505876\n",
      "weighted avg       0.99      0.85      0.91    505876\n",
      "\n",
      "\n",
      "                                        Confusion Matrix                                               \n",
      "-------------------------------------------------------------------------------------------------------\n",
      "\n",
      "[[427072  75441]\n",
      " [   671   2692]]\n",
      "\n",
      "                                         Specificity                                                   \n",
      "-------------------------------------------------------------------------------------------------------\n",
      "\n",
      "0.03445407190303713\n"
     ]
    }
   ],
   "source": [
    "y_pred = nn_model.predict(X_val)\n",
    "report(y_val,y_pred)"
   ]
  },
  {
   "cell_type": "code",
   "execution_count": 117,
   "id": "8159f47d",
   "metadata": {},
   "outputs": [],
   "source": [
    "#Test to see if it works\n",
    "\n",
    "report_nn = classification_report(y_val, y_pred, output_dict=True)\n",
    "nn = pd.DataFrame(report_nn).transpose()"
   ]
  },
  {
   "cell_type": "markdown",
   "id": "f4e430c0",
   "metadata": {},
   "source": [
    "### Random Forest <a class=\"anchor\" id=\"chapter5.4\"></a>"
   ]
  },
  {
   "cell_type": "code",
   "execution_count": 118,
   "id": "d14e0d05",
   "metadata": {},
   "outputs": [],
   "source": [
    "X_trainrf, X_testrf, y_trainrf, y_testrf = train_test_split(X, y, test_size = 0.2, random_state = 55, stratify = y)"
   ]
  },
  {
   "cell_type": "code",
   "execution_count": 119,
   "id": "4dc0f663",
   "metadata": {},
   "outputs": [],
   "source": [
    "param_grid = { \n",
    "     'n_estimators': [50, 100, 200],\n",
    "    'max_depth' : [None, 20,30], \n",
    "}"
   ]
  },
  {
   "cell_type": "code",
   "execution_count": 120,
   "id": "eecbf1a4",
   "metadata": {},
   "outputs": [],
   "source": [
    "rfc = RandomForestClassifier(random_state=5)"
   ]
  },
  {
   "cell_type": "code",
   "execution_count": 121,
   "id": "c0e5dce5",
   "metadata": {},
   "outputs": [],
   "source": [
    "cv_rfc = GridSearchCV(estimator=rfc, param_grid=param_grid , cv= 3, scoring='f1').fit(X_trainrf, y_trainrf) "
   ]
  },
  {
   "cell_type": "code",
   "execution_count": 122,
   "id": "b7fca575",
   "metadata": {},
   "outputs": [
    {
     "data": {
      "text/plain": [
       "{'max_depth': 30, 'n_estimators': 50}"
      ]
     },
     "execution_count": 122,
     "metadata": {},
     "output_type": "execute_result"
    }
   ],
   "source": [
    "cv_rfc.best_params_"
   ]
  },
  {
   "cell_type": "code",
   "execution_count": 123,
   "id": "e37e530c",
   "metadata": {},
   "outputs": [],
   "source": [
    "rf_model = RandomForestClassifier(max_depth= 15, n_estimators= 50).fit(X_smote, y_smote)"
   ]
  },
  {
   "cell_type": "code",
   "execution_count": 124,
   "id": "e63d68b6",
   "metadata": {},
   "outputs": [],
   "source": [
    "y_pred = rf_model.predict(X_smote)"
   ]
  },
  {
   "cell_type": "code",
   "execution_count": 125,
   "id": "fdf871fb",
   "metadata": {},
   "outputs": [
    {
     "name": "stdout",
     "output_type": "stream",
     "text": [
      "                                        Classification Report                                            \n",
      "-------------------------------------------------------------------------------------------------------\n",
      "\n",
      "              precision    recall  f1-score   support\n",
      "\n",
      "           0       0.98      0.94      0.96   1172528\n",
      "           1       0.95      0.98      0.96   1172528\n",
      "\n",
      "    accuracy                           0.96   2345056\n",
      "   macro avg       0.96      0.96      0.96   2345056\n",
      "weighted avg       0.96      0.96      0.96   2345056\n",
      "\n",
      "\n",
      "                                        Confusion Matrix                                               \n",
      "-------------------------------------------------------------------------------------------------------\n",
      "\n",
      "[[1106445   66083]\n",
      " [  19819 1152709]]\n",
      "\n",
      "                                         Specificity                                                   \n",
      "-------------------------------------------------------------------------------------------------------\n",
      "\n",
      "0.9457799197894309\n"
     ]
    }
   ],
   "source": [
    "report(y_smote,y_pred)"
   ]
  },
  {
   "cell_type": "code",
   "execution_count": 126,
   "id": "827eddd4",
   "metadata": {},
   "outputs": [],
   "source": [
    "rf = avg_score(kf,rf_model)"
   ]
  },
  {
   "cell_type": "code",
   "execution_count": 127,
   "id": "d6f3a920",
   "metadata": {},
   "outputs": [],
   "source": [
    "rf_model = RandomForestClassifier(max_depth= 15, n_estimators= 50).fit(x_train_adasyn, y_train_adasyn)"
   ]
  },
  {
   "cell_type": "code",
   "execution_count": 128,
   "id": "3e1c5913",
   "metadata": {},
   "outputs": [],
   "source": [
    "y_pred = rf_model.predict(x_train_adasyn)"
   ]
  },
  {
   "cell_type": "code",
   "execution_count": 129,
   "id": "02a9867e",
   "metadata": {},
   "outputs": [
    {
     "name": "stdout",
     "output_type": "stream",
     "text": [
      "                                        Classification Report                                            \n",
      "-------------------------------------------------------------------------------------------------------\n",
      "\n",
      "              precision    recall  f1-score   support\n",
      "\n",
      "           0       0.98      0.94      0.96   1172528\n",
      "           1       0.94      0.98      0.96   1175457\n",
      "\n",
      "    accuracy                           0.96   2347985\n",
      "   macro avg       0.96      0.96      0.96   2347985\n",
      "weighted avg       0.96      0.96      0.96   2347985\n",
      "\n",
      "\n",
      "                                        Confusion Matrix                                               \n",
      "-------------------------------------------------------------------------------------------------------\n",
      "\n",
      "[[1101973   70555]\n",
      " [  17787 1157670]]\n",
      "\n",
      "                                         Specificity                                                   \n",
      "-------------------------------------------------------------------------------------------------------\n",
      "\n",
      "0.9425553135622545\n"
     ]
    }
   ],
   "source": [
    "report(y_train_adasyn,y_pred)"
   ]
  },
  {
   "cell_type": "code",
   "execution_count": 131,
   "id": "bf883599",
   "metadata": {},
   "outputs": [
    {
     "name": "stdout",
     "output_type": "stream",
     "text": [
      "                                        Classification Report                                            \n",
      "-------------------------------------------------------------------------------------------------------\n",
      "\n",
      "              precision    recall  f1-score   support\n",
      "\n",
      "           0       1.00      0.94      0.97    502513\n",
      "           1       0.08      0.78      0.14      3363\n",
      "\n",
      "    accuracy                           0.94    505876\n",
      "   macro avg       0.54      0.86      0.55    505876\n",
      "weighted avg       0.99      0.94      0.96    505876\n",
      "\n",
      "\n",
      "                                        Confusion Matrix                                               \n",
      "-------------------------------------------------------------------------------------------------------\n",
      "\n",
      "[[471606  30907]\n",
      " [   741   2622]]\n",
      "\n",
      "                                         Specificity                                                   \n",
      "-------------------------------------------------------------------------------------------------------\n",
      "\n",
      "0.07820096036267112\n"
     ]
    }
   ],
   "source": [
    "y_pred = rf_model.predict(X_val)\n",
    "report(y_val,y_pred)"
   ]
  },
  {
   "cell_type": "code",
   "execution_count": 132,
   "id": "d619d7e6",
   "metadata": {},
   "outputs": [],
   "source": [
    "#Test to see if it works\n",
    "\n",
    "report_rf = classification_report(y_val, y_pred, output_dict=True)\n",
    "rf = pd.DataFrame(report_rf).transpose()"
   ]
  },
  {
   "cell_type": "markdown",
   "id": "393a3531",
   "metadata": {},
   "source": [
    "### Gradient Boosted Decision Tree  <a class=\"anchor\" id=\"chapter5.5\"></a>"
   ]
  },
  {
   "cell_type": "code",
   "execution_count": 133,
   "id": "11f4c019",
   "metadata": {},
   "outputs": [],
   "source": [
    "param_grid = {\n",
    "        'n_estimators':[20,30],\n",
    "        'max_depth':[20,30,50]\n",
    "}"
   ]
  },
  {
   "cell_type": "code",
   "execution_count": 134,
   "id": "31683675",
   "metadata": {},
   "outputs": [],
   "source": [
    "gb_search = GridSearchCV(estimator = GradientBoostingClassifier(), param_grid = param_grid, scoring = 'f1').fit(X_trainrf, y_trainrf)"
   ]
  },
  {
   "cell_type": "code",
   "execution_count": 135,
   "id": "338c572d",
   "metadata": {},
   "outputs": [
    {
     "data": {
      "text/html": [
       "<style>#sk-container-id-1 {color: black;background-color: white;}#sk-container-id-1 pre{padding: 0;}#sk-container-id-1 div.sk-toggleable {background-color: white;}#sk-container-id-1 label.sk-toggleable__label {cursor: pointer;display: block;width: 100%;margin-bottom: 0;padding: 0.3em;box-sizing: border-box;text-align: center;}#sk-container-id-1 label.sk-toggleable__label-arrow:before {content: \"▸\";float: left;margin-right: 0.25em;color: #696969;}#sk-container-id-1 label.sk-toggleable__label-arrow:hover:before {color: black;}#sk-container-id-1 div.sk-estimator:hover label.sk-toggleable__label-arrow:before {color: black;}#sk-container-id-1 div.sk-toggleable__content {max-height: 0;max-width: 0;overflow: hidden;text-align: left;background-color: #f0f8ff;}#sk-container-id-1 div.sk-toggleable__content pre {margin: 0.2em;color: black;border-radius: 0.25em;background-color: #f0f8ff;}#sk-container-id-1 input.sk-toggleable__control:checked~div.sk-toggleable__content {max-height: 200px;max-width: 100%;overflow: auto;}#sk-container-id-1 input.sk-toggleable__control:checked~label.sk-toggleable__label-arrow:before {content: \"▾\";}#sk-container-id-1 div.sk-estimator input.sk-toggleable__control:checked~label.sk-toggleable__label {background-color: #d4ebff;}#sk-container-id-1 div.sk-label input.sk-toggleable__control:checked~label.sk-toggleable__label {background-color: #d4ebff;}#sk-container-id-1 input.sk-hidden--visually {border: 0;clip: rect(1px 1px 1px 1px);clip: rect(1px, 1px, 1px, 1px);height: 1px;margin: -1px;overflow: hidden;padding: 0;position: absolute;width: 1px;}#sk-container-id-1 div.sk-estimator {font-family: monospace;background-color: #f0f8ff;border: 1px dotted black;border-radius: 0.25em;box-sizing: border-box;margin-bottom: 0.5em;}#sk-container-id-1 div.sk-estimator:hover {background-color: #d4ebff;}#sk-container-id-1 div.sk-parallel-item::after {content: \"\";width: 100%;border-bottom: 1px solid gray;flex-grow: 1;}#sk-container-id-1 div.sk-label:hover label.sk-toggleable__label {background-color: #d4ebff;}#sk-container-id-1 div.sk-serial::before {content: \"\";position: absolute;border-left: 1px solid gray;box-sizing: border-box;top: 0;bottom: 0;left: 50%;z-index: 0;}#sk-container-id-1 div.sk-serial {display: flex;flex-direction: column;align-items: center;background-color: white;padding-right: 0.2em;padding-left: 0.2em;position: relative;}#sk-container-id-1 div.sk-item {position: relative;z-index: 1;}#sk-container-id-1 div.sk-parallel {display: flex;align-items: stretch;justify-content: center;background-color: white;position: relative;}#sk-container-id-1 div.sk-item::before, #sk-container-id-1 div.sk-parallel-item::before {content: \"\";position: absolute;border-left: 1px solid gray;box-sizing: border-box;top: 0;bottom: 0;left: 50%;z-index: -1;}#sk-container-id-1 div.sk-parallel-item {display: flex;flex-direction: column;z-index: 1;position: relative;background-color: white;}#sk-container-id-1 div.sk-parallel-item:first-child::after {align-self: flex-end;width: 50%;}#sk-container-id-1 div.sk-parallel-item:last-child::after {align-self: flex-start;width: 50%;}#sk-container-id-1 div.sk-parallel-item:only-child::after {width: 0;}#sk-container-id-1 div.sk-dashed-wrapped {border: 1px dashed gray;margin: 0 0.4em 0.5em 0.4em;box-sizing: border-box;padding-bottom: 0.4em;background-color: white;}#sk-container-id-1 div.sk-label label {font-family: monospace;font-weight: bold;display: inline-block;line-height: 1.2em;}#sk-container-id-1 div.sk-label-container {text-align: center;}#sk-container-id-1 div.sk-container {/* jupyter's `normalize.less` sets `[hidden] { display: none; }` but bootstrap.min.css set `[hidden] { display: none !important; }` so we also need the `!important` here to be able to override the default hidden behavior on the sphinx rendered scikit-learn.org. See: https://github.com/scikit-learn/scikit-learn/issues/21755 */display: inline-block !important;position: relative;}#sk-container-id-1 div.sk-text-repr-fallback {display: none;}</style><div id=\"sk-container-id-1\" class=\"sk-top-container\"><div class=\"sk-text-repr-fallback\"><pre>GradientBoostingClassifier(max_depth=20, n_estimators=20)</pre><b>In a Jupyter environment, please rerun this cell to show the HTML representation or trust the notebook. <br />On GitHub, the HTML representation is unable to render, please try loading this page with nbviewer.org.</b></div><div class=\"sk-container\" hidden><div class=\"sk-item\"><div class=\"sk-estimator sk-toggleable\"><input class=\"sk-toggleable__control sk-hidden--visually\" id=\"sk-estimator-id-1\" type=\"checkbox\" checked><label for=\"sk-estimator-id-1\" class=\"sk-toggleable__label sk-toggleable__label-arrow\">GradientBoostingClassifier</label><div class=\"sk-toggleable__content\"><pre>GradientBoostingClassifier(max_depth=20, n_estimators=20)</pre></div></div></div></div></div>"
      ],
      "text/plain": [
       "GradientBoostingClassifier(max_depth=20, n_estimators=20)"
      ]
     },
     "execution_count": 135,
     "metadata": {},
     "output_type": "execute_result"
    }
   ],
   "source": [
    "gb_search.best_estimator_"
   ]
  },
  {
   "cell_type": "code",
   "execution_count": 136,
   "id": "c6e2318f",
   "metadata": {},
   "outputs": [],
   "source": [
    "gb_model = GradientBoostingClassifier(max_depth=20, n_estimators=30).fit(X_smote, y_smote)"
   ]
  },
  {
   "cell_type": "code",
   "execution_count": 137,
   "id": "5d6ccae1",
   "metadata": {},
   "outputs": [],
   "source": [
    "y_pred = gb_model.predict(X_smote)"
   ]
  },
  {
   "cell_type": "code",
   "execution_count": 138,
   "id": "86ed6bed",
   "metadata": {},
   "outputs": [
    {
     "name": "stdout",
     "output_type": "stream",
     "text": [
      "                                        Classification Report                                            \n",
      "-------------------------------------------------------------------------------------------------------\n",
      "\n",
      "              precision    recall  f1-score   support\n",
      "\n",
      "           0       1.00      0.99      0.99   1172528\n",
      "           1       0.99      1.00      0.99   1172528\n",
      "\n",
      "    accuracy                           0.99   2345056\n",
      "   macro avg       0.99      0.99      0.99   2345056\n",
      "weighted avg       0.99      0.99      0.99   2345056\n",
      "\n",
      "\n",
      "                                        Confusion Matrix                                               \n",
      "-------------------------------------------------------------------------------------------------------\n",
      "\n",
      "[[1163328    9200]\n",
      " [   5251 1167277]]\n",
      "\n",
      "                                         Specificity                                                   \n",
      "-------------------------------------------------------------------------------------------------------\n",
      "\n",
      "0.9921800426187677\n"
     ]
    }
   ],
   "source": [
    "report(y_smote,y_pred)"
   ]
  },
  {
   "cell_type": "code",
   "execution_count": 139,
   "id": "b658d654",
   "metadata": {},
   "outputs": [],
   "source": [
    "gb_model = GradientBoostingClassifier(max_depth=20, n_estimators=30).fit(x_train_adasyn, y_train_adasyn)"
   ]
  },
  {
   "cell_type": "code",
   "execution_count": 140,
   "id": "0e7feabb",
   "metadata": {},
   "outputs": [],
   "source": [
    "y_pred = gb_model.predict(x_train_adasyn)"
   ]
  },
  {
   "cell_type": "code",
   "execution_count": 141,
   "id": "96aedd75",
   "metadata": {},
   "outputs": [
    {
     "name": "stdout",
     "output_type": "stream",
     "text": [
      "                                        Classification Report                                            \n",
      "-------------------------------------------------------------------------------------------------------\n",
      "\n",
      "              precision    recall  f1-score   support\n",
      "\n",
      "           0       1.00      0.99      0.99   1172528\n",
      "           1       0.99      1.00      0.99   1175457\n",
      "\n",
      "    accuracy                           0.99   2347985\n",
      "   macro avg       0.99      0.99      0.99   2347985\n",
      "weighted avg       0.99      0.99      0.99   2347985\n",
      "\n",
      "\n",
      "                                        Confusion Matrix                                               \n",
      "-------------------------------------------------------------------------------------------------------\n",
      "\n",
      "[[1158623   13905]\n",
      " [   1175 1174282]]\n",
      "\n",
      "                                         Specificity                                                   \n",
      "-------------------------------------------------------------------------------------------------------\n",
      "\n",
      "0.9882972966376504\n"
     ]
    }
   ],
   "source": [
    "report(y_train_adasyn,y_pred)"
   ]
  },
  {
   "cell_type": "code",
   "execution_count": 142,
   "id": "8ccb41e3",
   "metadata": {},
   "outputs": [
    {
     "name": "stdout",
     "output_type": "stream",
     "text": [
      "                                        Classification Report                                            \n",
      "-------------------------------------------------------------------------------------------------------\n",
      "\n",
      "              precision    recall  f1-score   support\n",
      "\n",
      "           0       1.00      0.98      0.99    502513\n",
      "           1       0.19      0.57      0.29      3363\n",
      "\n",
      "    accuracy                           0.98    505876\n",
      "   macro avg       0.59      0.78      0.64    505876\n",
      "weighted avg       0.99      0.98      0.99    505876\n",
      "\n",
      "\n",
      "                                        Confusion Matrix                                               \n",
      "-------------------------------------------------------------------------------------------------------\n",
      "\n",
      "[[494483   8030]\n",
      " [  1456   1907]]\n",
      "\n",
      "                                         Specificity                                                   \n",
      "-------------------------------------------------------------------------------------------------------\n",
      "\n",
      "0.19190902686927644\n"
     ]
    }
   ],
   "source": [
    "y_pred = gb_model.predict(X_val)\n",
    "report(y_val,y_pred)"
   ]
  },
  {
   "cell_type": "code",
   "execution_count": 143,
   "id": "9800462f",
   "metadata": {},
   "outputs": [],
   "source": [
    "#Test to see if it works\n",
    "\n",
    "report_gb = classification_report(y_val, y_pred, output_dict=True)\n",
    "gb = pd.DataFrame(report_gb).transpose()"
   ]
  },
  {
   "cell_type": "markdown",
   "id": "a0d5807b",
   "metadata": {},
   "source": [
    "### Adaboost <a class=\"anchor\" id=\"chapter5.6\"></a>"
   ]
  },
  {
   "cell_type": "code",
   "execution_count": 144,
   "id": "35be7709",
   "metadata": {},
   "outputs": [],
   "source": [
    "param_grid = {'n_estimators': [20, 30, 50],\n",
    "              'learning_rate':[0.0001, 0.001, 0.01, 0.1, 1.0]}"
   ]
  },
  {
   "cell_type": "code",
   "execution_count": 145,
   "id": "31c6bd67",
   "metadata": {
    "scrolled": true
   },
   "outputs": [],
   "source": [
    "adb_search = GridSearchCV(estimator=AdaBoostClassifier(), param_grid=param_grid, n_jobs=-1, cv=3, scoring='f1').fit(X, y)"
   ]
  },
  {
   "cell_type": "code",
   "execution_count": 146,
   "id": "8572cc76",
   "metadata": {},
   "outputs": [
    {
     "data": {
      "text/html": [
       "<style>#sk-container-id-2 {color: black;background-color: white;}#sk-container-id-2 pre{padding: 0;}#sk-container-id-2 div.sk-toggleable {background-color: white;}#sk-container-id-2 label.sk-toggleable__label {cursor: pointer;display: block;width: 100%;margin-bottom: 0;padding: 0.3em;box-sizing: border-box;text-align: center;}#sk-container-id-2 label.sk-toggleable__label-arrow:before {content: \"▸\";float: left;margin-right: 0.25em;color: #696969;}#sk-container-id-2 label.sk-toggleable__label-arrow:hover:before {color: black;}#sk-container-id-2 div.sk-estimator:hover label.sk-toggleable__label-arrow:before {color: black;}#sk-container-id-2 div.sk-toggleable__content {max-height: 0;max-width: 0;overflow: hidden;text-align: left;background-color: #f0f8ff;}#sk-container-id-2 div.sk-toggleable__content pre {margin: 0.2em;color: black;border-radius: 0.25em;background-color: #f0f8ff;}#sk-container-id-2 input.sk-toggleable__control:checked~div.sk-toggleable__content {max-height: 200px;max-width: 100%;overflow: auto;}#sk-container-id-2 input.sk-toggleable__control:checked~label.sk-toggleable__label-arrow:before {content: \"▾\";}#sk-container-id-2 div.sk-estimator input.sk-toggleable__control:checked~label.sk-toggleable__label {background-color: #d4ebff;}#sk-container-id-2 div.sk-label input.sk-toggleable__control:checked~label.sk-toggleable__label {background-color: #d4ebff;}#sk-container-id-2 input.sk-hidden--visually {border: 0;clip: rect(1px 1px 1px 1px);clip: rect(1px, 1px, 1px, 1px);height: 1px;margin: -1px;overflow: hidden;padding: 0;position: absolute;width: 1px;}#sk-container-id-2 div.sk-estimator {font-family: monospace;background-color: #f0f8ff;border: 1px dotted black;border-radius: 0.25em;box-sizing: border-box;margin-bottom: 0.5em;}#sk-container-id-2 div.sk-estimator:hover {background-color: #d4ebff;}#sk-container-id-2 div.sk-parallel-item::after {content: \"\";width: 100%;border-bottom: 1px solid gray;flex-grow: 1;}#sk-container-id-2 div.sk-label:hover label.sk-toggleable__label {background-color: #d4ebff;}#sk-container-id-2 div.sk-serial::before {content: \"\";position: absolute;border-left: 1px solid gray;box-sizing: border-box;top: 0;bottom: 0;left: 50%;z-index: 0;}#sk-container-id-2 div.sk-serial {display: flex;flex-direction: column;align-items: center;background-color: white;padding-right: 0.2em;padding-left: 0.2em;position: relative;}#sk-container-id-2 div.sk-item {position: relative;z-index: 1;}#sk-container-id-2 div.sk-parallel {display: flex;align-items: stretch;justify-content: center;background-color: white;position: relative;}#sk-container-id-2 div.sk-item::before, #sk-container-id-2 div.sk-parallel-item::before {content: \"\";position: absolute;border-left: 1px solid gray;box-sizing: border-box;top: 0;bottom: 0;left: 50%;z-index: -1;}#sk-container-id-2 div.sk-parallel-item {display: flex;flex-direction: column;z-index: 1;position: relative;background-color: white;}#sk-container-id-2 div.sk-parallel-item:first-child::after {align-self: flex-end;width: 50%;}#sk-container-id-2 div.sk-parallel-item:last-child::after {align-self: flex-start;width: 50%;}#sk-container-id-2 div.sk-parallel-item:only-child::after {width: 0;}#sk-container-id-2 div.sk-dashed-wrapped {border: 1px dashed gray;margin: 0 0.4em 0.5em 0.4em;box-sizing: border-box;padding-bottom: 0.4em;background-color: white;}#sk-container-id-2 div.sk-label label {font-family: monospace;font-weight: bold;display: inline-block;line-height: 1.2em;}#sk-container-id-2 div.sk-label-container {text-align: center;}#sk-container-id-2 div.sk-container {/* jupyter's `normalize.less` sets `[hidden] { display: none; }` but bootstrap.min.css set `[hidden] { display: none !important; }` so we also need the `!important` here to be able to override the default hidden behavior on the sphinx rendered scikit-learn.org. See: https://github.com/scikit-learn/scikit-learn/issues/21755 */display: inline-block !important;position: relative;}#sk-container-id-2 div.sk-text-repr-fallback {display: none;}</style><div id=\"sk-container-id-2\" class=\"sk-top-container\"><div class=\"sk-text-repr-fallback\"><pre>AdaBoostClassifier()</pre><b>In a Jupyter environment, please rerun this cell to show the HTML representation or trust the notebook. <br />On GitHub, the HTML representation is unable to render, please try loading this page with nbviewer.org.</b></div><div class=\"sk-container\" hidden><div class=\"sk-item\"><div class=\"sk-estimator sk-toggleable\"><input class=\"sk-toggleable__control sk-hidden--visually\" id=\"sk-estimator-id-2\" type=\"checkbox\" checked><label for=\"sk-estimator-id-2\" class=\"sk-toggleable__label sk-toggleable__label-arrow\">AdaBoostClassifier</label><div class=\"sk-toggleable__content\"><pre>AdaBoostClassifier()</pre></div></div></div></div></div>"
      ],
      "text/plain": [
       "AdaBoostClassifier()"
      ]
     },
     "execution_count": 146,
     "metadata": {},
     "output_type": "execute_result"
    }
   ],
   "source": [
    "adb_search.best_estimator_"
   ]
  },
  {
   "cell_type": "code",
   "execution_count": 147,
   "id": "9e556ee0",
   "metadata": {},
   "outputs": [],
   "source": [
    "adb_model = AdaBoostClassifier(n_estimators=30).fit(X, y)"
   ]
  },
  {
   "cell_type": "code",
   "execution_count": 148,
   "id": "e71a45ee",
   "metadata": {},
   "outputs": [],
   "source": [
    "adb = avg_score(kf,adb_model)"
   ]
  },
  {
   "cell_type": "code",
   "execution_count": 149,
   "id": "e1d2361b",
   "metadata": {},
   "outputs": [],
   "source": [
    "adb_model = AdaBoostClassifier(n_estimators=30).fit(X_smote, y_smote)"
   ]
  },
  {
   "cell_type": "code",
   "execution_count": 150,
   "id": "74ad5bb9",
   "metadata": {},
   "outputs": [],
   "source": [
    "y_pred = adb_model.predict(X_smote)"
   ]
  },
  {
   "cell_type": "code",
   "execution_count": 151,
   "id": "07081058",
   "metadata": {},
   "outputs": [
    {
     "name": "stdout",
     "output_type": "stream",
     "text": [
      "                                        Classification Report                                            \n",
      "-------------------------------------------------------------------------------------------------------\n",
      "\n",
      "              precision    recall  f1-score   support\n",
      "\n",
      "           0       0.89      0.86      0.87   1172528\n",
      "           1       0.86      0.89      0.88   1172528\n",
      "\n",
      "    accuracy                           0.88   2345056\n",
      "   macro avg       0.88      0.88      0.88   2345056\n",
      "weighted avg       0.88      0.88      0.88   2345056\n",
      "\n",
      "\n",
      "                                        Confusion Matrix                                               \n",
      "-------------------------------------------------------------------------------------------------------\n",
      "\n",
      "[[1006417  166111]\n",
      " [ 125741 1046787]]\n",
      "\n",
      "                                         Specificity                                                   \n",
      "-------------------------------------------------------------------------------------------------------\n",
      "\n",
      "0.8630461918479543\n"
     ]
    }
   ],
   "source": [
    "report(y_smote,y_pred)"
   ]
  },
  {
   "cell_type": "code",
   "execution_count": 152,
   "id": "7f4f8a95",
   "metadata": {},
   "outputs": [],
   "source": [
    "adb_model = AdaBoostClassifier(n_estimators=30).fit(x_train_adasyn, y_train_adasyn)"
   ]
  },
  {
   "cell_type": "code",
   "execution_count": 153,
   "id": "8cfc3aa9",
   "metadata": {},
   "outputs": [
    {
     "name": "stdout",
     "output_type": "stream",
     "text": [
      "                                        Classification Report                                            \n",
      "-------------------------------------------------------------------------------------------------------\n",
      "\n",
      "              precision    recall  f1-score   support\n",
      "\n",
      "           0       0.89      0.86      0.87   1172528\n",
      "           1       0.86      0.89      0.88   1175457\n",
      "\n",
      "    accuracy                           0.87   2347985\n",
      "   macro avg       0.87      0.87      0.87   2347985\n",
      "weighted avg       0.87      0.87      0.87   2347985\n",
      "\n",
      "\n",
      "                                        Confusion Matrix                                               \n",
      "-------------------------------------------------------------------------------------------------------\n",
      "\n",
      "[[1004288  168240]\n",
      " [ 129591 1045866]]\n",
      "\n",
      "                                         Specificity                                                   \n",
      "-------------------------------------------------------------------------------------------------------\n",
      "\n",
      "0.8614289032423857\n"
     ]
    }
   ],
   "source": [
    "y_pred = adb_model.predict(x_train_adasyn)\n",
    "report(y_train_adasyn,y_pred)"
   ]
  },
  {
   "cell_type": "code",
   "execution_count": 154,
   "id": "762283e3",
   "metadata": {},
   "outputs": [
    {
     "name": "stdout",
     "output_type": "stream",
     "text": [
      "                                        Classification Report                                            \n",
      "-------------------------------------------------------------------------------------------------------\n",
      "\n",
      "              precision    recall  f1-score   support\n",
      "\n",
      "           0       1.00      0.86      0.92    502513\n",
      "           1       0.04      0.81      0.07      3363\n",
      "\n",
      "    accuracy                           0.86    505876\n",
      "   macro avg       0.52      0.83      0.50    505876\n",
      "weighted avg       0.99      0.86      0.92    505876\n",
      "\n",
      "\n",
      "                                        Confusion Matrix                                               \n",
      "-------------------------------------------------------------------------------------------------------\n",
      "\n",
      "[[430249  72264]\n",
      " [   629   2734]]\n",
      "\n",
      "                                         Specificity                                                   \n",
      "-------------------------------------------------------------------------------------------------------\n",
      "\n",
      "0.036454305448145284\n"
     ]
    }
   ],
   "source": [
    "y_pred = adb_model.predict(X_val)\n",
    "report(y_val,y_pred)"
   ]
  },
  {
   "cell_type": "code",
   "execution_count": 155,
   "id": "d717a055",
   "metadata": {},
   "outputs": [],
   "source": [
    "#Test to see if it works\n",
    "\n",
    "report_adb = classification_report(y_val, y_pred, output_dict=True)\n",
    "adb = pd.DataFrame(report_adb).transpose()"
   ]
  },
  {
   "cell_type": "markdown",
   "id": "a2832833",
   "metadata": {},
   "source": [
    "### Extra Trees <a class=\"anchor\" id=\"chapter5.7\"></a>"
   ]
  },
  {
   "cell_type": "code",
   "execution_count": 156,
   "id": "5a175104",
   "metadata": {},
   "outputs": [],
   "source": [
    "param_grid = {'n_estimators': [20, 30, 50],\n",
    "    'max_depth' : [20,30],             \n",
    "}"
   ]
  },
  {
   "cell_type": "code",
   "execution_count": 157,
   "id": "597e6bb4",
   "metadata": {},
   "outputs": [],
   "source": [
    "et_search = GridSearchCV(estimator=ExtraTreesClassifier(),param_grid = param_grid,scoring='f1',cv=3).fit(X,y)"
   ]
  },
  {
   "cell_type": "code",
   "execution_count": 158,
   "id": "c5d1ea4d",
   "metadata": {},
   "outputs": [
    {
     "data": {
      "text/html": [
       "<style>#sk-container-id-3 {color: black;background-color: white;}#sk-container-id-3 pre{padding: 0;}#sk-container-id-3 div.sk-toggleable {background-color: white;}#sk-container-id-3 label.sk-toggleable__label {cursor: pointer;display: block;width: 100%;margin-bottom: 0;padding: 0.3em;box-sizing: border-box;text-align: center;}#sk-container-id-3 label.sk-toggleable__label-arrow:before {content: \"▸\";float: left;margin-right: 0.25em;color: #696969;}#sk-container-id-3 label.sk-toggleable__label-arrow:hover:before {color: black;}#sk-container-id-3 div.sk-estimator:hover label.sk-toggleable__label-arrow:before {color: black;}#sk-container-id-3 div.sk-toggleable__content {max-height: 0;max-width: 0;overflow: hidden;text-align: left;background-color: #f0f8ff;}#sk-container-id-3 div.sk-toggleable__content pre {margin: 0.2em;color: black;border-radius: 0.25em;background-color: #f0f8ff;}#sk-container-id-3 input.sk-toggleable__control:checked~div.sk-toggleable__content {max-height: 200px;max-width: 100%;overflow: auto;}#sk-container-id-3 input.sk-toggleable__control:checked~label.sk-toggleable__label-arrow:before {content: \"▾\";}#sk-container-id-3 div.sk-estimator input.sk-toggleable__control:checked~label.sk-toggleable__label {background-color: #d4ebff;}#sk-container-id-3 div.sk-label input.sk-toggleable__control:checked~label.sk-toggleable__label {background-color: #d4ebff;}#sk-container-id-3 input.sk-hidden--visually {border: 0;clip: rect(1px 1px 1px 1px);clip: rect(1px, 1px, 1px, 1px);height: 1px;margin: -1px;overflow: hidden;padding: 0;position: absolute;width: 1px;}#sk-container-id-3 div.sk-estimator {font-family: monospace;background-color: #f0f8ff;border: 1px dotted black;border-radius: 0.25em;box-sizing: border-box;margin-bottom: 0.5em;}#sk-container-id-3 div.sk-estimator:hover {background-color: #d4ebff;}#sk-container-id-3 div.sk-parallel-item::after {content: \"\";width: 100%;border-bottom: 1px solid gray;flex-grow: 1;}#sk-container-id-3 div.sk-label:hover label.sk-toggleable__label {background-color: #d4ebff;}#sk-container-id-3 div.sk-serial::before {content: \"\";position: absolute;border-left: 1px solid gray;box-sizing: border-box;top: 0;bottom: 0;left: 50%;z-index: 0;}#sk-container-id-3 div.sk-serial {display: flex;flex-direction: column;align-items: center;background-color: white;padding-right: 0.2em;padding-left: 0.2em;position: relative;}#sk-container-id-3 div.sk-item {position: relative;z-index: 1;}#sk-container-id-3 div.sk-parallel {display: flex;align-items: stretch;justify-content: center;background-color: white;position: relative;}#sk-container-id-3 div.sk-item::before, #sk-container-id-3 div.sk-parallel-item::before {content: \"\";position: absolute;border-left: 1px solid gray;box-sizing: border-box;top: 0;bottom: 0;left: 50%;z-index: -1;}#sk-container-id-3 div.sk-parallel-item {display: flex;flex-direction: column;z-index: 1;position: relative;background-color: white;}#sk-container-id-3 div.sk-parallel-item:first-child::after {align-self: flex-end;width: 50%;}#sk-container-id-3 div.sk-parallel-item:last-child::after {align-self: flex-start;width: 50%;}#sk-container-id-3 div.sk-parallel-item:only-child::after {width: 0;}#sk-container-id-3 div.sk-dashed-wrapped {border: 1px dashed gray;margin: 0 0.4em 0.5em 0.4em;box-sizing: border-box;padding-bottom: 0.4em;background-color: white;}#sk-container-id-3 div.sk-label label {font-family: monospace;font-weight: bold;display: inline-block;line-height: 1.2em;}#sk-container-id-3 div.sk-label-container {text-align: center;}#sk-container-id-3 div.sk-container {/* jupyter's `normalize.less` sets `[hidden] { display: none; }` but bootstrap.min.css set `[hidden] { display: none !important; }` so we also need the `!important` here to be able to override the default hidden behavior on the sphinx rendered scikit-learn.org. See: https://github.com/scikit-learn/scikit-learn/issues/21755 */display: inline-block !important;position: relative;}#sk-container-id-3 div.sk-text-repr-fallback {display: none;}</style><div id=\"sk-container-id-3\" class=\"sk-top-container\"><div class=\"sk-text-repr-fallback\"><pre>ExtraTreesClassifier(max_depth=30, n_estimators=50)</pre><b>In a Jupyter environment, please rerun this cell to show the HTML representation or trust the notebook. <br />On GitHub, the HTML representation is unable to render, please try loading this page with nbviewer.org.</b></div><div class=\"sk-container\" hidden><div class=\"sk-item\"><div class=\"sk-estimator sk-toggleable\"><input class=\"sk-toggleable__control sk-hidden--visually\" id=\"sk-estimator-id-3\" type=\"checkbox\" checked><label for=\"sk-estimator-id-3\" class=\"sk-toggleable__label sk-toggleable__label-arrow\">ExtraTreesClassifier</label><div class=\"sk-toggleable__content\"><pre>ExtraTreesClassifier(max_depth=30, n_estimators=50)</pre></div></div></div></div></div>"
      ],
      "text/plain": [
       "ExtraTreesClassifier(max_depth=30, n_estimators=50)"
      ]
     },
     "execution_count": 158,
     "metadata": {},
     "output_type": "execute_result"
    }
   ],
   "source": [
    "et_search.best_estimator_"
   ]
  },
  {
   "cell_type": "code",
   "execution_count": 159,
   "id": "4c001013",
   "metadata": {},
   "outputs": [],
   "source": [
    "model_et = ExtraTreesClassifier(max_depth=30, n_estimators=20).fit(X,y)"
   ]
  },
  {
   "cell_type": "code",
   "execution_count": 160,
   "id": "0123565e",
   "metadata": {},
   "outputs": [],
   "source": [
    "et =  avg_score(kf,model_et)"
   ]
  },
  {
   "cell_type": "code",
   "execution_count": 161,
   "id": "b0373ca8",
   "metadata": {},
   "outputs": [
    {
     "name": "stdout",
     "output_type": "stream",
     "text": [
      "                                        Classification Report                                            \n",
      "-------------------------------------------------------------------------------------------------------\n",
      "\n",
      "              precision    recall  f1-score   support\n",
      "\n",
      "           0       0.87      0.82      0.84   1172528\n",
      "           1       0.83      0.87      0.85   1172528\n",
      "\n",
      "    accuracy                           0.85   2345056\n",
      "   macro avg       0.85      0.85      0.85   2345056\n",
      "weighted avg       0.85      0.85      0.85   2345056\n",
      "\n",
      "\n",
      "                                        Confusion Matrix                                               \n",
      "-------------------------------------------------------------------------------------------------------\n",
      "\n",
      "[[ 962852  209676]\n",
      " [ 147692 1024836]]\n",
      "\n",
      "                                         Specificity                                                   \n",
      "-------------------------------------------------------------------------------------------------------\n",
      "\n",
      "0.8301547494070531\n"
     ]
    }
   ],
   "source": [
    "et_model = ExtraTreesClassifier(max_depth=30, n_estimators=20).fit(X_smote, y_smote)\n",
    "y_pred = et_model.predict(X_smote)\n",
    "report(y_smote,y_pred)"
   ]
  },
  {
   "cell_type": "code",
   "execution_count": 162,
   "id": "2e31a0cd",
   "metadata": {},
   "outputs": [
    {
     "name": "stdout",
     "output_type": "stream",
     "text": [
      "                                        Classification Report                                            \n",
      "-------------------------------------------------------------------------------------------------------\n",
      "\n",
      "              precision    recall  f1-score   support\n",
      "\n",
      "           0       0.84      0.76      0.80   1172528\n",
      "           1       0.78      0.86      0.82   1175457\n",
      "\n",
      "    accuracy                           0.81   2347985\n",
      "   macro avg       0.81      0.81      0.81   2347985\n",
      "weighted avg       0.81      0.81      0.81   2347985\n",
      "\n",
      "\n",
      "                                        Confusion Matrix                                               \n",
      "-------------------------------------------------------------------------------------------------------\n",
      "\n",
      "[[ 892175  280353]\n",
      " [ 167616 1007841]]\n",
      "\n",
      "                                         Specificity                                                   \n",
      "-------------------------------------------------------------------------------------------------------\n",
      "\n",
      "0.7823674073936069\n"
     ]
    }
   ],
   "source": [
    "et_model = ExtraTreesClassifier(max_depth=30, n_estimators=20).fit(x_train_adasyn, y_train_adasyn)\n",
    "\n",
    "y_pred = et_model.predict(x_train_adasyn)\n",
    "report(y_train_adasyn,y_pred)"
   ]
  },
  {
   "cell_type": "code",
   "execution_count": 163,
   "id": "d78dd555",
   "metadata": {},
   "outputs": [
    {
     "name": "stdout",
     "output_type": "stream",
     "text": [
      "                                        Classification Report                                            \n",
      "-------------------------------------------------------------------------------------------------------\n",
      "\n",
      "              precision    recall  f1-score   support\n",
      "\n",
      "           0       1.00      0.76      0.86    502513\n",
      "           1       0.02      0.65      0.03      3363\n",
      "\n",
      "    accuracy                           0.76    505876\n",
      "   macro avg       0.51      0.70      0.45    505876\n",
      "weighted avg       0.99      0.76      0.86    505876\n",
      "\n",
      "\n",
      "                                        Confusion Matrix                                               \n",
      "-------------------------------------------------------------------------------------------------------\n",
      "\n",
      "[[381246 121267]\n",
      " [  1181   2182]]\n",
      "\n",
      "                                         Specificity                                                   \n",
      "-------------------------------------------------------------------------------------------------------\n",
      "\n",
      "0.017675315312396214\n"
     ]
    }
   ],
   "source": [
    "y_pred = et_model.predict(X_val)\n",
    "report(y_val,y_pred)"
   ]
  },
  {
   "cell_type": "code",
   "execution_count": 164,
   "id": "a1ff9632",
   "metadata": {},
   "outputs": [],
   "source": [
    "#Test to see if it works\n",
    "\n",
    "report_et = classification_report(y_val, y_pred, output_dict=True)\n",
    "et = pd.DataFrame(report_et).transpose()"
   ]
  },
  {
   "cell_type": "code",
   "execution_count": 165,
   "id": "aa8cf4ba",
   "metadata": {},
   "outputs": [],
   "source": [
    "lr.to_csv('lr.csv')\n",
    "nn.to_csv('nn.csv')\n",
    "gb.to_csv('gb.csv')\n",
    "rf.to_csv('rf.csv')\n",
    "adb.to_csv('adb.csv')\n",
    "et.to_csv('et.csv')"
   ]
  },
  {
   "cell_type": "markdown",
   "id": "bb90c93a",
   "metadata": {},
   "source": [
    "### Model Comparison <a class=\"anchor\" id=\"chapter5.8\"></a>"
   ]
  },
  {
   "cell_type": "code",
   "execution_count": 166,
   "id": "a86f8e06",
   "metadata": {},
   "outputs": [
    {
     "ename": "KeyError",
     "evalue": "1",
     "output_type": "error",
     "traceback": [
      "\u001b[1;31m---------------------------------------------------------------------------\u001b[0m",
      "\u001b[1;31mKeyError\u001b[0m                                  Traceback (most recent call last)",
      "File \u001b[1;32mC:\\Anaconda\\lib\\site-packages\\pandas\\core\\indexes\\base.py:3621\u001b[0m, in \u001b[0;36mIndex.get_loc\u001b[1;34m(self, key, method, tolerance)\u001b[0m\n\u001b[0;32m   3620\u001b[0m \u001b[38;5;28;01mtry\u001b[39;00m:\n\u001b[1;32m-> 3621\u001b[0m     \u001b[38;5;28;01mreturn\u001b[39;00m \u001b[38;5;28;43mself\u001b[39;49m\u001b[38;5;241;43m.\u001b[39;49m\u001b[43m_engine\u001b[49m\u001b[38;5;241;43m.\u001b[39;49m\u001b[43mget_loc\u001b[49m\u001b[43m(\u001b[49m\u001b[43mcasted_key\u001b[49m\u001b[43m)\u001b[49m\n\u001b[0;32m   3622\u001b[0m \u001b[38;5;28;01mexcept\u001b[39;00m \u001b[38;5;167;01mKeyError\u001b[39;00m \u001b[38;5;28;01mas\u001b[39;00m err:\n",
      "File \u001b[1;32mC:\\Anaconda\\lib\\site-packages\\pandas\\_libs\\index.pyx:136\u001b[0m, in \u001b[0;36mpandas._libs.index.IndexEngine.get_loc\u001b[1;34m()\u001b[0m\n",
      "File \u001b[1;32mC:\\Anaconda\\lib\\site-packages\\pandas\\_libs\\index.pyx:163\u001b[0m, in \u001b[0;36mpandas._libs.index.IndexEngine.get_loc\u001b[1;34m()\u001b[0m\n",
      "File \u001b[1;32mpandas\\_libs\\hashtable_class_helper.pxi:5198\u001b[0m, in \u001b[0;36mpandas._libs.hashtable.PyObjectHashTable.get_item\u001b[1;34m()\u001b[0m\n",
      "File \u001b[1;32mpandas\\_libs\\hashtable_class_helper.pxi:5206\u001b[0m, in \u001b[0;36mpandas._libs.hashtable.PyObjectHashTable.get_item\u001b[1;34m()\u001b[0m\n",
      "\u001b[1;31mKeyError\u001b[0m: 1",
      "\nThe above exception was the direct cause of the following exception:\n",
      "\u001b[1;31mKeyError\u001b[0m                                  Traceback (most recent call last)",
      "Input \u001b[1;32mIn [166]\u001b[0m, in \u001b[0;36m<cell line: 1>\u001b[1;34m()\u001b[0m\n\u001b[1;32m----> 1\u001b[0m scores_val \u001b[38;5;241m=\u001b[39m [\u001b[43mlr\u001b[49m\u001b[43m[\u001b[49m\u001b[38;5;241;43m1\u001b[39;49m\u001b[43m]\u001b[49m,nn[\u001b[38;5;241m1\u001b[39m],gb[\u001b[38;5;241m1\u001b[39m],rf[\u001b[38;5;241m1\u001b[39m],adb[\u001b[38;5;241m1\u001b[39m],et[\u001b[38;5;241m1\u001b[39m]] \n\u001b[0;32m      2\u001b[0m scores_test \u001b[38;5;241m=\u001b[39m [lr[\u001b[38;5;241m2\u001b[39m],nn[\u001b[38;5;241m2\u001b[39m],gb[\u001b[38;5;241m2\u001b[39m],rf[\u001b[38;5;241m2\u001b[39m],adb[\u001b[38;5;241m2\u001b[39m],et[\u001b[38;5;241m2\u001b[39m]]\n\u001b[0;32m      3\u001b[0m models \u001b[38;5;241m=\u001b[39m [\u001b[38;5;124m\"\u001b[39m\u001b[38;5;124mLogistic Regression\u001b[39m\u001b[38;5;124m\"\u001b[39m,\u001b[38;5;124m\"\u001b[39m\u001b[38;5;124mNeural Networks\u001b[39m\u001b[38;5;124m\"\u001b[39m,\u001b[38;5;124m'\u001b[39m\u001b[38;5;124mGradient Boosting\u001b[39m\u001b[38;5;124m'\u001b[39m,\u001b[38;5;124m\"\u001b[39m\u001b[38;5;124mRandom Forest\u001b[39m\u001b[38;5;124m\"\u001b[39m,\u001b[38;5;124m'\u001b[39m\u001b[38;5;124mAdaboost\u001b[39m\u001b[38;5;124m'\u001b[39m,\u001b[38;5;124m'\u001b[39m\u001b[38;5;124mExtra Trees\u001b[39m\u001b[38;5;124m'\u001b[39m]\n",
      "File \u001b[1;32mC:\\Anaconda\\lib\\site-packages\\pandas\\core\\frame.py:3505\u001b[0m, in \u001b[0;36mDataFrame.__getitem__\u001b[1;34m(self, key)\u001b[0m\n\u001b[0;32m   3503\u001b[0m \u001b[38;5;28;01mif\u001b[39;00m \u001b[38;5;28mself\u001b[39m\u001b[38;5;241m.\u001b[39mcolumns\u001b[38;5;241m.\u001b[39mnlevels \u001b[38;5;241m>\u001b[39m \u001b[38;5;241m1\u001b[39m:\n\u001b[0;32m   3504\u001b[0m     \u001b[38;5;28;01mreturn\u001b[39;00m \u001b[38;5;28mself\u001b[39m\u001b[38;5;241m.\u001b[39m_getitem_multilevel(key)\n\u001b[1;32m-> 3505\u001b[0m indexer \u001b[38;5;241m=\u001b[39m \u001b[38;5;28;43mself\u001b[39;49m\u001b[38;5;241;43m.\u001b[39;49m\u001b[43mcolumns\u001b[49m\u001b[38;5;241;43m.\u001b[39;49m\u001b[43mget_loc\u001b[49m\u001b[43m(\u001b[49m\u001b[43mkey\u001b[49m\u001b[43m)\u001b[49m\n\u001b[0;32m   3506\u001b[0m \u001b[38;5;28;01mif\u001b[39;00m is_integer(indexer):\n\u001b[0;32m   3507\u001b[0m     indexer \u001b[38;5;241m=\u001b[39m [indexer]\n",
      "File \u001b[1;32mC:\\Anaconda\\lib\\site-packages\\pandas\\core\\indexes\\base.py:3623\u001b[0m, in \u001b[0;36mIndex.get_loc\u001b[1;34m(self, key, method, tolerance)\u001b[0m\n\u001b[0;32m   3621\u001b[0m     \u001b[38;5;28;01mreturn\u001b[39;00m \u001b[38;5;28mself\u001b[39m\u001b[38;5;241m.\u001b[39m_engine\u001b[38;5;241m.\u001b[39mget_loc(casted_key)\n\u001b[0;32m   3622\u001b[0m \u001b[38;5;28;01mexcept\u001b[39;00m \u001b[38;5;167;01mKeyError\u001b[39;00m \u001b[38;5;28;01mas\u001b[39;00m err:\n\u001b[1;32m-> 3623\u001b[0m     \u001b[38;5;28;01mraise\u001b[39;00m \u001b[38;5;167;01mKeyError\u001b[39;00m(key) \u001b[38;5;28;01mfrom\u001b[39;00m \u001b[38;5;21;01merr\u001b[39;00m\n\u001b[0;32m   3624\u001b[0m \u001b[38;5;28;01mexcept\u001b[39;00m \u001b[38;5;167;01mTypeError\u001b[39;00m:\n\u001b[0;32m   3625\u001b[0m     \u001b[38;5;66;03m# If we have a listlike key, _check_indexing_error will raise\u001b[39;00m\n\u001b[0;32m   3626\u001b[0m     \u001b[38;5;66;03m#  InvalidIndexError. Otherwise we fall through and re-raise\u001b[39;00m\n\u001b[0;32m   3627\u001b[0m     \u001b[38;5;66;03m#  the TypeError.\u001b[39;00m\n\u001b[0;32m   3628\u001b[0m     \u001b[38;5;28mself\u001b[39m\u001b[38;5;241m.\u001b[39m_check_indexing_error(key)\n",
      "\u001b[1;31mKeyError\u001b[0m: 1"
     ]
    }
   ],
   "source": [
    "scores_val = [lr[1],nn[1],gb[1],rf[1],adb[1],et[1]] \n",
    "scores_test = [lr[2],nn[2],gb[2],rf[2],adb[2],et[2]]\n",
    "models = [\"Logistic Regression\",\"Neural Networks\",'Gradient Boosting',\"Random Forest\",'Adaboost','Extra Trees'] "
   ]
  },
  {
   "cell_type": "code",
   "execution_count": null,
   "id": "4dc215db",
   "metadata": {},
   "outputs": [],
   "source": [
    "data_tuples = list(zip(models, scores_test))\n",
    "data = pd.DataFrame(data_tuples)\n",
    "data = data.sort_values(1)\n",
    "plt.figure(figsize=(15,7))\n",
    "plt.bar(data[0], data[1])\n",
    "plt.title('Models Comparison Train')\n",
    "plt.xticks(rotation = 45)\n",
    "plt.show()"
   ]
  },
  {
   "cell_type": "code",
   "execution_count": null,
   "id": "45ca9f77",
   "metadata": {},
   "outputs": [],
   "source": [
    "data_tuples = list(zip(models, scores_val))\n",
    "data = pd.DataFrame(data_tuples)\n",
    "data = data.sort_values(1)\n",
    "plt.figure(figsize=(15,7))\n",
    "plt.bar(data[0], data[1])\n",
    "plt.title('Models Comparison Validation')\n",
    "plt.xticks(rotation = 45)\n",
    "plt.show()"
   ]
  },
  {
   "cell_type": "code",
   "execution_count": 167,
   "id": "e0f936bb",
   "metadata": {},
   "outputs": [],
   "source": [
    "from sklearn import metrics"
   ]
  },
  {
   "cell_type": "code",
   "execution_count": 168,
   "id": "82508603",
   "metadata": {},
   "outputs": [
    {
     "ename": "NameError",
     "evalue": "name 'model_lr' is not defined",
     "output_type": "error",
     "traceback": [
      "\u001b[1;31m---------------------------------------------------------------------------\u001b[0m",
      "\u001b[1;31mNameError\u001b[0m                                 Traceback (most recent call last)",
      "Input \u001b[1;32mIn [168]\u001b[0m, in \u001b[0;36m<cell line: 1>\u001b[1;34m()\u001b[0m\n\u001b[1;32m----> 1\u001b[0m metrics\u001b[38;5;241m.\u001b[39mplot_roc_curve(\u001b[43mmodel_lr\u001b[49m, X_val, y_val) \n\u001b[0;32m      2\u001b[0m metrics\u001b[38;5;241m.\u001b[39mplot_roc_curve(model_nn, X_val, y_val) \n\u001b[0;32m      3\u001b[0m metrics\u001b[38;5;241m.\u001b[39mplot_roc_curve(model_rf, X_val, y_val) \n",
      "\u001b[1;31mNameError\u001b[0m: name 'model_lr' is not defined"
     ]
    }
   ],
   "source": [
    "metrics.plot_roc_curve(model_lr, X_val, y_val) \n",
    "metrics.plot_roc_curve(model_nn, X_val, y_val) \n",
    "metrics.plot_roc_curve(model_rf, X_val, y_val) \n",
    "metrics.plot_roc_curve(model_gb, X_val, y_val) \n",
    "metrics.plot_roc_curve(model_adb, X_val, y_val) \n",
    "metrics.plot_roc_curve(model_et, X_val, y_val) \n",
    "plt.show()"
   ]
  },
  {
   "cell_type": "code",
   "execution_count": 169,
   "id": "4c6e92f3",
   "metadata": {},
   "outputs": [],
   "source": [
    "#params = [lr_search.best_estimator_, nn_search.best_estimator_,rf_search.best_estimator_,\n",
    "#               gb_search.best_estimator_,adb_search.best_estimator_,et_search.best_estimator_]"
   ]
  },
  {
   "cell_type": "code",
   "execution_count": 170,
   "id": "3b5f5f00",
   "metadata": {},
   "outputs": [],
   "source": [
    "# Define a result table as a DataFrame\n",
    "result_table = pd.DataFrame(columns=['Models','Hyperparameters', 'Train','Val'])"
   ]
  },
  {
   "cell_type": "code",
   "execution_count": 171,
   "id": "1820446c",
   "metadata": {},
   "outputs": [
    {
     "ename": "NameError",
     "evalue": "name 'models' is not defined",
     "output_type": "error",
     "traceback": [
      "\u001b[1;31m---------------------------------------------------------------------------\u001b[0m",
      "\u001b[1;31mNameError\u001b[0m                                 Traceback (most recent call last)",
      "Input \u001b[1;32mIn [171]\u001b[0m, in \u001b[0;36m<cell line: 1>\u001b[1;34m()\u001b[0m\n\u001b[1;32m----> 1\u001b[0m result_table[\u001b[38;5;124m'\u001b[39m\u001b[38;5;124mModels\u001b[39m\u001b[38;5;124m'\u001b[39m] \u001b[38;5;241m=\u001b[39m \u001b[43mmodels\u001b[49m\n\u001b[0;32m      2\u001b[0m \u001b[38;5;66;03m#result_table['Hyperparameters'] = params\u001b[39;00m\n\u001b[0;32m      3\u001b[0m result_table[\u001b[38;5;124m'\u001b[39m\u001b[38;5;124mTrain\u001b[39m\u001b[38;5;124m'\u001b[39m]\u001b[38;5;241m=\u001b[39mscores_test\n",
      "\u001b[1;31mNameError\u001b[0m: name 'models' is not defined"
     ]
    }
   ],
   "source": [
    "result_table['Models'] = models\n",
    "#result_table['Hyperparameters'] = params\n",
    "result_table['Train']=scores_test\n",
    "result_table['Val']=scores_val"
   ]
  },
  {
   "cell_type": "code",
   "execution_count": 172,
   "id": "7340cab9",
   "metadata": {},
   "outputs": [
    {
     "data": {
      "text/html": [
       "<div>\n",
       "<style scoped>\n",
       "    .dataframe tbody tr th:only-of-type {\n",
       "        vertical-align: middle;\n",
       "    }\n",
       "\n",
       "    .dataframe tbody tr th {\n",
       "        vertical-align: top;\n",
       "    }\n",
       "\n",
       "    .dataframe thead th {\n",
       "        text-align: right;\n",
       "    }\n",
       "</style>\n",
       "<table border=\"1\" class=\"dataframe\">\n",
       "  <thead>\n",
       "    <tr style=\"text-align: right;\">\n",
       "      <th></th>\n",
       "      <th>Models</th>\n",
       "      <th>Hyperparameters</th>\n",
       "      <th>Train</th>\n",
       "      <th>Val</th>\n",
       "    </tr>\n",
       "  </thead>\n",
       "  <tbody>\n",
       "  </tbody>\n",
       "</table>\n",
       "</div>"
      ],
      "text/plain": [
       "Empty DataFrame\n",
       "Columns: [Models, Hyperparameters, Train, Val]\n",
       "Index: []"
      ]
     },
     "execution_count": 172,
     "metadata": {},
     "output_type": "execute_result"
    }
   ],
   "source": [
    "result_table"
   ]
  },
  {
   "cell_type": "markdown",
   "id": "7b68e361",
   "metadata": {},
   "source": [
    "[Back to the start](#toc)\n",
    "\n",
    "\n",
    "## Prediction <a class=\"anchor\" id=\"chapter6\"></a>"
   ]
  },
  {
   "cell_type": "code",
   "execution_count": null,
   "id": "e7c844de",
   "metadata": {},
   "outputs": [],
   "source": []
  }
 ],
 "metadata": {
  "kernelspec": {
   "display_name": "Python 3 (ipykernel)",
   "language": "python",
   "name": "python3"
  },
  "language_info": {
   "codemirror_mode": {
    "name": "ipython",
    "version": 3
   },
   "file_extension": ".py",
   "mimetype": "text/x-python",
   "name": "python",
   "nbconvert_exporter": "python",
   "pygments_lexer": "ipython3",
   "version": "3.9.13"
  }
 },
 "nbformat": 4,
 "nbformat_minor": 5
}
